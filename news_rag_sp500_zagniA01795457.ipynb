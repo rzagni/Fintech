{
  "cells": [
    {
      "cell_type": "markdown",
      "metadata": {
        "id": "view-in-github",
        "colab_type": "text"
      },
      "source": [
        "<a href=\"https://colab.research.google.com/github/rzagni/Fintech/blob/main/news_rag_sp500_zagniA01795457.ipynb\" target=\"_parent\"><img src=\"https://colab.research.google.com/assets/colab-badge.svg\" alt=\"Open In Colab\"/></a>"
      ]
    },
    {
      "cell_type": "markdown",
      "source": [
        "##**<font color=\"green\">Fintech and Digital Innovation in Finance**\n",
        "###**<font color=\"green\">Course project part 3 | Retrieval Augmented Generation with S&P 500 news data**\n",
        "###**Renzo Zagni A01795457**</font>\n"
      ],
      "metadata": {
        "id": "CQBnJNXt5Y6c"
      },
      "id": "CQBnJNXt5Y6c"
    },
    {
      "cell_type": "markdown",
      "id": "4e231d13",
      "metadata": {
        "id": "4e231d13"
      },
      "source": [
        "# Introduction to Retrieval Augmented Generation with S&P 500 news\n",
        "\n",
        "In this notebook, you will explore how to build a simple Retrieval-Augmented Generation (RAG) pipeline using financial news articles from S&P 500 companies.\n",
        "\n",
        "We'll start by vectorizing text data, creating a vector store using FAISS, and integrating it with OpenAI's GPT models to answer questions using retrieved information.\n",
        "\n",
        "This workflow emulates real-world systems in finance where natural language data (news, filings, analyst reports) are used to support decision-making."
      ]
    },
    {
      "cell_type": "markdown",
      "id": "35b70aaa",
      "metadata": {
        "id": "35b70aaa"
      },
      "source": [
        "# 📌 Objectives\n",
        "\n",
        "By the end of this notebook, students will be able to:\n",
        "\n",
        "1. **Perform Semantic Search with Metadata Filtering:**\n",
        "   - Query the provided FAISS vector store to retrieve relevant financial news articles based on natural language questions.\n",
        "   - Apply optional filters using metadata such as ticker or publication date to refine search results.\n",
        "\n",
        "2. **Enrich Data with Company Metadata:**\n",
        "   - Use the `yfinance` library to retrieve company-level metadata (company name, sector, industry) for tickers in the dataset.\n",
        "   - Integrate this metadata to support enhanced filtering and analysis of news data.\n",
        "\n",
        "3. **Build a Retrieval-Augmented Generation (RAG) Pipeline:**\n",
        "   - Combine retrieved news snippets as context to generate answers using OpenAI’s GPT models.\n",
        "   - Construct effective prompts that guide the language model to provide concise, context-aware responses.\n",
        "\n",
        "4. **Evaluate and Analyze RAG Outputs:**\n",
        "   - Review generated answers alongside the supporting news excerpts.\n",
        "   - Reflect on the strengths and limitations of the simple RAG pipeline and consider potential improvements, such as adding more filters or refining retrieval strategies.\n",
        "\n",
        "5. **Incorporate Financial Metadata into Retrieval Context:**\n",
        "   - Enrich retrieved news snippets with key financial metadata including ticker, company name, sector, and industry.\n",
        "   - Format prompts that combine both text excerpts and metadata to provide richer context to the language model.\n",
        "\n",
        "6. **Generate Context-Aware Answers Using OpenAI Models:**\n",
        "   - Construct and send prompts to an LLM that leverage both news content and metadata to produce concise, informed financial analysis.\n",
        "\n",
        "7. **Compare Answers With and Without Metadata:**\n",
        "   - Evaluate the impact of including financial metadata on answer quality using criteria such as clarity, detail, accuracy, and contextual relevance.\n",
        "   - Summarize findings to reflect on the role of metadata in improving retrieval-augmented generation."
      ]
    },
    {
      "cell_type": "markdown",
      "id": "c1034130",
      "metadata": {
        "id": "c1034130"
      },
      "source": [
        "## Install and Import important librairies\n",
        "\n",
        "First, we install and import the necessary libraries for:\n",
        "- Text embedding generation (sentence-transformers)\n",
        "- Efficient similarity search (faiss)\n",
        "- Data manipulation (pandas, numpy)\n",
        "- Visualization (matplotlib)\n",
        "\n",
        "> ℹ️ FAISS uses inner product for cosine similarity by normalizing vectors."
      ]
    },
    {
      "cell_type": "code",
      "execution_count": null,
      "id": "a979a47f",
      "metadata": {
        "colab": {
          "base_uri": "https://localhost:8080/"
        },
        "id": "a979a47f",
        "outputId": "3d0ea76e-56c9-49b2-90bf-adebadd00d94"
      },
      "outputs": [
        {
          "output_type": "stream",
          "name": "stdout",
          "text": [
            "Requirement already satisfied: sentence-transformers in /usr/local/lib/python3.11/dist-packages (5.0.0)\n",
            "Requirement already satisfied: transformers<5.0.0,>=4.41.0 in /usr/local/lib/python3.11/dist-packages (from sentence-transformers) (4.55.0)\n",
            "Requirement already satisfied: tqdm in /usr/local/lib/python3.11/dist-packages (from sentence-transformers) (4.67.1)\n",
            "Requirement already satisfied: torch>=1.11.0 in /usr/local/lib/python3.11/dist-packages (from sentence-transformers) (2.6.0+cu124)\n",
            "Requirement already satisfied: scikit-learn in /usr/local/lib/python3.11/dist-packages (from sentence-transformers) (1.6.1)\n",
            "Requirement already satisfied: scipy in /usr/local/lib/python3.11/dist-packages (from sentence-transformers) (1.16.1)\n",
            "Requirement already satisfied: huggingface-hub>=0.20.0 in /usr/local/lib/python3.11/dist-packages (from sentence-transformers) (0.34.3)\n",
            "Requirement already satisfied: Pillow in /usr/local/lib/python3.11/dist-packages (from sentence-transformers) (11.3.0)\n",
            "Requirement already satisfied: typing_extensions>=4.5.0 in /usr/local/lib/python3.11/dist-packages (from sentence-transformers) (4.14.1)\n",
            "Requirement already satisfied: filelock in /usr/local/lib/python3.11/dist-packages (from huggingface-hub>=0.20.0->sentence-transformers) (3.18.0)\n",
            "Requirement already satisfied: fsspec>=2023.5.0 in /usr/local/lib/python3.11/dist-packages (from huggingface-hub>=0.20.0->sentence-transformers) (2025.3.0)\n",
            "Requirement already satisfied: packaging>=20.9 in /usr/local/lib/python3.11/dist-packages (from huggingface-hub>=0.20.0->sentence-transformers) (25.0)\n",
            "Requirement already satisfied: pyyaml>=5.1 in /usr/local/lib/python3.11/dist-packages (from huggingface-hub>=0.20.0->sentence-transformers) (6.0.2)\n",
            "Requirement already satisfied: requests in /usr/local/lib/python3.11/dist-packages (from huggingface-hub>=0.20.0->sentence-transformers) (2.32.3)\n",
            "Requirement already satisfied: hf-xet<2.0.0,>=1.1.3 in /usr/local/lib/python3.11/dist-packages (from huggingface-hub>=0.20.0->sentence-transformers) (1.1.7)\n",
            "Requirement already satisfied: networkx in /usr/local/lib/python3.11/dist-packages (from torch>=1.11.0->sentence-transformers) (3.5)\n",
            "Requirement already satisfied: jinja2 in /usr/local/lib/python3.11/dist-packages (from torch>=1.11.0->sentence-transformers) (3.1.6)\n",
            "Collecting nvidia-cuda-nvrtc-cu12==12.4.127 (from torch>=1.11.0->sentence-transformers)\n",
            "  Using cached nvidia_cuda_nvrtc_cu12-12.4.127-py3-none-manylinux2014_x86_64.whl.metadata (1.5 kB)\n",
            "Collecting nvidia-cuda-runtime-cu12==12.4.127 (from torch>=1.11.0->sentence-transformers)\n",
            "  Using cached nvidia_cuda_runtime_cu12-12.4.127-py3-none-manylinux2014_x86_64.whl.metadata (1.5 kB)\n",
            "Collecting nvidia-cuda-cupti-cu12==12.4.127 (from torch>=1.11.0->sentence-transformers)\n",
            "  Using cached nvidia_cuda_cupti_cu12-12.4.127-py3-none-manylinux2014_x86_64.whl.metadata (1.6 kB)\n",
            "Collecting nvidia-cudnn-cu12==9.1.0.70 (from torch>=1.11.0->sentence-transformers)\n",
            "  Using cached nvidia_cudnn_cu12-9.1.0.70-py3-none-manylinux2014_x86_64.whl.metadata (1.6 kB)\n",
            "Collecting nvidia-cublas-cu12==12.4.5.8 (from torch>=1.11.0->sentence-transformers)\n",
            "  Using cached nvidia_cublas_cu12-12.4.5.8-py3-none-manylinux2014_x86_64.whl.metadata (1.5 kB)\n",
            "Collecting nvidia-cufft-cu12==11.2.1.3 (from torch>=1.11.0->sentence-transformers)\n",
            "  Using cached nvidia_cufft_cu12-11.2.1.3-py3-none-manylinux2014_x86_64.whl.metadata (1.5 kB)\n",
            "Collecting nvidia-curand-cu12==10.3.5.147 (from torch>=1.11.0->sentence-transformers)\n",
            "  Using cached nvidia_curand_cu12-10.3.5.147-py3-none-manylinux2014_x86_64.whl.metadata (1.5 kB)\n",
            "Collecting nvidia-cusolver-cu12==11.6.1.9 (from torch>=1.11.0->sentence-transformers)\n",
            "  Using cached nvidia_cusolver_cu12-11.6.1.9-py3-none-manylinux2014_x86_64.whl.metadata (1.6 kB)\n",
            "Collecting nvidia-cusparse-cu12==12.3.1.170 (from torch>=1.11.0->sentence-transformers)\n",
            "  Using cached nvidia_cusparse_cu12-12.3.1.170-py3-none-manylinux2014_x86_64.whl.metadata (1.6 kB)\n",
            "Requirement already satisfied: nvidia-cusparselt-cu12==0.6.2 in /usr/local/lib/python3.11/dist-packages (from torch>=1.11.0->sentence-transformers) (0.6.2)\n",
            "Collecting nvidia-nccl-cu12==2.21.5 (from torch>=1.11.0->sentence-transformers)\n",
            "  Using cached nvidia_nccl_cu12-2.21.5-py3-none-manylinux2014_x86_64.whl.metadata (1.8 kB)\n",
            "Requirement already satisfied: nvidia-nvtx-cu12==12.4.127 in /usr/local/lib/python3.11/dist-packages (from torch>=1.11.0->sentence-transformers) (12.4.127)\n",
            "Collecting nvidia-nvjitlink-cu12==12.4.127 (from torch>=1.11.0->sentence-transformers)\n",
            "  Using cached nvidia_nvjitlink_cu12-12.4.127-py3-none-manylinux2014_x86_64.whl.metadata (1.5 kB)\n",
            "Requirement already satisfied: triton==3.2.0 in /usr/local/lib/python3.11/dist-packages (from torch>=1.11.0->sentence-transformers) (3.2.0)\n",
            "Requirement already satisfied: sympy==1.13.1 in /usr/local/lib/python3.11/dist-packages (from torch>=1.11.0->sentence-transformers) (1.13.1)\n",
            "Requirement already satisfied: mpmath<1.4,>=1.1.0 in /usr/local/lib/python3.11/dist-packages (from sympy==1.13.1->torch>=1.11.0->sentence-transformers) (1.3.0)\n",
            "Requirement already satisfied: numpy>=1.17 in /usr/local/lib/python3.11/dist-packages (from transformers<5.0.0,>=4.41.0->sentence-transformers) (2.0.2)\n",
            "Requirement already satisfied: regex!=2019.12.17 in /usr/local/lib/python3.11/dist-packages (from transformers<5.0.0,>=4.41.0->sentence-transformers) (2024.11.6)\n",
            "Requirement already satisfied: tokenizers<0.22,>=0.21 in /usr/local/lib/python3.11/dist-packages (from transformers<5.0.0,>=4.41.0->sentence-transformers) (0.21.4)\n",
            "Requirement already satisfied: safetensors>=0.4.3 in /usr/local/lib/python3.11/dist-packages (from transformers<5.0.0,>=4.41.0->sentence-transformers) (0.6.1)\n",
            "Requirement already satisfied: joblib>=1.2.0 in /usr/local/lib/python3.11/dist-packages (from scikit-learn->sentence-transformers) (1.5.1)\n",
            "Requirement already satisfied: threadpoolctl>=3.1.0 in /usr/local/lib/python3.11/dist-packages (from scikit-learn->sentence-transformers) (3.6.0)\n",
            "Requirement already satisfied: MarkupSafe>=2.0 in /usr/local/lib/python3.11/dist-packages (from jinja2->torch>=1.11.0->sentence-transformers) (3.0.2)\n",
            "Requirement already satisfied: charset-normalizer<4,>=2 in /usr/local/lib/python3.11/dist-packages (from requests->huggingface-hub>=0.20.0->sentence-transformers) (3.4.2)\n",
            "Requirement already satisfied: idna<4,>=2.5 in /usr/local/lib/python3.11/dist-packages (from requests->huggingface-hub>=0.20.0->sentence-transformers) (3.10)\n",
            "Requirement already satisfied: urllib3<3,>=1.21.1 in /usr/local/lib/python3.11/dist-packages (from requests->huggingface-hub>=0.20.0->sentence-transformers) (2.5.0)\n",
            "Requirement already satisfied: certifi>=2017.4.17 in /usr/local/lib/python3.11/dist-packages (from requests->huggingface-hub>=0.20.0->sentence-transformers) (2025.8.3)\n",
            "Downloading nvidia_cublas_cu12-12.4.5.8-py3-none-manylinux2014_x86_64.whl (363.4 MB)\n",
            "\u001b[2K   \u001b[90m━━━━━━━━━━━━━━━━━━━━━━━━━━━━━━━━━━━━━━━━\u001b[0m \u001b[32m363.4/363.4 MB\u001b[0m \u001b[31m3.9 MB/s\u001b[0m eta \u001b[36m0:00:00\u001b[0m\n",
            "\u001b[?25hDownloading nvidia_cuda_cupti_cu12-12.4.127-py3-none-manylinux2014_x86_64.whl (13.8 MB)\n",
            "\u001b[2K   \u001b[90m━━━━━━━━━━━━━━━━━━━━━━━━━━━━━━━━━━━━━━━━\u001b[0m \u001b[32m13.8/13.8 MB\u001b[0m \u001b[31m31.0 MB/s\u001b[0m eta \u001b[36m0:00:00\u001b[0m\n",
            "\u001b[?25hDownloading nvidia_cuda_nvrtc_cu12-12.4.127-py3-none-manylinux2014_x86_64.whl (24.6 MB)\n",
            "\u001b[2K   \u001b[90m━━━━━━━━━━━━━━━━━━━━━━━━━━━━━━━━━━━━━━━━\u001b[0m \u001b[32m24.6/24.6 MB\u001b[0m \u001b[31m21.3 MB/s\u001b[0m eta \u001b[36m0:00:00\u001b[0m\n",
            "\u001b[?25hDownloading nvidia_cuda_runtime_cu12-12.4.127-py3-none-manylinux2014_x86_64.whl (883 kB)\n",
            "\u001b[2K   \u001b[90m━━━━━━━━━━━━━━━━━━━━━━━━━━━━━━━━━━━━━━━━\u001b[0m \u001b[32m883.7/883.7 kB\u001b[0m \u001b[31m34.7 MB/s\u001b[0m eta \u001b[36m0:00:00\u001b[0m\n",
            "\u001b[?25hDownloading nvidia_cudnn_cu12-9.1.0.70-py3-none-manylinux2014_x86_64.whl (664.8 MB)\n",
            "\u001b[2K   \u001b[90m━━━━━━━━━━━━━━━━━━━━━━━━━━━━━━━━━━━━━━━━\u001b[0m \u001b[32m664.8/664.8 MB\u001b[0m \u001b[31m2.8 MB/s\u001b[0m eta \u001b[36m0:00:00\u001b[0m\n",
            "\u001b[?25hDownloading nvidia_cufft_cu12-11.2.1.3-py3-none-manylinux2014_x86_64.whl (211.5 MB)\n",
            "\u001b[2K   \u001b[90m━━━━━━━━━━━━━━━━━━━━━━━━━━━━━━━━━━━━━━━━\u001b[0m \u001b[32m211.5/211.5 MB\u001b[0m \u001b[31m5.5 MB/s\u001b[0m eta \u001b[36m0:00:00\u001b[0m\n",
            "\u001b[?25hDownloading nvidia_curand_cu12-10.3.5.147-py3-none-manylinux2014_x86_64.whl (56.3 MB)\n",
            "\u001b[2K   \u001b[90m━━━━━━━━━━━━━━━━━━━━━━━━━━━━━━━━━━━━━━━━\u001b[0m \u001b[32m56.3/56.3 MB\u001b[0m \u001b[31m12.7 MB/s\u001b[0m eta \u001b[36m0:00:00\u001b[0m\n",
            "\u001b[?25hDownloading nvidia_cusolver_cu12-11.6.1.9-py3-none-manylinux2014_x86_64.whl (127.9 MB)\n",
            "\u001b[2K   \u001b[90m━━━━━━━━━━━━━━━━━━━━━━━━━━━━━━━━━━━━━━━━\u001b[0m \u001b[32m127.9/127.9 MB\u001b[0m \u001b[31m7.5 MB/s\u001b[0m eta \u001b[36m0:00:00\u001b[0m\n",
            "\u001b[?25hDownloading nvidia_cusparse_cu12-12.3.1.170-py3-none-manylinux2014_x86_64.whl (207.5 MB)\n",
            "\u001b[2K   \u001b[90m━━━━━━━━━━━━━━━━━━━━━━━━━━━━━━━━━━━━━━━━\u001b[0m \u001b[32m207.5/207.5 MB\u001b[0m \u001b[31m5.9 MB/s\u001b[0m eta \u001b[36m0:00:00\u001b[0m\n",
            "\u001b[?25hDownloading nvidia_nccl_cu12-2.21.5-py3-none-manylinux2014_x86_64.whl (188.7 MB)\n",
            "\u001b[2K   \u001b[90m━━━━━━━━━━━━━━━━━━━━━━━━━━━━━━━━━━━━━━━━\u001b[0m \u001b[32m188.7/188.7 MB\u001b[0m \u001b[31m6.2 MB/s\u001b[0m eta \u001b[36m0:00:00\u001b[0m\n",
            "\u001b[?25hDownloading nvidia_nvjitlink_cu12-12.4.127-py3-none-manylinux2014_x86_64.whl (21.1 MB)\n",
            "\u001b[2K   \u001b[90m━━━━━━━━━━━━━━━━━━━━━━━━━━━━━━━━━━━━━━━━\u001b[0m \u001b[32m21.1/21.1 MB\u001b[0m \u001b[31m70.1 MB/s\u001b[0m eta \u001b[36m0:00:00\u001b[0m\n",
            "\u001b[?25hInstalling collected packages: nvidia-nvjitlink-cu12, nvidia-nccl-cu12, nvidia-curand-cu12, nvidia-cufft-cu12, nvidia-cuda-runtime-cu12, nvidia-cuda-nvrtc-cu12, nvidia-cuda-cupti-cu12, nvidia-cublas-cu12, nvidia-cusparse-cu12, nvidia-cudnn-cu12, nvidia-cusolver-cu12\n",
            "  Attempting uninstall: nvidia-nvjitlink-cu12\n",
            "    Found existing installation: nvidia-nvjitlink-cu12 12.5.82\n",
            "    Uninstalling nvidia-nvjitlink-cu12-12.5.82:\n",
            "      Successfully uninstalled nvidia-nvjitlink-cu12-12.5.82\n",
            "  Attempting uninstall: nvidia-nccl-cu12\n",
            "    Found existing installation: nvidia-nccl-cu12 2.23.4\n",
            "    Uninstalling nvidia-nccl-cu12-2.23.4:\n",
            "      Successfully uninstalled nvidia-nccl-cu12-2.23.4\n",
            "  Attempting uninstall: nvidia-curand-cu12\n",
            "    Found existing installation: nvidia-curand-cu12 10.3.6.82\n",
            "    Uninstalling nvidia-curand-cu12-10.3.6.82:\n",
            "      Successfully uninstalled nvidia-curand-cu12-10.3.6.82\n",
            "  Attempting uninstall: nvidia-cufft-cu12\n",
            "    Found existing installation: nvidia-cufft-cu12 11.2.3.61\n",
            "    Uninstalling nvidia-cufft-cu12-11.2.3.61:\n",
            "      Successfully uninstalled nvidia-cufft-cu12-11.2.3.61\n",
            "  Attempting uninstall: nvidia-cuda-runtime-cu12\n",
            "    Found existing installation: nvidia-cuda-runtime-cu12 12.5.82\n",
            "    Uninstalling nvidia-cuda-runtime-cu12-12.5.82:\n",
            "      Successfully uninstalled nvidia-cuda-runtime-cu12-12.5.82\n",
            "  Attempting uninstall: nvidia-cuda-nvrtc-cu12\n",
            "    Found existing installation: nvidia-cuda-nvrtc-cu12 12.5.82\n",
            "    Uninstalling nvidia-cuda-nvrtc-cu12-12.5.82:\n",
            "      Successfully uninstalled nvidia-cuda-nvrtc-cu12-12.5.82\n",
            "  Attempting uninstall: nvidia-cuda-cupti-cu12\n",
            "    Found existing installation: nvidia-cuda-cupti-cu12 12.5.82\n",
            "    Uninstalling nvidia-cuda-cupti-cu12-12.5.82:\n",
            "      Successfully uninstalled nvidia-cuda-cupti-cu12-12.5.82\n",
            "  Attempting uninstall: nvidia-cublas-cu12\n",
            "    Found existing installation: nvidia-cublas-cu12 12.5.3.2\n",
            "    Uninstalling nvidia-cublas-cu12-12.5.3.2:\n",
            "      Successfully uninstalled nvidia-cublas-cu12-12.5.3.2\n",
            "  Attempting uninstall: nvidia-cusparse-cu12\n",
            "    Found existing installation: nvidia-cusparse-cu12 12.5.1.3\n",
            "    Uninstalling nvidia-cusparse-cu12-12.5.1.3:\n",
            "      Successfully uninstalled nvidia-cusparse-cu12-12.5.1.3\n",
            "  Attempting uninstall: nvidia-cudnn-cu12\n",
            "    Found existing installation: nvidia-cudnn-cu12 9.3.0.75\n",
            "    Uninstalling nvidia-cudnn-cu12-9.3.0.75:\n",
            "      Successfully uninstalled nvidia-cudnn-cu12-9.3.0.75\n",
            "  Attempting uninstall: nvidia-cusolver-cu12\n",
            "    Found existing installation: nvidia-cusolver-cu12 11.6.3.83\n",
            "    Uninstalling nvidia-cusolver-cu12-11.6.3.83:\n",
            "      Successfully uninstalled nvidia-cusolver-cu12-11.6.3.83\n",
            "Successfully installed nvidia-cublas-cu12-12.4.5.8 nvidia-cuda-cupti-cu12-12.4.127 nvidia-cuda-nvrtc-cu12-12.4.127 nvidia-cuda-runtime-cu12-12.4.127 nvidia-cudnn-cu12-9.1.0.70 nvidia-cufft-cu12-11.2.1.3 nvidia-curand-cu12-10.3.5.147 nvidia-cusolver-cu12-11.6.1.9 nvidia-cusparse-cu12-12.3.1.170 nvidia-nccl-cu12-2.21.5 nvidia-nvjitlink-cu12-12.4.127\n",
            "Collecting faiss-cpu\n",
            "  Downloading faiss_cpu-1.11.0.post1-cp311-cp311-manylinux_2_27_x86_64.manylinux_2_28_x86_64.whl.metadata (5.0 kB)\n",
            "Requirement already satisfied: numpy<3.0,>=1.25.0 in /usr/local/lib/python3.11/dist-packages (from faiss-cpu) (2.0.2)\n",
            "Requirement already satisfied: packaging in /usr/local/lib/python3.11/dist-packages (from faiss-cpu) (25.0)\n",
            "Downloading faiss_cpu-1.11.0.post1-cp311-cp311-manylinux_2_27_x86_64.manylinux_2_28_x86_64.whl (31.3 MB)\n",
            "\u001b[2K   \u001b[90m━━━━━━━━━━━━━━━━━━━━━━━━━━━━━━━━━━━━━━━━\u001b[0m \u001b[32m31.3/31.3 MB\u001b[0m \u001b[31m16.3 MB/s\u001b[0m eta \u001b[36m0:00:00\u001b[0m\n",
            "\u001b[?25hInstalling collected packages: faiss-cpu\n",
            "Successfully installed faiss-cpu-1.11.0.post1\n"
          ]
        }
      ],
      "source": [
        "%pip install sentence-transformers\n",
        "%pip install faiss-cpu"
      ]
    },
    {
      "cell_type": "code",
      "execution_count": null,
      "id": "6b9f8680",
      "metadata": {
        "id": "6b9f8680"
      },
      "outputs": [],
      "source": [
        "from sentence_transformers import SentenceTransformer\n",
        "import faiss\n",
        "import pandas as pd\n",
        "import numpy as np\n",
        "from sklearn.metrics.pairwise import cosine_similarity\n",
        "from collections import Counter\n",
        "import matplotlib.pyplot as plt\n",
        "import faiss"
      ]
    },
    {
      "cell_type": "code",
      "source": [
        "# Additional libraries used\n",
        "import os\n",
        "import time\n",
        "import pickle\n",
        "from IPython.display import clear_output\n",
        "from datetime import datetime\n",
        "import yfinance as yf\n",
        "import time"
      ],
      "metadata": {
        "id": "NyMJf4dlnNI1"
      },
      "id": "NyMJf4dlnNI1",
      "execution_count": null,
      "outputs": []
    },
    {
      "cell_type": "markdown",
      "id": "9850dbaa",
      "metadata": {
        "id": "9850dbaa"
      },
      "source": [
        "## Load news data\n",
        "We load a CSV file of financial news, focusing on TITLE and SUMMARY, along with metadata like TICKER and PUBLICATION_DATE.\n",
        "These will be embedded into vectors and used for semantic retrieval."
      ]
    },
    {
      "cell_type": "code",
      "source": [
        "#\n",
        "# Connect to G Drive to save and retrieve objects\n",
        "from google.colab import drive\n",
        "drive.mount('/content/drive')\n",
        "working_dir = '/content/drive/MyDrive/MNA/Fintech'\n",
        "\n",
        "os.chdir(working_dir)\n",
        "print(f\"Working directory: {working_dir}\")"
      ],
      "metadata": {
        "colab": {
          "base_uri": "https://localhost:8080/"
        },
        "id": "EFfXUxOmmfJG",
        "outputId": "1b15d8e2-1271-4685-c6ad-5399a8656a07"
      },
      "id": "EFfXUxOmmfJG",
      "execution_count": null,
      "outputs": [
        {
          "output_type": "stream",
          "name": "stdout",
          "text": [
            "Mounted at /content/drive\n",
            "Working directory: /content/drive/MyDrive/MNA/Fintech\n"
          ]
        }
      ]
    },
    {
      "cell_type": "code",
      "execution_count": null,
      "id": "a090ca1c",
      "metadata": {
        "id": "a090ca1c"
      },
      "outputs": [],
      "source": [
        "K = 25"
      ]
    },
    {
      "cell_type": "code",
      "execution_count": null,
      "id": "2e00999d",
      "metadata": {
        "colab": {
          "base_uri": "https://localhost:8080/",
          "height": 424
        },
        "id": "2e00999d",
        "outputId": "2f0d4c69-fb81-4f89-b418-4241c1889c4e"
      },
      "outputs": [
        {
          "output_type": "display_data",
          "data": {
            "text/plain": [
              "     TICKER                                              TITLE  \\\n",
              "0       MMM  2 Dow Jones Stocks with Promising Prospects an...   \n",
              "1       MMM               3 S&P 500 Stocks Skating on Thin Ice   \n",
              "2       MMM  3M Rises 15.8% YTD: Should You Buy the Stock N...   \n",
              "3       MMM  Q1 Earnings Roundup: 3M (NYSE:MMM) And The Res...   \n",
              "4       MMM  3 Cash-Producing Stocks with Questionable Fund...   \n",
              "...     ...                                                ...   \n",
              "4866    ZTS  2 Dividend Stocks to Buy With $500 and Hold Fo...   \n",
              "4867    ZTS  Zoetis (NYSE:ZTS) Declares US$0.50 Dividend Pe...   \n",
              "4868    ZTS  Jim Cramer on Zoetis (ZTS): “It Does Seem to B...   \n",
              "4869    ZTS           Zoetis (ZTS) Upgraded to Buy: Here's Why   \n",
              "4870    ZTS  ZTS Q1 Earnings Call: Guidance Raised as Platf...   \n",
              "\n",
              "                                                SUMMARY PUBLICATION_DATE  \\\n",
              "0     The Dow Jones (^DJI) is made up of 30 of the m...       2025-05-29   \n",
              "1     The S&P 500 (^GSPC) is often seen as a benchma...       2025-05-27   \n",
              "2     MMM is making strides in the aerospace, indust...       2025-05-22   \n",
              "3     Quarterly earnings results are a good time to ...       2025-05-22   \n",
              "4     While strong cash flow is a key indicator of s...       2025-05-19   \n",
              "...                                                 ...              ...   \n",
              "4866  Zoetis is a leading animal health company with...       2025-05-23   \n",
              "4867  Zoetis (NYSE:ZTS) recently affirmed a dividend...       2025-05-22   \n",
              "4868  We recently published a list of Jim Cramer Tal...       2025-05-21   \n",
              "4869  Zoetis (ZTS) might move higher on growing opti...       2025-05-21   \n",
              "4870  Animal health company Zoetis (NYSE:ZTS) report...       2025-05-19   \n",
              "\n",
              "             PROVIDER                                                URL  \n",
              "0          StockStory  https://finance.yahoo.com/news/2-dow-jones-sto...  \n",
              "1          StockStory  https://finance.yahoo.com/news/3-p-500-stocks-...  \n",
              "2               Zacks  https://finance.yahoo.com/news/3m-rises-15-8-y...  \n",
              "3          StockStory  https://finance.yahoo.com/news/q1-earnings-rou...  \n",
              "4          StockStory  https://finance.yahoo.com/news/3-cash-producin...  \n",
              "...               ...                                                ...  \n",
              "4866      Motley Fool  https://www.fool.com/investing/2025/05/23/2-di...  \n",
              "4867  Simply Wall St.  https://finance.yahoo.com/news/zoetis-nyse-zts...  \n",
              "4868   Insider Monkey  https://finance.yahoo.com/news/jim-cramer-zoet...  \n",
              "4869            Zacks  https://finance.yahoo.com/news/zoetis-zts-upgr...  \n",
              "4870       StockStory  https://finance.yahoo.com/news/zts-q1-earnings...  \n",
              "\n",
              "[4871 rows x 6 columns]"
            ],
            "text/html": [
              "\n",
              "  <div id=\"df-dc3132ed-c196-41ef-92e2-6c003bf15cf1\" class=\"colab-df-container\">\n",
              "    <div>\n",
              "<style scoped>\n",
              "    .dataframe tbody tr th:only-of-type {\n",
              "        vertical-align: middle;\n",
              "    }\n",
              "\n",
              "    .dataframe tbody tr th {\n",
              "        vertical-align: top;\n",
              "    }\n",
              "\n",
              "    .dataframe thead th {\n",
              "        text-align: right;\n",
              "    }\n",
              "</style>\n",
              "<table border=\"1\" class=\"dataframe\">\n",
              "  <thead>\n",
              "    <tr style=\"text-align: right;\">\n",
              "      <th></th>\n",
              "      <th>TICKER</th>\n",
              "      <th>TITLE</th>\n",
              "      <th>SUMMARY</th>\n",
              "      <th>PUBLICATION_DATE</th>\n",
              "      <th>PROVIDER</th>\n",
              "      <th>URL</th>\n",
              "    </tr>\n",
              "  </thead>\n",
              "  <tbody>\n",
              "    <tr>\n",
              "      <th>0</th>\n",
              "      <td>MMM</td>\n",
              "      <td>2 Dow Jones Stocks with Promising Prospects an...</td>\n",
              "      <td>The Dow Jones (^DJI) is made up of 30 of the m...</td>\n",
              "      <td>2025-05-29</td>\n",
              "      <td>StockStory</td>\n",
              "      <td>https://finance.yahoo.com/news/2-dow-jones-sto...</td>\n",
              "    </tr>\n",
              "    <tr>\n",
              "      <th>1</th>\n",
              "      <td>MMM</td>\n",
              "      <td>3 S&amp;P 500 Stocks Skating on Thin Ice</td>\n",
              "      <td>The S&amp;P 500 (^GSPC) is often seen as a benchma...</td>\n",
              "      <td>2025-05-27</td>\n",
              "      <td>StockStory</td>\n",
              "      <td>https://finance.yahoo.com/news/3-p-500-stocks-...</td>\n",
              "    </tr>\n",
              "    <tr>\n",
              "      <th>2</th>\n",
              "      <td>MMM</td>\n",
              "      <td>3M Rises 15.8% YTD: Should You Buy the Stock N...</td>\n",
              "      <td>MMM is making strides in the aerospace, indust...</td>\n",
              "      <td>2025-05-22</td>\n",
              "      <td>Zacks</td>\n",
              "      <td>https://finance.yahoo.com/news/3m-rises-15-8-y...</td>\n",
              "    </tr>\n",
              "    <tr>\n",
              "      <th>3</th>\n",
              "      <td>MMM</td>\n",
              "      <td>Q1 Earnings Roundup: 3M (NYSE:MMM) And The Res...</td>\n",
              "      <td>Quarterly earnings results are a good time to ...</td>\n",
              "      <td>2025-05-22</td>\n",
              "      <td>StockStory</td>\n",
              "      <td>https://finance.yahoo.com/news/q1-earnings-rou...</td>\n",
              "    </tr>\n",
              "    <tr>\n",
              "      <th>4</th>\n",
              "      <td>MMM</td>\n",
              "      <td>3 Cash-Producing Stocks with Questionable Fund...</td>\n",
              "      <td>While strong cash flow is a key indicator of s...</td>\n",
              "      <td>2025-05-19</td>\n",
              "      <td>StockStory</td>\n",
              "      <td>https://finance.yahoo.com/news/3-cash-producin...</td>\n",
              "    </tr>\n",
              "    <tr>\n",
              "      <th>...</th>\n",
              "      <td>...</td>\n",
              "      <td>...</td>\n",
              "      <td>...</td>\n",
              "      <td>...</td>\n",
              "      <td>...</td>\n",
              "      <td>...</td>\n",
              "    </tr>\n",
              "    <tr>\n",
              "      <th>4866</th>\n",
              "      <td>ZTS</td>\n",
              "      <td>2 Dividend Stocks to Buy With $500 and Hold Fo...</td>\n",
              "      <td>Zoetis is a leading animal health company with...</td>\n",
              "      <td>2025-05-23</td>\n",
              "      <td>Motley Fool</td>\n",
              "      <td>https://www.fool.com/investing/2025/05/23/2-di...</td>\n",
              "    </tr>\n",
              "    <tr>\n",
              "      <th>4867</th>\n",
              "      <td>ZTS</td>\n",
              "      <td>Zoetis (NYSE:ZTS) Declares US$0.50 Dividend Pe...</td>\n",
              "      <td>Zoetis (NYSE:ZTS) recently affirmed a dividend...</td>\n",
              "      <td>2025-05-22</td>\n",
              "      <td>Simply Wall St.</td>\n",
              "      <td>https://finance.yahoo.com/news/zoetis-nyse-zts...</td>\n",
              "    </tr>\n",
              "    <tr>\n",
              "      <th>4868</th>\n",
              "      <td>ZTS</td>\n",
              "      <td>Jim Cramer on Zoetis (ZTS): “It Does Seem to B...</td>\n",
              "      <td>We recently published a list of Jim Cramer Tal...</td>\n",
              "      <td>2025-05-21</td>\n",
              "      <td>Insider Monkey</td>\n",
              "      <td>https://finance.yahoo.com/news/jim-cramer-zoet...</td>\n",
              "    </tr>\n",
              "    <tr>\n",
              "      <th>4869</th>\n",
              "      <td>ZTS</td>\n",
              "      <td>Zoetis (ZTS) Upgraded to Buy: Here's Why</td>\n",
              "      <td>Zoetis (ZTS) might move higher on growing opti...</td>\n",
              "      <td>2025-05-21</td>\n",
              "      <td>Zacks</td>\n",
              "      <td>https://finance.yahoo.com/news/zoetis-zts-upgr...</td>\n",
              "    </tr>\n",
              "    <tr>\n",
              "      <th>4870</th>\n",
              "      <td>ZTS</td>\n",
              "      <td>ZTS Q1 Earnings Call: Guidance Raised as Platf...</td>\n",
              "      <td>Animal health company Zoetis (NYSE:ZTS) report...</td>\n",
              "      <td>2025-05-19</td>\n",
              "      <td>StockStory</td>\n",
              "      <td>https://finance.yahoo.com/news/zts-q1-earnings...</td>\n",
              "    </tr>\n",
              "  </tbody>\n",
              "</table>\n",
              "<p>4871 rows × 6 columns</p>\n",
              "</div>\n",
              "    <div class=\"colab-df-buttons\">\n",
              "\n",
              "  <div class=\"colab-df-container\">\n",
              "    <button class=\"colab-df-convert\" onclick=\"convertToInteractive('df-dc3132ed-c196-41ef-92e2-6c003bf15cf1')\"\n",
              "            title=\"Convert this dataframe to an interactive table.\"\n",
              "            style=\"display:none;\">\n",
              "\n",
              "  <svg xmlns=\"http://www.w3.org/2000/svg\" height=\"24px\" viewBox=\"0 -960 960 960\">\n",
              "    <path d=\"M120-120v-720h720v720H120Zm60-500h600v-160H180v160Zm220 220h160v-160H400v160Zm0 220h160v-160H400v160ZM180-400h160v-160H180v160Zm440 0h160v-160H620v160ZM180-180h160v-160H180v160Zm440 0h160v-160H620v160Z\"/>\n",
              "  </svg>\n",
              "    </button>\n",
              "\n",
              "  <style>\n",
              "    .colab-df-container {\n",
              "      display:flex;\n",
              "      gap: 12px;\n",
              "    }\n",
              "\n",
              "    .colab-df-convert {\n",
              "      background-color: #E8F0FE;\n",
              "      border: none;\n",
              "      border-radius: 50%;\n",
              "      cursor: pointer;\n",
              "      display: none;\n",
              "      fill: #1967D2;\n",
              "      height: 32px;\n",
              "      padding: 0 0 0 0;\n",
              "      width: 32px;\n",
              "    }\n",
              "\n",
              "    .colab-df-convert:hover {\n",
              "      background-color: #E2EBFA;\n",
              "      box-shadow: 0px 1px 2px rgba(60, 64, 67, 0.3), 0px 1px 3px 1px rgba(60, 64, 67, 0.15);\n",
              "      fill: #174EA6;\n",
              "    }\n",
              "\n",
              "    .colab-df-buttons div {\n",
              "      margin-bottom: 4px;\n",
              "    }\n",
              "\n",
              "    [theme=dark] .colab-df-convert {\n",
              "      background-color: #3B4455;\n",
              "      fill: #D2E3FC;\n",
              "    }\n",
              "\n",
              "    [theme=dark] .colab-df-convert:hover {\n",
              "      background-color: #434B5C;\n",
              "      box-shadow: 0px 1px 3px 1px rgba(0, 0, 0, 0.15);\n",
              "      filter: drop-shadow(0px 1px 2px rgba(0, 0, 0, 0.3));\n",
              "      fill: #FFFFFF;\n",
              "    }\n",
              "  </style>\n",
              "\n",
              "    <script>\n",
              "      const buttonEl =\n",
              "        document.querySelector('#df-dc3132ed-c196-41ef-92e2-6c003bf15cf1 button.colab-df-convert');\n",
              "      buttonEl.style.display =\n",
              "        google.colab.kernel.accessAllowed ? 'block' : 'none';\n",
              "\n",
              "      async function convertToInteractive(key) {\n",
              "        const element = document.querySelector('#df-dc3132ed-c196-41ef-92e2-6c003bf15cf1');\n",
              "        const dataTable =\n",
              "          await google.colab.kernel.invokeFunction('convertToInteractive',\n",
              "                                                    [key], {});\n",
              "        if (!dataTable) return;\n",
              "\n",
              "        const docLinkHtml = 'Like what you see? Visit the ' +\n",
              "          '<a target=\"_blank\" href=https://colab.research.google.com/notebooks/data_table.ipynb>data table notebook</a>'\n",
              "          + ' to learn more about interactive tables.';\n",
              "        element.innerHTML = '';\n",
              "        dataTable['output_type'] = 'display_data';\n",
              "        await google.colab.output.renderOutput(dataTable, element);\n",
              "        const docLink = document.createElement('div');\n",
              "        docLink.innerHTML = docLinkHtml;\n",
              "        element.appendChild(docLink);\n",
              "      }\n",
              "    </script>\n",
              "  </div>\n",
              "\n",
              "\n",
              "    <div id=\"df-5f840895-9ee6-4f5e-887b-f5ea20ae54dd\">\n",
              "      <button class=\"colab-df-quickchart\" onclick=\"quickchart('df-5f840895-9ee6-4f5e-887b-f5ea20ae54dd')\"\n",
              "                title=\"Suggest charts\"\n",
              "                style=\"display:none;\">\n",
              "\n",
              "<svg xmlns=\"http://www.w3.org/2000/svg\" height=\"24px\"viewBox=\"0 0 24 24\"\n",
              "     width=\"24px\">\n",
              "    <g>\n",
              "        <path d=\"M19 3H5c-1.1 0-2 .9-2 2v14c0 1.1.9 2 2 2h14c1.1 0 2-.9 2-2V5c0-1.1-.9-2-2-2zM9 17H7v-7h2v7zm4 0h-2V7h2v10zm4 0h-2v-4h2v4z\"/>\n",
              "    </g>\n",
              "</svg>\n",
              "      </button>\n",
              "\n",
              "<style>\n",
              "  .colab-df-quickchart {\n",
              "      --bg-color: #E8F0FE;\n",
              "      --fill-color: #1967D2;\n",
              "      --hover-bg-color: #E2EBFA;\n",
              "      --hover-fill-color: #174EA6;\n",
              "      --disabled-fill-color: #AAA;\n",
              "      --disabled-bg-color: #DDD;\n",
              "  }\n",
              "\n",
              "  [theme=dark] .colab-df-quickchart {\n",
              "      --bg-color: #3B4455;\n",
              "      --fill-color: #D2E3FC;\n",
              "      --hover-bg-color: #434B5C;\n",
              "      --hover-fill-color: #FFFFFF;\n",
              "      --disabled-bg-color: #3B4455;\n",
              "      --disabled-fill-color: #666;\n",
              "  }\n",
              "\n",
              "  .colab-df-quickchart {\n",
              "    background-color: var(--bg-color);\n",
              "    border: none;\n",
              "    border-radius: 50%;\n",
              "    cursor: pointer;\n",
              "    display: none;\n",
              "    fill: var(--fill-color);\n",
              "    height: 32px;\n",
              "    padding: 0;\n",
              "    width: 32px;\n",
              "  }\n",
              "\n",
              "  .colab-df-quickchart:hover {\n",
              "    background-color: var(--hover-bg-color);\n",
              "    box-shadow: 0 1px 2px rgba(60, 64, 67, 0.3), 0 1px 3px 1px rgba(60, 64, 67, 0.15);\n",
              "    fill: var(--button-hover-fill-color);\n",
              "  }\n",
              "\n",
              "  .colab-df-quickchart-complete:disabled,\n",
              "  .colab-df-quickchart-complete:disabled:hover {\n",
              "    background-color: var(--disabled-bg-color);\n",
              "    fill: var(--disabled-fill-color);\n",
              "    box-shadow: none;\n",
              "  }\n",
              "\n",
              "  .colab-df-spinner {\n",
              "    border: 2px solid var(--fill-color);\n",
              "    border-color: transparent;\n",
              "    border-bottom-color: var(--fill-color);\n",
              "    animation:\n",
              "      spin 1s steps(1) infinite;\n",
              "  }\n",
              "\n",
              "  @keyframes spin {\n",
              "    0% {\n",
              "      border-color: transparent;\n",
              "      border-bottom-color: var(--fill-color);\n",
              "      border-left-color: var(--fill-color);\n",
              "    }\n",
              "    20% {\n",
              "      border-color: transparent;\n",
              "      border-left-color: var(--fill-color);\n",
              "      border-top-color: var(--fill-color);\n",
              "    }\n",
              "    30% {\n",
              "      border-color: transparent;\n",
              "      border-left-color: var(--fill-color);\n",
              "      border-top-color: var(--fill-color);\n",
              "      border-right-color: var(--fill-color);\n",
              "    }\n",
              "    40% {\n",
              "      border-color: transparent;\n",
              "      border-right-color: var(--fill-color);\n",
              "      border-top-color: var(--fill-color);\n",
              "    }\n",
              "    60% {\n",
              "      border-color: transparent;\n",
              "      border-right-color: var(--fill-color);\n",
              "    }\n",
              "    80% {\n",
              "      border-color: transparent;\n",
              "      border-right-color: var(--fill-color);\n",
              "      border-bottom-color: var(--fill-color);\n",
              "    }\n",
              "    90% {\n",
              "      border-color: transparent;\n",
              "      border-bottom-color: var(--fill-color);\n",
              "    }\n",
              "  }\n",
              "</style>\n",
              "\n",
              "      <script>\n",
              "        async function quickchart(key) {\n",
              "          const quickchartButtonEl =\n",
              "            document.querySelector('#' + key + ' button');\n",
              "          quickchartButtonEl.disabled = true;  // To prevent multiple clicks.\n",
              "          quickchartButtonEl.classList.add('colab-df-spinner');\n",
              "          try {\n",
              "            const charts = await google.colab.kernel.invokeFunction(\n",
              "                'suggestCharts', [key], {});\n",
              "          } catch (error) {\n",
              "            console.error('Error during call to suggestCharts:', error);\n",
              "          }\n",
              "          quickchartButtonEl.classList.remove('colab-df-spinner');\n",
              "          quickchartButtonEl.classList.add('colab-df-quickchart-complete');\n",
              "        }\n",
              "        (() => {\n",
              "          let quickchartButtonEl =\n",
              "            document.querySelector('#df-5f840895-9ee6-4f5e-887b-f5ea20ae54dd button');\n",
              "          quickchartButtonEl.style.display =\n",
              "            google.colab.kernel.accessAllowed ? 'block' : 'none';\n",
              "        })();\n",
              "      </script>\n",
              "    </div>\n",
              "\n",
              "  <div id=\"id_d1496575-d2fb-430c-a35e-f139f7e9f4e6\">\n",
              "    <style>\n",
              "      .colab-df-generate {\n",
              "        background-color: #E8F0FE;\n",
              "        border: none;\n",
              "        border-radius: 50%;\n",
              "        cursor: pointer;\n",
              "        display: none;\n",
              "        fill: #1967D2;\n",
              "        height: 32px;\n",
              "        padding: 0 0 0 0;\n",
              "        width: 32px;\n",
              "      }\n",
              "\n",
              "      .colab-df-generate:hover {\n",
              "        background-color: #E2EBFA;\n",
              "        box-shadow: 0px 1px 2px rgba(60, 64, 67, 0.3), 0px 1px 3px 1px rgba(60, 64, 67, 0.15);\n",
              "        fill: #174EA6;\n",
              "      }\n",
              "\n",
              "      [theme=dark] .colab-df-generate {\n",
              "        background-color: #3B4455;\n",
              "        fill: #D2E3FC;\n",
              "      }\n",
              "\n",
              "      [theme=dark] .colab-df-generate:hover {\n",
              "        background-color: #434B5C;\n",
              "        box-shadow: 0px 1px 3px 1px rgba(0, 0, 0, 0.15);\n",
              "        filter: drop-shadow(0px 1px 2px rgba(0, 0, 0, 0.3));\n",
              "        fill: #FFFFFF;\n",
              "      }\n",
              "    </style>\n",
              "    <button class=\"colab-df-generate\" onclick=\"generateWithVariable('df_news')\"\n",
              "            title=\"Generate code using this dataframe.\"\n",
              "            style=\"display:none;\">\n",
              "\n",
              "  <svg xmlns=\"http://www.w3.org/2000/svg\" height=\"24px\"viewBox=\"0 0 24 24\"\n",
              "       width=\"24px\">\n",
              "    <path d=\"M7,19H8.4L18.45,9,17,7.55,7,17.6ZM5,21V16.75L18.45,3.32a2,2,0,0,1,2.83,0l1.4,1.43a1.91,1.91,0,0,1,.58,1.4,1.91,1.91,0,0,1-.58,1.4L9.25,21ZM18.45,9,17,7.55Zm-12,3A5.31,5.31,0,0,0,4.9,8.1,5.31,5.31,0,0,0,1,6.5,5.31,5.31,0,0,0,4.9,4.9,5.31,5.31,0,0,0,6.5,1,5.31,5.31,0,0,0,8.1,4.9,5.31,5.31,0,0,0,12,6.5,5.46,5.46,0,0,0,6.5,12Z\"/>\n",
              "  </svg>\n",
              "    </button>\n",
              "    <script>\n",
              "      (() => {\n",
              "      const buttonEl =\n",
              "        document.querySelector('#id_d1496575-d2fb-430c-a35e-f139f7e9f4e6 button.colab-df-generate');\n",
              "      buttonEl.style.display =\n",
              "        google.colab.kernel.accessAllowed ? 'block' : 'none';\n",
              "\n",
              "      buttonEl.onclick = () => {\n",
              "        google.colab.notebook.generateWithVariable('df_news');\n",
              "      }\n",
              "      })();\n",
              "    </script>\n",
              "  </div>\n",
              "\n",
              "    </div>\n",
              "  </div>\n"
            ],
            "application/vnd.google.colaboratory.intrinsic+json": {
              "type": "dataframe",
              "variable_name": "df_news",
              "summary": "{\n  \"name\": \"df_news\",\n  \"rows\": 4871,\n  \"fields\": [\n    {\n      \"column\": \"TICKER\",\n      \"properties\": {\n        \"dtype\": \"category\",\n        \"num_unique_values\": 490,\n        \"samples\": [\n          \"UHS\",\n          \"CARR\",\n          \"TJX\"\n        ],\n        \"semantic_type\": \"\",\n        \"description\": \"\"\n      }\n    },\n    {\n      \"column\": \"TITLE\",\n      \"properties\": {\n        \"dtype\": \"string\",\n        \"num_unique_values\": 4251,\n        \"samples\": [\n          \"Here's Why Coca-Cola (KO) Fell More Than Broader Market\",\n          \"Illinois Tool Works (ITW) Up 2.7% Since Last Earnings Report: Can It Continue?\",\n          \"Q1 Earnings Roundup: Perma-Fix (NASDAQ:PESI) And The Rest Of The Waste Management Segment\"\n        ],\n        \"semantic_type\": \"\",\n        \"description\": \"\"\n      }\n    },\n    {\n      \"column\": \"SUMMARY\",\n      \"properties\": {\n        \"dtype\": \"string\",\n        \"num_unique_values\": 3976,\n        \"samples\": [\n          \"Broadcom, Arista Networks initiated: Wall Street's top analyst calls\",\n          \"Emerson Electric (EMR) has received quite a bit of attention from Zacks.com users lately. Therefore, it is wise to be aware of the facts that can impact the stock's prospects.\",\n          \"Ventas (VTR) reported earnings 30 days ago. What's next for the stock? We take a look at earnings estimates for some clues.\"\n        ],\n        \"semantic_type\": \"\",\n        \"description\": \"\"\n      }\n    },\n    {\n      \"column\": \"PUBLICATION_DATE\",\n      \"properties\": {\n        \"dtype\": \"date\",\n        \"min\": \"2024-07-12\",\n        \"max\": \"2025-05-31\",\n        \"num_unique_values\": 121,\n        \"samples\": [\n          \"2025-04-12\",\n          \"2025-04-10\",\n          \"2025-05-15\"\n        ],\n        \"semantic_type\": \"\",\n        \"description\": \"\"\n      }\n    },\n    {\n      \"column\": \"PROVIDER\",\n      \"properties\": {\n        \"dtype\": \"category\",\n        \"num_unique_values\": 95,\n        \"samples\": [\n          \"Just Auto\",\n          \"Fortune\",\n          \"Payments Dive\"\n        ],\n        \"semantic_type\": \"\",\n        \"description\": \"\"\n      }\n    },\n    {\n      \"column\": \"URL\",\n      \"properties\": {\n        \"dtype\": \"string\",\n        \"num_unique_values\": 4317,\n        \"samples\": [\n          \"https://finance.yahoo.com/news/why-te-connectivity-tel-top-134010352.html\",\n          \"https://finance.yahoo.com/news/why-jakks-jakk-5-3-153052887.html\",\n          \"https://finance.yahoo.com/news/general-dynamics-wins-217m-contract-151400769.html\"\n        ],\n        \"semantic_type\": \"\",\n        \"description\": \"\"\n      }\n    }\n  ]\n}"
            }
          },
          "metadata": {}
        }
      ],
      "source": [
        "#\n",
        "# df_news.csv was loaded in google drive under {working_dir}\n",
        "df_news = pd.read_csv('df_news.csv')\n",
        "df_news['PUBLICATION_DATE'] = pd.to_datetime(df_news['PUBLICATION_DATE']).dt.date\n",
        "display(df_news)"
      ]
    },
    {
      "cell_type": "code",
      "execution_count": null,
      "id": "b0983a4a",
      "metadata": {
        "id": "b0983a4a"
      },
      "outputs": [],
      "source": [
        "df_news['EMBEDDED_TEXT'] = df_news['TITLE'] + ' : ' + df_news['SUMMARY']"
      ]
    },
    {
      "cell_type": "code",
      "execution_count": null,
      "id": "24f6c6e7",
      "metadata": {
        "colab": {
          "base_uri": "https://localhost:8080/",
          "height": 369,
          "referenced_widgets": [
            "5dc4681f3c4a4cba8bab7de901eb1a7d",
            "cc8a5f246d0d47b5b9e7b20e5b1de487",
            "5c05194ca2bb4c9e9a0f528720a0f095",
            "ec7656365fc64b1f920cace6bae53f19",
            "638842fed7f34fa88c867e2220ff059f",
            "3036d1db1af94bff8a82991b9206a87e",
            "b1b1cf413ff3422dbcd2709d1024190e",
            "a2323a6bfd304f4785b4b0791b281ef3",
            "448e801b790342dda7b726e5d54848fd",
            "fe233f3ad5274e8cb469f63c32dbbc21",
            "a55f9a284b6e48709be652a53331fcae",
            "b6b3071adbac462ab29a838c95196b5c",
            "add522d085444b0f8ca9879205cd7f61",
            "472057e5bd5d4bfa8c6e1fefdad565e3",
            "6b682179d9d044d99110aefc69716a38",
            "5b3726651a5e4867947d75bd0daef92d",
            "c07ae99aeaf5453092b1096a18616fab",
            "920680571d4a4e2990a8497f80d9fab3",
            "ebfacf4b2258483cb7ecd140307daad4",
            "82e7a2e62d3b42f6b940dd6e99413db8",
            "c774116a9d834e709e2196680a46c6e8",
            "cce573eeaafc46618a2cf182974cfaca",
            "629b34e1231a465a97e935cd72cf902f",
            "4dff19eecd3146008c9dd65c5e433b15",
            "92ba7e31b338418c88dfda9d31ec2147",
            "155e05c9948847ffbc1542c73199e1af",
            "5845f91abe094b4db91c4d85a62ae2b6",
            "d0942f412668413399ed70238cdaaa62",
            "1743a15f56f644cdbf3f504799675f62",
            "a96bd4d408b74c3fbd4f2c1f9cc41bee",
            "e33fdb26f960464ba6a778a94b000f52",
            "f00aa4595f574a358c1edabd9a97d817",
            "862f0a5a8f2242c9883b351f5bb5266b",
            "f89afedbd0574e1e835d1dc0535e85e7",
            "11a7e1b0dac34de0b8e375831daa4464",
            "0481b3809dcc4e9ca9bff20828cad447",
            "5710efd03151462d9e7f2997ed02b5cb",
            "43edf58577c54f039e3a527004b13b84",
            "0b42e6fea18344759049da4c782e37fa",
            "512239dd0af9443c9a66013cdaa40a3c",
            "b419d06462b44c728ff2950cc339e742",
            "ca1e4fcacb8a463fa1e07c726f83217f",
            "c7e3ad5851684a299133b5a720498dcd",
            "427dc57b57ff4f778dd7fa08d3bdd172",
            "8621492903f14400a38c988d2d7fdeb4",
            "3d81e0d98bbd42368d94c2d7f7aabf77",
            "7dc646eb3738431fb1bed239035e2106",
            "d0f417edebd54dbba6cc5adde9b45915",
            "2a848fa7d6f64206bcd01b31eca5f429",
            "b9fe049188c44803b214a4f55d6a18e3",
            "3673689fe1474917b2be480840cdcfa5",
            "4c2ba8241db7424c8fab7fa3e6f98d18",
            "d9f43905602a413c94b1646a40e7b480",
            "34c94ee49f4d44f4b608c8a5ca7f5c16",
            "2dce855600454c1cb2b2b38aca81ee53",
            "bca94be23532401e96fbdc15f16fd7ad",
            "e79d674bb47c4ea6a2b30c0d57de09b9",
            "f08c7fb2b4414c458ff4537f7b9a3aaf",
            "2971904638e047f98e885beeb39a87df",
            "e4fc9efc48714c9f9923056e91b07156",
            "642b739773b341ef945efab199d166c4",
            "a8daeb97c3f940758268c8dbafc0320d",
            "2f53a605186f4604acc6dba5b2f2c3a4",
            "105fed560ae04a81a6124d1c46500989",
            "c816e1a6332247cba2df936200b202f7",
            "065e6d1fef7f4f6484a392c76355adc9",
            "e6da70d13ff842a28cdeb6372fe4f8a5",
            "e5f3b775bd1e42cdb48f349edba7073c",
            "71930fa295884ed5a59a5434398b06ed",
            "6158290549f047dea9aea21f3a45129c",
            "8442c7aee28d48d7bc921a2b4981d14b",
            "d007b53227c9485d8e03d0b4b6934564",
            "13e39afbe94d4894b0d8da72f6f9ad75",
            "41d5d41b6809450db70e4b4b192a14d5",
            "fe190be4fe724ae09c04308ca0201977",
            "1a0ccaa5614841aa997a26a99791ea49",
            "01d636acb2734935a9f1693d2307948c",
            "929a0318bfac457187f9a873f9a7070d",
            "3907385315da4ce79cf5762f0db2970d",
            "a48a16516059451c9fb086930ff37915",
            "bd22a20020e844878a11e87ef789fb91",
            "4b75a7524dce496aa9e3160192bb023c",
            "02a2e7be4c1d45e0ab8d87665f216065",
            "b19d808a12f64185bd45b4b93f82260e",
            "dad97d7eda3d450f9fb22475675a9114",
            "b8bb51fce7654d9098434e28c3e66e3f",
            "3b9373de4af841769edb308b9ae007a7",
            "1a1a38351bbf4972b538c10257302036",
            "b9c1006927c14f0291148ce23942c240",
            "4723bc3ced6b473ea9a3039543d053f5",
            "fb964d9efa684821bb44820fbdbc9b1d",
            "379bda1882e94806b667bc917b2ea46d",
            "900b05f4cc3249e4813f8207a7c074f2",
            "1c60603694ea48a99f6c0a38130f3f9f",
            "5b502c6417ed40c497bad845c16c72c5",
            "a64cde85d7a54078b26d710ceba424c8",
            "2b877499569d4e01aaea8ab21c5574a9",
            "77a076a4baa6481388d2989224a70944",
            "b4a56c1e8da84703ba40156fe6751d99",
            "cf5b883f9ac7430e8bcdc7898f82d8d6",
            "c989489300f8418fb58604819409789b",
            "adda7a816d304043876ec88f67aabfe4",
            "041a715149884465b5ee7f9cc50db7df",
            "50fdce8b32484efba343f288bc6ad127",
            "56483ac9ec9a431aa46ee770b621cd78",
            "4a5bc75bcd414f92b0eabcf5ba907700",
            "0505558e53de447698a077a6f841fff4",
            "218d088166f04abcb3c4bfe2cd39b7b4",
            "b97fa887759a434c9ac76f847135ed06",
            "461481badd494e59aaa8b578b06aa911",
            "84b7b5c1079d410cb464ab9a01950203",
            "bcf12958d9a5417685e75412b152b3f9",
            "486f6bc1607147f1a5d8c738551a2749",
            "a954ccc1a57e418193faa8fae98e310d",
            "c7fb9cefe33641b69c416c6c3e80369e",
            "2f9719d860174c719008f3063c771570",
            "86484e091fe344b1a5afb87a3cfa83c3",
            "beb9b16676aa485aaf2f5bf40fdacc28",
            "a6f875d2ebe7437dbd6d51b647db7371",
            "f5b06d8f456b445e867b88cc50d35090",
            "1b46acfd82024bf4aaf601ce85f2d873"
          ]
        },
        "id": "24f6c6e7",
        "outputId": "2d7f6f62-7bcc-4210-a0ac-cacef3c14b8b"
      },
      "outputs": [
        {
          "output_type": "display_data",
          "data": {
            "text/plain": [
              "modules.json:   0%|          | 0.00/349 [00:00<?, ?B/s]"
            ],
            "application/vnd.jupyter.widget-view+json": {
              "version_major": 2,
              "version_minor": 0,
              "model_id": "5dc4681f3c4a4cba8bab7de901eb1a7d"
            }
          },
          "metadata": {}
        },
        {
          "output_type": "display_data",
          "data": {
            "text/plain": [
              "config_sentence_transformers.json:   0%|          | 0.00/116 [00:00<?, ?B/s]"
            ],
            "application/vnd.jupyter.widget-view+json": {
              "version_major": 2,
              "version_minor": 0,
              "model_id": "b6b3071adbac462ab29a838c95196b5c"
            }
          },
          "metadata": {}
        },
        {
          "output_type": "display_data",
          "data": {
            "text/plain": [
              "README.md: 0.00B [00:00, ?B/s]"
            ],
            "application/vnd.jupyter.widget-view+json": {
              "version_major": 2,
              "version_minor": 0,
              "model_id": "629b34e1231a465a97e935cd72cf902f"
            }
          },
          "metadata": {}
        },
        {
          "output_type": "display_data",
          "data": {
            "text/plain": [
              "sentence_bert_config.json:   0%|          | 0.00/53.0 [00:00<?, ?B/s]"
            ],
            "application/vnd.jupyter.widget-view+json": {
              "version_major": 2,
              "version_minor": 0,
              "model_id": "f89afedbd0574e1e835d1dc0535e85e7"
            }
          },
          "metadata": {}
        },
        {
          "output_type": "display_data",
          "data": {
            "text/plain": [
              "config.json:   0%|          | 0.00/612 [00:00<?, ?B/s]"
            ],
            "application/vnd.jupyter.widget-view+json": {
              "version_major": 2,
              "version_minor": 0,
              "model_id": "8621492903f14400a38c988d2d7fdeb4"
            }
          },
          "metadata": {}
        },
        {
          "output_type": "display_data",
          "data": {
            "text/plain": [
              "model.safetensors:   0%|          | 0.00/90.9M [00:00<?, ?B/s]"
            ],
            "application/vnd.jupyter.widget-view+json": {
              "version_major": 2,
              "version_minor": 0,
              "model_id": "bca94be23532401e96fbdc15f16fd7ad"
            }
          },
          "metadata": {}
        },
        {
          "output_type": "display_data",
          "data": {
            "text/plain": [
              "tokenizer_config.json:   0%|          | 0.00/350 [00:00<?, ?B/s]"
            ],
            "application/vnd.jupyter.widget-view+json": {
              "version_major": 2,
              "version_minor": 0,
              "model_id": "e6da70d13ff842a28cdeb6372fe4f8a5"
            }
          },
          "metadata": {}
        },
        {
          "output_type": "display_data",
          "data": {
            "text/plain": [
              "vocab.txt: 0.00B [00:00, ?B/s]"
            ],
            "application/vnd.jupyter.widget-view+json": {
              "version_major": 2,
              "version_minor": 0,
              "model_id": "929a0318bfac457187f9a873f9a7070d"
            }
          },
          "metadata": {}
        },
        {
          "output_type": "display_data",
          "data": {
            "text/plain": [
              "tokenizer.json: 0.00B [00:00, ?B/s]"
            ],
            "application/vnd.jupyter.widget-view+json": {
              "version_major": 2,
              "version_minor": 0,
              "model_id": "b9c1006927c14f0291148ce23942c240"
            }
          },
          "metadata": {}
        },
        {
          "output_type": "display_data",
          "data": {
            "text/plain": [
              "special_tokens_map.json:   0%|          | 0.00/112 [00:00<?, ?B/s]"
            ],
            "application/vnd.jupyter.widget-view+json": {
              "version_major": 2,
              "version_minor": 0,
              "model_id": "cf5b883f9ac7430e8bcdc7898f82d8d6"
            }
          },
          "metadata": {}
        },
        {
          "output_type": "display_data",
          "data": {
            "text/plain": [
              "config.json:   0%|          | 0.00/190 [00:00<?, ?B/s]"
            ],
            "application/vnd.jupyter.widget-view+json": {
              "version_major": 2,
              "version_minor": 0,
              "model_id": "84b7b5c1079d410cb464ab9a01950203"
            }
          },
          "metadata": {}
        }
      ],
      "source": [
        "#\n",
        "# Load the model\n",
        "model = SentenceTransformer('all-MiniLM-L6-v2')"
      ]
    },
    {
      "cell_type": "markdown",
      "id": "67c301aa",
      "metadata": {
        "id": "67c301aa"
      },
      "source": [
        "## Implement FAISS vector store\n",
        "We:\n",
        "- Use a pre-trained sentence transformer (all-MiniLM-L6-v2) to embed documents.\n",
        "- Normalize vectors to use cosine similarity.\n",
        "- Create a FAISS index and implement a basic search function.\n",
        "\n",
        "This will allow us to retrieve relevant news snippets given a natural language question.\n"
      ]
    },
    {
      "cell_type": "code",
      "execution_count": null,
      "id": "607624fc",
      "metadata": {
        "id": "607624fc"
      },
      "outputs": [],
      "source": [
        "# Load model and compute embeddings\n",
        "text_embeddings = model.encode(df_news['EMBEDDED_TEXT'].tolist(), convert_to_numpy=True)\n",
        "\n",
        "# Normalize embeddings to use cosine similarity (via inner product in FAISS)\n",
        "text_embeddings = text_embeddings / np.linalg.norm(text_embeddings, axis=1, keepdims=True)\n",
        "\n",
        "# Prepare metadata\n",
        "documents = df_news['EMBEDDED_TEXT'].tolist()\n",
        "metadata = [\n",
        "    {\n",
        "        'PUBLICATION_DATE': row['PUBLICATION_DATE'],\n",
        "        'TICKER': row['TICKER'],\n",
        "        'PROVIDER': row['PROVIDER']\n",
        "    }\n",
        "    for _, row in df_news.iterrows()\n",
        "]"
      ]
    },
    {
      "cell_type": "code",
      "execution_count": null,
      "id": "a54162c2",
      "metadata": {
        "id": "a54162c2"
      },
      "outputs": [],
      "source": [
        "embedding_dim = text_embeddings.shape[1]\n",
        "faiss_index = faiss.IndexFlatIP(embedding_dim)  # Cosine similarity via inner product\n",
        "faiss_index.add(text_embeddings)"
      ]
    },
    {
      "cell_type": "code",
      "execution_count": null,
      "id": "a6f85fd7",
      "metadata": {
        "id": "a6f85fd7"
      },
      "outputs": [],
      "source": [
        "class FaissVectorStore:\n",
        "    def __init__(self, model, index, embeddings, documents, metadata):\n",
        "        self.model = model\n",
        "        self.index = index\n",
        "        self.embeddings = embeddings\n",
        "        self.documents = documents\n",
        "        self.metadata = metadata\n",
        "\n",
        "    def search(self, query, k=5, metadata_filter=None):\n",
        "        # Encode and normalize query as float32\n",
        "        query_embedding = self.model.encode([query], normalize_embeddings=True).astype(\"float32\")\n",
        "\n",
        "        results = []\n",
        "        if metadata_filter:\n",
        "            # Filter metadata and cap k\n",
        "            filtered_indices = [i for i, meta in enumerate(self.metadata) if metadata_filter(meta)]\n",
        "            if not filtered_indices:\n",
        "                return []\n",
        "            filtered_embeddings = self.embeddings[filtered_indices]\n",
        "            temp_index = faiss.IndexFlatIP(filtered_embeddings.shape[1])\n",
        "            temp_index.add(filtered_embeddings)\n",
        "            k_eff = int(min(k, len(filtered_indices)))\n",
        "            D, I = temp_index.search(query_embedding, k_eff)\n",
        "            D0, I0 = D[0], I[0]\n",
        "            # Map local indices back to global indices\n",
        "            indices = [filtered_indices[i] for i in I0]\n",
        "            for idx, sim in zip(indices, D0):\n",
        "                if idx < 0 or idx >= len(self.documents):\n",
        "                    continue\n",
        "                results.append((self.documents[idx], self.metadata[idx], float(sim)))\n",
        "            return results\n",
        "        else:\n",
        "            # Cap k to index size\n",
        "            k_eff = int(min(k, self.index.ntotal))\n",
        "            D, I = self.index.search(query_embedding, k_eff)\n",
        "            D0, I0 = D[0], I[0]\n",
        "            for idx, sim in zip(I0, D0):\n",
        "                if idx < 0 or idx >= len(self.documents):\n",
        "                    continue\n",
        "                results.append((self.documents[idx], self.metadata[idx], float(sim)))\n",
        "            return results\n"
      ]
    },
    {
      "cell_type": "code",
      "execution_count": null,
      "id": "5c3e256d",
      "metadata": {
        "id": "5c3e256d"
      },
      "outputs": [],
      "source": [
        "# Create FAISS-based store\n",
        "faiss_store = FaissVectorStore(\n",
        "    model=model,\n",
        "    index=faiss_index,\n",
        "    embeddings=text_embeddings,\n",
        "    documents=documents,\n",
        "    metadata=metadata\n",
        ")"
      ]
    },
    {
      "cell_type": "markdown",
      "id": "40c40d71",
      "metadata": {
        "id": "40c40d71"
      },
      "source": [
        "### Setup OpenAI Client\n",
        "\n",
        "👉 **Instructions**:\n",
        "- Import the `OpenAI` client from the `openai` Python library.\n",
        "- You will need an **OpenAI API key** to use their models programmatically:\n",
        "  - Go to [https://platform.openai.com/](https://platform.openai.com/) and sign up or log in.\n",
        "  - Create an API key from your [API keys dashboard](https://platform.openai.com/account/api-keys).\n",
        "  - ⚠️ **Keep your API key private** and **do not** share or hardcode it in public notebooks.\n",
        "- Note that **usage of the OpenAI API is not free**. You will need to:\n",
        "  - Add a payment method.\n",
        "  - Monitor your usage to avoid unexpected charges.\n",
        "  - Optionally set usage limits from your account settings.\n",
        "- You can refer to the **course’s Study Resources** for a step-by-step guide on creating an OpenAI account and retrieving your API key.\n",
        "\n",
        "Then:\n",
        "- Initialize the client with `OpenAI(api_key=\"YOUR_KEY_HERE\")`.\n",
        "- Send a test request using `.responses.create()` and the `\"gpt-4o-mini\"` model with a simple prompt:\n",
        "\n",
        "  ```python\n",
        "  response = client.responses.create(\n",
        "      model=\"gpt-4o-mini\",\n",
        "      input=\"Write a one-sentence bedtime story about a unicorn.\"\n",
        "  )\n",
        "  print(response.output_text)\n"
      ]
    },
    {
      "cell_type": "code",
      "execution_count": null,
      "id": "bb8e09c7",
      "metadata": {
        "colab": {
          "base_uri": "https://localhost:8080/"
        },
        "id": "bb8e09c7",
        "outputId": "a1c381aa-a58b-45ad-ec29-dffcc8bb6b53"
      },
      "outputs": [
        {
          "output_type": "stream",
          "name": "stdout",
          "text": [
            "Requirement already satisfied: openai in /usr/local/lib/python3.11/dist-packages (1.99.1)\n",
            "Requirement already satisfied: anyio<5,>=3.5.0 in /usr/local/lib/python3.11/dist-packages (from openai) (4.10.0)\n",
            "Requirement already satisfied: distro<2,>=1.7.0 in /usr/local/lib/python3.11/dist-packages (from openai) (1.9.0)\n",
            "Requirement already satisfied: httpx<1,>=0.23.0 in /usr/local/lib/python3.11/dist-packages (from openai) (0.28.1)\n",
            "Requirement already satisfied: jiter<1,>=0.4.0 in /usr/local/lib/python3.11/dist-packages (from openai) (0.10.0)\n",
            "Requirement already satisfied: pydantic<3,>=1.9.0 in /usr/local/lib/python3.11/dist-packages (from openai) (2.11.7)\n",
            "Requirement already satisfied: sniffio in /usr/local/lib/python3.11/dist-packages (from openai) (1.3.1)\n",
            "Requirement already satisfied: tqdm>4 in /usr/local/lib/python3.11/dist-packages (from openai) (4.67.1)\n",
            "Requirement already satisfied: typing-extensions<5,>=4.11 in /usr/local/lib/python3.11/dist-packages (from openai) (4.14.1)\n",
            "Requirement already satisfied: idna>=2.8 in /usr/local/lib/python3.11/dist-packages (from anyio<5,>=3.5.0->openai) (3.10)\n",
            "Requirement already satisfied: certifi in /usr/local/lib/python3.11/dist-packages (from httpx<1,>=0.23.0->openai) (2025.8.3)\n",
            "Requirement already satisfied: httpcore==1.* in /usr/local/lib/python3.11/dist-packages (from httpx<1,>=0.23.0->openai) (1.0.9)\n",
            "Requirement already satisfied: h11>=0.16 in /usr/local/lib/python3.11/dist-packages (from httpcore==1.*->httpx<1,>=0.23.0->openai) (0.16.0)\n",
            "Requirement already satisfied: annotated-types>=0.6.0 in /usr/local/lib/python3.11/dist-packages (from pydantic<3,>=1.9.0->openai) (0.7.0)\n",
            "Requirement already satisfied: pydantic-core==2.33.2 in /usr/local/lib/python3.11/dist-packages (from pydantic<3,>=1.9.0->openai) (2.33.2)\n",
            "Requirement already satisfied: typing-inspection>=0.4.0 in /usr/local/lib/python3.11/dist-packages (from pydantic<3,>=1.9.0->openai) (0.4.1)\n"
          ]
        }
      ],
      "source": [
        "#\n",
        "# Install openai libraries\n",
        "!pip install openai"
      ]
    },
    {
      "cell_type": "code",
      "source": [
        "#\n",
        "# import openai library\n",
        "from openai import OpenAI"
      ],
      "metadata": {
        "id": "Pr51fvKRnz8J"
      },
      "id": "Pr51fvKRnz8J",
      "execution_count": null,
      "outputs": []
    },
    {
      "cell_type": "code",
      "source": [
        "#\n",
        "# Initialize openai client\n",
        "api_key  = ''\n",
        "\n",
        "client = OpenAI(\n",
        "  api_key=api_key\n",
        ")"
      ],
      "metadata": {
        "id": "rSmGmfunn_6T"
      },
      "id": "rSmGmfunn_6T",
      "execution_count": null,
      "outputs": []
    },
    {
      "cell_type": "code",
      "source": [
        "#\n",
        "# Test openai api key and connectivity\n",
        "response = client.responses.create(\n",
        "    model=\"gpt-4o-mini\",\n",
        "    input=\"Write a one-sentence bedtime story about a unicorn.\"\n",
        ")\n",
        "print(response.output_text)"
      ],
      "metadata": {
        "colab": {
          "base_uri": "https://localhost:8080/"
        },
        "id": "KNV4lueXoEoh",
        "outputId": "3ddfd9d2-b2dd-4d17-f1b0-d28b53ec4736"
      },
      "id": "KNV4lueXoEoh",
      "execution_count": null,
      "outputs": [
        {
          "output_type": "stream",
          "name": "stdout",
          "text": [
            "In a shimmering meadow under a starlit sky, a playful unicorn sprinkled dreams of kindness and joy, ensuring that every child slept soundly with a smile.\n"
          ]
        }
      ]
    },
    {
      "cell_type": "markdown",
      "id": "15b1a560",
      "metadata": {
        "id": "15b1a560"
      },
      "source": [
        "## Retrieve Additional Metadata from Yahoo Finance\n",
        "\n",
        "👉 **Instructions**:\n",
        "- We will enrich our news dataset by retrieving **company-level metadata** using the `yfinance` library.\n",
        "- The goal is to map each unique stock ticker (`TICKER`) in the dataset to:\n",
        "  - `COMPANY_NAME`\n",
        "  - `SECTOR`\n",
        "  - `INDUSTRY`\n",
        "\n",
        "> ℹ️ `yfinance` fetches live data from Yahoo Finance. If you're running this in a cloud environment or during peak hours, expect some tickers to fail or rate limits to apply.\n",
        "\n",
        "✅ After this step, you will have a new DataFrame (e.g. `df_meta`) with the columns `TICKER`, `COMPANY_NAME`, `SECTOR`, `INDUSTRY` that maps tickers to their company names, sectors, and industries. This metadata will be useful later to add filters and analysis based on sector or industry categories.\n"
      ]
    },
    {
      "cell_type": "code",
      "execution_count": null,
      "id": "57d90b86",
      "metadata": {
        "colab": {
          "base_uri": "https://localhost:8080/",
          "height": 206
        },
        "id": "57d90b86",
        "outputId": "efe329e7-0eab-4450-ccd0-65bb1f2d33d9"
      },
      "outputs": [
        {
          "output_type": "display_data",
          "data": {
            "text/plain": [
              "  Symbol             Security             GICS Sector  \\\n",
              "0    MMM                   3M             Industrials   \n",
              "1    AOS          A. O. Smith             Industrials   \n",
              "2    ABT  Abbott Laboratories             Health Care   \n",
              "3   ABBV               AbbVie             Health Care   \n",
              "4    ACN            Accenture  Information Technology   \n",
              "\n",
              "                GICS Sub-Industry    Headquarters Location  Date added  \\\n",
              "0        Industrial Conglomerates    Saint Paul, Minnesota  1957-03-04   \n",
              "1               Building Products     Milwaukee, Wisconsin  2017-07-26   \n",
              "2           Health Care Equipment  North Chicago, Illinois  1957-03-04   \n",
              "3                   Biotechnology  North Chicago, Illinois  2012-12-31   \n",
              "4  IT Consulting & Other Services          Dublin, Ireland  2011-07-06   \n",
              "\n",
              "       CIK      Founded  \n",
              "0    66740         1902  \n",
              "1    91142         1916  \n",
              "2     1800         1888  \n",
              "3  1551152  2013 (1888)  \n",
              "4  1467373         1989  "
            ],
            "text/html": [
              "\n",
              "  <div id=\"df-ac538e09-a1ef-4be2-a732-ca3852d798cd\" class=\"colab-df-container\">\n",
              "    <div>\n",
              "<style scoped>\n",
              "    .dataframe tbody tr th:only-of-type {\n",
              "        vertical-align: middle;\n",
              "    }\n",
              "\n",
              "    .dataframe tbody tr th {\n",
              "        vertical-align: top;\n",
              "    }\n",
              "\n",
              "    .dataframe thead th {\n",
              "        text-align: right;\n",
              "    }\n",
              "</style>\n",
              "<table border=\"1\" class=\"dataframe\">\n",
              "  <thead>\n",
              "    <tr style=\"text-align: right;\">\n",
              "      <th></th>\n",
              "      <th>Symbol</th>\n",
              "      <th>Security</th>\n",
              "      <th>GICS Sector</th>\n",
              "      <th>GICS Sub-Industry</th>\n",
              "      <th>Headquarters Location</th>\n",
              "      <th>Date added</th>\n",
              "      <th>CIK</th>\n",
              "      <th>Founded</th>\n",
              "    </tr>\n",
              "  </thead>\n",
              "  <tbody>\n",
              "    <tr>\n",
              "      <th>0</th>\n",
              "      <td>MMM</td>\n",
              "      <td>3M</td>\n",
              "      <td>Industrials</td>\n",
              "      <td>Industrial Conglomerates</td>\n",
              "      <td>Saint Paul, Minnesota</td>\n",
              "      <td>1957-03-04</td>\n",
              "      <td>66740</td>\n",
              "      <td>1902</td>\n",
              "    </tr>\n",
              "    <tr>\n",
              "      <th>1</th>\n",
              "      <td>AOS</td>\n",
              "      <td>A. O. Smith</td>\n",
              "      <td>Industrials</td>\n",
              "      <td>Building Products</td>\n",
              "      <td>Milwaukee, Wisconsin</td>\n",
              "      <td>2017-07-26</td>\n",
              "      <td>91142</td>\n",
              "      <td>1916</td>\n",
              "    </tr>\n",
              "    <tr>\n",
              "      <th>2</th>\n",
              "      <td>ABT</td>\n",
              "      <td>Abbott Laboratories</td>\n",
              "      <td>Health Care</td>\n",
              "      <td>Health Care Equipment</td>\n",
              "      <td>North Chicago, Illinois</td>\n",
              "      <td>1957-03-04</td>\n",
              "      <td>1800</td>\n",
              "      <td>1888</td>\n",
              "    </tr>\n",
              "    <tr>\n",
              "      <th>3</th>\n",
              "      <td>ABBV</td>\n",
              "      <td>AbbVie</td>\n",
              "      <td>Health Care</td>\n",
              "      <td>Biotechnology</td>\n",
              "      <td>North Chicago, Illinois</td>\n",
              "      <td>2012-12-31</td>\n",
              "      <td>1551152</td>\n",
              "      <td>2013 (1888)</td>\n",
              "    </tr>\n",
              "    <tr>\n",
              "      <th>4</th>\n",
              "      <td>ACN</td>\n",
              "      <td>Accenture</td>\n",
              "      <td>Information Technology</td>\n",
              "      <td>IT Consulting &amp; Other Services</td>\n",
              "      <td>Dublin, Ireland</td>\n",
              "      <td>2011-07-06</td>\n",
              "      <td>1467373</td>\n",
              "      <td>1989</td>\n",
              "    </tr>\n",
              "  </tbody>\n",
              "</table>\n",
              "</div>\n",
              "    <div class=\"colab-df-buttons\">\n",
              "\n",
              "  <div class=\"colab-df-container\">\n",
              "    <button class=\"colab-df-convert\" onclick=\"convertToInteractive('df-ac538e09-a1ef-4be2-a732-ca3852d798cd')\"\n",
              "            title=\"Convert this dataframe to an interactive table.\"\n",
              "            style=\"display:none;\">\n",
              "\n",
              "  <svg xmlns=\"http://www.w3.org/2000/svg\" height=\"24px\" viewBox=\"0 -960 960 960\">\n",
              "    <path d=\"M120-120v-720h720v720H120Zm60-500h600v-160H180v160Zm220 220h160v-160H400v160Zm0 220h160v-160H400v160ZM180-400h160v-160H180v160Zm440 0h160v-160H620v160ZM180-180h160v-160H180v160Zm440 0h160v-160H620v160Z\"/>\n",
              "  </svg>\n",
              "    </button>\n",
              "\n",
              "  <style>\n",
              "    .colab-df-container {\n",
              "      display:flex;\n",
              "      gap: 12px;\n",
              "    }\n",
              "\n",
              "    .colab-df-convert {\n",
              "      background-color: #E8F0FE;\n",
              "      border: none;\n",
              "      border-radius: 50%;\n",
              "      cursor: pointer;\n",
              "      display: none;\n",
              "      fill: #1967D2;\n",
              "      height: 32px;\n",
              "      padding: 0 0 0 0;\n",
              "      width: 32px;\n",
              "    }\n",
              "\n",
              "    .colab-df-convert:hover {\n",
              "      background-color: #E2EBFA;\n",
              "      box-shadow: 0px 1px 2px rgba(60, 64, 67, 0.3), 0px 1px 3px 1px rgba(60, 64, 67, 0.15);\n",
              "      fill: #174EA6;\n",
              "    }\n",
              "\n",
              "    .colab-df-buttons div {\n",
              "      margin-bottom: 4px;\n",
              "    }\n",
              "\n",
              "    [theme=dark] .colab-df-convert {\n",
              "      background-color: #3B4455;\n",
              "      fill: #D2E3FC;\n",
              "    }\n",
              "\n",
              "    [theme=dark] .colab-df-convert:hover {\n",
              "      background-color: #434B5C;\n",
              "      box-shadow: 0px 1px 3px 1px rgba(0, 0, 0, 0.15);\n",
              "      filter: drop-shadow(0px 1px 2px rgba(0, 0, 0, 0.3));\n",
              "      fill: #FFFFFF;\n",
              "    }\n",
              "  </style>\n",
              "\n",
              "    <script>\n",
              "      const buttonEl =\n",
              "        document.querySelector('#df-ac538e09-a1ef-4be2-a732-ca3852d798cd button.colab-df-convert');\n",
              "      buttonEl.style.display =\n",
              "        google.colab.kernel.accessAllowed ? 'block' : 'none';\n",
              "\n",
              "      async function convertToInteractive(key) {\n",
              "        const element = document.querySelector('#df-ac538e09-a1ef-4be2-a732-ca3852d798cd');\n",
              "        const dataTable =\n",
              "          await google.colab.kernel.invokeFunction('convertToInteractive',\n",
              "                                                    [key], {});\n",
              "        if (!dataTable) return;\n",
              "\n",
              "        const docLinkHtml = 'Like what you see? Visit the ' +\n",
              "          '<a target=\"_blank\" href=https://colab.research.google.com/notebooks/data_table.ipynb>data table notebook</a>'\n",
              "          + ' to learn more about interactive tables.';\n",
              "        element.innerHTML = '';\n",
              "        dataTable['output_type'] = 'display_data';\n",
              "        await google.colab.output.renderOutput(dataTable, element);\n",
              "        const docLink = document.createElement('div');\n",
              "        docLink.innerHTML = docLinkHtml;\n",
              "        element.appendChild(docLink);\n",
              "      }\n",
              "    </script>\n",
              "  </div>\n",
              "\n",
              "\n",
              "    <div id=\"df-876a5e9d-a2e0-4418-9889-55b1d96acb4d\">\n",
              "      <button class=\"colab-df-quickchart\" onclick=\"quickchart('df-876a5e9d-a2e0-4418-9889-55b1d96acb4d')\"\n",
              "                title=\"Suggest charts\"\n",
              "                style=\"display:none;\">\n",
              "\n",
              "<svg xmlns=\"http://www.w3.org/2000/svg\" height=\"24px\"viewBox=\"0 0 24 24\"\n",
              "     width=\"24px\">\n",
              "    <g>\n",
              "        <path d=\"M19 3H5c-1.1 0-2 .9-2 2v14c0 1.1.9 2 2 2h14c1.1 0 2-.9 2-2V5c0-1.1-.9-2-2-2zM9 17H7v-7h2v7zm4 0h-2V7h2v10zm4 0h-2v-4h2v4z\"/>\n",
              "    </g>\n",
              "</svg>\n",
              "      </button>\n",
              "\n",
              "<style>\n",
              "  .colab-df-quickchart {\n",
              "      --bg-color: #E8F0FE;\n",
              "      --fill-color: #1967D2;\n",
              "      --hover-bg-color: #E2EBFA;\n",
              "      --hover-fill-color: #174EA6;\n",
              "      --disabled-fill-color: #AAA;\n",
              "      --disabled-bg-color: #DDD;\n",
              "  }\n",
              "\n",
              "  [theme=dark] .colab-df-quickchart {\n",
              "      --bg-color: #3B4455;\n",
              "      --fill-color: #D2E3FC;\n",
              "      --hover-bg-color: #434B5C;\n",
              "      --hover-fill-color: #FFFFFF;\n",
              "      --disabled-bg-color: #3B4455;\n",
              "      --disabled-fill-color: #666;\n",
              "  }\n",
              "\n",
              "  .colab-df-quickchart {\n",
              "    background-color: var(--bg-color);\n",
              "    border: none;\n",
              "    border-radius: 50%;\n",
              "    cursor: pointer;\n",
              "    display: none;\n",
              "    fill: var(--fill-color);\n",
              "    height: 32px;\n",
              "    padding: 0;\n",
              "    width: 32px;\n",
              "  }\n",
              "\n",
              "  .colab-df-quickchart:hover {\n",
              "    background-color: var(--hover-bg-color);\n",
              "    box-shadow: 0 1px 2px rgba(60, 64, 67, 0.3), 0 1px 3px 1px rgba(60, 64, 67, 0.15);\n",
              "    fill: var(--button-hover-fill-color);\n",
              "  }\n",
              "\n",
              "  .colab-df-quickchart-complete:disabled,\n",
              "  .colab-df-quickchart-complete:disabled:hover {\n",
              "    background-color: var(--disabled-bg-color);\n",
              "    fill: var(--disabled-fill-color);\n",
              "    box-shadow: none;\n",
              "  }\n",
              "\n",
              "  .colab-df-spinner {\n",
              "    border: 2px solid var(--fill-color);\n",
              "    border-color: transparent;\n",
              "    border-bottom-color: var(--fill-color);\n",
              "    animation:\n",
              "      spin 1s steps(1) infinite;\n",
              "  }\n",
              "\n",
              "  @keyframes spin {\n",
              "    0% {\n",
              "      border-color: transparent;\n",
              "      border-bottom-color: var(--fill-color);\n",
              "      border-left-color: var(--fill-color);\n",
              "    }\n",
              "    20% {\n",
              "      border-color: transparent;\n",
              "      border-left-color: var(--fill-color);\n",
              "      border-top-color: var(--fill-color);\n",
              "    }\n",
              "    30% {\n",
              "      border-color: transparent;\n",
              "      border-left-color: var(--fill-color);\n",
              "      border-top-color: var(--fill-color);\n",
              "      border-right-color: var(--fill-color);\n",
              "    }\n",
              "    40% {\n",
              "      border-color: transparent;\n",
              "      border-right-color: var(--fill-color);\n",
              "      border-top-color: var(--fill-color);\n",
              "    }\n",
              "    60% {\n",
              "      border-color: transparent;\n",
              "      border-right-color: var(--fill-color);\n",
              "    }\n",
              "    80% {\n",
              "      border-color: transparent;\n",
              "      border-right-color: var(--fill-color);\n",
              "      border-bottom-color: var(--fill-color);\n",
              "    }\n",
              "    90% {\n",
              "      border-color: transparent;\n",
              "      border-bottom-color: var(--fill-color);\n",
              "    }\n",
              "  }\n",
              "</style>\n",
              "\n",
              "      <script>\n",
              "        async function quickchart(key) {\n",
              "          const quickchartButtonEl =\n",
              "            document.querySelector('#' + key + ' button');\n",
              "          quickchartButtonEl.disabled = true;  // To prevent multiple clicks.\n",
              "          quickchartButtonEl.classList.add('colab-df-spinner');\n",
              "          try {\n",
              "            const charts = await google.colab.kernel.invokeFunction(\n",
              "                'suggestCharts', [key], {});\n",
              "          } catch (error) {\n",
              "            console.error('Error during call to suggestCharts:', error);\n",
              "          }\n",
              "          quickchartButtonEl.classList.remove('colab-df-spinner');\n",
              "          quickchartButtonEl.classList.add('colab-df-quickchart-complete');\n",
              "        }\n",
              "        (() => {\n",
              "          let quickchartButtonEl =\n",
              "            document.querySelector('#df-876a5e9d-a2e0-4418-9889-55b1d96acb4d button');\n",
              "          quickchartButtonEl.style.display =\n",
              "            google.colab.kernel.accessAllowed ? 'block' : 'none';\n",
              "        })();\n",
              "      </script>\n",
              "    </div>\n",
              "\n",
              "    </div>\n",
              "  </div>\n"
            ],
            "application/vnd.google.colaboratory.intrinsic+json": {
              "type": "dataframe",
              "summary": "{\n  \"name\": \"display(df_tickers\",\n  \"rows\": 5,\n  \"fields\": [\n    {\n      \"column\": \"Symbol\",\n      \"properties\": {\n        \"dtype\": \"string\",\n        \"num_unique_values\": 5,\n        \"samples\": [\n          \"AOS\",\n          \"ACN\",\n          \"ABT\"\n        ],\n        \"semantic_type\": \"\",\n        \"description\": \"\"\n      }\n    },\n    {\n      \"column\": \"Security\",\n      \"properties\": {\n        \"dtype\": \"string\",\n        \"num_unique_values\": 5,\n        \"samples\": [\n          \"A. O. Smith\",\n          \"Accenture\",\n          \"Abbott Laboratories\"\n        ],\n        \"semantic_type\": \"\",\n        \"description\": \"\"\n      }\n    },\n    {\n      \"column\": \"GICS Sector\",\n      \"properties\": {\n        \"dtype\": \"string\",\n        \"num_unique_values\": 3,\n        \"samples\": [\n          \"Industrials\",\n          \"Health Care\",\n          \"Information Technology\"\n        ],\n        \"semantic_type\": \"\",\n        \"description\": \"\"\n      }\n    },\n    {\n      \"column\": \"GICS Sub-Industry\",\n      \"properties\": {\n        \"dtype\": \"string\",\n        \"num_unique_values\": 5,\n        \"samples\": [\n          \"Building Products\",\n          \"IT Consulting & Other Services\",\n          \"Health Care Equipment\"\n        ],\n        \"semantic_type\": \"\",\n        \"description\": \"\"\n      }\n    },\n    {\n      \"column\": \"Headquarters Location\",\n      \"properties\": {\n        \"dtype\": \"string\",\n        \"num_unique_values\": 4,\n        \"samples\": [\n          \"Milwaukee, Wisconsin\",\n          \"Dublin, Ireland\",\n          \"Saint Paul, Minnesota\"\n        ],\n        \"semantic_type\": \"\",\n        \"description\": \"\"\n      }\n    },\n    {\n      \"column\": \"Date added\",\n      \"properties\": {\n        \"dtype\": \"object\",\n        \"num_unique_values\": 4,\n        \"samples\": [\n          \"2017-07-26\",\n          \"2011-07-06\",\n          \"1957-03-04\"\n        ],\n        \"semantic_type\": \"\",\n        \"description\": \"\"\n      }\n    },\n    {\n      \"column\": \"CIK\",\n      \"properties\": {\n        \"dtype\": \"number\",\n        \"std\": 798720,\n        \"min\": 1800,\n        \"max\": 1551152,\n        \"num_unique_values\": 5,\n        \"samples\": [\n          91142,\n          1467373,\n          1800\n        ],\n        \"semantic_type\": \"\",\n        \"description\": \"\"\n      }\n    },\n    {\n      \"column\": \"Founded\",\n      \"properties\": {\n        \"dtype\": \"string\",\n        \"num_unique_values\": 5,\n        \"samples\": [\n          \"1916\",\n          \"1989\",\n          \"1888\"\n        ],\n        \"semantic_type\": \"\",\n        \"description\": \"\"\n      }\n    }\n  ]\n}"
            }
          },
          "metadata": {}
        }
      ],
      "source": [
        "#\n",
        "# Let's get the list of S&P 500 tickers from yfinance\n",
        "# Read and print the stock tickers that make up S&P500\n",
        "df_tickers = pd.read_html(\n",
        "    'https://en.wikipedia.org/wiki/List_of_S%26P_500_companies')[0]\n",
        "\n",
        "display(df_tickers.head())"
      ]
    },
    {
      "cell_type": "code",
      "source": [
        "#\n",
        "# Let's put the tickers on a list and address the known issue with dots in the ticker name\n",
        "ticker_list = df_tickers['Symbol'].tolist()\n",
        "ticker_list = [ticker.replace('.', '-') for ticker in ticker_list]\n",
        "print(f\"Number of Tickers Downloaded: {len(ticker_list)}\")"
      ],
      "metadata": {
        "colab": {
          "base_uri": "https://localhost:8080/"
        },
        "id": "NnmUnsgMTKed",
        "outputId": "21f1b642-e960-4b76-930e-1e0a1d9cf258"
      },
      "id": "NnmUnsgMTKed",
      "execution_count": null,
      "outputs": [
        {
          "output_type": "stream",
          "name": "stdout",
          "text": [
            "Number of Tickers Downloaded: 503\n"
          ]
        }
      ]
    },
    {
      "cell_type": "code",
      "source": [
        "#\n",
        "# Note: on Aug/7th Skydance (PSKY) adquired Paramount (PARA) causing it's ticker\n",
        "# to be remove from S&P 500. To address the inconsistencies between the newly\n",
        "# generated list of S&P500 company (post Aug-7) and the news retrieve prior\n",
        "# we will remove news entries related to Paramount from the news dataframe\n",
        "# Alternatively, we could repeat the ticker news download but since this is a long\n",
        "# running process and since it will not affect the objectives and results of this\n",
        "# exercise we chose to reuse the news in the existing dataframe\n",
        "new_SP500 = set(df_tickers['Symbol'])\n",
        "df_news = df_news[df_news['TICKER'].isin(new_SP500)]"
      ],
      "metadata": {
        "id": "aigWAXWnR5uh"
      },
      "id": "aigWAXWnR5uh",
      "execution_count": null,
      "outputs": []
    },
    {
      "cell_type": "code",
      "source": [
        "#\n",
        "# Let's build the df_meta dataframe with the following columns TICKET, COMPANY_NAME, SECTOR, INDUSTRY\n",
        "\n",
        "def get_metadata(ticker_list, delay=0.5):\n",
        "    \"\"\"\n",
        "    Get company metadata for a list of stock tickers using yfinance (no retry).\n",
        "\n",
        "    Parameters\n",
        "    ----------\n",
        "    ticker_list : list of stock ticker\n",
        "    delay : float, default=0.5\n",
        "        Delay in seconds between API calls to prevent timeouts or errors\n",
        "\n",
        "    Returns\n",
        "    -------\n",
        "    db_meta : pd.DataFrame\n",
        "        DataFrame with columns: TICKET, COMPANY_NAME, SECTOR, INDUSTRY.\n",
        "    failed : list of str\n",
        "        Tickers that failed to fetch.\n",
        "    \"\"\"\n",
        "    rows = []\n",
        "    failed = []\n",
        "\n",
        "    for idx, ticker in enumerate(ticker_list, 1):\n",
        "        clear_output(wait=True)\n",
        "        print(\"Downloading metadata from Yahoo Finance...\")\n",
        "        print(f\"Processing: {ticker} ({idx} of {len(ticker_list)})\")\n",
        "\n",
        "        try:\n",
        "            stock = yf.Ticker(ticker)\n",
        "            info = stock.get_info()\n",
        "\n",
        "            rows.append({\n",
        "                \"TICKER\": ticker,\n",
        "                \"COMPANY_NAME\": info.get('longName'),\n",
        "                \"SECTOR\": info.get('sector'),\n",
        "                \"INDUSTRY\": info.get('industry')\n",
        "            })\n",
        "\n",
        "        except Exception:\n",
        "            failed.append(ticker)\n",
        "\n",
        "        time.sleep(delay)\n",
        "\n",
        "    db_meta = pd.DataFrame(rows, columns=[\"TICKER\", \"COMPANY_NAME\", \"SECTOR\", \"INDUSTRY\"])\n",
        "    return db_meta, failed\n"
      ],
      "metadata": {
        "id": "H3kYDRcErYFt"
      },
      "id": "H3kYDRcErYFt",
      "execution_count": null,
      "outputs": []
    },
    {
      "cell_type": "code",
      "source": [
        "#\n",
        "# In case we already ran this notebook and want to reuse the dictionary created\n",
        "# during previous executions\n",
        "df_meta_pickle = 'meta.pkl'\n",
        "df_meta = None  # will store our dataframe\n",
        "\n",
        "if not os.path.isfile(df_meta_pickle):\n",
        "    # Get metadata from yfinance\n",
        "    db_meta, failed = get_metadata(ticker_list)\n",
        "\n",
        "    if failed:\n",
        "        print(f\"Tickers failed to fetch metadata: {failed}\")\n",
        "    else:\n",
        "        print(\"All tickers processed successfully!\")\n",
        "\n",
        "    # Save to pickle\n",
        "    with open(df_meta_pickle, 'wb') as f:\n",
        "        pickle.dump(db_meta, f)\n",
        "\n",
        "else:\n",
        "    print(\"Metadata already downloaded. Loading from local file...\")\n",
        "    with open(df_meta_pickle, 'rb') as f:\n",
        "        df_meta = pickle.load(f)\n"
      ],
      "metadata": {
        "colab": {
          "base_uri": "https://localhost:8080/"
        },
        "id": "FxJrrSQ5uAoE",
        "outputId": "4e4cd777-7c82-4f2e-9ffe-781aa4081440"
      },
      "id": "FxJrrSQ5uAoE",
      "execution_count": null,
      "outputs": [
        {
          "output_type": "stream",
          "name": "stdout",
          "text": [
            "Metadata already downloaded. Loading from local file...\n"
          ]
        }
      ]
    },
    {
      "cell_type": "code",
      "source": [
        "df_meta.head()"
      ],
      "metadata": {
        "colab": {
          "base_uri": "https://localhost:8080/",
          "height": 206
        },
        "id": "FuHjcU_OUtbY",
        "outputId": "744ee955-91c9-4dcc-a0e6-eb09195dc242"
      },
      "id": "FuHjcU_OUtbY",
      "execution_count": null,
      "outputs": [
        {
          "output_type": "execute_result",
          "data": {
            "text/plain": [
              "  TICKER             COMPANY_NAME       SECTOR  \\\n",
              "0    MMM               3M Company  Industrials   \n",
              "1    AOS  A. O. Smith Corporation  Industrials   \n",
              "2    ABT      Abbott Laboratories   Healthcare   \n",
              "3   ABBV              AbbVie Inc.   Healthcare   \n",
              "4    ACN            Accenture plc   Technology   \n",
              "\n",
              "                          INDUSTRY  \n",
              "0                    Conglomerates  \n",
              "1   Specialty Industrial Machinery  \n",
              "2                  Medical Devices  \n",
              "3     Drug Manufacturers - General  \n",
              "4  Information Technology Services  "
            ],
            "text/html": [
              "\n",
              "  <div id=\"df-492a974b-dc06-4375-b90d-dd6784879ddc\" class=\"colab-df-container\">\n",
              "    <div>\n",
              "<style scoped>\n",
              "    .dataframe tbody tr th:only-of-type {\n",
              "        vertical-align: middle;\n",
              "    }\n",
              "\n",
              "    .dataframe tbody tr th {\n",
              "        vertical-align: top;\n",
              "    }\n",
              "\n",
              "    .dataframe thead th {\n",
              "        text-align: right;\n",
              "    }\n",
              "</style>\n",
              "<table border=\"1\" class=\"dataframe\">\n",
              "  <thead>\n",
              "    <tr style=\"text-align: right;\">\n",
              "      <th></th>\n",
              "      <th>TICKER</th>\n",
              "      <th>COMPANY_NAME</th>\n",
              "      <th>SECTOR</th>\n",
              "      <th>INDUSTRY</th>\n",
              "    </tr>\n",
              "  </thead>\n",
              "  <tbody>\n",
              "    <tr>\n",
              "      <th>0</th>\n",
              "      <td>MMM</td>\n",
              "      <td>3M Company</td>\n",
              "      <td>Industrials</td>\n",
              "      <td>Conglomerates</td>\n",
              "    </tr>\n",
              "    <tr>\n",
              "      <th>1</th>\n",
              "      <td>AOS</td>\n",
              "      <td>A. O. Smith Corporation</td>\n",
              "      <td>Industrials</td>\n",
              "      <td>Specialty Industrial Machinery</td>\n",
              "    </tr>\n",
              "    <tr>\n",
              "      <th>2</th>\n",
              "      <td>ABT</td>\n",
              "      <td>Abbott Laboratories</td>\n",
              "      <td>Healthcare</td>\n",
              "      <td>Medical Devices</td>\n",
              "    </tr>\n",
              "    <tr>\n",
              "      <th>3</th>\n",
              "      <td>ABBV</td>\n",
              "      <td>AbbVie Inc.</td>\n",
              "      <td>Healthcare</td>\n",
              "      <td>Drug Manufacturers - General</td>\n",
              "    </tr>\n",
              "    <tr>\n",
              "      <th>4</th>\n",
              "      <td>ACN</td>\n",
              "      <td>Accenture plc</td>\n",
              "      <td>Technology</td>\n",
              "      <td>Information Technology Services</td>\n",
              "    </tr>\n",
              "  </tbody>\n",
              "</table>\n",
              "</div>\n",
              "    <div class=\"colab-df-buttons\">\n",
              "\n",
              "  <div class=\"colab-df-container\">\n",
              "    <button class=\"colab-df-convert\" onclick=\"convertToInteractive('df-492a974b-dc06-4375-b90d-dd6784879ddc')\"\n",
              "            title=\"Convert this dataframe to an interactive table.\"\n",
              "            style=\"display:none;\">\n",
              "\n",
              "  <svg xmlns=\"http://www.w3.org/2000/svg\" height=\"24px\" viewBox=\"0 -960 960 960\">\n",
              "    <path d=\"M120-120v-720h720v720H120Zm60-500h600v-160H180v160Zm220 220h160v-160H400v160Zm0 220h160v-160H400v160ZM180-400h160v-160H180v160Zm440 0h160v-160H620v160ZM180-180h160v-160H180v160Zm440 0h160v-160H620v160Z\"/>\n",
              "  </svg>\n",
              "    </button>\n",
              "\n",
              "  <style>\n",
              "    .colab-df-container {\n",
              "      display:flex;\n",
              "      gap: 12px;\n",
              "    }\n",
              "\n",
              "    .colab-df-convert {\n",
              "      background-color: #E8F0FE;\n",
              "      border: none;\n",
              "      border-radius: 50%;\n",
              "      cursor: pointer;\n",
              "      display: none;\n",
              "      fill: #1967D2;\n",
              "      height: 32px;\n",
              "      padding: 0 0 0 0;\n",
              "      width: 32px;\n",
              "    }\n",
              "\n",
              "    .colab-df-convert:hover {\n",
              "      background-color: #E2EBFA;\n",
              "      box-shadow: 0px 1px 2px rgba(60, 64, 67, 0.3), 0px 1px 3px 1px rgba(60, 64, 67, 0.15);\n",
              "      fill: #174EA6;\n",
              "    }\n",
              "\n",
              "    .colab-df-buttons div {\n",
              "      margin-bottom: 4px;\n",
              "    }\n",
              "\n",
              "    [theme=dark] .colab-df-convert {\n",
              "      background-color: #3B4455;\n",
              "      fill: #D2E3FC;\n",
              "    }\n",
              "\n",
              "    [theme=dark] .colab-df-convert:hover {\n",
              "      background-color: #434B5C;\n",
              "      box-shadow: 0px 1px 3px 1px rgba(0, 0, 0, 0.15);\n",
              "      filter: drop-shadow(0px 1px 2px rgba(0, 0, 0, 0.3));\n",
              "      fill: #FFFFFF;\n",
              "    }\n",
              "  </style>\n",
              "\n",
              "    <script>\n",
              "      const buttonEl =\n",
              "        document.querySelector('#df-492a974b-dc06-4375-b90d-dd6784879ddc button.colab-df-convert');\n",
              "      buttonEl.style.display =\n",
              "        google.colab.kernel.accessAllowed ? 'block' : 'none';\n",
              "\n",
              "      async function convertToInteractive(key) {\n",
              "        const element = document.querySelector('#df-492a974b-dc06-4375-b90d-dd6784879ddc');\n",
              "        const dataTable =\n",
              "          await google.colab.kernel.invokeFunction('convertToInteractive',\n",
              "                                                    [key], {});\n",
              "        if (!dataTable) return;\n",
              "\n",
              "        const docLinkHtml = 'Like what you see? Visit the ' +\n",
              "          '<a target=\"_blank\" href=https://colab.research.google.com/notebooks/data_table.ipynb>data table notebook</a>'\n",
              "          + ' to learn more about interactive tables.';\n",
              "        element.innerHTML = '';\n",
              "        dataTable['output_type'] = 'display_data';\n",
              "        await google.colab.output.renderOutput(dataTable, element);\n",
              "        const docLink = document.createElement('div');\n",
              "        docLink.innerHTML = docLinkHtml;\n",
              "        element.appendChild(docLink);\n",
              "      }\n",
              "    </script>\n",
              "  </div>\n",
              "\n",
              "\n",
              "    <div id=\"df-f1e64c59-8c12-4ea1-a132-fc5c52b34d16\">\n",
              "      <button class=\"colab-df-quickchart\" onclick=\"quickchart('df-f1e64c59-8c12-4ea1-a132-fc5c52b34d16')\"\n",
              "                title=\"Suggest charts\"\n",
              "                style=\"display:none;\">\n",
              "\n",
              "<svg xmlns=\"http://www.w3.org/2000/svg\" height=\"24px\"viewBox=\"0 0 24 24\"\n",
              "     width=\"24px\">\n",
              "    <g>\n",
              "        <path d=\"M19 3H5c-1.1 0-2 .9-2 2v14c0 1.1.9 2 2 2h14c1.1 0 2-.9 2-2V5c0-1.1-.9-2-2-2zM9 17H7v-7h2v7zm4 0h-2V7h2v10zm4 0h-2v-4h2v4z\"/>\n",
              "    </g>\n",
              "</svg>\n",
              "      </button>\n",
              "\n",
              "<style>\n",
              "  .colab-df-quickchart {\n",
              "      --bg-color: #E8F0FE;\n",
              "      --fill-color: #1967D2;\n",
              "      --hover-bg-color: #E2EBFA;\n",
              "      --hover-fill-color: #174EA6;\n",
              "      --disabled-fill-color: #AAA;\n",
              "      --disabled-bg-color: #DDD;\n",
              "  }\n",
              "\n",
              "  [theme=dark] .colab-df-quickchart {\n",
              "      --bg-color: #3B4455;\n",
              "      --fill-color: #D2E3FC;\n",
              "      --hover-bg-color: #434B5C;\n",
              "      --hover-fill-color: #FFFFFF;\n",
              "      --disabled-bg-color: #3B4455;\n",
              "      --disabled-fill-color: #666;\n",
              "  }\n",
              "\n",
              "  .colab-df-quickchart {\n",
              "    background-color: var(--bg-color);\n",
              "    border: none;\n",
              "    border-radius: 50%;\n",
              "    cursor: pointer;\n",
              "    display: none;\n",
              "    fill: var(--fill-color);\n",
              "    height: 32px;\n",
              "    padding: 0;\n",
              "    width: 32px;\n",
              "  }\n",
              "\n",
              "  .colab-df-quickchart:hover {\n",
              "    background-color: var(--hover-bg-color);\n",
              "    box-shadow: 0 1px 2px rgba(60, 64, 67, 0.3), 0 1px 3px 1px rgba(60, 64, 67, 0.15);\n",
              "    fill: var(--button-hover-fill-color);\n",
              "  }\n",
              "\n",
              "  .colab-df-quickchart-complete:disabled,\n",
              "  .colab-df-quickchart-complete:disabled:hover {\n",
              "    background-color: var(--disabled-bg-color);\n",
              "    fill: var(--disabled-fill-color);\n",
              "    box-shadow: none;\n",
              "  }\n",
              "\n",
              "  .colab-df-spinner {\n",
              "    border: 2px solid var(--fill-color);\n",
              "    border-color: transparent;\n",
              "    border-bottom-color: var(--fill-color);\n",
              "    animation:\n",
              "      spin 1s steps(1) infinite;\n",
              "  }\n",
              "\n",
              "  @keyframes spin {\n",
              "    0% {\n",
              "      border-color: transparent;\n",
              "      border-bottom-color: var(--fill-color);\n",
              "      border-left-color: var(--fill-color);\n",
              "    }\n",
              "    20% {\n",
              "      border-color: transparent;\n",
              "      border-left-color: var(--fill-color);\n",
              "      border-top-color: var(--fill-color);\n",
              "    }\n",
              "    30% {\n",
              "      border-color: transparent;\n",
              "      border-left-color: var(--fill-color);\n",
              "      border-top-color: var(--fill-color);\n",
              "      border-right-color: var(--fill-color);\n",
              "    }\n",
              "    40% {\n",
              "      border-color: transparent;\n",
              "      border-right-color: var(--fill-color);\n",
              "      border-top-color: var(--fill-color);\n",
              "    }\n",
              "    60% {\n",
              "      border-color: transparent;\n",
              "      border-right-color: var(--fill-color);\n",
              "    }\n",
              "    80% {\n",
              "      border-color: transparent;\n",
              "      border-right-color: var(--fill-color);\n",
              "      border-bottom-color: var(--fill-color);\n",
              "    }\n",
              "    90% {\n",
              "      border-color: transparent;\n",
              "      border-bottom-color: var(--fill-color);\n",
              "    }\n",
              "  }\n",
              "</style>\n",
              "\n",
              "      <script>\n",
              "        async function quickchart(key) {\n",
              "          const quickchartButtonEl =\n",
              "            document.querySelector('#' + key + ' button');\n",
              "          quickchartButtonEl.disabled = true;  // To prevent multiple clicks.\n",
              "          quickchartButtonEl.classList.add('colab-df-spinner');\n",
              "          try {\n",
              "            const charts = await google.colab.kernel.invokeFunction(\n",
              "                'suggestCharts', [key], {});\n",
              "          } catch (error) {\n",
              "            console.error('Error during call to suggestCharts:', error);\n",
              "          }\n",
              "          quickchartButtonEl.classList.remove('colab-df-spinner');\n",
              "          quickchartButtonEl.classList.add('colab-df-quickchart-complete');\n",
              "        }\n",
              "        (() => {\n",
              "          let quickchartButtonEl =\n",
              "            document.querySelector('#df-f1e64c59-8c12-4ea1-a132-fc5c52b34d16 button');\n",
              "          quickchartButtonEl.style.display =\n",
              "            google.colab.kernel.accessAllowed ? 'block' : 'none';\n",
              "        })();\n",
              "      </script>\n",
              "    </div>\n",
              "\n",
              "    </div>\n",
              "  </div>\n"
            ],
            "application/vnd.google.colaboratory.intrinsic+json": {
              "type": "dataframe",
              "variable_name": "df_meta",
              "summary": "{\n  \"name\": \"df_meta\",\n  \"rows\": 502,\n  \"fields\": [\n    {\n      \"column\": \"TICKER\",\n      \"properties\": {\n        \"dtype\": \"string\",\n        \"num_unique_values\": 502,\n        \"samples\": [\n          \"KVUE\",\n          \"BRO\",\n          \"LYV\"\n        ],\n        \"semantic_type\": \"\",\n        \"description\": \"\"\n      }\n    },\n    {\n      \"column\": \"COMPANY_NAME\",\n      \"properties\": {\n        \"dtype\": \"string\",\n        \"num_unique_values\": 499,\n        \"samples\": [\n          \"Universal Health Services, Inc.\",\n          \"Brown-Forman Corporation\",\n          \"Honeywell International Inc.\"\n        ],\n        \"semantic_type\": \"\",\n        \"description\": \"\"\n      }\n    },\n    {\n      \"column\": \"SECTOR\",\n      \"properties\": {\n        \"dtype\": \"category\",\n        \"num_unique_values\": 11,\n        \"samples\": [\n          \"Basic Materials\",\n          \"Industrials\",\n          \"Consumer Defensive\"\n        ],\n        \"semantic_type\": \"\",\n        \"description\": \"\"\n      }\n    },\n    {\n      \"column\": \"INDUSTRY\",\n      \"properties\": {\n        \"dtype\": \"category\",\n        \"num_unique_values\": 114,\n        \"samples\": [\n          \"Scientific & Technical Instruments\",\n          \"Information Technology Services\",\n          \"Banks - Diversified\"\n        ],\n        \"semantic_type\": \"\",\n        \"description\": \"\"\n      }\n    }\n  ]\n}"
            }
          },
          "metadata": {},
          "execution_count": 24
        }
      ]
    },
    {
      "cell_type": "markdown",
      "id": "f1cb5429",
      "metadata": {
        "id": "f1cb5429"
      },
      "source": [
        "## Retrieval-Augmented Generation (RAG): Retrieve Documents and Generate Answers\n",
        "\n",
        "👉 **Instructions**:\n",
        "\n",
        "In this part of the assignment, your task is to build a simple Retrieval-Augmented Generation (RAG) pipeline that:\n",
        "\n",
        "- Takes a user question as input.\n",
        "- Searches the FAISS vector store to find a set of relevant financial news articles based on semantic similarity.\n",
        "- Uses the retrieved news articles as context to generate a clear, concise answer to the question by interacting with the OpenAI language model.\n",
        "- Returns both the generated answer and the underlying news snippets used for context.\n",
        "\n",
        "### What you need to focus on:\n",
        "\n",
        "- Implement a retrieval mechanism to query your vector store and obtain the top relevant documents for any question.\n",
        "- Construct prompts that effectively combine retrieved news content with the user’s question to guide the language model’s response.\n",
        "- Use the OpenAI API to generate answers grounded in the retrieved context.\n",
        "- Organize the outputs so that for each question, you have:\n",
        "  - The generated answer.\n",
        "  - The collection of news excerpts used to produce that answer.\n",
        "\n",
        "### What you will be provided:\n",
        "\n",
        "- Helper functions to display outputs in markdown format.\n",
        "- Lists of example questions covering topics, companies, and industries to test your implementation.\n",
        "\n",
        "---\n",
        "\n",
        "Your solution can take any form or structure you find appropriate, as long as it fulfills these core objectives. This exercise will give you hands-on experience with integrating retrieval and generation for practical applications in finance.\n"
      ]
    },
    {
      "cell_type": "markdown",
      "id": "aa99a272",
      "metadata": {
        "id": "aa99a272"
      },
      "source": [
        "#### Print markdown\n",
        "You can use the following function to print answers from GPT4o-mini in markdown."
      ]
    },
    {
      "cell_type": "code",
      "execution_count": null,
      "id": "9165af0a",
      "metadata": {
        "id": "9165af0a"
      },
      "outputs": [],
      "source": [
        "from IPython.display import Markdown, display\n",
        "\n",
        "def print_markdown(text):\n",
        "    display(Markdown(text))"
      ]
    },
    {
      "cell_type": "markdown",
      "id": "9b4f82b9",
      "metadata": {
        "id": "9b4f82b9"
      },
      "source": [
        "#### Predefined questions"
      ]
    },
    {
      "cell_type": "code",
      "execution_count": null,
      "id": "3f4b75dd",
      "metadata": {
        "id": "3f4b75dd"
      },
      "outputs": [],
      "source": [
        "questions_topic = [\n",
        "\"What are the major concerns expressed in financial news about inflation?\",\n",
        "\"How is investor sentiment described in recent financial headlines?\",\n",
        "\"What role is artificial intelligence playing in recent finance-related news stories?\"\n",
        "]\n",
        "\n",
        "questions_company = [\n",
        "\"How is Microsoft being portrayed in news stories about artificial intelligence?\",\n",
        "\"What financial news headlines connect Amazon with automation or logistics?\"\n",
        "]\n",
        "\n",
        "questions_industry = [\n",
        "\"What are the main themes emerging in financial news about the semiconductor industry?\",\n",
        "\"What trends are being reported in the retail industry?\",\n",
        "\"What risks or challenges are discussed in recent news about the energy industry?\"\n",
        "]"
      ]
    },
    {
      "cell_type": "code",
      "source": [
        "def _val(meta, *keys, default=\"\"):\n",
        "    \"\"\"\n",
        "    Return the first non-None value from meta for any of the given keys, else default.\n",
        "    \"\"\"\n",
        "    for k in keys:\n",
        "        if isinstance(meta, dict) and k in meta and meta[k] is not None:\n",
        "            return meta[k]\n",
        "    return default\n",
        "\n",
        "\n",
        "def _days_since(dstr):\n",
        "    \"\"\"\n",
        "    Return days elapsed since ISO date string dstr, or 9999 on error\n",
        "    \"\"\"\n",
        "    try:\n",
        "        return (datetime.utcnow().date() - datetime.fromisoformat(str(dstr)).date()).days\n",
        "    except Exception:\n",
        "        return 9999\n",
        "\n",
        "\n",
        "def retrieve(question, store, k=3, overfetch=None):\n",
        "    \"\"\"\n",
        "    Search store for question, dedupe, rerank by similarity and recency, and\n",
        "    return top k results with metadata.\n",
        "    \"\"\"\n",
        "    K = overfetch or max(12, k*3)\n",
        "    hits = store.search(question, k=K)\n",
        "\n",
        "    seen, rows = set(), []\n",
        "    for doc, meta, sim in hits:\n",
        "        title = _val(meta, \"title\", \"TITLE\")\n",
        "        date  = _val(meta, \"date\", \"PUBLICATION_DATE\")\n",
        "        key = (title.strip(), str(date).strip()) if title or date else (\n",
        "            _val(meta, \"row_idx\", \"ROW_IDX\", default=None),\n",
        "            _val(meta, \"url\", \"URL\", default=None)\n",
        "        )\n",
        "        if key in seen:\n",
        "            continue\n",
        "        seen.add(key)\n",
        "        rows.append((doc, meta, float(sim)))\n",
        "\n",
        "    scored = []\n",
        "    for doc, meta, sim in rows:\n",
        "        date = _val(meta, \"date\", \"PUBLICATION_DATE\")\n",
        "        days = _days_since(date)\n",
        "        rec  = max(0.0, 1.0 - min(days, 365)/365.0)\n",
        "        final = 0.85*sim + 0.15*rec\n",
        "        scored.append((final, doc, meta, sim))\n",
        "    scored.sort(reverse=True, key=lambda x: x[0])\n",
        "\n",
        "    contexts = []\n",
        "    for final, doc, meta, sim in scored[:k]:\n",
        "        contexts.append({\n",
        "            \"title\":    _val(meta, \"title\", \"TITLE\"),\n",
        "            \"date\":     _val(meta, \"date\", \"PUBLICATION_DATE\"),\n",
        "            \"source\":   _val(meta, \"source\", \"PROVIDER\", default=\"news\"),\n",
        "            \"ticker\":   _val(meta, \"ticker\", \"TICKER\", \"TICKER_NORM\"),\n",
        "            \"company\":  _val(meta, \"company\", \"COMPANY_NAME\"),\n",
        "            \"sector\":   _val(meta, \"sector\", \"SECTOR\"),\n",
        "            \"industry\": _val(meta, \"industry\", \"INDUSTRY\"),\n",
        "            \"url\":      _val(meta, \"url\", \"URL\", default=None),\n",
        "            \"full\":     doc,\n",
        "            \"score\":    float(final),\n",
        "        })\n",
        "    return contexts\n"
      ],
      "metadata": {
        "id": "l2BhTTn08p55"
      },
      "id": "l2BhTTn08p55",
      "execution_count": null,
      "outputs": []
    },
    {
      "cell_type": "code",
      "source": [
        "def custom_prompt(question, contexts):\n",
        "    \"\"\"\n",
        "    Format contexts and question into system and user messages for a financial\n",
        "    news analysis prompt.\n",
        "    \"\"\"\n",
        "    # Build context lines\n",
        "    ctx_lines = []\n",
        "    for i, c in enumerate(contexts, start=1):\n",
        "        ticker   = c.get(\"ticker\", \"\")\n",
        "        company  = c.get(\"company\", \"\")\n",
        "        sector   = c.get(\"sector\", \"\")\n",
        "        industry = c.get(\"industry\", \"\")\n",
        "        score    = c.get(\"score\", 0.0)\n",
        "\n",
        "        # Use full text as snippet\n",
        "        snippet = (c.get(\"full\") or \"\").strip()\n",
        "\n",
        "        label = \" - \".join(x for x in [ticker, company] if x)\n",
        "        meta  = \", \".join(x for x in [sector, industry] if x)\n",
        "\n",
        "        ctx_lines.append(f\"[{i}] {label} ({meta}) — score {score:.3f}\\n{snippet}\")\n",
        "\n",
        "    context_block = \"\\n\\n\".join(ctx_lines) if ctx_lines else \"(no context retrieved)\"\n",
        "\n",
        "    system_msg = (\n",
        "        \"You are a financial news analyst. Respond strictly using only the provided \"\n",
        "        \"context. Summaries must be concise, in 4–7 well-structured sentences, focusing \"\n",
        "        \"on facts, key figures, and trends. If the context lacks the necessary information, \"\n",
        "        \"state this explicitly without speculating. Avoid repetition, personal opinions, \"\n",
        "        \"or unsupported claims. Maintain a neutral, professional financial tone at all times.\"\n",
        "    )\n",
        "\n",
        "    user_msg = (\n",
        "        f\"Context:\\n{context_block}\\n\\n\"\n",
        "        f\"Question: {question}\\n\"\n",
        "        \"Instructions: Provide a grounded answer.\"\n",
        "    )\n",
        "    return system_msg, user_msg\n",
        "\n"
      ],
      "metadata": {
        "id": "QXjxMQtlsZ9x"
      },
      "id": "QXjxMQtlsZ9x",
      "execution_count": null,
      "outputs": []
    },
    {
      "cell_type": "code",
      "source": [
        "def show_result(question, contexts, answer):\n",
        "    \"\"\"\n",
        "    Display the question, answer, and supporting contexts in formatted markdown.\n",
        "    \"\"\"\n",
        "    print_markdown(f\"###Question:\\n{question}\")\n",
        "    print_markdown(f\"###Answer:\\n{answer}\")\n",
        "    print_markdown(f\"###Context used:\\n\")\n",
        "    for c in contexts:\n",
        "        label = f\"{c['ticker']} - {c['company']}\"\n",
        "        meta_line = f\"{c['sector']}, {c['industry']}\"\n",
        "        snippet = c['full']\n",
        "        print_markdown(f\"####{label} ({meta_line}) — score {c['score']:.3f}\\n\\n\")\n",
        "        print_markdown(f\"   {snippet}\\n\")\n",
        "\n"
      ],
      "metadata": {
        "id": "PPK9zXevsoGL"
      },
      "id": "PPK9zXevsoGL",
      "execution_count": null,
      "outputs": []
    },
    {
      "cell_type": "code",
      "source": [
        "def generate_answer(\n",
        "    question,\n",
        "    contexts,\n",
        "    *,\n",
        "    openai_model=\"gpt-4o-mini\",\n",
        "    temperature=0.2,\n",
        "    max_tokens=350,\n",
        "):\n",
        "    \"\"\"\n",
        "    Generate a grounded answer to a question using provided contexts via an OpenAI model.\n",
        "    \"\"\"\n",
        "    sys_msg, usr_msg = custom_prompt(question, contexts)\n",
        "\n",
        "    resp = client.responses.create(\n",
        "        model=openai_model,\n",
        "        temperature=temperature,\n",
        "        max_output_tokens=max_tokens,\n",
        "        input=[\n",
        "            {\"role\": \"system\", \"content\": [{\"type\": \"input_text\", \"text\": sys_msg}]},\n",
        "            {\"role\": \"user\",   \"content\": [{\"type\": \"input_text\", \"text\": usr_msg}]},\n",
        "        ],\n",
        "    )\n",
        "    return resp.output_text.strip()"
      ],
      "metadata": {
        "id": "QamgQTwwy0Dk"
      },
      "id": "QamgQTwwy0Dk",
      "execution_count": null,
      "outputs": []
    },
    {
      "cell_type": "code",
      "source": [
        "def rag(question, faiss_store, k=8):\n",
        "    \"\"\"\n",
        "    Executes RAG pipeline: retrieve context, generate answer, and display results.\n",
        "    \"\"\"\n",
        "    ctx = retrieve(question, faiss_store, k=k)\n",
        "    ans = generate_answer(question, ctx)\n",
        "    show_result(question, ctx, ans)"
      ],
      "metadata": {
        "id": "7WZiMCt_sqD5"
      },
      "id": "7WZiMCt_sqD5",
      "execution_count": null,
      "outputs": []
    },
    {
      "cell_type": "code",
      "source": [
        "#\n",
        "# Questions Topic\n",
        "print_markdown(\"#Topic\")\n",
        "for q in questions_topic:\n",
        "    rag(q, faiss_store, k=K)"
      ],
      "metadata": {
        "colab": {
          "base_uri": "https://localhost:8080/",
          "height": 1000
        },
        "id": "sh854r2nssuO",
        "outputId": "49fed2df-c37c-4630-927d-53b6eab66abe"
      },
      "id": "sh854r2nssuO",
      "execution_count": null,
      "outputs": [
        {
          "output_type": "display_data",
          "data": {
            "text/plain": [
              "<IPython.core.display.Markdown object>"
            ],
            "text/markdown": "#Topic"
          },
          "metadata": {}
        },
        {
          "output_type": "display_data",
          "data": {
            "text/plain": [
              "<IPython.core.display.Markdown object>"
            ],
            "text/markdown": "###Question:\nWhat are the major concerns expressed in financial news about inflation?"
          },
          "metadata": {}
        },
        {
          "output_type": "display_data",
          "data": {
            "text/plain": [
              "<IPython.core.display.Markdown object>"
            ],
            "text/markdown": "###Answer:\nFinancial news highlights significant concerns regarding persistent U.S. inflation and its potential impact on economic growth. The Federal Reserve's recent minutes indicate rising worries about inflation risks, suggesting that these concerns could lead to a slowdown in economic activity. Additionally, food inflation is dampening expectations for interest rate cuts, as ongoing tariff issues contribute to economic uncertainty. Overall, the macroeconomic outlook remains cautious, with analysts adjusting earnings expectations downward due to these inflationary pressures."
          },
          "metadata": {}
        },
        {
          "output_type": "display_data",
          "data": {
            "text/plain": [
              "<IPython.core.display.Markdown object>"
            ],
            "text/markdown": "###Context used:\n"
          },
          "metadata": {}
        },
        {
          "output_type": "display_data",
          "data": {
            "text/plain": [
              "<IPython.core.display.Markdown object>"
            ],
            "text/markdown": "####BLK -  (, ) — score 0.610\n\n"
          },
          "metadata": {}
        },
        {
          "output_type": "display_data",
          "data": {
            "text/plain": [
              "<IPython.core.display.Markdown object>"
            ],
            "text/markdown": "   Bitcoin price slips as Fed minutes flag US inflation risks : The Federal Reserve’s May policy meeting revealed mounting concern over persistent US inflation and the potential for economic slowdown.\n"
          },
          "metadata": {}
        },
        {
          "output_type": "display_data",
          "data": {
            "text/plain": [
              "<IPython.core.display.Markdown object>"
            ],
            "text/markdown": "####TSLA -  (, ) — score 0.538\n\n"
          },
          "metadata": {}
        },
        {
          "output_type": "display_data",
          "data": {
            "text/plain": [
              "<IPython.core.display.Markdown object>"
            ],
            "text/markdown": "   The Weekend: Food inflation dampens hopes of a rate cut as tariff twists and turns continue : Key moments from the last seven days, plus a glimpse at the week ahead\n"
          },
          "metadata": {}
        },
        {
          "output_type": "display_data",
          "data": {
            "text/plain": [
              "<IPython.core.display.Markdown object>"
            ],
            "text/markdown": "####BSX -  (, ) — score 0.505\n\n"
          },
          "metadata": {}
        },
        {
          "output_type": "display_data",
          "data": {
            "text/plain": [
              "<IPython.core.display.Markdown object>"
            ],
            "text/markdown": "   We Like These Underlying Return On Capital Trends At Boston Scientific (NYSE:BSX) : What trends should we look for it we want to identify stocks that can multiply in value over the long term? One common...\n"
          },
          "metadata": {}
        },
        {
          "output_type": "display_data",
          "data": {
            "text/plain": [
              "<IPython.core.display.Markdown object>"
            ],
            "text/markdown": "####KMX -  (, ) — score 0.503\n\n"
          },
          "metadata": {}
        },
        {
          "output_type": "display_data",
          "data": {
            "text/plain": [
              "<IPython.core.display.Markdown object>"
            ],
            "text/markdown": "   3 of Wall Street’s Favorite Stocks Facing Headwinds : Wall Street has set ambitious price targets for the stocks in this article. While this suggests attractive upside potential, it’s important to remain skeptical because analysts face institutional pressures that can sometimes lead to overly optimistic forecasts.\n"
          },
          "metadata": {}
        },
        {
          "output_type": "display_data",
          "data": {
            "text/plain": [
              "<IPython.core.display.Markdown object>"
            ],
            "text/markdown": "####LUV -  (, ) — score 0.502\n\n"
          },
          "metadata": {}
        },
        {
          "output_type": "display_data",
          "data": {
            "text/plain": [
              "<IPython.core.display.Markdown object>"
            ],
            "text/markdown": "   Stocks Behave Like Tariff Threat Is Over. Dollar and Bonds Say Otherwise. : Salesforce wades back into dealmaking, Southwest drops free checked bags, Trump Media to buy Bitcoin, and more news to start your day.\n"
          },
          "metadata": {}
        },
        {
          "output_type": "display_data",
          "data": {
            "text/plain": [
              "<IPython.core.display.Markdown object>"
            ],
            "text/markdown": "####RMD -  (, ) — score 0.498\n\n"
          },
          "metadata": {}
        },
        {
          "output_type": "display_data",
          "data": {
            "text/plain": [
              "<IPython.core.display.Markdown object>"
            ],
            "text/markdown": "   1 Surging  Stock with Exciting Potential and 2 to Avoid : Exciting developments are taking place for the stocks in this article. They’ve all surged ahead of the broader market over the last month as catalysts such as new products and positive media coverage have propelled their returns.\n"
          },
          "metadata": {}
        },
        {
          "output_type": "display_data",
          "data": {
            "text/plain": [
              "<IPython.core.display.Markdown object>"
            ],
            "text/markdown": "####GLW -  (, ) — score 0.490\n\n"
          },
          "metadata": {}
        },
        {
          "output_type": "display_data",
          "data": {
            "text/plain": [
              "<IPython.core.display.Markdown object>"
            ],
            "text/markdown": "   1 Unpopular Stock that Deserves a Second Chance and 2 to Ignore : Wall Street’s bearish price targets for the stocks in this article signal serious concerns. Such forecasts are uncommon in an industry where maintaining cordial corporate relationships often trumps delivering the hard truth.\n"
          },
          "metadata": {}
        },
        {
          "output_type": "display_data",
          "data": {
            "text/plain": [
              "<IPython.core.display.Markdown object>"
            ],
            "text/markdown": "####AES -  (, ) — score 0.481\n\n"
          },
          "metadata": {}
        },
        {
          "output_type": "display_data",
          "data": {
            "text/plain": [
              "<IPython.core.display.Markdown object>"
            ],
            "text/markdown": "   Home Depot backs outlook as U.S. sales ticked up: Morning Buzz : Stocks are lower at midday, putting in jeopardy the six-day winning streak for the S&P 500. Federal Reserve officials’ commentary is anticipated to provide insights into the central bank’s outlook on inflation and interest rates, while markets continue digesting the implications of Moody’s recent downgrade of the U.S. sovereign credit rating, which has heightened concerns about the nation’s fiscal health as lawmakers debate President Trump’s “big, beautiful” tax bill. Looking ahead, investors ar\n"
          },
          "metadata": {}
        },
        {
          "output_type": "display_data",
          "data": {
            "text/plain": [
              "<IPython.core.display.Markdown object>"
            ],
            "text/markdown": "####MKC -  (, ) — score 0.479\n\n"
          },
          "metadata": {}
        },
        {
          "output_type": "display_data",
          "data": {
            "text/plain": [
              "<IPython.core.display.Markdown object>"
            ],
            "text/markdown": "   3 Hated Stocks with Questionable Fundamentals : Wall Street’s bearish price targets for the stocks in this article signal serious concerns. Such forecasts are uncommon in an industry where maintaining cordial corporate relationships often trumps delivering the hard truth.\n"
          },
          "metadata": {}
        },
        {
          "output_type": "display_data",
          "data": {
            "text/plain": [
              "<IPython.core.display.Markdown object>"
            ],
            "text/markdown": "####EXPE -  (, ) — score 0.470\n\n"
          },
          "metadata": {}
        },
        {
          "output_type": "display_data",
          "data": {
            "text/plain": [
              "<IPython.core.display.Markdown object>"
            ],
            "text/markdown": "   Grim Economic Outlook Overtakes Solid Earnings as Tariff Disruptions Surface : (Bloomberg) -- One thing is clear as the first-quarter earnings season draws to a close: The uncertain outlook for the global economy is superseding better-than-feared results even as stocks rally on signs of easing trade tensions.Most Read from BloombergAs Coastline Erodes, One California City Considers ‘Retreat Now’How a Highway Became San Francisco’s Newest ParkMaryland’s Credit Rating Gets Downgraded as Governor Blames Trump America, ‘Nation of Porches’Power-Hungry Data Centers Are Warming H\n"
          },
          "metadata": {}
        },
        {
          "output_type": "display_data",
          "data": {
            "text/plain": [
              "<IPython.core.display.Markdown object>"
            ],
            "text/markdown": "####IT -  (, ) — score 0.468\n\n"
          },
          "metadata": {}
        },
        {
          "output_type": "display_data",
          "data": {
            "text/plain": [
              "<IPython.core.display.Markdown object>"
            ],
            "text/markdown": "   Gartner (NYSE:IT) Is Investing Its Capital With Increasing Efficiency : What trends should we look for it we want to identify stocks that can multiply in value over the long term? Amongst...\n"
          },
          "metadata": {}
        },
        {
          "output_type": "display_data",
          "data": {
            "text/plain": [
              "<IPython.core.display.Markdown object>"
            ],
            "text/markdown": "####CBRE -  (, ) — score 0.468\n\n"
          },
          "metadata": {}
        },
        {
          "output_type": "display_data",
          "data": {
            "text/plain": [
              "<IPython.core.display.Markdown object>"
            ],
            "text/markdown": "   1 Consumer Stock for Long-Term Investors and 2 to Brush Off : The performance of consumer discretionary businesses is closely linked to economic cycles. This sensitive demand profile can cause discretionary stocks to plummet when macro uncertainty enters the fray, and over the past six months, the industry has shed 12.7%. This drawdown was worse than the S&P 500’s 6.2% loss.\n"
          },
          "metadata": {}
        },
        {
          "output_type": "display_data",
          "data": {
            "text/plain": [
              "<IPython.core.display.Markdown object>"
            ],
            "text/markdown": "####AOS -  (, ) — score 0.465\n\n"
          },
          "metadata": {}
        },
        {
          "output_type": "display_data",
          "data": {
            "text/plain": [
              "<IPython.core.display.Markdown object>"
            ],
            "text/markdown": "   Earnings Expectations Shift Lower: A Closer Look : Uncertainty about the overall macroeconomic picture continues to be a significant drag on the earnings outlook as a whole, prompting analysts to cut their estimates for the current and coming periods.\n"
          },
          "metadata": {}
        },
        {
          "output_type": "display_data",
          "data": {
            "text/plain": [
              "<IPython.core.display.Markdown object>"
            ],
            "text/markdown": "####PKG -  (, ) — score 0.463\n\n"
          },
          "metadata": {}
        },
        {
          "output_type": "display_data",
          "data": {
            "text/plain": [
              "<IPython.core.display.Markdown object>"
            ],
            "text/markdown": "   Packaging Corporation of America (NYSE:PKG) Hasn't Managed To Accelerate Its Returns : What trends should we look for it we want to identify stocks that can multiply in value over the long term? Amongst...\n"
          },
          "metadata": {}
        },
        {
          "output_type": "display_data",
          "data": {
            "text/plain": [
              "<IPython.core.display.Markdown object>"
            ],
            "text/markdown": "####ETR -  (, ) — score 0.463\n\n"
          },
          "metadata": {}
        },
        {
          "output_type": "display_data",
          "data": {
            "text/plain": [
              "<IPython.core.display.Markdown object>"
            ],
            "text/markdown": "   The Return Trends At Entergy (NYSE:ETR) Look Promising : What trends should we look for it we want to identify stocks that can multiply in value over the long term? One common...\n"
          },
          "metadata": {}
        },
        {
          "output_type": "display_data",
          "data": {
            "text/plain": [
              "<IPython.core.display.Markdown object>"
            ],
            "text/markdown": "####HAS -  (, ) — score 0.460\n\n"
          },
          "metadata": {}
        },
        {
          "output_type": "display_data",
          "data": {
            "text/plain": [
              "<IPython.core.display.Markdown object>"
            ],
            "text/markdown": "   3 Consumer Stocks Playing with Fire : The performance of consumer discretionary businesses is closely linked to economic cycles. This sensitive demand profile can cause discretionary stocks to plummet when macro uncertainty enters the fray, and over the past six months, the industry has shed 5.8%. This performance was worse than the S&P 500’s 1% fall.\n"
          },
          "metadata": {}
        },
        {
          "output_type": "display_data",
          "data": {
            "text/plain": [
              "<IPython.core.display.Markdown object>"
            ],
            "text/markdown": "####MCHP -  (, ) — score 0.455\n\n"
          },
          "metadata": {}
        },
        {
          "output_type": "display_data",
          "data": {
            "text/plain": [
              "<IPython.core.display.Markdown object>"
            ],
            "text/markdown": "   3 Hyped Up  Stocks Facing Headwinds : Great things are happening to the stocks in this article. They’re all outperforming the market over the last month because of positive catalysts such as a new product line, constructive news flow, or even a loyal Reddit fanbase.\n"
          },
          "metadata": {}
        },
        {
          "output_type": "display_data",
          "data": {
            "text/plain": [
              "<IPython.core.display.Markdown object>"
            ],
            "text/markdown": "####CBRE -  (, ) — score 0.453\n\n"
          },
          "metadata": {}
        },
        {
          "output_type": "display_data",
          "data": {
            "text/plain": [
              "<IPython.core.display.Markdown object>"
            ],
            "text/markdown": "   International Markets and CBRE (CBRE): A Deep Dive for Investors : Examine the evolution of CBRE's (CBRE) overseas revenue trends and their effects on Wall Street's forecasts and the stock's prospects.\n"
          },
          "metadata": {}
        },
        {
          "output_type": "display_data",
          "data": {
            "text/plain": [
              "<IPython.core.display.Markdown object>"
            ],
            "text/markdown": "####OTIS -  (, ) — score 0.450\n\n"
          },
          "metadata": {}
        },
        {
          "output_type": "display_data",
          "data": {
            "text/plain": [
              "<IPython.core.display.Markdown object>"
            ],
            "text/markdown": "   1 Hated Stock that Deserves a Second Chance and 2 to Avoid : Wall Street’s bearish price targets for the stocks in this article signal serious concerns. Such forecasts are uncommon in an industry where maintaining cordial corporate relationships often trumps delivering the hard truth.\n"
          },
          "metadata": {}
        },
        {
          "output_type": "display_data",
          "data": {
            "text/plain": [
              "<IPython.core.display.Markdown object>"
            ],
            "text/markdown": "####STE -  (, ) — score 0.449\n\n"
          },
          "metadata": {}
        },
        {
          "output_type": "display_data",
          "data": {
            "text/plain": [
              "<IPython.core.display.Markdown object>"
            ],
            "text/markdown": "   Deciphering Steris (STE) International Revenue Trends : Examine Steris' (STE) international revenue patterns and their implications on Wall Street's forecasts and the prospective trajectory of the stock.\n"
          },
          "metadata": {}
        },
        {
          "output_type": "display_data",
          "data": {
            "text/plain": [
              "<IPython.core.display.Markdown object>"
            ],
            "text/markdown": "####CPAY -  (, ) — score 0.449\n\n"
          },
          "metadata": {}
        },
        {
          "output_type": "display_data",
          "data": {
            "text/plain": [
              "<IPython.core.display.Markdown object>"
            ],
            "text/markdown": "   Value Opportunities: Stocks Estimated Below Intrinsic Worth For May 2025 : The United States market has experienced a notable upswing, rising 4.5% over the last week and showing an 11% increase over the past year, with earnings projected to grow by 14% annually. In such a climate, identifying stocks that are estimated to be below their intrinsic worth can present valuable opportunities for investors seeking to capitalize on potential growth while maintaining a focus on value.\n"
          },
          "metadata": {}
        },
        {
          "output_type": "display_data",
          "data": {
            "text/plain": [
              "<IPython.core.display.Markdown object>"
            ],
            "text/markdown": "####IVZ -  (, ) — score 0.448\n\n"
          },
          "metadata": {}
        },
        {
          "output_type": "display_data",
          "data": {
            "text/plain": [
              "<IPython.core.display.Markdown object>"
            ],
            "text/markdown": "   Stocks Fall After Historic Run as Trade Risks Loom: Markets Wrap : (Bloomberg) -- A historic stock-market run came to a halt as President Donald Trump’s latest tariff remarks provided little relief to investors bracing for the impacts of his trade war on the economy and corporate earnings.Most Read from BloombergThe Battle Over the Fate of Detroit’s Renaissance CenterNYC Real Estate Industry Asks Judge to Block New Broker Fee LawNJ Transit Strike Would Be ‘Disaster’ for Region, Sherrill SaysIceland Plans for a More Volcanic FutureVail to Borrow Muni Debt to Eas\n"
          },
          "metadata": {}
        },
        {
          "output_type": "display_data",
          "data": {
            "text/plain": [
              "<IPython.core.display.Markdown object>"
            ],
            "text/markdown": "####AWK -  (, ) — score 0.438\n\n"
          },
          "metadata": {}
        },
        {
          "output_type": "display_data",
          "data": {
            "text/plain": [
              "<IPython.core.display.Markdown object>"
            ],
            "text/markdown": "   Fed Leaves Interest Rates Unchanged: 4 Low-Beta Utility Stocks to Buy : Markets are likely to remain volatile. Utility stocks, which are considered defensive, such as AES, DTE, ATO and AWK are safe bets.\n"
          },
          "metadata": {}
        },
        {
          "output_type": "display_data",
          "data": {
            "text/plain": [
              "<IPython.core.display.Markdown object>"
            ],
            "text/markdown": "####SW -  (, ) — score 0.422\n\n"
          },
          "metadata": {}
        },
        {
          "output_type": "display_data",
          "data": {
            "text/plain": [
              "<IPython.core.display.Markdown object>"
            ],
            "text/markdown": "   3 Stocks That May Be Trading Below Estimated Value In March 2025 : As the U.S. stock market navigates a period of mixed performance, with major indices like the Dow Jones and S&P 500 experiencing fluctuations amid economic uncertainties and tariff concerns, investors are keenly observing potential opportunities that may arise from these volatile conditions. In this environment, identifying stocks that are trading below their estimated value can be crucial for those looking to capitalize on potential market inefficiencies while considering factors such as...\n"
          },
          "metadata": {}
        },
        {
          "output_type": "display_data",
          "data": {
            "text/plain": [
              "<IPython.core.display.Markdown object>"
            ],
            "text/markdown": "###Question:\nHow is investor sentiment described in recent financial headlines?"
          },
          "metadata": {}
        },
        {
          "output_type": "display_data",
          "data": {
            "text/plain": [
              "<IPython.core.display.Markdown object>"
            ],
            "text/markdown": "###Answer:\nRecent financial headlines indicate a mixed investor sentiment. While some stocks are experiencing bullish forecasts with significant upside potential, as seen in articles discussing Wall Street favorites, there is also a notable caution due to headwinds and bearish ratings on other stocks. Analysts are often hesitant to issue sell ratings, reflecting a tendency to maintain positive corporate relationships, which can lead to overly optimistic forecasts. Additionally, concerns about economic outlooks and market volatility are influencing investor confidence, as seen in reports highlighting disappointing earnings and uncertain market conditions. Overall, the sentiment appears to be cautious, balancing optimism for certain stocks against broader economic concerns."
          },
          "metadata": {}
        },
        {
          "output_type": "display_data",
          "data": {
            "text/plain": [
              "<IPython.core.display.Markdown object>"
            ],
            "text/markdown": "###Context used:\n"
          },
          "metadata": {}
        },
        {
          "output_type": "display_data",
          "data": {
            "text/plain": [
              "<IPython.core.display.Markdown object>"
            ],
            "text/markdown": "####KMX -  (, ) — score 0.638\n\n"
          },
          "metadata": {}
        },
        {
          "output_type": "display_data",
          "data": {
            "text/plain": [
              "<IPython.core.display.Markdown object>"
            ],
            "text/markdown": "   3 of Wall Street’s Favorite Stocks Facing Headwinds : Wall Street has set ambitious price targets for the stocks in this article. While this suggests attractive upside potential, it’s important to remain skeptical because analysts face institutional pressures that can sometimes lead to overly optimistic forecasts.\n"
          },
          "metadata": {}
        },
        {
          "output_type": "display_data",
          "data": {
            "text/plain": [
              "<IPython.core.display.Markdown object>"
            ],
            "text/markdown": "####MCHP -  (, ) — score 0.624\n\n"
          },
          "metadata": {}
        },
        {
          "output_type": "display_data",
          "data": {
            "text/plain": [
              "<IPython.core.display.Markdown object>"
            ],
            "text/markdown": "   3 Hyped Up  Stocks Facing Headwinds : Great things are happening to the stocks in this article. They’re all outperforming the market over the last month because of positive catalysts such as a new product line, constructive news flow, or even a loyal Reddit fanbase.\n"
          },
          "metadata": {}
        },
        {
          "output_type": "display_data",
          "data": {
            "text/plain": [
              "<IPython.core.display.Markdown object>"
            ],
            "text/markdown": "####MPWR -  (, ) — score 0.611\n\n"
          },
          "metadata": {}
        },
        {
          "output_type": "display_data",
          "data": {
            "text/plain": [
              "<IPython.core.display.Markdown object>"
            ],
            "text/markdown": "   1 of Wall Street’s Favorite Stock with Impressive Fundamentals and 2 to Think Twice About : The stocks in this article have caught Wall Street’s attention in a big way, with price targets implying returns above 20%. But investors should take these forecasts with a grain of salt because analysts typically say nice things about companies so their firms can win business in other product lines like M&A advisory.\n"
          },
          "metadata": {}
        },
        {
          "output_type": "display_data",
          "data": {
            "text/plain": [
              "<IPython.core.display.Markdown object>"
            ],
            "text/markdown": "####DRI -  (, ) — score 0.606\n\n"
          },
          "metadata": {}
        },
        {
          "output_type": "display_data",
          "data": {
            "text/plain": [
              "<IPython.core.display.Markdown object>"
            ],
            "text/markdown": "   1 Unpopular Stock that Should Get More Attention and 2 to Steer Clear Of : When Wall Street turns bearish on a stock, it’s worth paying attention. These calls stand out because analysts rarely issue grim ratings on companies for fear their firms will lose out in other business lines such as M&A advisory.\n"
          },
          "metadata": {}
        },
        {
          "output_type": "display_data",
          "data": {
            "text/plain": [
              "<IPython.core.display.Markdown object>"
            ],
            "text/markdown": "####RVTY -  (, ) — score 0.601\n\n"
          },
          "metadata": {}
        },
        {
          "output_type": "display_data",
          "data": {
            "text/plain": [
              "<IPython.core.display.Markdown object>"
            ],
            "text/markdown": "   3 of Wall Street’s Favorite Stocks with Questionable Fundamentals : Wall Street is overwhelmingly bullish on the stocks in this article, with price targets suggesting significant upside potential. However, it’s worth remembering that analysts rarely issue sell ratings, partly because their firms often seek other business from the same companies they cover.\n"
          },
          "metadata": {}
        },
        {
          "output_type": "display_data",
          "data": {
            "text/plain": [
              "<IPython.core.display.Markdown object>"
            ],
            "text/markdown": "####NWS -  (, ) — score 0.594\n\n"
          },
          "metadata": {}
        },
        {
          "output_type": "display_data",
          "data": {
            "text/plain": [
              "<IPython.core.display.Markdown object>"
            ],
            "text/markdown": "   1 Momentum  Stock with Impressive Fundamentals and 2 to Approach with Caution : The stocks featured in this article are seeing some big returns. Over the past month, they’ve outpaced the market due to new product launches, positive news, or even a dedicated social media following.\n"
          },
          "metadata": {}
        },
        {
          "output_type": "display_data",
          "data": {
            "text/plain": [
              "<IPython.core.display.Markdown object>"
            ],
            "text/markdown": "####EXPE -  (, ) — score 0.586\n\n"
          },
          "metadata": {}
        },
        {
          "output_type": "display_data",
          "data": {
            "text/plain": [
              "<IPython.core.display.Markdown object>"
            ],
            "text/markdown": "   1 of Wall Street’s Favorite Stock with Competitive Advantages and 2 to Turn Down : Wall Street is overwhelmingly bullish on the stocks in this article, with price targets suggesting significant upside potential. However, it’s worth remembering that analysts rarely issue sell ratings, partly because their firms often seek other business from the same companies they cover.\n"
          },
          "metadata": {}
        },
        {
          "output_type": "display_data",
          "data": {
            "text/plain": [
              "<IPython.core.display.Markdown object>"
            ],
            "text/markdown": "####MCHP -  (, ) — score 0.584\n\n"
          },
          "metadata": {}
        },
        {
          "output_type": "display_data",
          "data": {
            "text/plain": [
              "<IPython.core.display.Markdown object>"
            ],
            "text/markdown": "   1 High-Flying Stock with Impressive Fundamentals and 2 to Keep Off Your Radar : Expensive stocks typically earn their valuations through superior growth rates that other companies simply can’t match. The flip side though is that these lofty expectations make them particularly susceptible to drawdowns when market sentiment shifts.\n"
          },
          "metadata": {}
        },
        {
          "output_type": "display_data",
          "data": {
            "text/plain": [
              "<IPython.core.display.Markdown object>"
            ],
            "text/markdown": "####WSM -  (, ) — score 0.579\n\n"
          },
          "metadata": {}
        },
        {
          "output_type": "display_data",
          "data": {
            "text/plain": [
              "<IPython.core.display.Markdown object>"
            ],
            "text/markdown": "   3 Unpopular Stocks Facing Headwinds : Wall Street has issued downbeat forecasts for the stocks in this article. These predictions are rare - financial institutions typically hesitate to say bad things about a company because it can jeopardize their other revenue-generating business lines like M&A advisory.\n"
          },
          "metadata": {}
        },
        {
          "output_type": "display_data",
          "data": {
            "text/plain": [
              "<IPython.core.display.Markdown object>"
            ],
            "text/markdown": "####CAT -  (, ) — score 0.577\n\n"
          },
          "metadata": {}
        },
        {
          "output_type": "display_data",
          "data": {
            "text/plain": [
              "<IPython.core.display.Markdown object>"
            ],
            "text/markdown": "   1 Unpopular Stock that Should Get More Attention and 2 to Approach with Caution : Wall Street has issued downbeat forecasts for the stocks in this article. These predictions are rare - financial institutions typically hesitate to say bad things about a company because it can jeopardize their other revenue-generating business lines like M&A advisory.\n"
          },
          "metadata": {}
        },
        {
          "output_type": "display_data",
          "data": {
            "text/plain": [
              "<IPython.core.display.Markdown object>"
            ],
            "text/markdown": "####MKC -  (, ) — score 0.571\n\n"
          },
          "metadata": {}
        },
        {
          "output_type": "display_data",
          "data": {
            "text/plain": [
              "<IPython.core.display.Markdown object>"
            ],
            "text/markdown": "   3 Hated Stocks with Questionable Fundamentals : Wall Street’s bearish price targets for the stocks in this article signal serious concerns. Such forecasts are uncommon in an industry where maintaining cordial corporate relationships often trumps delivering the hard truth.\n"
          },
          "metadata": {}
        },
        {
          "output_type": "display_data",
          "data": {
            "text/plain": [
              "<IPython.core.display.Markdown object>"
            ],
            "text/markdown": "####GLW -  (, ) — score 0.567\n\n"
          },
          "metadata": {}
        },
        {
          "output_type": "display_data",
          "data": {
            "text/plain": [
              "<IPython.core.display.Markdown object>"
            ],
            "text/markdown": "   1 Unpopular Stock that Deserves a Second Chance and 2 to Ignore : Wall Street’s bearish price targets for the stocks in this article signal serious concerns. Such forecasts are uncommon in an industry where maintaining cordial corporate relationships often trumps delivering the hard truth.\n"
          },
          "metadata": {}
        },
        {
          "output_type": "display_data",
          "data": {
            "text/plain": [
              "<IPython.core.display.Markdown object>"
            ],
            "text/markdown": "####TXN -  (, ) — score 0.555\n\n"
          },
          "metadata": {}
        },
        {
          "output_type": "display_data",
          "data": {
            "text/plain": [
              "<IPython.core.display.Markdown object>"
            ],
            "text/markdown": "   2 High-Flying Stocks for Long-Term Investors and 1 to Avoid : Expensive stocks typically earn their valuations through superior growth rates that other companies simply can’t match. The flip side though is that these lofty expectations make them particularly susceptible to drawdowns when market sentiment shifts.\n"
          },
          "metadata": {}
        },
        {
          "output_type": "display_data",
          "data": {
            "text/plain": [
              "<IPython.core.display.Markdown object>"
            ],
            "text/markdown": "####EXPE -  (, ) — score 0.553\n\n"
          },
          "metadata": {}
        },
        {
          "output_type": "display_data",
          "data": {
            "text/plain": [
              "<IPython.core.display.Markdown object>"
            ],
            "text/markdown": "   Grim Economic Outlook Overtakes Solid Earnings as Tariff Disruptions Surface : (Bloomberg) -- One thing is clear as the first-quarter earnings season draws to a close: The uncertain outlook for the global economy is superseding better-than-feared results even as stocks rally on signs of easing trade tensions.Most Read from BloombergAs Coastline Erodes, One California City Considers ‘Retreat Now’How a Highway Became San Francisco’s Newest ParkMaryland’s Credit Rating Gets Downgraded as Governor Blames Trump America, ‘Nation of Porches’Power-Hungry Data Centers Are Warming H\n"
          },
          "metadata": {}
        },
        {
          "output_type": "display_data",
          "data": {
            "text/plain": [
              "<IPython.core.display.Markdown object>"
            ],
            "text/markdown": "####DOW -  (, ) — score 0.550\n\n"
          },
          "metadata": {}
        },
        {
          "output_type": "display_data",
          "data": {
            "text/plain": [
              "<IPython.core.display.Markdown object>"
            ],
            "text/markdown": "   There May Be Reason For Hope In Dow's (NYSE:DOW) Disappointing Earnings : Shareholders appeared unconcerned with Dow Inc.'s ( NYSE:DOW ) lackluster earnings report last week. We did some...\n"
          },
          "metadata": {}
        },
        {
          "output_type": "display_data",
          "data": {
            "text/plain": [
              "<IPython.core.display.Markdown object>"
            ],
            "text/markdown": "####BSX -  (, ) — score 0.538\n\n"
          },
          "metadata": {}
        },
        {
          "output_type": "display_data",
          "data": {
            "text/plain": [
              "<IPython.core.display.Markdown object>"
            ],
            "text/markdown": "   We Like These Underlying Return On Capital Trends At Boston Scientific (NYSE:BSX) : What trends should we look for it we want to identify stocks that can multiply in value over the long term? One common...\n"
          },
          "metadata": {}
        },
        {
          "output_type": "display_data",
          "data": {
            "text/plain": [
              "<IPython.core.display.Markdown object>"
            ],
            "text/markdown": "####MKTX -  (, ) — score 0.536\n\n"
          },
          "metadata": {}
        },
        {
          "output_type": "display_data",
          "data": {
            "text/plain": [
              "<IPython.core.display.Markdown object>"
            ],
            "text/markdown": "   MarketAxess tops profit expectations as market volatility fuels record trading : Bond trading platform MarketAxess beat Wall Street estimates for first-quarter profit on Wednesday, as heightened market volatility sparked record trading results. WHY IT'S IMPORTANT Sweeping changes by U.S. President Donald Trump affecting global trade policy have injected volatility in the bond markets and spurred investor engagement. MarketAxess' results offer an insight into the bond market, widely viewed as a more reliable indicator of recession than the stock market.\n"
          },
          "metadata": {}
        },
        {
          "output_type": "display_data",
          "data": {
            "text/plain": [
              "<IPython.core.display.Markdown object>"
            ],
            "text/markdown": "####MS -  (, ) — score 0.536\n\n"
          },
          "metadata": {}
        },
        {
          "output_type": "display_data",
          "data": {
            "text/plain": [
              "<IPython.core.display.Markdown object>"
            ],
            "text/markdown": "   Morgan Stanley's (NYSE:MS) investors will be pleased with their splendid 204% return over the last five years : When you buy shares in a company, it's worth keeping in mind the possibility that it could fail, and you could lose...\n"
          },
          "metadata": {}
        },
        {
          "output_type": "display_data",
          "data": {
            "text/plain": [
              "<IPython.core.display.Markdown object>"
            ],
            "text/markdown": "####PAYX -  (, ) — score 0.527\n\n"
          },
          "metadata": {}
        },
        {
          "output_type": "display_data",
          "data": {
            "text/plain": [
              "<IPython.core.display.Markdown object>"
            ],
            "text/markdown": "   Are Strong Financial Prospects The Force That Is Driving The Momentum In Paychex, Inc.'s NASDAQ:PAYX) Stock? : Most readers would already be aware that Paychex's (NASDAQ:PAYX) stock increased significantly by 6.1% over the past...\n"
          },
          "metadata": {}
        },
        {
          "output_type": "display_data",
          "data": {
            "text/plain": [
              "<IPython.core.display.Markdown object>"
            ],
            "text/markdown": "####HUBB -  (, ) — score 0.523\n\n"
          },
          "metadata": {}
        },
        {
          "output_type": "display_data",
          "data": {
            "text/plain": [
              "<IPython.core.display.Markdown object>"
            ],
            "text/markdown": "   2 Volatile Stocks with Solid Fundamentals and 1 to Approach with Caution : Market swings can be tough to stomach, and volatile stocks often experience exaggerated moves in both directions. While many thrive during risk-on environments, many also struggle to maintain investor confidence when the ride gets bumpy.\n"
          },
          "metadata": {}
        },
        {
          "output_type": "display_data",
          "data": {
            "text/plain": [
              "<IPython.core.display.Markdown object>"
            ],
            "text/markdown": "####JKHY -  (, ) — score 0.515\n\n"
          },
          "metadata": {}
        },
        {
          "output_type": "display_data",
          "data": {
            "text/plain": [
              "<IPython.core.display.Markdown object>"
            ],
            "text/markdown": "   With EPS Growth And More, Jack Henry & Associates (NASDAQ:JKHY) Makes An Interesting Case : Investors are often guided by the idea of discovering 'the next big thing', even if that means buying 'story stocks...\n"
          },
          "metadata": {}
        },
        {
          "output_type": "display_data",
          "data": {
            "text/plain": [
              "<IPython.core.display.Markdown object>"
            ],
            "text/markdown": "####EMN -  (, ) — score 0.515\n\n"
          },
          "metadata": {}
        },
        {
          "output_type": "display_data",
          "data": {
            "text/plain": [
              "<IPython.core.display.Markdown object>"
            ],
            "text/markdown": "   DOW Stock Down 22% in 3 Months: Should You Buy the Dip? : While DOW benefits from investment in high-return projects and cost actions, weak end-market demand and declining estimates cast a pall on its prospects.\n"
          },
          "metadata": {}
        },
        {
          "output_type": "display_data",
          "data": {
            "text/plain": [
              "<IPython.core.display.Markdown object>"
            ],
            "text/markdown": "####DAY -  (, ) — score 0.513\n\n"
          },
          "metadata": {}
        },
        {
          "output_type": "display_data",
          "data": {
            "text/plain": [
              "<IPython.core.display.Markdown object>"
            ],
            "text/markdown": "   Wall Street Analysts See a 40.52% Upside in Dayforce (DAY): Can the Stock Really Move This High? : The average of price targets set by Wall Street analysts indicates a potential upside of 40.5% in Dayforce (DAY). While the effectiveness of this highly sought-after metric is questionable, the positive trend in earnings estimate revisions might translate into an upside in the stock.\n"
          },
          "metadata": {}
        },
        {
          "output_type": "display_data",
          "data": {
            "text/plain": [
              "<IPython.core.display.Markdown object>"
            ],
            "text/markdown": "###Question:\nWhat role is artificial intelligence playing in recent finance-related news stories?"
          },
          "metadata": {}
        },
        {
          "output_type": "display_data",
          "data": {
            "text/plain": [
              "<IPython.core.display.Markdown object>"
            ],
            "text/markdown": "###Answer:\nArtificial intelligence (AI) is increasingly influencing various sectors, particularly finance and technology, as highlighted in recent news stories. Companies like Jack Henry & Associates (JKHY) are integrating AI-driven lending technologies to enhance productivity and reduce errors. Meta Platforms is focusing on AI investments to potentially boost its stock value, while Netflix is leveraging generative AI to streamline content production, which is crucial for its business model.\n\nAdditionally, AI-driven automation is noted as a key factor in the fintech sector, as seen with BILL Holdings, despite its stock challenges. The Gartner CFO conference emphasized the importance of practical AI adoption in finance, indicating a shift in priorities among finance leaders. Overall, AI is positioned as a transformative force across multiple industries, driving innovation and operational efficiencies."
          },
          "metadata": {}
        },
        {
          "output_type": "display_data",
          "data": {
            "text/plain": [
              "<IPython.core.display.Markdown object>"
            ],
            "text/markdown": "###Context used:\n"
          },
          "metadata": {}
        },
        {
          "output_type": "display_data",
          "data": {
            "text/plain": [
              "<IPython.core.display.Markdown object>"
            ],
            "text/markdown": "####JKHY -  (, ) — score 0.682\n\n"
          },
          "metadata": {}
        },
        {
          "output_type": "display_data",
          "data": {
            "text/plain": [
              "<IPython.core.display.Markdown object>"
            ],
            "text/markdown": "   Jack Henry (JKHY) Integrates AI-Driven Lending Tech With Algebrik : We recently published a list of 12 AI News Investors Should Not Miss This Week. In this article, we are going to take a look at where Jack Henry & Associates, Inc. (NASDAQ:JKHY) stands against other AI news Investors should not miss this week. Artificial Intelligence (AI) is known to increase productivity, decrease human error, […]\n"
          },
          "metadata": {}
        },
        {
          "output_type": "display_data",
          "data": {
            "text/plain": [
              "<IPython.core.display.Markdown object>"
            ],
            "text/markdown": "####META -  (, ) — score 0.652\n\n"
          },
          "metadata": {}
        },
        {
          "output_type": "display_data",
          "data": {
            "text/plain": [
              "<IPython.core.display.Markdown object>"
            ],
            "text/markdown": "   This \"Magnificent Seven\" Stock Is Set to Skyrocket If Its AI Investments Pay Off : Meta Platforms has investments in several AI applications.  The tech giant's stock is only valued on its legacy business.  Over the past two-and-a-half years, investors have heard about various artificial intelligence (AI) investments that tech companies are making.\n"
          },
          "metadata": {}
        },
        {
          "output_type": "display_data",
          "data": {
            "text/plain": [
              "<IPython.core.display.Markdown object>"
            ],
            "text/markdown": "####NFLX -  (, ) — score 0.612\n\n"
          },
          "metadata": {}
        },
        {
          "output_type": "display_data",
          "data": {
            "text/plain": [
              "<IPython.core.display.Markdown object>"
            ],
            "text/markdown": "   2 Underrated Artificial Intelligence (AI) Stocks to Buy and Hold : Generative AI can simplify and speed up many tasks, including content production.  It's easy to see the potential for Netflix, whose content strategy is integral to its success.  Netflix's creations have attracted millions of viewers and won many awards.\n"
          },
          "metadata": {}
        },
        {
          "output_type": "display_data",
          "data": {
            "text/plain": [
              "<IPython.core.display.Markdown object>"
            ],
            "text/markdown": "####RF -  (, ) — score 0.590\n\n"
          },
          "metadata": {}
        },
        {
          "output_type": "display_data",
          "data": {
            "text/plain": [
              "<IPython.core.display.Markdown object>"
            ],
            "text/markdown": "   BILL Holdings Plunges 47% Year to Date: Should You Buy the Stock on Dip? : BILL stock suffers from market challenges and competition, but AI-driven automation, partnerships, and growing platform adoption drive its fintech momentum.\n"
          },
          "metadata": {}
        },
        {
          "output_type": "display_data",
          "data": {
            "text/plain": [
              "<IPython.core.display.Markdown object>"
            ],
            "text/markdown": "####INTC -  (, ) — score 0.570\n\n"
          },
          "metadata": {}
        },
        {
          "output_type": "display_data",
          "data": {
            "text/plain": [
              "<IPython.core.display.Markdown object>"
            ],
            "text/markdown": "   Billionaire David Tepper of Appaloosa Just Sold 5 Prominent Artificial Intelligence (AI) Stocks : Tepper's net-selling activity in AI stocks may have to do with more than just simple profit-taking.\n"
          },
          "metadata": {}
        },
        {
          "output_type": "display_data",
          "data": {
            "text/plain": [
              "<IPython.core.display.Markdown object>"
            ],
            "text/markdown": "####IT -  (, ) — score 0.565\n\n"
          },
          "metadata": {}
        },
        {
          "output_type": "display_data",
          "data": {
            "text/plain": [
              "<IPython.core.display.Markdown object>"
            ],
            "text/markdown": "   Gartner CFO conference reveals shifting tech priorities for finance : This week’s Gartner CFO conference offered insight on the changing duties of finance leaders, including revamping the ERP change approach, tips for practical AI adoption and data myths.\n"
          },
          "metadata": {}
        },
        {
          "output_type": "display_data",
          "data": {
            "text/plain": [
              "<IPython.core.display.Markdown object>"
            ],
            "text/markdown": "####ABNB -  (, ) — score 0.560\n\n"
          },
          "metadata": {}
        },
        {
          "output_type": "display_data",
          "data": {
            "text/plain": [
              "<IPython.core.display.Markdown object>"
            ],
            "text/markdown": "   Got $3,000? 3 Artificial Intelligence (AI) Stocks to Buy and Hold for the Long Term. : This travel technology company can drive investor returns through AI-driven decision-making.  When taking these factors into account, investors may want to consider investments in the three following stocks.  Investors will likely struggle to find a company more central to AI than Taiwan Semiconductor Manufacturing (NYSE: TSM), the leading manufacturer for all of the top chip companies.\n"
          },
          "metadata": {}
        },
        {
          "output_type": "display_data",
          "data": {
            "text/plain": [
              "<IPython.core.display.Markdown object>"
            ],
            "text/markdown": "####CEG -  (, ) — score 0.549\n\n"
          },
          "metadata": {}
        },
        {
          "output_type": "display_data",
          "data": {
            "text/plain": [
              "<IPython.core.display.Markdown object>"
            ],
            "text/markdown": "   Nvidia earnings: Its AI performance could lift these stocks : Ahead of Nvidia's first quarter earnings report, Rational Equity Armor Fund portfolio manager Joe Tigay joins Morning Brief with Brad Smith and Madison Mills to discuss which artificial intelligence (AI) sub-sector plays could react to the chipmaker's results. Tune in to Yahoo Finance's special live coverage of Nvidia's first quarter earnings here, beginning at 4:15 p.m. on Wednesday, May 28. To watch more expert insights and analysis on the latest market action, check out more Morning Brief here.\n"
          },
          "metadata": {}
        },
        {
          "output_type": "display_data",
          "data": {
            "text/plain": [
              "<IPython.core.display.Markdown object>"
            ],
            "text/markdown": "####NWS -  (, ) — score 0.547\n\n"
          },
          "metadata": {}
        },
        {
          "output_type": "display_data",
          "data": {
            "text/plain": [
              "<IPython.core.display.Markdown object>"
            ],
            "text/markdown": "   News Corp beats quarterly estimates on Dow Jones, digital real estate services segments growth : News Corp beat Wall Street estimates for third-quarter revenue and profit on Thursday, driven by growth in its Dow Jones business and online real estate services, sending its shares up about 3% in extended trading. The company has shifted its focus towards digital and subscription-based operations to better compete in and adapt to the evolving landscape of news consumption across various digital platforms and formats. \"We have pursued digital growth, realigned our assets, focused relentlessly on cost discipline and asserted the essential value of our intellectual property in a changing, challenging content world,\" said Chief Executive Officer Robert Thomson.\n"
          },
          "metadata": {}
        },
        {
          "output_type": "display_data",
          "data": {
            "text/plain": [
              "<IPython.core.display.Markdown object>"
            ],
            "text/markdown": "####WDAY -  (, ) — score 0.511\n\n"
          },
          "metadata": {}
        },
        {
          "output_type": "display_data",
          "data": {
            "text/plain": [
              "<IPython.core.display.Markdown object>"
            ],
            "text/markdown": "   Workday (WDAY)’s AI Push and Margin Beat Lead to $250 Price Target : We recently published a list of 10 AI Stocks on Wall Street’s Radar. In this article, we are going to take a look at where Workday, Inc. (NASDAQ:WDAY) stands against other AI stocks on Wall Street’s radar. Workday, Inc. (NASDAQ:WDAY) provides enterprise cloud applications. On May 23, DA Davidson raised the firm’s price target on […]\n"
          },
          "metadata": {}
        },
        {
          "output_type": "display_data",
          "data": {
            "text/plain": [
              "<IPython.core.display.Markdown object>"
            ],
            "text/markdown": "####FDS -  (, ) — score 0.491\n\n"
          },
          "metadata": {}
        },
        {
          "output_type": "display_data",
          "data": {
            "text/plain": [
              "<IPython.core.display.Markdown object>"
            ],
            "text/markdown": "   Do FactSet Research Systems' (NYSE:FDS) Earnings Warrant Your Attention? : It's common for many investors, especially those who are inexperienced, to buy shares in companies with a good story...\n"
          },
          "metadata": {}
        },
        {
          "output_type": "display_data",
          "data": {
            "text/plain": [
              "<IPython.core.display.Markdown object>"
            ],
            "text/markdown": "####ROK -  (, ) — score 0.491\n\n"
          },
          "metadata": {}
        },
        {
          "output_type": "display_data",
          "data": {
            "text/plain": [
              "<IPython.core.display.Markdown object>"
            ],
            "text/markdown": "   Investing in Rockwell Automation (ROK)? Don't Miss Assessing Its International Revenue Trends : Explore Rockwell Automation's (ROK) international revenue trends and how these numbers impact Wall Street's forecasts and what's ahead for the stock.\n"
          },
          "metadata": {}
        },
        {
          "output_type": "display_data",
          "data": {
            "text/plain": [
              "<IPython.core.display.Markdown object>"
            ],
            "text/markdown": "####MPWR -  (, ) — score 0.486\n\n"
          },
          "metadata": {}
        },
        {
          "output_type": "display_data",
          "data": {
            "text/plain": [
              "<IPython.core.display.Markdown object>"
            ],
            "text/markdown": "   1 of Wall Street’s Favorite Stock with Impressive Fundamentals and 2 to Think Twice About : The stocks in this article have caught Wall Street’s attention in a big way, with price targets implying returns above 20%. But investors should take these forecasts with a grain of salt because analysts typically say nice things about companies so their firms can win business in other product lines like M&A advisory.\n"
          },
          "metadata": {}
        },
        {
          "output_type": "display_data",
          "data": {
            "text/plain": [
              "<IPython.core.display.Markdown object>"
            ],
            "text/markdown": "####NWS -  (, ) — score 0.482\n\n"
          },
          "metadata": {}
        },
        {
          "output_type": "display_data",
          "data": {
            "text/plain": [
              "<IPython.core.display.Markdown object>"
            ],
            "text/markdown": "   News Corp (NWS) Q3 2025 Earnings Call Highlights: Strong Net Income Growth and Strategic Moves : News Corp (NWS) reports a 67% increase in net income and strategic advancements despite facing currency headwinds and market challenges.\n"
          },
          "metadata": {}
        },
        {
          "output_type": "display_data",
          "data": {
            "text/plain": [
              "<IPython.core.display.Markdown object>"
            ],
            "text/markdown": "####ALL -  (, ) — score 0.482\n\n"
          },
          "metadata": {}
        },
        {
          "output_type": "display_data",
          "data": {
            "text/plain": [
              "<IPython.core.display.Markdown object>"
            ],
            "text/markdown": "   Here's Why We Think Allstate (NYSE:ALL) Might Deserve Your Attention Today : Investors are often guided by the idea of discovering 'the next big thing', even if that means buying 'story stocks...\n"
          },
          "metadata": {}
        },
        {
          "output_type": "display_data",
          "data": {
            "text/plain": [
              "<IPython.core.display.Markdown object>"
            ],
            "text/markdown": "####PH -  (, ) — score 0.477\n\n"
          },
          "metadata": {}
        },
        {
          "output_type": "display_data",
          "data": {
            "text/plain": [
              "<IPython.core.display.Markdown object>"
            ],
            "text/markdown": "   Parker-Hannifin (NYSE:PH) Reports Q3 Earnings Growth, FY 2025 Sales Forecast Shows 1% Dip : Parker-Hannifin (NYSE:PH) reported its third-quarter earnings, showing a notable increase in net income and earnings per share despite a small decline in sales. This positive financial performance aligns with broader market trends, where major indexes like the S&P 500 and Dow saw upward movements, driven by strong tech earnings from companies like Microsoft and Meta. The 4% price increase in Parker-Hannifin's stock last week could mirror this wider market optimism. The recent increase in...\n"
          },
          "metadata": {}
        },
        {
          "output_type": "display_data",
          "data": {
            "text/plain": [
              "<IPython.core.display.Markdown object>"
            ],
            "text/markdown": "####GEN -  (, ) — score 0.472\n\n"
          },
          "metadata": {}
        },
        {
          "output_type": "display_data",
          "data": {
            "text/plain": [
              "<IPython.core.display.Markdown object>"
            ],
            "text/markdown": "   Don't Overlook Gen Digital (GEN) International Revenue Trends While Assessing the Stock : Examine the evolution of Gen Digital's (GEN) overseas revenue trends and their effects on Wall Street's forecasts and the stock's prospects.\n"
          },
          "metadata": {}
        },
        {
          "output_type": "display_data",
          "data": {
            "text/plain": [
              "<IPython.core.display.Markdown object>"
            ],
            "text/markdown": "####TRMB -  (, ) — score 0.463\n\n"
          },
          "metadata": {}
        },
        {
          "output_type": "display_data",
          "data": {
            "text/plain": [
              "<IPython.core.display.Markdown object>"
            ],
            "text/markdown": "   The Best Industrial Technology Stock to Invest $10,000 in Right Now : This company's margins and recurring revenue are on an upward trajectory.  AI growth and the increasing adoption of digitally connected technology will drive its higher-margin recurring revenue.  The company does a great job of upselling and cross-selling solutions to its existing and new customers.\n"
          },
          "metadata": {}
        },
        {
          "output_type": "display_data",
          "data": {
            "text/plain": [
              "<IPython.core.display.Markdown object>"
            ],
            "text/markdown": "####JKHY -  (, ) — score 0.460\n\n"
          },
          "metadata": {}
        },
        {
          "output_type": "display_data",
          "data": {
            "text/plain": [
              "<IPython.core.display.Markdown object>"
            ],
            "text/markdown": "   With EPS Growth And More, Jack Henry & Associates (NASDAQ:JKHY) Makes An Interesting Case : Investors are often guided by the idea of discovering 'the next big thing', even if that means buying 'story stocks...\n"
          },
          "metadata": {}
        },
        {
          "output_type": "display_data",
          "data": {
            "text/plain": [
              "<IPython.core.display.Markdown object>"
            ],
            "text/markdown": "####TKO -  (, ) — score 0.456\n\n"
          },
          "metadata": {}
        },
        {
          "output_type": "display_data",
          "data": {
            "text/plain": [
              "<IPython.core.display.Markdown object>"
            ],
            "text/markdown": "   High Growth Tech Stocks To Watch In The US April 2025 : As the U.S. stock market navigates through a period of mixed performance, with major indices like the Dow Jones experiencing fluctuations due to ongoing tariff uncertainties, investors are closely watching the tech sector for potential opportunities. In this environment, identifying high-growth tech stocks involves looking for companies that demonstrate resilience and innovation amidst economic challenges and market volatility.\n"
          },
          "metadata": {}
        },
        {
          "output_type": "display_data",
          "data": {
            "text/plain": [
              "<IPython.core.display.Markdown object>"
            ],
            "text/markdown": "####DAY -  (, ) — score 0.454\n\n"
          },
          "metadata": {}
        },
        {
          "output_type": "display_data",
          "data": {
            "text/plain": [
              "<IPython.core.display.Markdown object>"
            ],
            "text/markdown": "   3 Stocks Estimated To Be Trading Below Their Intrinsic Value In April 2025 : Over the last 7 days, the United States market has risen 5.2%, contributing to a 9.9% increase over the past year, with earnings forecasted to grow by 14% annually. In this environment of growth, identifying stocks that are trading below their intrinsic value can offer potential opportunities for investors seeking to capitalize on market inefficiencies.\n"
          },
          "metadata": {}
        }
      ]
    },
    {
      "cell_type": "code",
      "source": [
        "#\n",
        "# Questions Company\n",
        "print_markdown(\"#Company\")\n",
        "for q in questions_company:\n",
        "    rag(q,faiss_store, k=K)"
      ],
      "metadata": {
        "colab": {
          "base_uri": "https://localhost:8080/",
          "height": 1000
        },
        "id": "tHTzVEL_66Uk",
        "outputId": "6be4844f-2663-43e0-8d0b-5ba06e9b5e14"
      },
      "id": "tHTzVEL_66Uk",
      "execution_count": null,
      "outputs": [
        {
          "output_type": "display_data",
          "data": {
            "text/plain": [
              "<IPython.core.display.Markdown object>"
            ],
            "text/markdown": "#Company"
          },
          "metadata": {}
        },
        {
          "output_type": "display_data",
          "data": {
            "text/plain": [
              "<IPython.core.display.Markdown object>"
            ],
            "text/markdown": "###Question:\nHow is Microsoft being portrayed in news stories about artificial intelligence?"
          },
          "metadata": {}
        },
        {
          "output_type": "display_data",
          "data": {
            "text/plain": [
              "<IPython.core.display.Markdown object>"
            ],
            "text/markdown": "###Answer:\nMicrosoft is portrayed positively in the context of artificial intelligence, particularly following its recent earnings report, which has contributed to its stock attempting to break past a new buy point. The company is recognized as a key player in the AI market, alongside other major firms like Google and NVIDIA, which are leading innovations in AI technologies. The overall sentiment suggests that Microsoft is leveraging its AI capabilities to enhance its competitive position in the software sector. However, specific details regarding its AI investments or strategic initiatives are not provided in the context."
          },
          "metadata": {}
        },
        {
          "output_type": "display_data",
          "data": {
            "text/plain": [
              "<IPython.core.display.Markdown object>"
            ],
            "text/markdown": "###Context used:\n"
          },
          "metadata": {}
        },
        {
          "output_type": "display_data",
          "data": {
            "text/plain": [
              "<IPython.core.display.Markdown object>"
            ],
            "text/markdown": "####META -  (, ) — score 0.581\n\n"
          },
          "metadata": {}
        },
        {
          "output_type": "display_data",
          "data": {
            "text/plain": [
              "<IPython.core.display.Markdown object>"
            ],
            "text/markdown": "   This \"Magnificent Seven\" Stock Is Set to Skyrocket If Its AI Investments Pay Off : Meta Platforms has investments in several AI applications.  The tech giant's stock is only valued on its legacy business.  Over the past two-and-a-half years, investors have heard about various artificial intelligence (AI) investments that tech companies are making.\n"
          },
          "metadata": {}
        },
        {
          "output_type": "display_data",
          "data": {
            "text/plain": [
              "<IPython.core.display.Markdown object>"
            ],
            "text/markdown": "####CRM -  (, ) — score 0.549\n\n"
          },
          "metadata": {}
        },
        {
          "output_type": "display_data",
          "data": {
            "text/plain": [
              "<IPython.core.display.Markdown object>"
            ],
            "text/markdown": "   How Salesforce has 'overcorrected' by leaning into AI : D.A. Davidson head of technology research Gil Luria joins Market Domination to discuss Salesforce (CRM) earnings and the company's trajectory. Luria says Salesforce is \"too focused\" on artificial intelligence (AI), as the other parts of its business \"rapidly\" decelerate and the company loses market share to competitors. Luria has the equivalent of a Sell rating on the stock. To watch more expert insights and analysis on the latest market action, check out more Market Domination here.\n"
          },
          "metadata": {}
        },
        {
          "output_type": "display_data",
          "data": {
            "text/plain": [
              "<IPython.core.display.Markdown object>"
            ],
            "text/markdown": "####META -  (, ) — score 0.512\n\n"
          },
          "metadata": {}
        },
        {
          "output_type": "display_data",
          "data": {
            "text/plain": [
              "<IPython.core.display.Markdown object>"
            ],
            "text/markdown": "   Meta (META) AI Reaches 1 Billion Users, Eyes Paid Features and Subscriptions : We recently published a list of 10 AI Stocks on Wall Street’s Radar. In this article, we are going to take a look at where Meta Platforms, Inc. (NASDAQ:META) stands against other AI stocks on Wall Street’s radar. Meta Platforms, Inc. (NASDAQ:META) is a global technology company. On May 28, CNBC reported that Meta Platforms, Inc. (NASDAQ:META)’s artificial […]\n"
          },
          "metadata": {}
        },
        {
          "output_type": "display_data",
          "data": {
            "text/plain": [
              "<IPython.core.display.Markdown object>"
            ],
            "text/markdown": "####QCOM -  (, ) — score 0.509\n\n"
          },
          "metadata": {}
        },
        {
          "output_type": "display_data",
          "data": {
            "text/plain": [
              "<IPython.core.display.Markdown object>"
            ],
            "text/markdown": "   AI Chips Today - AI Revolution Powers Market Growth With Key Innovations : The global artificial intelligence market is poised for significant growth, projected to expand from USD 371.71 billion in 2025 to USD 2,407.02 billion by 2032, driven by advancements such as edge AI and AI chips. Key developments include the rise of edge AI, enabling real-time processing and decision-making without reliance on cloud infrastructure, and domain-specific model fine-tuning for tailored applications. Major players like Microsoft, Google, and NVIDIA are leading innovations in...\n"
          },
          "metadata": {}
        },
        {
          "output_type": "display_data",
          "data": {
            "text/plain": [
              "<IPython.core.display.Markdown object>"
            ],
            "text/markdown": "####JKHY -  (, ) — score 0.501\n\n"
          },
          "metadata": {}
        },
        {
          "output_type": "display_data",
          "data": {
            "text/plain": [
              "<IPython.core.display.Markdown object>"
            ],
            "text/markdown": "   Jack Henry (JKHY) Integrates AI-Driven Lending Tech With Algebrik : We recently published a list of 12 AI News Investors Should Not Miss This Week. In this article, we are going to take a look at where Jack Henry & Associates, Inc. (NASDAQ:JKHY) stands against other AI news Investors should not miss this week. Artificial Intelligence (AI) is known to increase productivity, decrease human error, […]\n"
          },
          "metadata": {}
        },
        {
          "output_type": "display_data",
          "data": {
            "text/plain": [
              "<IPython.core.display.Markdown object>"
            ],
            "text/markdown": "####ADBE -  (, ) — score 0.491\n\n"
          },
          "metadata": {}
        },
        {
          "output_type": "display_data",
          "data": {
            "text/plain": [
              "<IPython.core.display.Markdown object>"
            ],
            "text/markdown": "   AI Stocks Face 'Show Me' Moment. Nvidia Earnings Due With China In Focus. : Amid hype over artificial intelligence, the best AI stocks generate revenue or get a strategic edge from the fast evolving technology.\n"
          },
          "metadata": {}
        },
        {
          "output_type": "display_data",
          "data": {
            "text/plain": [
              "<IPython.core.display.Markdown object>"
            ],
            "text/markdown": "####ACN -  (, ) — score 0.479\n\n"
          },
          "metadata": {}
        },
        {
          "output_type": "display_data",
          "data": {
            "text/plain": [
              "<IPython.core.display.Markdown object>"
            ],
            "text/markdown": "   IBM vs. Accenture: Which Stock Stands Out in the Consulting Game? : IBM and ACN battle for consulting dominance as AI, cloud and strategic collaborations reshape enterprise digital transformation strategies.\n"
          },
          "metadata": {}
        },
        {
          "output_type": "display_data",
          "data": {
            "text/plain": [
              "<IPython.core.display.Markdown object>"
            ],
            "text/markdown": "####RSG -  (, ) — score 0.475\n\n"
          },
          "metadata": {}
        },
        {
          "output_type": "display_data",
          "data": {
            "text/plain": [
              "<IPython.core.display.Markdown object>"
            ],
            "text/markdown": "   Jon Vander Ark: AI is ‘wildly oversold,’ but it can provide benefits : Vander Ark compared the current hype around AI to the dot-com era that collapsed in 2000. But he said there are still plenty of opportunities to drive cost efficiencies through digital improvements.\n"
          },
          "metadata": {}
        },
        {
          "output_type": "display_data",
          "data": {
            "text/plain": [
              "<IPython.core.display.Markdown object>"
            ],
            "text/markdown": "####DLR -  (, ) — score 0.467\n\n"
          },
          "metadata": {}
        },
        {
          "output_type": "display_data",
          "data": {
            "text/plain": [
              "<IPython.core.display.Markdown object>"
            ],
            "text/markdown": "   Digital Realty Stock Rallies 16.6% in 3 Months: Will the Trend Last? : DLR is set to gain from its global footprint of data centers with growing digital transformation, cloud computing and the proliferation of AI\n"
          },
          "metadata": {}
        },
        {
          "output_type": "display_data",
          "data": {
            "text/plain": [
              "<IPython.core.display.Markdown object>"
            ],
            "text/markdown": "####NWS -  (, ) — score 0.457\n\n"
          },
          "metadata": {}
        },
        {
          "output_type": "display_data",
          "data": {
            "text/plain": [
              "<IPython.core.display.Markdown object>"
            ],
            "text/markdown": "   News Corp beats quarterly estimates on Dow Jones, digital real estate services segments growth : News Corp beat Wall Street estimates for third-quarter revenue and profit on Thursday, driven by growth in its Dow Jones business and online real estate services, sending its shares up about 3% in extended trading. The company has shifted its focus towards digital and subscription-based operations to better compete in and adapt to the evolving landscape of news consumption across various digital platforms and formats. \"We have pursued digital growth, realigned our assets, focused relentlessly on cost discipline and asserted the essential value of our intellectual property in a changing, challenging content world,\" said Chief Executive Officer Robert Thomson.\n"
          },
          "metadata": {}
        },
        {
          "output_type": "display_data",
          "data": {
            "text/plain": [
              "<IPython.core.display.Markdown object>"
            ],
            "text/markdown": "####EQT -  (, ) — score 0.457\n\n"
          },
          "metadata": {}
        },
        {
          "output_type": "display_data",
          "data": {
            "text/plain": [
              "<IPython.core.display.Markdown object>"
            ],
            "text/markdown": "   Dow Jones Software Giant Microsoft Stock Hits New Buy Point After Big Earnings Move : Dow Jones software giant Microsoft stock is trying to break out past a new buy point following a big earnings-fueled move in recent weeks.\n"
          },
          "metadata": {}
        },
        {
          "output_type": "display_data",
          "data": {
            "text/plain": [
              "<IPython.core.display.Markdown object>"
            ],
            "text/markdown": "####WDAY -  (, ) — score 0.447\n\n"
          },
          "metadata": {}
        },
        {
          "output_type": "display_data",
          "data": {
            "text/plain": [
              "<IPython.core.display.Markdown object>"
            ],
            "text/markdown": "   Workday (WDAY)’s AI Push and Margin Beat Lead to $250 Price Target : We recently published a list of 10 AI Stocks on Wall Street’s Radar. In this article, we are going to take a look at where Workday, Inc. (NASDAQ:WDAY) stands against other AI stocks on Wall Street’s radar. Workday, Inc. (NASDAQ:WDAY) provides enterprise cloud applications. On May 23, DA Davidson raised the firm’s price target on […]\n"
          },
          "metadata": {}
        },
        {
          "output_type": "display_data",
          "data": {
            "text/plain": [
              "<IPython.core.display.Markdown object>"
            ],
            "text/markdown": "####CTSH -  (, ) — score 0.422\n\n"
          },
          "metadata": {}
        },
        {
          "output_type": "display_data",
          "data": {
            "text/plain": [
              "<IPython.core.display.Markdown object>"
            ],
            "text/markdown": "   Cognizant Technology Solutions (NasdaqGS:CTSH) Expands AI Capabilities With Pegasystems Partnership and Open-Sources Neuro AI : Cognizant Technology Solutions (NasdaqGS:CTSH) saw a significant 18% increase in its share price over the past month, coinciding with pivotal developments. The company expanded its collaboration with Pegasystems Inc. to drive AI services and cloud transformation, and open-sourced its Neuro AI Multi-Agent Accelerator, focusing on innovation in AI systems. Despite the broader market experiencing a 1.1% decline, these advancements in AI and strategic partnerships have potentially bolstered...\n"
          },
          "metadata": {}
        },
        {
          "output_type": "display_data",
          "data": {
            "text/plain": [
              "<IPython.core.display.Markdown object>"
            ],
            "text/markdown": "####PTC -  (, ) — score 0.422\n\n"
          },
          "metadata": {}
        },
        {
          "output_type": "display_data",
          "data": {
            "text/plain": [
              "<IPython.core.display.Markdown object>"
            ],
            "text/markdown": "   1 Software Stock with Solid Fundamentals and 2 to Steer Clear Of : From commerce to culture, software is digitizing every aspect of our lives. In the past, the undeniable tailwinds fueling SaaS companies led to lofty valuation multiples that made it easier to raise capital. But this was a double-edged sword as the high prices exposed them to big drawdowns, and unfortunately, the industry has tumbled by 9.4% over the last six months. This performance was worse than the S&P 500’s 5.5% decline.\n"
          },
          "metadata": {}
        },
        {
          "output_type": "display_data",
          "data": {
            "text/plain": [
              "<IPython.core.display.Markdown object>"
            ],
            "text/markdown": "####MPWR -  (, ) — score 0.421\n\n"
          },
          "metadata": {}
        },
        {
          "output_type": "display_data",
          "data": {
            "text/plain": [
              "<IPython.core.display.Markdown object>"
            ],
            "text/markdown": "   1 of Wall Street’s Favorite Stock with Impressive Fundamentals and 2 to Think Twice About : The stocks in this article have caught Wall Street’s attention in a big way, with price targets implying returns above 20%. But investors should take these forecasts with a grain of salt because analysts typically say nice things about companies so their firms can win business in other product lines like M&A advisory.\n"
          },
          "metadata": {}
        },
        {
          "output_type": "display_data",
          "data": {
            "text/plain": [
              "<IPython.core.display.Markdown object>"
            ],
            "text/markdown": "####ADP -  (, ) — score 0.420\n\n"
          },
          "metadata": {}
        },
        {
          "output_type": "display_data",
          "data": {
            "text/plain": [
              "<IPython.core.display.Markdown object>"
            ],
            "text/markdown": "   Are Computer and Technology Stocks Lagging  Automatic Data Processing (ADP) This Year? : Here is how Automatic Data Processing (ADP) and Allegro MicroSystems, Inc. (ALGM) have performed compared to their sector so far this year.\n"
          },
          "metadata": {}
        },
        {
          "output_type": "display_data",
          "data": {
            "text/plain": [
              "<IPython.core.display.Markdown object>"
            ],
            "text/markdown": "####MSCI -  (, ) — score 0.415\n\n"
          },
          "metadata": {}
        },
        {
          "output_type": "display_data",
          "data": {
            "text/plain": [
              "<IPython.core.display.Markdown object>"
            ],
            "text/markdown": "   MSCI Inc (MSCI) Signs a MOU with Intapp (INTA) to Innovate Capital Markets Using AI : On May 21, MSCI Inc. (NYSE:MSCI) announced signing a memorandum of understanding with Intapp, Inc. (NASDAQ:INTA) to provide enhanced capital market intelligence using artificial intelligence. MSCI Inc. (NYSE:MSCI) provides critical decision-making tools for the investment community, including institutional investors, asset managers, wealth managers, and financial intermediaries. On the other hand, Intapp, Inc. (NASDAQ:INTA) is an […]\n"
          },
          "metadata": {}
        },
        {
          "output_type": "display_data",
          "data": {
            "text/plain": [
              "<IPython.core.display.Markdown object>"
            ],
            "text/markdown": "####NWS -  (, ) — score 0.414\n\n"
          },
          "metadata": {}
        },
        {
          "output_type": "display_data",
          "data": {
            "text/plain": [
              "<IPython.core.display.Markdown object>"
            ],
            "text/markdown": "   News Corp (NWS) Q3 2025 Earnings Call Highlights: Strong Net Income Growth and Strategic Moves : News Corp (NWS) reports a 67% increase in net income and strategic advancements despite facing currency headwinds and market challenges.\n"
          },
          "metadata": {}
        },
        {
          "output_type": "display_data",
          "data": {
            "text/plain": [
              "<IPython.core.display.Markdown object>"
            ],
            "text/markdown": "####JKHY -  (, ) — score 0.405\n\n"
          },
          "metadata": {}
        },
        {
          "output_type": "display_data",
          "data": {
            "text/plain": [
              "<IPython.core.display.Markdown object>"
            ],
            "text/markdown": "   3 IT Services Stocks to Buy Right Now From a Prospering Industry : The Zacks Computers - IT Services Industry participants like JKHY, SAIC and DXC are benefiting from ongoing digitization, strong demand for hybrid working solutions and improving IT spending.\n"
          },
          "metadata": {}
        },
        {
          "output_type": "display_data",
          "data": {
            "text/plain": [
              "<IPython.core.display.Markdown object>"
            ],
            "text/markdown": "###Question:\nWhat financial news headlines connect Amazon with automation or logistics?"
          },
          "metadata": {}
        },
        {
          "output_type": "display_data",
          "data": {
            "text/plain": [
              "<IPython.core.display.Markdown object>"
            ],
            "text/markdown": "###Answer:\nThe financial news highlights two key connections between Amazon and automation or logistics. First, Amazon's CEO of AWS, Matt Garman, emphasized that artificial intelligence is being integrated across all aspects of Amazon's operations, which includes automation in logistics and service delivery. Second, Stord, a logistics tech startup, has acquired UPS's Ware2Go, expanding its fulfillment capabilities to compete directly with Amazon. This acquisition adds 2.5 million square feet of fulfillment space, enhancing Stord's logistics network across the U.S., Canada, the U.K., and the Netherlands, thereby intensifying competition in the e-commerce logistics sector."
          },
          "metadata": {}
        },
        {
          "output_type": "display_data",
          "data": {
            "text/plain": [
              "<IPython.core.display.Markdown object>"
            ],
            "text/markdown": "###Context used:\n"
          },
          "metadata": {}
        },
        {
          "output_type": "display_data",
          "data": {
            "text/plain": [
              "<IPython.core.display.Markdown object>"
            ],
            "text/markdown": "####TFC -  (, ) — score 0.629\n\n"
          },
          "metadata": {}
        },
        {
          "output_type": "display_data",
          "data": {
            "text/plain": [
              "<IPython.core.display.Markdown object>"
            ],
            "text/markdown": "   Truist Reiterates Buy on Amazon.com (AMZN) as Q2 Revenue Tracks Ahead : We recently published a list of 10 AI Stocks on Wall Street’s Radar. In this article, we are going to take a look at where Amazon.com Inc. (NASDAQ:AMZN) stands against other AI stocks on Wall Street’s radar. Amazon.com Inc. (NASDAQ:AMZN) is an American technology company offering e-commerce, cloud computing, and other services, including digital streaming […]\n"
          },
          "metadata": {}
        },
        {
          "output_type": "display_data",
          "data": {
            "text/plain": [
              "<IPython.core.display.Markdown object>"
            ],
            "text/markdown": "####AMZN -  (, ) — score 0.564\n\n"
          },
          "metadata": {}
        },
        {
          "output_type": "display_data",
          "data": {
            "text/plain": [
              "<IPython.core.display.Markdown object>"
            ],
            "text/markdown": "   Amazon's AI Roadmap With AWS CEO Garman : Every aspect of Amazon is leveraging artificial intelligence, says Matt Garman, CEO of Amazon Web Services. Garman discusses Amazon's AI roadmap and reflects on his first year in the role with Ed Ludlow on \"Bloomberg Technology.\"\n"
          },
          "metadata": {}
        },
        {
          "output_type": "display_data",
          "data": {
            "text/plain": [
              "<IPython.core.display.Markdown object>"
            ],
            "text/markdown": "####TFC -  (, ) — score 0.556\n\n"
          },
          "metadata": {}
        },
        {
          "output_type": "display_data",
          "data": {
            "text/plain": [
              "<IPython.core.display.Markdown object>"
            ],
            "text/markdown": "   Woodward's Volumes, Automation to Drive Earnings Growth, Truist Says : Woodward's (WWD) increasing volumes, pricing, automation, and products will push its aerospace margi\n"
          },
          "metadata": {}
        },
        {
          "output_type": "display_data",
          "data": {
            "text/plain": [
              "<IPython.core.display.Markdown object>"
            ],
            "text/markdown": "####AON -  (, ) — score 0.544\n\n"
          },
          "metadata": {}
        },
        {
          "output_type": "display_data",
          "data": {
            "text/plain": [
              "<IPython.core.display.Markdown object>"
            ],
            "text/markdown": "   Top Stock Reports for Amazon.com, Johnson & Johnson & Cisco Systems : Today's Research Daily features new research reports on 16 major stocks, including Amazon.com, Inc. (AMZN), Johnson & Johnson (JNJ) and Cisco Systems, Inc. (CSCO), as well as a micro-cap NeurAxis, Inc. (NRXS).\n"
          },
          "metadata": {}
        },
        {
          "output_type": "display_data",
          "data": {
            "text/plain": [
              "<IPython.core.display.Markdown object>"
            ],
            "text/markdown": "####OKE -  (, ) — score 0.537\n\n"
          },
          "metadata": {}
        },
        {
          "output_type": "display_data",
          "data": {
            "text/plain": [
              "<IPython.core.display.Markdown object>"
            ],
            "text/markdown": "   Here's Why We Think ONEOK (NYSE:OKE) Might Deserve Your Attention Today : Investors are often guided by the idea of discovering 'the next big thing', even if that means buying 'story stocks...\n"
          },
          "metadata": {}
        },
        {
          "output_type": "display_data",
          "data": {
            "text/plain": [
              "<IPython.core.display.Markdown object>"
            ],
            "text/markdown": "####UPS -  (, ) — score 0.528\n\n"
          },
          "metadata": {}
        },
        {
          "output_type": "display_data",
          "data": {
            "text/plain": [
              "<IPython.core.display.Markdown object>"
            ],
            "text/markdown": "   UPS Sells Ware2Go To Peter Thiel-Backed Stord As Startup Gains 2.5M Square Feet To Compete With Amazon, Expand To U.K. And Netherlands : Stord, the logistics tech startup founded by former Thiel fellow Sean Henry, is stepping up its campaign to challenge Amazon's (NASDAQ:AMZN) grip on e-commerce by acquiring United Parcel Service (NYSE:UPS) subsidiary Ware2Go. The deal, announced Monday, brings an additional 2.5 million square feet of fulfillment space into Stord's network and according to CNBC, it strengthens its growing footprint across the U.S., Canada, the U.K., and the Netherlands. Don't Miss: Hasbro, MGM, and Skechers trust\n"
          },
          "metadata": {}
        },
        {
          "output_type": "display_data",
          "data": {
            "text/plain": [
              "<IPython.core.display.Markdown object>"
            ],
            "text/markdown": "####NVDA -  (, ) — score 0.523\n\n"
          },
          "metadata": {}
        },
        {
          "output_type": "display_data",
          "data": {
            "text/plain": [
              "<IPython.core.display.Markdown object>"
            ],
            "text/markdown": "   Nvidia can't be stopped, Apple falls behind, and the AI data center race: Tech news roundup : When Microsoft (MSFT) pulled the plug on planned data centers in Ohio last month and a Wells Fargo (WFC) report suggested Amazon (AMZN) Web Services was reconsidering some leases, market watchers quickly diagnosed the symptoms: AI bubble concerns, demand uncertainty, and the inevitable cooldown after years of breakneck expansion.\n"
          },
          "metadata": {}
        },
        {
          "output_type": "display_data",
          "data": {
            "text/plain": [
              "<IPython.core.display.Markdown object>"
            ],
            "text/markdown": "####FDX -  (, ) — score 0.512\n\n"
          },
          "metadata": {}
        },
        {
          "output_type": "display_data",
          "data": {
            "text/plain": [
              "<IPython.core.display.Markdown object>"
            ],
            "text/markdown": "   FedEx's Strategic Moves: A Deep Dive into Its Undervalued Potential : Taking a closer look at the Courier, Freight, and Logistics giant\n"
          },
          "metadata": {}
        },
        {
          "output_type": "display_data",
          "data": {
            "text/plain": [
              "<IPython.core.display.Markdown object>"
            ],
            "text/markdown": "####RF -  (, ) — score 0.511\n\n"
          },
          "metadata": {}
        },
        {
          "output_type": "display_data",
          "data": {
            "text/plain": [
              "<IPython.core.display.Markdown object>"
            ],
            "text/markdown": "   Company News for Apr 21, 2025 : Companies in The News Are: BX,KEY,SCHW,RF\n"
          },
          "metadata": {}
        },
        {
          "output_type": "display_data",
          "data": {
            "text/plain": [
              "<IPython.core.display.Markdown object>"
            ],
            "text/markdown": "####UPS -  (, ) — score 0.509\n\n"
          },
          "metadata": {}
        },
        {
          "output_type": "display_data",
          "data": {
            "text/plain": [
              "<IPython.core.display.Markdown object>"
            ],
            "text/markdown": "   United Parcel Service, Inc. (UPS) is Attracting Investor Attention: Here is What You Should Know : UPS (UPS) has received quite a bit of attention from Zacks.com users lately. Therefore, it is wise to be aware of the facts that can impact the stock's prospects.\n"
          },
          "metadata": {}
        },
        {
          "output_type": "display_data",
          "data": {
            "text/plain": [
              "<IPython.core.display.Markdown object>"
            ],
            "text/markdown": "####EMR -  (, ) — score 0.507\n\n"
          },
          "metadata": {}
        },
        {
          "output_type": "display_data",
          "data": {
            "text/plain": [
              "<IPython.core.display.Markdown object>"
            ],
            "text/markdown": "   Company News for May 8, 2025 : Companies in The News Are: DIS, UBER, EMR, GOOGL, AAPL\n"
          },
          "metadata": {}
        },
        {
          "output_type": "display_data",
          "data": {
            "text/plain": [
              "<IPython.core.display.Markdown object>"
            ],
            "text/markdown": "####CHRW -  (, ) — score 0.504\n\n"
          },
          "metadata": {}
        },
        {
          "output_type": "display_data",
          "data": {
            "text/plain": [
              "<IPython.core.display.Markdown object>"
            ],
            "text/markdown": "   Winners And Losers Of Q1: Hub Group (NASDAQ:HUBG) Vs The Rest Of The Air Freight and Logistics Stocks : Quarterly earnings results are a good time to check in on a company’s progress, especially compared to its peers in the same sector. Today we are looking at Hub Group (NASDAQ:HUBG) and the best and worst performers in the air freight and logistics industry.\n"
          },
          "metadata": {}
        },
        {
          "output_type": "display_data",
          "data": {
            "text/plain": [
              "<IPython.core.display.Markdown object>"
            ],
            "text/markdown": "####PCAR -  (, ) — score 0.501\n\n"
          },
          "metadata": {}
        },
        {
          "output_type": "display_data",
          "data": {
            "text/plain": [
              "<IPython.core.display.Markdown object>"
            ],
            "text/markdown": "   Why Aurora Innovation, Inc. (AUR) Went Down Today : We recently published a list of These 10 Stocks Were Sold Down Today, And Here’s Why. In this article, we are going to take a look at where Aurora Innovation, Inc. (NASDAQ:AUR) stands against other stocks that were sold down today. Ten mid-cap stocks were sold down on Monday, bucking a wider market optimism, amid […]\n"
          },
          "metadata": {}
        },
        {
          "output_type": "display_data",
          "data": {
            "text/plain": [
              "<IPython.core.display.Markdown object>"
            ],
            "text/markdown": "####EA -  (, ) — score 0.498\n\n"
          },
          "metadata": {}
        },
        {
          "output_type": "display_data",
          "data": {
            "text/plain": [
              "<IPython.core.display.Markdown object>"
            ],
            "text/markdown": "   Electronic Arts Inc.'s (NASDAQ:EA) Stock Has Seen Strong Momentum: Does That Call For Deeper Study Of Its Financial Prospects? : Most readers would already be aware that Electronic Arts' (NASDAQ:EA) stock increased significantly by 13% over the...\n"
          },
          "metadata": {}
        },
        {
          "output_type": "display_data",
          "data": {
            "text/plain": [
              "<IPython.core.display.Markdown object>"
            ],
            "text/markdown": "####SW -  (, ) — score 0.494\n\n"
          },
          "metadata": {}
        },
        {
          "output_type": "display_data",
          "data": {
            "text/plain": [
              "<IPython.core.display.Markdown object>"
            ],
            "text/markdown": "   Stocks to watch this week: Apple, Microsoft, Shell, HSBC, Lloyds and AstraZeneca : Earnings preview of key companies reporting next week and what to look out for.\n"
          },
          "metadata": {}
        },
        {
          "output_type": "display_data",
          "data": {
            "text/plain": [
              "<IPython.core.display.Markdown object>"
            ],
            "text/markdown": "####ADP -  (, ) — score 0.490\n\n"
          },
          "metadata": {}
        },
        {
          "output_type": "display_data",
          "data": {
            "text/plain": [
              "<IPython.core.display.Markdown object>"
            ],
            "text/markdown": "   Are Strong Financial Prospects The Force That Is Driving The Momentum In Automatic Data Processing, Inc.'s NASDAQ:ADP) Stock? : Automatic Data Processing (NASDAQ:ADP) has had a great run on the share market with its stock up by a significant 10...\n"
          },
          "metadata": {}
        },
        {
          "output_type": "display_data",
          "data": {
            "text/plain": [
              "<IPython.core.display.Markdown object>"
            ],
            "text/markdown": "####PAYX -  (, ) — score 0.489\n\n"
          },
          "metadata": {}
        },
        {
          "output_type": "display_data",
          "data": {
            "text/plain": [
              "<IPython.core.display.Markdown object>"
            ],
            "text/markdown": "   A Look Back at HR Software Stocks’ Q1 Earnings: Asure (NASDAQ:ASUR) Vs The Rest Of The Pack : The end of an earnings season can be a great time to discover new stocks and assess how companies are handling the current business environment. Let’s take a look at how Asure (NASDAQ:ASUR) and the rest of the hr software stocks fared in Q1.\n"
          },
          "metadata": {}
        },
        {
          "output_type": "display_data",
          "data": {
            "text/plain": [
              "<IPython.core.display.Markdown object>"
            ],
            "text/markdown": "####DASH -  (, ) — score 0.484\n\n"
          },
          "metadata": {}
        },
        {
          "output_type": "display_data",
          "data": {
            "text/plain": [
              "<IPython.core.display.Markdown object>"
            ],
            "text/markdown": "   DoorDash Stock (DASH) Falls as Record Profits Meet Aggressive Expansion : Delivery service DoorDash (DASH) reported its largest quarterly profit to date at $193 million for Q1 2025 — a remarkable swing from a $23 million loss this time last year. Yet, shares have tumbled over 10% as the company also announced two major acquisitions totaling $5 billion, leaving investors wondering whether the food delivery giant is growing too fast for its own good. The answer isn’t immediately clear. Therefore, investors might want to hold off on this one for now and let the dust sett\n"
          },
          "metadata": {}
        },
        {
          "output_type": "display_data",
          "data": {
            "text/plain": [
              "<IPython.core.display.Markdown object>"
            ],
            "text/markdown": "####JKHY -  (, ) — score 0.479\n\n"
          },
          "metadata": {}
        },
        {
          "output_type": "display_data",
          "data": {
            "text/plain": [
              "<IPython.core.display.Markdown object>"
            ],
            "text/markdown": "   Jack Henry (JKHY) Integrates AI-Driven Lending Tech With Algebrik : We recently published a list of 12 AI News Investors Should Not Miss This Week. In this article, we are going to take a look at where Jack Henry & Associates, Inc. (NASDAQ:JKHY) stands against other AI news Investors should not miss this week. Artificial Intelligence (AI) is known to increase productivity, decrease human error, […]\n"
          },
          "metadata": {}
        },
        {
          "output_type": "display_data",
          "data": {
            "text/plain": [
              "<IPython.core.display.Markdown object>"
            ],
            "text/markdown": "####ETN -  (, ) — score 0.476\n\n"
          },
          "metadata": {}
        },
        {
          "output_type": "display_data",
          "data": {
            "text/plain": [
              "<IPython.core.display.Markdown object>"
            ],
            "text/markdown": "   4 Manufacturing Electronics Stocks to Watch on Robust Industry Trends : The Zacks Manufacturing - Electronics industry benefits from solid momentum across major end markets. ETN, EMR, ENS and POWL are some notable stocks in the industry.\n"
          },
          "metadata": {}
        },
        {
          "output_type": "display_data",
          "data": {
            "text/plain": [
              "<IPython.core.display.Markdown object>"
            ],
            "text/markdown": "####ECL -  (, ) — score 0.475\n\n"
          },
          "metadata": {}
        },
        {
          "output_type": "display_data",
          "data": {
            "text/plain": [
              "<IPython.core.display.Markdown object>"
            ],
            "text/markdown": "   Was Jim Cramer Right About Ecolab (ECL)? : We recently published a list of Jim Cramer Nailed These 12 Stock Predictions. In this article, we are going to take a look at where Ecolab Inc. (NYSE:ECL) stands against other stocks that Jim Cramer discusses. During a recent episode of Mad Money, which aired on Wednesday, the 7th of May, Jim Cramer gave some advice […]\n"
          },
          "metadata": {}
        },
        {
          "output_type": "display_data",
          "data": {
            "text/plain": [
              "<IPython.core.display.Markdown object>"
            ],
            "text/markdown": "####ETN -  (, ) — score 0.475\n\n"
          },
          "metadata": {}
        },
        {
          "output_type": "display_data",
          "data": {
            "text/plain": [
              "<IPython.core.display.Markdown object>"
            ],
            "text/markdown": "   Zacks Industry Outlook Highlights Eaton, Emerson Electric, EnerSys and Powell Industries : Eaton, Emerson Electric, EnerSys and Powell Industries are part of the Zacks Industry Outlook article.\n"
          },
          "metadata": {}
        },
        {
          "output_type": "display_data",
          "data": {
            "text/plain": [
              "<IPython.core.display.Markdown object>"
            ],
            "text/markdown": "####WELL -  (, ) — score 0.472\n\n"
          },
          "metadata": {}
        },
        {
          "output_type": "display_data",
          "data": {
            "text/plain": [
              "<IPython.core.display.Markdown object>"
            ],
            "text/markdown": "   Top Stock Reports for Alphabet, Berkshire Hathaway & Visa : Today's Research Daily features new research reports on 16 major stocks, including Alphabet Inc. (GOOGL), Berkshire Hathaway Inc. (BRK.B) and Visa Inc. (V), as well as a micro-cap stock bioAffinity Technologies, Inc. (BIAF).\n"
          },
          "metadata": {}
        },
        {
          "output_type": "display_data",
          "data": {
            "text/plain": [
              "<IPython.core.display.Markdown object>"
            ],
            "text/markdown": "####JKHY -  (, ) — score 0.469\n\n"
          },
          "metadata": {}
        },
        {
          "output_type": "display_data",
          "data": {
            "text/plain": [
              "<IPython.core.display.Markdown object>"
            ],
            "text/markdown": "   With EPS Growth And More, Jack Henry & Associates (NASDAQ:JKHY) Makes An Interesting Case : Investors are often guided by the idea of discovering 'the next big thing', even if that means buying 'story stocks...\n"
          },
          "metadata": {}
        },
        {
          "output_type": "display_data",
          "data": {
            "text/plain": [
              "<IPython.core.display.Markdown object>"
            ],
            "text/markdown": "####LIN -  (, ) — score 0.456\n\n"
          },
          "metadata": {}
        },
        {
          "output_type": "display_data",
          "data": {
            "text/plain": [
              "<IPython.core.display.Markdown object>"
            ],
            "text/markdown": "   Stocks to watch this week: Amazon, Palantir, Disney, Novo Nordisk and AstraZeneca : Earnings preview of key companies reporting this week and what to look out for.\n"
          },
          "metadata": {}
        }
      ]
    },
    {
      "cell_type": "code",
      "source": [
        "#\n",
        "# Questions Industry\n",
        "print_markdown(\"#Industry\")\n",
        "for q in questions_industry:\n",
        "    rag(q, faiss_store,  k=K)"
      ],
      "metadata": {
        "colab": {
          "base_uri": "https://localhost:8080/",
          "height": 1000
        },
        "id": "Lpzc-cneCZDY",
        "outputId": "c9a046eb-4bc3-4e48-d43a-55894331c6ae"
      },
      "id": "Lpzc-cneCZDY",
      "execution_count": null,
      "outputs": [
        {
          "output_type": "display_data",
          "data": {
            "text/plain": [
              "<IPython.core.display.Markdown object>"
            ],
            "text/markdown": "#Industry"
          },
          "metadata": {}
        },
        {
          "output_type": "display_data",
          "data": {
            "text/plain": [
              "<IPython.core.display.Markdown object>"
            ],
            "text/markdown": "###Question:\nWhat are the main themes emerging in financial news about the semiconductor industry?"
          },
          "metadata": {}
        },
        {
          "output_type": "display_data",
          "data": {
            "text/plain": [
              "<IPython.core.display.Markdown object>"
            ],
            "text/markdown": "###Answer:\nThe financial news surrounding the semiconductor industry highlights several key themes. ON Semiconductor Corporation (ON) has garnered significant attention due to its international revenue trends and recent stock performance, including a 30% price surge despite reporting a net loss for Q1 2025. Investor interest is also reflected in ON's ongoing share buyback program, which may have bolstered confidence amid challenging earnings. Additionally, there are concerns regarding declining demand in electric vehicles (EVs), which could impact growth, particularly in sectors like silicon carbide (SiC) and AI data centers. Overall, the semiconductor sector appears to be navigating a complex landscape of investor optimism and macroeconomic challenges."
          },
          "metadata": {}
        },
        {
          "output_type": "display_data",
          "data": {
            "text/plain": [
              "<IPython.core.display.Markdown object>"
            ],
            "text/markdown": "###Context used:\n"
          },
          "metadata": {}
        },
        {
          "output_type": "display_data",
          "data": {
            "text/plain": [
              "<IPython.core.display.Markdown object>"
            ],
            "text/markdown": "####ON -  (, ) — score 0.659\n\n"
          },
          "metadata": {}
        },
        {
          "output_type": "display_data",
          "data": {
            "text/plain": [
              "<IPython.core.display.Markdown object>"
            ],
            "text/markdown": "   Investing in ON Semiconductor Corp. (ON)? Don't Miss Assessing Its International Revenue Trends : Explore ON Semiconductor Corp.'s (ON) international revenue trends and how these numbers impact Wall Street's forecasts and what's ahead for the stock.\n"
          },
          "metadata": {}
        },
        {
          "output_type": "display_data",
          "data": {
            "text/plain": [
              "<IPython.core.display.Markdown object>"
            ],
            "text/markdown": "####ON -  (, ) — score 0.611\n\n"
          },
          "metadata": {}
        },
        {
          "output_type": "display_data",
          "data": {
            "text/plain": [
              "<IPython.core.display.Markdown object>"
            ],
            "text/markdown": "   ON Semiconductor Corporation (ON) is Attracting Investor Attention: Here is What You Should Know : Recently, Zacks.com users have been paying close attention to ON Semiconductor Corp. (ON). This makes it worthwhile to examine what the stock has in store.\n"
          },
          "metadata": {}
        },
        {
          "output_type": "display_data",
          "data": {
            "text/plain": [
              "<IPython.core.display.Markdown object>"
            ],
            "text/markdown": "####ON -  (, ) — score 0.592\n\n"
          },
          "metadata": {}
        },
        {
          "output_type": "display_data",
          "data": {
            "text/plain": [
              "<IPython.core.display.Markdown object>"
            ],
            "text/markdown": "   Some May Be Optimistic About ON Semiconductor's (NASDAQ:ON) Earnings : Soft earnings didn't appear to concern ON Semiconductor Corporation's ( NASDAQ:ON ) shareholders over the last week...\n"
          },
          "metadata": {}
        },
        {
          "output_type": "display_data",
          "data": {
            "text/plain": [
              "<IPython.core.display.Markdown object>"
            ],
            "text/markdown": "####ADI -  (, ) — score 0.585\n\n"
          },
          "metadata": {}
        },
        {
          "output_type": "display_data",
          "data": {
            "text/plain": [
              "<IPython.core.display.Markdown object>"
            ],
            "text/markdown": "   Spotting Winners: Vishay Intertechnology (NYSE:VSH) And Analog Semiconductors Stocks In Q1 : The end of an earnings season can be a great time to discover new stocks and assess how companies are handling the current business environment. Let’s take a look at how Vishay Intertechnology (NYSE:VSH) and the rest of the analog semiconductors stocks fared in Q1.\n"
          },
          "metadata": {}
        },
        {
          "output_type": "display_data",
          "data": {
            "text/plain": [
              "<IPython.core.display.Markdown object>"
            ],
            "text/markdown": "####ON -  (, ) — score 0.561\n\n"
          },
          "metadata": {}
        },
        {
          "output_type": "display_data",
          "data": {
            "text/plain": [
              "<IPython.core.display.Markdown object>"
            ],
            "text/markdown": "   ON Semiconductor (ON): Among Billionaire Glenn Russell Dubin’s Stock Picks with Huge Upside Potential : We recently published a list of Billionaire Glenn Russell Dubin’s 10 Stock Picks with Huge Upside Potential. In this article, we are going to take a look at where ON Semiconductor Corporation (NASDAQ:ON) stands against Billionaire Glenn Russell Dubin’s other stock picks with huge upside potential. Glenn Russell Dubin is one of the industry’s most […]\n"
          },
          "metadata": {}
        },
        {
          "output_type": "display_data",
          "data": {
            "text/plain": [
              "<IPython.core.display.Markdown object>"
            ],
            "text/markdown": "####BK -  (, ) — score 0.560\n\n"
          },
          "metadata": {}
        },
        {
          "output_type": "display_data",
          "data": {
            "text/plain": [
              "<IPython.core.display.Markdown object>"
            ],
            "text/markdown": "   Here's Why Bank of New York Mellon (NYSE:BK) Has Caught The Eye Of Investors : The excitement of investing in a company that can reverse its fortunes is a big draw for some speculators, so even...\n"
          },
          "metadata": {}
        },
        {
          "output_type": "display_data",
          "data": {
            "text/plain": [
              "<IPython.core.display.Markdown object>"
            ],
            "text/markdown": "####ETR -  (, ) — score 0.559\n\n"
          },
          "metadata": {}
        },
        {
          "output_type": "display_data",
          "data": {
            "text/plain": [
              "<IPython.core.display.Markdown object>"
            ],
            "text/markdown": "   The Return Trends At Entergy (NYSE:ETR) Look Promising : What trends should we look for it we want to identify stocks that can multiply in value over the long term? One common...\n"
          },
          "metadata": {}
        },
        {
          "output_type": "display_data",
          "data": {
            "text/plain": [
              "<IPython.core.display.Markdown object>"
            ],
            "text/markdown": "####RMD -  (, ) — score 0.555\n\n"
          },
          "metadata": {}
        },
        {
          "output_type": "display_data",
          "data": {
            "text/plain": [
              "<IPython.core.display.Markdown object>"
            ],
            "text/markdown": "   1 Surging  Stock with Exciting Potential and 2 to Avoid : Exciting developments are taking place for the stocks in this article. They’ve all surged ahead of the broader market over the last month as catalysts such as new products and positive media coverage have propelled their returns.\n"
          },
          "metadata": {}
        },
        {
          "output_type": "display_data",
          "data": {
            "text/plain": [
              "<IPython.core.display.Markdown object>"
            ],
            "text/markdown": "####ON -  (, ) — score 0.542\n\n"
          },
          "metadata": {}
        },
        {
          "output_type": "display_data",
          "data": {
            "text/plain": [
              "<IPython.core.display.Markdown object>"
            ],
            "text/markdown": "   ON Semiconductor (NasdaqGS:ON) Posts 30% Price Surge Over Last Month Despite Q1 2025 Net Loss : ON Semiconductor (NasdaqGS:ON) has been actively engaging in a share buyback program, with a significant tranche completed that may have bolstered investor confidence. Despite reporting a net loss for the first quarter of 2025, alongside reduced sales figures, the company's stock price increased by 30% over the last month. This sharp rise contrasts the broader market's more modest 4% uptick, suggesting that ON's ongoing share repurchases, despite negative earnings news, may have contributed...\n"
          },
          "metadata": {}
        },
        {
          "output_type": "display_data",
          "data": {
            "text/plain": [
              "<IPython.core.display.Markdown object>"
            ],
            "text/markdown": "####OKE -  (, ) — score 0.540\n\n"
          },
          "metadata": {}
        },
        {
          "output_type": "display_data",
          "data": {
            "text/plain": [
              "<IPython.core.display.Markdown object>"
            ],
            "text/markdown": "   Here's Why We Think ONEOK (NYSE:OKE) Might Deserve Your Attention Today : Investors are often guided by the idea of discovering 'the next big thing', even if that means buying 'story stocks...\n"
          },
          "metadata": {}
        },
        {
          "output_type": "display_data",
          "data": {
            "text/plain": [
              "<IPython.core.display.Markdown object>"
            ],
            "text/markdown": "####DELL -  (, ) — score 0.531\n\n"
          },
          "metadata": {}
        },
        {
          "output_type": "display_data",
          "data": {
            "text/plain": [
              "<IPython.core.display.Markdown object>"
            ],
            "text/markdown": "   Dell Technologies (NYSE:DELL) Projects 16% Q2 Revenue Growth Year Over Year : Dell Technologies (NYSE:DELL) recently reported a successful first quarter for 2025, with revenue growth but a slight dip in net income, coinciding with optimistic guidance for the upcoming quarter and fiscal year. This positive outlook, along with strategic partnerships and AI-focused product innovations, likely added weight to the company's share price increase of 21% last month. Despite stocks being generally lower following trade uncertainties, the tech-heavy Nasdaq and the broader market...\n"
          },
          "metadata": {}
        },
        {
          "output_type": "display_data",
          "data": {
            "text/plain": [
              "<IPython.core.display.Markdown object>"
            ],
            "text/markdown": "####NXPI -  (, ) — score 0.530\n\n"
          },
          "metadata": {}
        },
        {
          "output_type": "display_data",
          "data": {
            "text/plain": [
              "<IPython.core.display.Markdown object>"
            ],
            "text/markdown": "   Is NXP Semiconductors N.V.'s (NASDAQ:NXPI) ROE Of 25% Impressive? : While some investors are already well versed in financial metrics (hat tip), this article is for those who would like...\n"
          },
          "metadata": {}
        },
        {
          "output_type": "display_data",
          "data": {
            "text/plain": [
              "<IPython.core.display.Markdown object>"
            ],
            "text/markdown": "####ON -  (, ) — score 0.521\n\n"
          },
          "metadata": {}
        },
        {
          "output_type": "display_data",
          "data": {
            "text/plain": [
              "<IPython.core.display.Markdown object>"
            ],
            "text/markdown": "   ON Semiconductor Plunges 35% YTD: Buy, Sell or Hold the Stock? : ON shows strong growth across SiC and AI Data Centers amidst declining EV demand due to challenging macroeconomic conditions.\n"
          },
          "metadata": {}
        },
        {
          "output_type": "display_data",
          "data": {
            "text/plain": [
              "<IPython.core.display.Markdown object>"
            ],
            "text/markdown": "####PKG -  (, ) — score 0.519\n\n"
          },
          "metadata": {}
        },
        {
          "output_type": "display_data",
          "data": {
            "text/plain": [
              "<IPython.core.display.Markdown object>"
            ],
            "text/markdown": "   Packaging Corporation of America (NYSE:PKG) Hasn't Managed To Accelerate Its Returns : What trends should we look for it we want to identify stocks that can multiply in value over the long term? Amongst...\n"
          },
          "metadata": {}
        },
        {
          "output_type": "display_data",
          "data": {
            "text/plain": [
              "<IPython.core.display.Markdown object>"
            ],
            "text/markdown": "####JKHY -  (, ) — score 0.517\n\n"
          },
          "metadata": {}
        },
        {
          "output_type": "display_data",
          "data": {
            "text/plain": [
              "<IPython.core.display.Markdown object>"
            ],
            "text/markdown": "   With EPS Growth And More, Jack Henry & Associates (NASDAQ:JKHY) Makes An Interesting Case : Investors are often guided by the idea of discovering 'the next big thing', even if that means buying 'story stocks...\n"
          },
          "metadata": {}
        },
        {
          "output_type": "display_data",
          "data": {
            "text/plain": [
              "<IPython.core.display.Markdown object>"
            ],
            "text/markdown": "####FDS -  (, ) — score 0.516\n\n"
          },
          "metadata": {}
        },
        {
          "output_type": "display_data",
          "data": {
            "text/plain": [
              "<IPython.core.display.Markdown object>"
            ],
            "text/markdown": "   Do FactSet Research Systems' (NYSE:FDS) Earnings Warrant Your Attention? : It's common for many investors, especially those who are inexperienced, to buy shares in companies with a good story...\n"
          },
          "metadata": {}
        },
        {
          "output_type": "display_data",
          "data": {
            "text/plain": [
              "<IPython.core.display.Markdown object>"
            ],
            "text/markdown": "####ETN -  (, ) — score 0.516\n\n"
          },
          "metadata": {}
        },
        {
          "output_type": "display_data",
          "data": {
            "text/plain": [
              "<IPython.core.display.Markdown object>"
            ],
            "text/markdown": "   4 Manufacturing Electronics Stocks to Watch on Robust Industry Trends : The Zacks Manufacturing - Electronics industry benefits from solid momentum across major end markets. ETN, EMR, ENS and POWL are some notable stocks in the industry.\n"
          },
          "metadata": {}
        },
        {
          "output_type": "display_data",
          "data": {
            "text/plain": [
              "<IPython.core.display.Markdown object>"
            ],
            "text/markdown": "####NXPI -  (, ) — score 0.512\n\n"
          },
          "metadata": {}
        },
        {
          "output_type": "display_data",
          "data": {
            "text/plain": [
              "<IPython.core.display.Markdown object>"
            ],
            "text/markdown": "   Returns At NXP Semiconductors (NASDAQ:NXPI) Are On The Way Up : There are a few key trends to look for if we want to identify the next multi-bagger. Ideally, a business will show two...\n"
          },
          "metadata": {}
        },
        {
          "output_type": "display_data",
          "data": {
            "text/plain": [
              "<IPython.core.display.Markdown object>"
            ],
            "text/markdown": "####CDW -  (, ) — score 0.506\n\n"
          },
          "metadata": {}
        },
        {
          "output_type": "display_data",
          "data": {
            "text/plain": [
              "<IPython.core.display.Markdown object>"
            ],
            "text/markdown": "   Earnings Beat: Here's What CDW Corporation (NASDAQ:CDW) Analysts Are Forecasting For This Year : CDW Corporation ( NASDAQ:CDW ) investors will be delighted, with the company turning in some strong numbers with its...\n"
          },
          "metadata": {}
        },
        {
          "output_type": "display_data",
          "data": {
            "text/plain": [
              "<IPython.core.display.Markdown object>"
            ],
            "text/markdown": "####KMI -  (, ) — score 0.503\n\n"
          },
          "metadata": {}
        },
        {
          "output_type": "display_data",
          "data": {
            "text/plain": [
              "<IPython.core.display.Markdown object>"
            ],
            "text/markdown": "   With EPS Growth And More, Kinder Morgan (NYSE:KMI) Makes An Interesting Case : It's common for many investors, especially those who are inexperienced, to buy shares in companies with a good story...\n"
          },
          "metadata": {}
        },
        {
          "output_type": "display_data",
          "data": {
            "text/plain": [
              "<IPython.core.display.Markdown object>"
            ],
            "text/markdown": "####NXPI -  (, ) — score 0.498\n\n"
          },
          "metadata": {}
        },
        {
          "output_type": "display_data",
          "data": {
            "text/plain": [
              "<IPython.core.display.Markdown object>"
            ],
            "text/markdown": "   Should You Investigate NXP Semiconductors N.V. (NASDAQ:NXPI) At US$191? : Today we're going to take a look at the well-established NXP Semiconductors N.V. ( NASDAQ:NXPI ). The company's stock...\n"
          },
          "metadata": {}
        },
        {
          "output_type": "display_data",
          "data": {
            "text/plain": [
              "<IPython.core.display.Markdown object>"
            ],
            "text/markdown": "####IT -  (, ) — score 0.498\n\n"
          },
          "metadata": {}
        },
        {
          "output_type": "display_data",
          "data": {
            "text/plain": [
              "<IPython.core.display.Markdown object>"
            ],
            "text/markdown": "   Gartner (NYSE:IT) Is Investing Its Capital With Increasing Efficiency : What trends should we look for it we want to identify stocks that can multiply in value over the long term? Amongst...\n"
          },
          "metadata": {}
        },
        {
          "output_type": "display_data",
          "data": {
            "text/plain": [
              "<IPython.core.display.Markdown object>"
            ],
            "text/markdown": "####NUE -  (, ) — score 0.497\n\n"
          },
          "metadata": {}
        },
        {
          "output_type": "display_data",
          "data": {
            "text/plain": [
              "<IPython.core.display.Markdown object>"
            ],
            "text/markdown": "   As Trump's Tariffs Bring Market Volatility, Here Are 2 Reliable American Companies Investors Need to Know : Berkshire's operating businesses may perform even better with Warren Buffett's pick as the new CEO.  Reshoring of any manufacturing will bring much new business to Nucor.  President Donald Trump's tariff policies have thrown the stock and bond markets into a frenzy this spring.\n"
          },
          "metadata": {}
        },
        {
          "output_type": "display_data",
          "data": {
            "text/plain": [
              "<IPython.core.display.Markdown object>"
            ],
            "text/markdown": "####LNT -  (, ) — score 0.496\n\n"
          },
          "metadata": {}
        },
        {
          "output_type": "display_data",
          "data": {
            "text/plain": [
              "<IPython.core.display.Markdown object>"
            ],
            "text/markdown": "   Returns On Capital At Alliant Energy (NASDAQ:LNT) Have Hit The Brakes : If we want to find a stock that could multiply over the long term, what are the underlying trends we should look for...\n"
          },
          "metadata": {}
        },
        {
          "output_type": "display_data",
          "data": {
            "text/plain": [
              "<IPython.core.display.Markdown object>"
            ],
            "text/markdown": "####RF -  (, ) — score 0.490\n\n"
          },
          "metadata": {}
        },
        {
          "output_type": "display_data",
          "data": {
            "text/plain": [
              "<IPython.core.display.Markdown object>"
            ],
            "text/markdown": "   Company News for Apr 21, 2025 : Companies in The News Are: BX,KEY,SCHW,RF\n"
          },
          "metadata": {}
        },
        {
          "output_type": "display_data",
          "data": {
            "text/plain": [
              "<IPython.core.display.Markdown object>"
            ],
            "text/markdown": "###Question:\nWhat trends are being reported in the retail industry?"
          },
          "metadata": {}
        },
        {
          "output_type": "display_data",
          "data": {
            "text/plain": [
              "<IPython.core.display.Markdown object>"
            ],
            "text/markdown": "###Answer:\nThe retail industry is currently facing significant challenges, with stocks in the sector declining by 13.7% over the past six months, a performance notably worse than the S&P 500's 5.5% loss. Retailers are adapting their business models in response to technological changes and shifting consumer behaviors, but demand remains volatile. Additionally, the impact of trade policies, particularly tariffs, has led many retailers to adjust their supply chains and implement price increases. Concerns about inventory management are also rising, as a potential glut of inventory could lead to deeper discounts and margin pressures for companies. Overall, the retail sector is navigating a complex landscape marked by economic uncertainty and changing consumer dynamics."
          },
          "metadata": {}
        },
        {
          "output_type": "display_data",
          "data": {
            "text/plain": [
              "<IPython.core.display.Markdown object>"
            ],
            "text/markdown": "###Context used:\n"
          },
          "metadata": {}
        },
        {
          "output_type": "display_data",
          "data": {
            "text/plain": [
              "<IPython.core.display.Markdown object>"
            ],
            "text/markdown": "####KMX -  (, ) — score 0.614\n\n"
          },
          "metadata": {}
        },
        {
          "output_type": "display_data",
          "data": {
            "text/plain": [
              "<IPython.core.display.Markdown object>"
            ],
            "text/markdown": "   3 Consumer Stocks That Concern Us : Retailers are adapting their business models as technology changes how people shop. Still, demand can be volatile as the industry is exposed to the ups and downs of consumer spending. This has stirred some uncertainty lately as retail stocks have tumbled by 13.7% over the past six months. This performance was worse than the S&P 500’s 5.5% loss.\n"
          },
          "metadata": {}
        },
        {
          "output_type": "display_data",
          "data": {
            "text/plain": [
              "<IPython.core.display.Markdown object>"
            ],
            "text/markdown": "####BBY -  (, ) — score 0.549\n\n"
          },
          "metadata": {}
        },
        {
          "output_type": "display_data",
          "data": {
            "text/plain": [
              "<IPython.core.display.Markdown object>"
            ],
            "text/markdown": "   Retailers, Ducking Trade-War Curveballs, Stick to Their Plans : As legal rulings roll in on Trump’s tariff policies, retail executives say they have shifted their supply chains and many price increases already have hit shelves.\n"
          },
          "metadata": {}
        },
        {
          "output_type": "display_data",
          "data": {
            "text/plain": [
              "<IPython.core.display.Markdown object>"
            ],
            "text/markdown": "####HLT -  (, ) — score 0.541\n\n"
          },
          "metadata": {}
        },
        {
          "output_type": "display_data",
          "data": {
            "text/plain": [
              "<IPython.core.display.Markdown object>"
            ],
            "text/markdown": "   3 Consumer Stocks Skating on Thin Ice : The performance of consumer discretionary businesses is closely linked to economic cycles. Over the past six months, it seems like demand trends are working against their favor as the industry has tumbled by 12.3%. This drop was significantly worse than the S&P 500’s 2.1% decline.\n"
          },
          "metadata": {}
        },
        {
          "output_type": "display_data",
          "data": {
            "text/plain": [
              "<IPython.core.display.Markdown object>"
            ],
            "text/markdown": "####YUM -  (, ) — score 0.521\n\n"
          },
          "metadata": {}
        },
        {
          "output_type": "display_data",
          "data": {
            "text/plain": [
              "<IPython.core.display.Markdown object>"
            ],
            "text/markdown": "   1 Restaurant Stock with Competitive Advantages and 2 to Approach with Caution : From fast food to fine dining, restaurants play a vital societal role. But the side dish is that they’re quite difficult to operate because high inventory and labor costs generally lead to thin margins at the store level. This leaves little room for error if demand dries up, and it seems like the market has some reservations as the industry has tumbled by 13% over the past six months. This performance was noticeably worse than the S&P 500’s 1.9% decline.\n"
          },
          "metadata": {}
        },
        {
          "output_type": "display_data",
          "data": {
            "text/plain": [
              "<IPython.core.display.Markdown object>"
            ],
            "text/markdown": "####APD -  (, ) — score 0.517\n\n"
          },
          "metadata": {}
        },
        {
          "output_type": "display_data",
          "data": {
            "text/plain": [
              "<IPython.core.display.Markdown object>"
            ],
            "text/markdown": "   Air Products and Chemicals (NYSE:APD) Will Be Hoping To Turn Its Returns On Capital Around : To find a multi-bagger stock, what are the underlying trends we should look for in a business? Firstly, we'll want to...\n"
          },
          "metadata": {}
        },
        {
          "output_type": "display_data",
          "data": {
            "text/plain": [
              "<IPython.core.display.Markdown object>"
            ],
            "text/markdown": "####TDY -  (, ) — score 0.517\n\n"
          },
          "metadata": {}
        },
        {
          "output_type": "display_data",
          "data": {
            "text/plain": [
              "<IPython.core.display.Markdown object>"
            ],
            "text/markdown": "   1 Industrials Stock to Target This Week and 2 to Steer Clear Of : Industrials businesses quietly power the physical things we depend on, from cars and homes to e-commerce infrastructure. Unfortunately, this role also comes with a demand profile tethered to the ebbs and flows of the broader economy, and investors seem to be forecasting a downturn - over the past six months, the industry has pulled back by 11.8%. This drawdown was worse than the S&P 500’s 2.2% decline.\n"
          },
          "metadata": {}
        },
        {
          "output_type": "display_data",
          "data": {
            "text/plain": [
              "<IPython.core.display.Markdown object>"
            ],
            "text/markdown": "####PKG -  (, ) — score 0.510\n\n"
          },
          "metadata": {}
        },
        {
          "output_type": "display_data",
          "data": {
            "text/plain": [
              "<IPython.core.display.Markdown object>"
            ],
            "text/markdown": "   Packaging Corporation of America (NYSE:PKG) Hasn't Managed To Accelerate Its Returns : What trends should we look for it we want to identify stocks that can multiply in value over the long term? Amongst...\n"
          },
          "metadata": {}
        },
        {
          "output_type": "display_data",
          "data": {
            "text/plain": [
              "<IPython.core.display.Markdown object>"
            ],
            "text/markdown": "####MOH -  (, ) — score 0.494\n\n"
          },
          "metadata": {}
        },
        {
          "output_type": "display_data",
          "data": {
            "text/plain": [
              "<IPython.core.display.Markdown object>"
            ],
            "text/markdown": "   1 Healthcare Stock Worth Investigating and 2 to Ignore : Healthcare companies are pushing the status quo by innovating in areas like drug development and digital health. But speed bumps such as inventory destockings have persisted in the wake of COVID-19, and over the past six months, the industry has pulled back by 6.7%. This drop was discouraging since the S&P 500 held steady.\n"
          },
          "metadata": {}
        },
        {
          "output_type": "display_data",
          "data": {
            "text/plain": [
              "<IPython.core.display.Markdown object>"
            ],
            "text/markdown": "####LKQ -  (, ) — score 0.494\n\n"
          },
          "metadata": {}
        },
        {
          "output_type": "display_data",
          "data": {
            "text/plain": [
              "<IPython.core.display.Markdown object>"
            ],
            "text/markdown": "   3 Consumer Stocks Walking a Fine Line : The performance of consumer discretionary businesses is closely linked to economic cycles. Unfortunately, the industry’s recent performance suggests demand may be fading as discretionary stocks have pulled back by 11.4% over the past six months. This performance was worse than the S&P 500’s 6.2% loss.\n"
          },
          "metadata": {}
        },
        {
          "output_type": "display_data",
          "data": {
            "text/plain": [
              "<IPython.core.display.Markdown object>"
            ],
            "text/markdown": "####TT -  (, ) — score 0.491\n\n"
          },
          "metadata": {}
        },
        {
          "output_type": "display_data",
          "data": {
            "text/plain": [
              "<IPython.core.display.Markdown object>"
            ],
            "text/markdown": "   The Trend Of High Returns At Trane Technologies (NYSE:TT) Has Us Very Interested : There are a few key trends to look for if we want to identify the next multi-bagger. Firstly, we'd want to identify a...\n"
          },
          "metadata": {}
        },
        {
          "output_type": "display_data",
          "data": {
            "text/plain": [
              "<IPython.core.display.Markdown object>"
            ],
            "text/markdown": "####ETR -  (, ) — score 0.482\n\n"
          },
          "metadata": {}
        },
        {
          "output_type": "display_data",
          "data": {
            "text/plain": [
              "<IPython.core.display.Markdown object>"
            ],
            "text/markdown": "   The Return Trends At Entergy (NYSE:ETR) Look Promising : What trends should we look for it we want to identify stocks that can multiply in value over the long term? One common...\n"
          },
          "metadata": {}
        },
        {
          "output_type": "display_data",
          "data": {
            "text/plain": [
              "<IPython.core.display.Markdown object>"
            ],
            "text/markdown": "####LOW -  (, ) — score 0.481\n\n"
          },
          "metadata": {}
        },
        {
          "output_type": "display_data",
          "data": {
            "text/plain": [
              "<IPython.core.display.Markdown object>"
            ],
            "text/markdown": "   How to play retail stocks: 3 winners vs. 3 losers in the space : After a busy week of retail earnings, with Target (TGT) and Home Depot (HD) reporting results, Zacks Investment Management client portfolio manager Brian Mulberry comes on Market Domination to talk retailer stocks and designating three winners of the sector. To watch more expert insights and analysis on the latest market action, check out more Market Domination here.\n"
          },
          "metadata": {}
        },
        {
          "output_type": "display_data",
          "data": {
            "text/plain": [
              "<IPython.core.display.Markdown object>"
            ],
            "text/markdown": "####TPR -  (, ) — score 0.481\n\n"
          },
          "metadata": {}
        },
        {
          "output_type": "display_data",
          "data": {
            "text/plain": [
              "<IPython.core.display.Markdown object>"
            ],
            "text/markdown": "   Retailers could now be facing an inventory overflow on tariff pause : Retail stocks like Capri Holdings (CPRI), Adidas (ADDYY), and Lululemon (LULU) may face a glut of inventory as imports surge ahead of the 90-day tariff pause between the US and China, starting May 14. Bernstein Senior Analyst Aneesha Sherman explains why inventory overflows could trigger deeper discounts and margin pressure for many companies. To watch more expert insights and analysis on the latest market action, check out more Market Domination&nbsp;here.\n"
          },
          "metadata": {}
        },
        {
          "output_type": "display_data",
          "data": {
            "text/plain": [
              "<IPython.core.display.Markdown object>"
            ],
            "text/markdown": "####WMT -  (, ) — score 0.476\n\n"
          },
          "metadata": {}
        },
        {
          "output_type": "display_data",
          "data": {
            "text/plain": [
              "<IPython.core.display.Markdown object>"
            ],
            "text/markdown": "   The Reason Even Retailers That Raise Prices Want to Keep Your Grocery Bills Down : The grocery section is vital to many retailers' business, said NielsenIQ's Steve Zurek, who said food fuels store visits and customer loyalty.\n"
          },
          "metadata": {}
        },
        {
          "output_type": "display_data",
          "data": {
            "text/plain": [
              "<IPython.core.display.Markdown object>"
            ],
            "text/markdown": "####RTX -  (, ) — score 0.469\n\n"
          },
          "metadata": {}
        },
        {
          "output_type": "display_data",
          "data": {
            "text/plain": [
              "<IPython.core.display.Markdown object>"
            ],
            "text/markdown": "   3 Industrials Stocks with Questionable Fundamentals : Industrials businesses quietly power the physical things we depend on, from cars and homes to e-commerce infrastructure. Still, their generally high capital requirements expose them to the ups and downs of economic cycles, and the market seems to be baking in a prolonged downturn as the industry has shed 12.8% over the past six months. This drop was worse than the S&P 500’s 3.3% loss.\n"
          },
          "metadata": {}
        },
        {
          "output_type": "display_data",
          "data": {
            "text/plain": [
              "<IPython.core.display.Markdown object>"
            ],
            "text/markdown": "####GDDY -  (, ) — score 0.463\n\n"
          },
          "metadata": {}
        },
        {
          "output_type": "display_data",
          "data": {
            "text/plain": [
              "<IPython.core.display.Markdown object>"
            ],
            "text/markdown": "   What To Expect From Shopify’s (SHOP) Q1 Earnings : E-commerce software platform Shopify (NYSE:SHOP) will be reporting results tomorrow before market open. Here’s what to look for.\n"
          },
          "metadata": {}
        },
        {
          "output_type": "display_data",
          "data": {
            "text/plain": [
              "<IPython.core.display.Markdown object>"
            ],
            "text/markdown": "####XEL -  (, ) — score 0.461\n\n"
          },
          "metadata": {}
        },
        {
          "output_type": "display_data",
          "data": {
            "text/plain": [
              "<IPython.core.display.Markdown object>"
            ],
            "text/markdown": "   Xcel Energy (NASDAQ:XEL) Has Some Way To Go To Become A Multi-Bagger : To find a multi-bagger stock, what are the underlying trends we should look for in a business? Firstly, we'd want to...\n"
          },
          "metadata": {}
        },
        {
          "output_type": "display_data",
          "data": {
            "text/plain": [
              "<IPython.core.display.Markdown object>"
            ],
            "text/markdown": "####MU -  (, ) — score 0.450\n\n"
          },
          "metadata": {}
        },
        {
          "output_type": "display_data",
          "data": {
            "text/plain": [
              "<IPython.core.display.Markdown object>"
            ],
            "text/markdown": "   Micron's Sell?Off Is a Prime Buying Opportunity : I believe surging HBM demand and data?center spending will power solid growth while tariff fears prove overblown\n"
          },
          "metadata": {}
        },
        {
          "output_type": "display_data",
          "data": {
            "text/plain": [
              "<IPython.core.display.Markdown object>"
            ],
            "text/markdown": "####IEX -  (, ) — score 0.449\n\n"
          },
          "metadata": {}
        },
        {
          "output_type": "display_data",
          "data": {
            "text/plain": [
              "<IPython.core.display.Markdown object>"
            ],
            "text/markdown": "   IDEX tops quarterly estimates on demand for health and science products : Industrial equipment maker IDEX Corp on Thursday beat Wall Street estimates for first-quarter profit and revenue, driven by a sustained recovery in the demand for its health and science-related products. Demand for such products has been rising as sellers continue to restock their inventory after a prolonged period of drawdowns caused by large stockpiles accumulated during the COVID-19 pandemic. Sales at IDEX's health and sciences technology segment, which makes components used in clinical diagnostics, drug discovery, food-processing industry, among others, rose 10% from a year ago.\n"
          },
          "metadata": {}
        },
        {
          "output_type": "display_data",
          "data": {
            "text/plain": [
              "<IPython.core.display.Markdown object>"
            ],
            "text/markdown": "####EPAM -  (, ) — score 0.438\n\n"
          },
          "metadata": {}
        },
        {
          "output_type": "display_data",
          "data": {
            "text/plain": [
              "<IPython.core.display.Markdown object>"
            ],
            "text/markdown": "   3 Services Stocks Walking a Fine Line : Business services providers thrive by solving complex operational challenges for their clients, allowing them to focus on their secret sauce. But increasing competition from AI-driven upstarts has tempered enthusiasm, and over the past six months, the industry has pulled back by 6.3%. This drawdown was discouraging since the S&P 500 held steady.\n"
          },
          "metadata": {}
        },
        {
          "output_type": "display_data",
          "data": {
            "text/plain": [
              "<IPython.core.display.Markdown object>"
            ],
            "text/markdown": "####LW -  (, ) — score 0.436\n\n"
          },
          "metadata": {}
        },
        {
          "output_type": "display_data",
          "data": {
            "text/plain": [
              "<IPython.core.display.Markdown object>"
            ],
            "text/markdown": "   3 Consumer Stocks with Mounting Challenges : Consumer staples stocks are solid insurance policies in frothy markets ripe for corrections. Surprisingly, the sector hasn’t played its shielding role over the past six months as it tumbled 10.5%. This drawdown was particularly disappointing since the S&P 500 held its ground.\n"
          },
          "metadata": {}
        },
        {
          "output_type": "display_data",
          "data": {
            "text/plain": [
              "<IPython.core.display.Markdown object>"
            ],
            "text/markdown": "####UNP -  (, ) — score 0.435\n\n"
          },
          "metadata": {}
        },
        {
          "output_type": "display_data",
          "data": {
            "text/plain": [
              "<IPython.core.display.Markdown object>"
            ],
            "text/markdown": "   Top Research Reports for AMD, Union Pacific & Lowe's : Today's Research Daily features new research reports on 16 major stocks, including Advanced Micro Devices, Inc. (AMD), Union Pacific Corporation (UNP) and Lowe's Companies, Inc. (LOW), as well a micro-cap stock Syntec Optics Holdings, Inc. (OPTX).\n"
          },
          "metadata": {}
        },
        {
          "output_type": "display_data",
          "data": {
            "text/plain": [
              "<IPython.core.display.Markdown object>"
            ],
            "text/markdown": "####SYY -  (, ) — score 0.433\n\n"
          },
          "metadata": {}
        },
        {
          "output_type": "display_data",
          "data": {
            "text/plain": [
              "<IPython.core.display.Markdown object>"
            ],
            "text/markdown": "   Sysco’s Q3 2025 results indicate 1.1% increase in sales : Gross profit dropped in Q3 mainly because of reduced volumes and a shift in the types of products.\n"
          },
          "metadata": {}
        },
        {
          "output_type": "display_data",
          "data": {
            "text/plain": [
              "<IPython.core.display.Markdown object>"
            ],
            "text/markdown": "###Question:\nWhat risks or challenges are discussed in recent news about the energy industry?"
          },
          "metadata": {}
        },
        {
          "output_type": "display_data",
          "data": {
            "text/plain": [
              "<IPython.core.display.Markdown object>"
            ],
            "text/markdown": "###Answer:\nRecent news highlights several risks and challenges facing the energy industry. Firstly, the U.S. Congress is advancing a bill that could repeal critical subsidies for renewable energy, potentially making many projects uneconomical and negatively impacting renewable energy stocks. Additionally, oilfield service companies like Halliburton and Schlumberger are facing a tough outlook due to sliding oil prices, rising tariffs, and shrinking drilling budgets. The broader industrial sector, which includes energy companies, has seen a downturn, with the industry shedding 6.6% over the past six months, exacerbated by concerns over economic cycles and capital spending. Furthermore, trade-related uncertainties and tariff disruptions are causing volatility in the market, affecting companies' earnings and future guidance."
          },
          "metadata": {}
        },
        {
          "output_type": "display_data",
          "data": {
            "text/plain": [
              "<IPython.core.display.Markdown object>"
            ],
            "text/markdown": "###Context used:\n"
          },
          "metadata": {}
        },
        {
          "output_type": "display_data",
          "data": {
            "text/plain": [
              "<IPython.core.display.Markdown object>"
            ],
            "text/markdown": "####NEE -  (, ) — score 0.573\n\n"
          },
          "metadata": {}
        },
        {
          "output_type": "display_data",
          "data": {
            "text/plain": [
              "<IPython.core.display.Markdown object>"
            ],
            "text/markdown": "   Renewable Energy Stocks Crash as U.S. Advances Bill That Could Decimate the Industry : Congress is pushing forward a bill that could upend the renewable energy industry.  Just as companies have ramped up production and renewable electricity generation in the U.S., those projects may become uneconomical.  The news was about as bad as it could get for renewable energy stocks this week as the U.S. House of Representatives early Thursday passed a bill that will repeal some of the most important subsidies for the industry if it becomes law.\n"
          },
          "metadata": {}
        },
        {
          "output_type": "display_data",
          "data": {
            "text/plain": [
              "<IPython.core.display.Markdown object>"
            ],
            "text/markdown": "####HAL -  (, ) — score 0.526\n\n"
          },
          "metadata": {}
        },
        {
          "output_type": "display_data",
          "data": {
            "text/plain": [
              "<IPython.core.display.Markdown object>"
            ],
            "text/markdown": "   Tariffs, Prices, and Pain: What's Next for Oilfield Service? : The likes of SLB, HAL and BKR face a tough future as oil prices slide, tariffs rise and drilling budgets shrink - can LNG and AI demand offer enough support?\n"
          },
          "metadata": {}
        },
        {
          "output_type": "display_data",
          "data": {
            "text/plain": [
              "<IPython.core.display.Markdown object>"
            ],
            "text/markdown": "####D -  (, ) — score 0.517\n\n"
          },
          "metadata": {}
        },
        {
          "output_type": "display_data",
          "data": {
            "text/plain": [
              "<IPython.core.display.Markdown object>"
            ],
            "text/markdown": "   Trump Wants to Sink Offshore Wind. This Project Could Test His Reach. : Dominion Energy’s massive project off the coast of Virginia would be a boon for U.S. jobs and energy needs—not to mention the climate. Its future hangs in the balance.\n"
          },
          "metadata": {}
        },
        {
          "output_type": "display_data",
          "data": {
            "text/plain": [
              "<IPython.core.display.Markdown object>"
            ],
            "text/markdown": "####SLB -  (, ) — score 0.513\n\n"
          },
          "metadata": {}
        },
        {
          "output_type": "display_data",
          "data": {
            "text/plain": [
              "<IPython.core.display.Markdown object>"
            ],
            "text/markdown": "   Schlumberger Limited (SLB): Among the Best Energy Stocks to Buy Right Now : We recently published a list of the 13 Best Energy Stocks to Buy Right Now. In this article, we are going to take a look at where Schlumberger Limited (NYSE:SLB) stands against other best energy stocks. The worldwide energy industry has recently been rattled by a combination of factors, including the trade war sparked by President […]\n"
          },
          "metadata": {}
        },
        {
          "output_type": "display_data",
          "data": {
            "text/plain": [
              "<IPython.core.display.Markdown object>"
            ],
            "text/markdown": "####WMB -  (, ) — score 0.507\n\n"
          },
          "metadata": {}
        },
        {
          "output_type": "display_data",
          "data": {
            "text/plain": [
              "<IPython.core.display.Markdown object>"
            ],
            "text/markdown": "   Trump’s New York Pipeline Dreams Inch Closer to Reality. Big Hurdles Remain. : The projects would be a boon for Pennsylvania gas producers such as Expand Energy and Coterra Energy.\n"
          },
          "metadata": {}
        },
        {
          "output_type": "display_data",
          "data": {
            "text/plain": [
              "<IPython.core.display.Markdown object>"
            ],
            "text/markdown": "####DE -  (, ) — score 0.504\n\n"
          },
          "metadata": {}
        },
        {
          "output_type": "display_data",
          "data": {
            "text/plain": [
              "<IPython.core.display.Markdown object>"
            ],
            "text/markdown": "   Uber and Deere Stock Are About to Break Out. Industrials Are on Fire. : The Industrial Select Sector SPDR ETF is on the brink of a record, as the worst-case scenario for tariffs is unlikely to play out.\n"
          },
          "metadata": {}
        },
        {
          "output_type": "display_data",
          "data": {
            "text/plain": [
              "<IPython.core.display.Markdown object>"
            ],
            "text/markdown": "####XEL -  (, ) — score 0.500\n\n"
          },
          "metadata": {}
        },
        {
          "output_type": "display_data",
          "data": {
            "text/plain": [
              "<IPython.core.display.Markdown object>"
            ],
            "text/markdown": "   Xcel Energy looks to limit wildfire liability, tariff impacts : Company leaders are calling for a federal solution to wildfire litigation as new theories emerge in cases against Xcel Energy in Colorado.\n"
          },
          "metadata": {}
        },
        {
          "output_type": "display_data",
          "data": {
            "text/plain": [
              "<IPython.core.display.Markdown object>"
            ],
            "text/markdown": "####DOV -  (, ) — score 0.499\n\n"
          },
          "metadata": {}
        },
        {
          "output_type": "display_data",
          "data": {
            "text/plain": [
              "<IPython.core.display.Markdown object>"
            ],
            "text/markdown": "   3 Industrials Stocks with Mounting Challenges : Even if they go mostly unnoticed, industrial businesses are the backbone of our country. Still, their generally high capital requirements expose them to the ups and downs of economic cycles, and the market seems to be baking in a prolonged downturn as the industry has shed 6.6% over the past six months. This drop was worse than the S&P 500’s 1% loss.\n"
          },
          "metadata": {}
        },
        {
          "output_type": "display_data",
          "data": {
            "text/plain": [
              "<IPython.core.display.Markdown object>"
            ],
            "text/markdown": "####OTIS -  (, ) — score 0.496\n\n"
          },
          "metadata": {}
        },
        {
          "output_type": "display_data",
          "data": {
            "text/plain": [
              "<IPython.core.display.Markdown object>"
            ],
            "text/markdown": "   3 Industrials Stocks in Hot Water : Industrials businesses quietly power the physical things we depend on, from cars and homes to e-commerce infrastructure. Unfortunately, this role also comes with a demand profile tethered to the ebbs and flows of the broader economy, and investors seem to be forecasting a downturn - over the past six months, the industry has pulled back by 10.4%. This drop was worse than the S&P 500’s 2% decline.\n"
          },
          "metadata": {}
        },
        {
          "output_type": "display_data",
          "data": {
            "text/plain": [
              "<IPython.core.display.Markdown object>"
            ],
            "text/markdown": "####ES -  (, ) — score 0.494\n\n"
          },
          "metadata": {}
        },
        {
          "output_type": "display_data",
          "data": {
            "text/plain": [
              "<IPython.core.display.Markdown object>"
            ],
            "text/markdown": "   The past three years for Eversource Energy (NYSE:ES) investors has not been profitable : As an investor its worth striving to ensure your overall portfolio beats the market average. But the risk of stock...\n"
          },
          "metadata": {}
        },
        {
          "output_type": "display_data",
          "data": {
            "text/plain": [
              "<IPython.core.display.Markdown object>"
            ],
            "text/markdown": "####ORCL -  (, ) — score 0.493\n\n"
          },
          "metadata": {}
        },
        {
          "output_type": "display_data",
          "data": {
            "text/plain": [
              "<IPython.core.display.Markdown object>"
            ],
            "text/markdown": "   Expand Energy And 2 Stocks That Might Be Priced Below Their Estimated Worth : The United States market has been flat over the last week but is up 11% over the past year, with earnings forecast to grow by 14% annually. In this environment, identifying stocks that are potentially undervalued can be a strategic move for investors looking to capitalize on growth opportunities while navigating a stable yet promising market landscape.\n"
          },
          "metadata": {}
        },
        {
          "output_type": "display_data",
          "data": {
            "text/plain": [
              "<IPython.core.display.Markdown object>"
            ],
            "text/markdown": "####FANG -  (, ) — score 0.492\n\n"
          },
          "metadata": {}
        },
        {
          "output_type": "display_data",
          "data": {
            "text/plain": [
              "<IPython.core.display.Markdown object>"
            ],
            "text/markdown": "   A Trade Made for Buffett: Energy Stocks Priced Below Book Value : (Bloomberg) -- Here’s something you don’t see in the market too often: A third of all mid- and small-cap oil and gas stocks in the US are now trading below their book values.Most Read from BloombergAs Coastline Erodes, One California City Considers ‘Retreat Now’How a Highway Became San Francisco’s Newest ParkPower-Hungry Data Centers Are Warming Homes in the NordicsMaryland’s Credit Rating Gets Downgraded as Governor Blames Trump NYC Commuters Brace for Chaos as NJ Transit Strike LoomsThat’s the\n"
          },
          "metadata": {}
        },
        {
          "output_type": "display_data",
          "data": {
            "text/plain": [
              "<IPython.core.display.Markdown object>"
            ],
            "text/markdown": "####SLB -  (, ) — score 0.482\n\n"
          },
          "metadata": {}
        },
        {
          "output_type": "display_data",
          "data": {
            "text/plain": [
              "<IPython.core.display.Markdown object>"
            ],
            "text/markdown": "   Is Schlumberger Limited (SLB) the Most Undervalued Energy Stock to Buy According to Hedge Funds? : We recently published a list of the 10 Most Undervalued Energy Stocks to Buy According to Hedge Funds. In this article, we are going to take a look at where Schlumberger Limited (NYSE:SLB) stands against other undervalued energy stocks. As of the close of May 2, 2025, the overall energy sector is undervalued by 13.1%, […]\n"
          },
          "metadata": {}
        },
        {
          "output_type": "display_data",
          "data": {
            "text/plain": [
              "<IPython.core.display.Markdown object>"
            ],
            "text/markdown": "####PEP -  (, ) — score 0.481\n\n"
          },
          "metadata": {}
        },
        {
          "output_type": "display_data",
          "data": {
            "text/plain": [
              "<IPython.core.display.Markdown object>"
            ],
            "text/markdown": "   3 Profitable Stocks in Hot Water : Not all profitable companies are built to last - some rely on outdated models or unsustainable advantages. Just because a business is in the green today doesn’t mean it will thrive tomorrow.\n"
          },
          "metadata": {}
        },
        {
          "output_type": "display_data",
          "data": {
            "text/plain": [
              "<IPython.core.display.Markdown object>"
            ],
            "text/markdown": "####NUE -  (, ) — score 0.479\n\n"
          },
          "metadata": {}
        },
        {
          "output_type": "display_data",
          "data": {
            "text/plain": [
              "<IPython.core.display.Markdown object>"
            ],
            "text/markdown": "   As Trump's Tariffs Bring Market Volatility, Here Are 2 Reliable American Companies Investors Need to Know : Berkshire's operating businesses may perform even better with Warren Buffett's pick as the new CEO.  Reshoring of any manufacturing will bring much new business to Nucor.  President Donald Trump's tariff policies have thrown the stock and bond markets into a frenzy this spring.\n"
          },
          "metadata": {}
        },
        {
          "output_type": "display_data",
          "data": {
            "text/plain": [
              "<IPython.core.display.Markdown object>"
            ],
            "text/markdown": "####SWK -  (, ) — score 0.477\n\n"
          },
          "metadata": {}
        },
        {
          "output_type": "display_data",
          "data": {
            "text/plain": [
              "<IPython.core.display.Markdown object>"
            ],
            "text/markdown": "   3 Industrials Stocks in Hot Water : Industrials businesses quietly power the physical things we depend on, from cars and homes to e-commerce infrastructure. But they are at the whim of volatile macroeconomic factors that influence capital spending (like interest rates), and the market seems convinced that demand will slow. Due to this bearish outlook, the industry has tumbled by 5.7% over the past six months. This drawdown was disheartening since the S&P 500 stood firm.\n"
          },
          "metadata": {}
        },
        {
          "output_type": "display_data",
          "data": {
            "text/plain": [
              "<IPython.core.display.Markdown object>"
            ],
            "text/markdown": "####CTRA -  (, ) — score 0.474\n\n"
          },
          "metadata": {}
        },
        {
          "output_type": "display_data",
          "data": {
            "text/plain": [
              "<IPython.core.display.Markdown object>"
            ],
            "text/markdown": "   Coterra Energy Inc. (CTRA): Among the Top Energy Companies with the Highest Upside Potential : We recently published a list of the Top 15 Energy Companies with the Highest Upside Potential. In this article, we are going to take a look at where Coterra Energy Inc. (NYSE:CTRA) stands against other top energy companies. After posting notable gains in the first three months of 2025, the energy sector witnessed significant declines in […]\n"
          },
          "metadata": {}
        },
        {
          "output_type": "display_data",
          "data": {
            "text/plain": [
              "<IPython.core.display.Markdown object>"
            ],
            "text/markdown": "####WEC -  (, ) — score 0.473\n\n"
          },
          "metadata": {}
        },
        {
          "output_type": "display_data",
          "data": {
            "text/plain": [
              "<IPython.core.display.Markdown object>"
            ],
            "text/markdown": "   Should You Invest in WEC Energy Group (WEC)? : Mairs & Power, an investment advisor, released the “Mairs & Power Balanced Fund” first quarter 2025 investor letter. A copy of the letter can be downloaded here. The stock market reached a record high in February. However, tariff uncertainty in March led to a fall in equities, while fixed income benefited from perceived safety. The […]\n"
          },
          "metadata": {}
        },
        {
          "output_type": "display_data",
          "data": {
            "text/plain": [
              "<IPython.core.display.Markdown object>"
            ],
            "text/markdown": "####FE -  (, ) — score 0.471\n\n"
          },
          "metadata": {}
        },
        {
          "output_type": "display_data",
          "data": {
            "text/plain": [
              "<IPython.core.display.Markdown object>"
            ],
            "text/markdown": "   FirstEnergy faces minimal direct tariff impact, but ‘uncertainty’ weighs on customers: CEO : PJM states will play a key role in meeting resource needs, per FirstEnergy’s Brian Tierney. “It’s leadership by the governors in the states that are going to address this problem most directly,\" he said.\n"
          },
          "metadata": {}
        },
        {
          "output_type": "display_data",
          "data": {
            "text/plain": [
              "<IPython.core.display.Markdown object>"
            ],
            "text/markdown": "####CTRA -  (, ) — score 0.468\n\n"
          },
          "metadata": {}
        },
        {
          "output_type": "display_data",
          "data": {
            "text/plain": [
              "<IPython.core.display.Markdown object>"
            ],
            "text/markdown": "   Coterra Energy (NYSE:CTRA) Faces Market Pressures as Trade Concerns Emerge : Coterra Energy (NYSE:CTRA) experienced a price move decrease of 4% over the past month. This period coincided with turbulent market conditions influenced by escalating trade concerns as President Trump announced new tariffs on key trading partners. The broader market experienced significant volatility, exemplified by the Dow Jones falling 2.3% amid heightened recession fears. While these macroeconomic uncertainties have pressured many stocks, Coterra's performance might be partly reflective...\n"
          },
          "metadata": {}
        },
        {
          "output_type": "display_data",
          "data": {
            "text/plain": [
              "<IPython.core.display.Markdown object>"
            ],
            "text/markdown": "####FANG -  (, ) — score 0.461\n\n"
          },
          "metadata": {}
        },
        {
          "output_type": "display_data",
          "data": {
            "text/plain": [
              "<IPython.core.display.Markdown object>"
            ],
            "text/markdown": "   13 Energy Stocks to Buy Even as Oil Prices Fall, According to Roundtable Pros : OPEC is pumping, oil prices are falling, sale producers are pulling up rigs. Our Roundtable pros see plenty of opportunity.\n"
          },
          "metadata": {}
        },
        {
          "output_type": "display_data",
          "data": {
            "text/plain": [
              "<IPython.core.display.Markdown object>"
            ],
            "text/markdown": "####SLB -  (, ) — score 0.454\n\n"
          },
          "metadata": {}
        },
        {
          "output_type": "display_data",
          "data": {
            "text/plain": [
              "<IPython.core.display.Markdown object>"
            ],
            "text/markdown": "   Halliburton, Schlumberger Brace for the Next Oil Slump : Oilfield services providers are bracing for impact as several large E&P firms are cutting back on drilling programs.\n"
          },
          "metadata": {}
        },
        {
          "output_type": "display_data",
          "data": {
            "text/plain": [
              "<IPython.core.display.Markdown object>"
            ],
            "text/markdown": "####EXPE -  (, ) — score 0.452\n\n"
          },
          "metadata": {}
        },
        {
          "output_type": "display_data",
          "data": {
            "text/plain": [
              "<IPython.core.display.Markdown object>"
            ],
            "text/markdown": "   Grim Economic Outlook Overtakes Solid Earnings as Tariff Disruptions Surface : (Bloomberg) -- One thing is clear as the first-quarter earnings season draws to a close: The uncertain outlook for the global economy is superseding better-than-feared results even as stocks rally on signs of easing trade tensions.Most Read from BloombergAs Coastline Erodes, One California City Considers ‘Retreat Now’How a Highway Became San Francisco’s Newest ParkMaryland’s Credit Rating Gets Downgraded as Governor Blames Trump America, ‘Nation of Porches’Power-Hungry Data Centers Are Warming H\n"
          },
          "metadata": {}
        },
        {
          "output_type": "display_data",
          "data": {
            "text/plain": [
              "<IPython.core.display.Markdown object>"
            ],
            "text/markdown": "####DVN -  (, ) — score 0.450\n\n"
          },
          "metadata": {}
        },
        {
          "output_type": "display_data",
          "data": {
            "text/plain": [
              "<IPython.core.display.Markdown object>"
            ],
            "text/markdown": "   This Top Oil Stock's Smart Plan Puts It in a Stronger Position to Weather Volatile Crude Oil Prices : Devon Energy delivered better-than-expected oil production in the first quarter.  Its smart business optimization plan will boost its free cash flow by $1 billion by the end of 2026.  Devon Energy (NYSE: DVN) has spent several years building a larger-scale, low-cost U.S. onshore oil and gas producer.\n"
          },
          "metadata": {}
        },
        {
          "output_type": "display_data",
          "data": {
            "text/plain": [
              "<IPython.core.display.Markdown object>"
            ],
            "text/markdown": "####GEHC -  (, ) — score 0.447\n\n"
          },
          "metadata": {}
        },
        {
          "output_type": "display_data",
          "data": {
            "text/plain": [
              "<IPython.core.display.Markdown object>"
            ],
            "text/markdown": "   Earnings updates: Ford, Stellantis, GE Healthcare, & more : Tariff talk is heating up again this earnings season as companies sound the alarm on trade-related uncertainty. Stellantis (STLA) suspended its 2025 guidance, citing tariff uncertainty, while GE Healthcare (GEHC) cut its outlook due to global trade pressures. Stanley Black & Decker (SWK) says it's weighing pricing changes and Ford (F) earnings on Monday will also be closely watched. To watch more expert insights and analysis on the latest market action, check out more Market Domination&nbsp;here.\n"
          },
          "metadata": {}
        }
      ]
    },
    {
      "cell_type": "markdown",
      "id": "ae77df2b",
      "metadata": {
        "id": "ae77df2b"
      },
      "source": [
        "## Analysis & Questions - Section 1"
      ]
    },
    {
      "cell_type": "markdown",
      "id": "3d3a75ee",
      "metadata": {
        "id": "3d3a75ee"
      },
      "source": [
        "### Analysis and Reflection on Retrieval and Generation Results\n",
        "After running the RAG pipeline and obtaining answers along with their supporting news excerpts, take some time to carefully review both the generated responses and the retrieved contexts.\n",
        "\n",
        "- **For each question, read the answer and then the corresponding news snippets used as context.**\n",
        "\n",
        "- Reflect on the following points and document your observations:\n",
        "1. **Relevance**\n",
        "2. **Completeness**  \n",
        "3. **Bias or Noise**\n",
        "4. **Consistency**  \n",
        "5. **Improvement Ideas**   \n",
        "\n",
        "and answer the questions below:"
      ]
    },
    {
      "cell_type": "markdown",
      "id": "e8f667ed",
      "metadata": {
        "id": "e8f667ed"
      },
      "source": [
        "#### **Question 1.** How well do the retrieved news snippets support the generated answer? Are the key facts or themes in the answer clearly grounded in the context?"
      ]
    },
    {
      "cell_type": "markdown",
      "id": "992b9fe1",
      "metadata": {
        "id": "992b9fe1"
      },
      "source": [
        "<font color=\"green\">The results are mixed. Most answer are readable and on-topic, but several lean on broad statements or toss in precise stats without showing where they came from. That makes them sound confident, yet less trustworthy.</font>\n",
        "\n",
        "<font color=\"green\">The best: the AI-focused answers for “AI in finance” and “Amazon automation or logistics”. They give concrete company names, actions, and plausible connections such as AI rollouts, logistics moves. They’re specific enough to be useful and don’t overreach much. If every answer hit this balance—clear claims tied to clear examples—you’d be in good shape.</font>\n",
        "\n",
        "<font color=\"green\">Not good nor bad: “Investor sentiment,” “semiconductors,” and “energy risks.” These read logically and capture real themes such optimism vs. headwinds; ON/SiC/AI data centers,  renewables policy and oilfield services, but they feel general market commentary that could apply anytime such as \"Recent financial headlines indicate a mixed sentiment among investors\". </font>\n",
        "\n",
        "<font color=\"green\">Not so good: “Inflation,” “Microsoft & AI,” and “retail trends.” The inflation and retail pieces include exact numbers without evidence; the Microsoft answer makes sweeping claims about partnerships without clear, MSFT-specific substance. </font>\n"
      ]
    },
    {
      "cell_type": "markdown",
      "id": "fe09d3d0",
      "metadata": {
        "id": "fe09d3d0"
      },
      "source": [
        "#### **Question 2.** Does the answer fully address the question, or does it leave important aspects out? Consider if the retrieved context provided enough information to generate a thorough response."
      ]
    },
    {
      "cell_type": "markdown",
      "id": "736e20f5",
      "metadata": {
        "id": "736e20f5"
      },
      "source": [
        "<font color=\"green\">Some of answers feel truly complete the others are not. When the news were specific and on-topic, the generated answers were solid. On the other hand, when the context was broad or made up of roundup/listicle pieces, the answers drifted into generic market talk or filled gaps with assumptions.</font>\n",
        "\n",
        "<font color=\"green\">In the TOPIC set, the “AI in finance” answer is solid—it names specific companies and actions that actually show up in the material, so it addresses the question well. The “investor sentiment” answer has the right tone : optimism vs. caution.</font>\n",
        "\n",
        "<font color=\"green\">In the COMPANY set, Amazon + automation/logistics was the question that has the best answer .The reference to AWS’s Matt Garman on AI across Amazon gave enough facts to answer the question cleanly. The Microsoft & AI answer, though, talks up partnerships and leadership without MSFT-centric material in the context. It reads more like a general impression than a response grounded in Microsoft-specific coverage, so it doesn’t fully address the question.</font>\n",
        "\n",
        "<font color=\"green\">Across the INDUSTRY set, completeness varies. The semiconductor answer leans heavily on ON Semiconductor and mentions SiC/AI data centers, but misses other live threads such as Trump tariffs,  export controls, Nvidia/TSMC and China dynamics). This may be a symptom of narrow retrieval, so the answer feels narrow too. The same applies to Retail were it  only touches performance pressure and tariff/inventory angles. Energy covers renewables policy risk and pressure on oilfield services, but leaves out other usual movers OPEC, Iran, Tensions in the Middle East, etc. </font>\n",
        "\n",
        "<font color=\"green\">In general, the context was enough to produce thorough answers for Amazon/logistics and a good one for AI-in-finance; it was too thin or too generic for Microsoft, parts of inflation, semis, retail, and energy. To get more complete answers, tighten retrieval (filter by ticker/sector, prioritize recent primary stories over roundups), and have generation anchor claims to 1–2 specifics from the retrieved items. If the context doesn’t support a point, the answer should say so rather than filling --hallucinating-- in with extra stats.</font>\n",
        "  "
      ]
    },
    {
      "cell_type": "markdown",
      "id": "a7690337",
      "metadata": {
        "id": "a7690337"
      },
      "source": [
        "#### **Question 3.** Are there any irrelevant or misleading snippets retrieved that may have influenced the answer? How might this affect the quality of the output?"
      ]
    },
    {
      "cell_type": "markdown",
      "id": "2513c47c",
      "metadata": {
        "id": "2513c47c"
      },
      "source": [
        "<font color=\"green\">Yes, there’s quite a bit of off-target and roundup content in the retrieved sets, and it does shape the answers. The clearest case is the Microsoft question. The context is dominated by stories about Meta, Salesforce, Jack Henry, and general AI market pieces. The only Microsoft mentions are incidental, for instance a ServiceNow headline that lists Microsoft among several partners and the Marvell piece tied to Amazon’s Trainium. With so little MSFT-specific substance, the answer drifts into broad claims about “partnerships” and “leadership” without concrete Microsoft evidence.</font>\n",
        "\n",
        "<font color=\"green\">We also see noise in the Amazon item: while two snippets are spot-on , the news about AWS CEO Matt Garman on AI across Amazon, and Stord buying UPS’s Ware2Go, the rest includes unrelated analyst roundups and sector news : Workday, Emerson, and OKE. </font>\n",
        "\n",
        "<font color=\"green\">The industry questions show the quality hit more clearly. The semiconductor set is heavy on ON Semiconductor plus several non-semi items (ETR, BK, JKHY, OKE, PKG), which narrows the answer to ON/SiC/AI data centers and crowds out other core chip themes . The energy set mixes relevant renewables policy and oilfield-services pieces with “Industrials down 10.4%” headlines; the answer repeats that industrials stat in an energy context—technically sourced, but misleading for the question asked.</font>\n",
        "\n",
        "<font color=\"green\">Even the inflation topic blends a Fed-minutes article with listicles and a gold-bullish piece that drops a national-debt/interest line. That kind of snippet can skew the answer toward dramatic macro stats rather than the core drivers in mainstream inflation coverage: wages, shelter, expectations. These resulted in irrelevant or loosely related snippets that made answers seem more generic, more selective with numbers, and sometimes off-topic. </font>\n"
      ]
    },
    {
      "cell_type": "markdown",
      "id": "1035b3c6",
      "metadata": {
        "id": "1035b3c6"
      },
      "source": [
        "#### **Question 4.**  Do the news snippets show consistent information, or are there conflicting viewpoints? How does the LLM handle potential contradictions in the context?"
      ]
    },
    {
      "cell_type": "markdown",
      "id": "52891908",
      "metadata": {
        "id": "52891908"
      },
      "source": [
        "<font color=\"green\">The snippets mix aligned themes with conflicting signals. We can see both sides in several sets. For investor sentiment, many headlines are upbeat (price targets, momentum), while others flag “headwinds” and rare bearish calls. Semiconductors show a direct conflict on ON Semi: one piece touts a 30% one-month surge, another notes it plunged 35% YTD; both can be true, but they’re different windows. Energy mixes risk-heavy stories, such as renewables-subsidy threat and  pressure on oilfield services, with “sector up today” news, which point in opposite near-term directions. Retail performance numbers also vary because the articles use different sub-industries and timeframes.</font>\n",
        "\n",
        "<font color=\"green\">Contradictions were averaged away or selectively emphasized. That keeps the prose tidy, which blurred important nuances like timeframes or scopes and that  lead to inconsisten answers.</font>\n",
        "\n",
        "<font color=\"green\">To make the LLM  handle conflicts better we could  instruct it to identify and reconcile differences explicitly , for example “If sources disagree, name both and explain timeframe/coverage differences” andrequire snippet attributions for any numbers or strong claims. </font>\n",
        "  "
      ]
    },
    {
      "cell_type": "markdown",
      "id": "fd7b2d64",
      "metadata": {
        "id": "fd7b2d64"
      },
      "source": [
        "#### **Question 5.**  Based on your observations, suggest ways the retrieval or generation process could be improved (e.g., better filtering, adjusting `k`, refining prompt design)."
      ]
    },
    {
      "cell_type": "markdown",
      "id": "350d12cb",
      "metadata": {
        "id": "350d12cb"
      },
      "source": [
        "<font color=\"green\"> To improvide the quality of the answers, we could clean up the data sent to the  model by starting with the removal noisy sources like listicles and generic analyst blogs. Use one time window so we don’t mix short-term moves with year-to-date trends. For company questions, we should only keep articles that name the ticker in the headline or the first sentence. For topic and industry questions, we should include stories about several different companies so one name doesn’t dominate. And make sure every snippet has full metadata—ticker, company name, sector, industry, title, date, and source—so labels are clear and you don’t get blanks in the prompt.</font>\n",
        "\n",
        "<font color=\"green\">On retrieval, the system should overfetch and then prune. Pulling a larger candidate set, deduplicating similar items, and re-ranking by direct relevance to the question and exact ticker matches can also improve the quality of the answer.</font>\n",
        "\n",
        "<font color=\"green\">The size of the final context (“k”) should be tuned to the task. Topic and industry prompts benefit from a slightly larger, more diverse set to capture cross-currents; company prompts read better with fewer, tighter, on-ticker articles. In practice: retrieve broadly, then keep only a small, non-redundant, high-relevance subset.</font>\n",
        "\n",
        "<font color=\"green\">Lastly , and as I mentioned in my previous answer , refining the prompt could help generating higher quality answers by making it grounded, specific, and consistent across TOPIC, COMPANY, and INDUSTRY. The system message should set strict rules: use only provided snippets, cite them, handle conflicts, and the user message should give a clean, labeled context block the model can point to. We should also pair this with low temperature (~0.2–0.3) and a short max length so the model doesn’t wander.</font>\n",
        "\n",
        "<font color=\"green\"> This is an example of a tigher prompt:</font>\n",
        "\n",
        "<pre>SYSTEM\n",
        "You are a financial news analyst. Use only the snippets provided below.\n",
        "Rules:\n",
        "1) No outside facts. If a fact isn’t in the snippets, write: “The provided articles don’t include enough detail to answer that.”\n",
        "2) After any number, ticker-specific claim, or direct quote, add the snippet index in brackets , for example [2].\n",
        "3) If snippets conflict, state both views and reconcile by timeframe/scope (e.g., “up MoM, still down YTD”).\n",
        "4) Keep it concise . Use 4 to 6 sentences,be  neutral, and specific. Avoid generic language.\n",
        "\n",
        "Category guidance:\n",
        "- TOPIC: Cover at least 3 distinct tickers if present; call out the dominant driver(s).\n",
        "- COMPANY: Focus on the named ticker; include at least 2 company-specific facts with citations.\n",
        "- INDUSTRY: Cover 2–4 drivers and 1–2 risks; avoid over-indexing on a single firm.\n",
        "\n",
        "Forbidden: invented numbers, un-cited claims, “according to some reports,” or speculation.\n",
        "</pre>"
      ]
    },
    {
      "cell_type": "markdown",
      "id": "c08635e8",
      "metadata": {
        "id": "c08635e8"
      },
      "source": [
        "## 🧠 Retrieval-Augmented Generation (RAG) v2: Adding Financial Metadata to Improve Generation\n",
        "\n",
        "👉 **Instructions**:\n",
        "\n",
        "In this part of the assignment, you’ll enhance your Retrieval-Augmented Generation (RAG) pipeline by incorporating *financial metadata* to provide more contextually rich answers.\n",
        "\n",
        "Your goal is to evaluate whether metadata such as **company name**, **sector**, and **industry** helps the LLM generate **more accurate and grounded answers** to financial questions.\n",
        "\n",
        "---\n",
        "\n",
        "### ✅ What your updated pipeline should do:\n",
        "\n",
        "- Retrieve relevant financial news articles using semantic similarity with FAISS.\n",
        "- Enrich each retrieved document with financial metadata:\n",
        "  - Ticker symbol\n",
        "  - Full company name\n",
        "  - Sector (e.g., Technology, Energy)\n",
        "  - Industry (e.g., Semiconductors, Retail)\n",
        "- Construct prompts that include both:\n",
        "  - Retrieved news text\n",
        "  - Associated metadata\n",
        "- Send the prompt to the OpenAI model to generate an informed response.\n",
        "- Return:\n",
        "  - The final answer\n",
        "  - The exact set of contextual documents used to produce that answer\n",
        "\n",
        "---\n",
        "\n",
        "### 🧪 Evaluation and Comparison:\n",
        "\n",
        "You will test your improved RAG pipeline on the same three types of questions provided earlier:\n",
        "- **Topic-focused** (e.g., inflation, interest rates)\n",
        "- **Company-focused** (e.g., questions about Tesla, Nvidia)\n",
        "- **Industry-focused** (e.g., semiconductors, utilities)\n"
      ]
    },
    {
      "cell_type": "code",
      "execution_count": null,
      "id": "e3d062bc",
      "metadata": {
        "id": "e3d062bc",
        "colab": {
          "base_uri": "https://localhost:8080/"
        },
        "outputId": "96d3b72e-270f-4a17-c1d2-1533e6739769"
      },
      "outputs": [
        {
          "output_type": "stream",
          "name": "stdout",
          "text": [
            "Metadata coverage: 100.0% of news rows have company info.\n"
          ]
        }
      ],
      "source": [
        "def norm(sym: str) -> str:\n",
        "    return str(sym).strip().upper().replace('.', '-')\n",
        "\n",
        "df_news = df_news.copy()\n",
        "df_news[\"TICKER_NORM\"] = df_news[\"TICKER\"].map(norm)\n",
        "\n",
        "df_meta = df_meta.copy()\n",
        "df_meta[\"TICKER_NORM\"] = df_meta[\"TICKER\"].map(norm)\n",
        "\n",
        "#\n",
        "# Let's merge company metadata into each news row\n",
        "cols_meta = [\"TICKER_NORM\", \"COMPANY_NAME\", \"SECTOR\", \"INDUSTRY\"]\n",
        "df_newsm = df_news.merge(df_meta[cols_meta], on=\"TICKER_NORM\", how=\"left\", suffixes=(\"\", \"_m\"))\n",
        "\n",
        "# (Optional) show coverage:\n",
        "covered = df_newsm[\"COMPANY_NAME\"].notna().mean()\n",
        "print(f\"Metadata coverage: {covered:.1%} of news rows have company info.\")"
      ]
    },
    {
      "cell_type": "code",
      "source": [
        "documents = df_newsm[\"EMBEDDED_TEXT\"].astype(str).tolist()\n",
        "\n",
        "# Metadata dict for each doc (same order, same length)\n",
        "metadata = [\n",
        "    {\n",
        "        \"title\": row[\"TITLE\"],\n",
        "        \"date\": str(row[\"PUBLICATION_DATE\"]),\n",
        "        \"source\": row.get(\"PROVIDER\", \"news\"),\n",
        "        \"summary\": row[\"SUMMARY\"],\n",
        "        \"ticker\": row[\"TICKER_NORM\"],\n",
        "        \"company\": row.get(\"COMPANY_NAME\"),\n",
        "        \"sector\": row.get(\"SECTOR\"),\n",
        "        \"industry\": row.get(\"INDUSTRY\"),\n",
        "        \"url\": row.get(\"URL\"),\n",
        "        \"row_idx\": int(i),\n",
        "    }\n",
        "    for i, row in df_newsm.iterrows()\n",
        "]\n",
        "len(documents), len(metadata)"
      ],
      "metadata": {
        "colab": {
          "base_uri": "https://localhost:8080/"
        },
        "id": "6zucmB4Yahtp",
        "outputId": "fbb4a4de-8424-49c5-b1d0-2016dd1baabd"
      },
      "id": "6zucmB4Yahtp",
      "execution_count": null,
      "outputs": [
        {
          "output_type": "execute_result",
          "data": {
            "text/plain": [
              "(4841, 4841)"
            ]
          },
          "metadata": {},
          "execution_count": 36
        }
      ]
    },
    {
      "cell_type": "code",
      "source": [
        "text_embeddings_aug = model.encode(documents, normalize_embeddings=True).astype(\"float32\")\n",
        "faiss_index_aug = faiss.IndexFlatIP(text_embeddings_aug.shape[1])\n",
        "faiss_index_aug.add(text_embeddings)\n",
        "\n",
        "print(\"docs:\", len(documents), \"meta:\", len(metadata),\n",
        "      \"emb:\", text_embeddings_aug.shape[0], \"idx:\", faiss_index.ntotal)\n",
        "\n",
        "\n",
        "\n",
        "# Instantiate FaissVectorStore with augmented index and embeddings\n",
        "faiss_store_augmented = FaissVectorStore(\n",
        "    model=model,\n",
        "    index=faiss_index_aug,\n",
        "    embeddings = text_embeddings_aug,\n",
        "    documents=documents,\n",
        "    metadata=metadata\n",
        ")"
      ],
      "metadata": {
        "colab": {
          "base_uri": "https://localhost:8080/"
        },
        "id": "Z6t3i-yzNde8",
        "outputId": "852977e9-96a5-498c-df73-2a747132d463"
      },
      "id": "Z6t3i-yzNde8",
      "execution_count": null,
      "outputs": [
        {
          "output_type": "stream",
          "name": "stdout",
          "text": [
            "docs: 4841 meta: 4841 emb: 4841 idx: 4871\n"
          ]
        }
      ]
    },
    {
      "cell_type": "code",
      "source": [
        "#\n",
        "# Questions Topic\n",
        "print_markdown(\"#Topic\")\n",
        "for q in questions_topic:\n",
        "    rag(q, faiss_store_augmented, k=K)"
      ],
      "metadata": {
        "colab": {
          "base_uri": "https://localhost:8080/",
          "height": 1000
        },
        "id": "ADpGeJOIbnWd",
        "outputId": "56f71ca8-af02-4ca9-f55f-6163e8cfe5e5"
      },
      "id": "ADpGeJOIbnWd",
      "execution_count": null,
      "outputs": [
        {
          "output_type": "display_data",
          "data": {
            "text/plain": [
              "<IPython.core.display.Markdown object>"
            ],
            "text/markdown": "#Topic"
          },
          "metadata": {}
        },
        {
          "output_type": "display_data",
          "data": {
            "text/plain": [
              "<IPython.core.display.Markdown object>"
            ],
            "text/markdown": "###Question:\nWhat are the major concerns expressed in financial news about inflation?"
          },
          "metadata": {}
        },
        {
          "output_type": "display_data",
          "data": {
            "text/plain": [
              "<IPython.core.display.Markdown object>"
            ],
            "text/markdown": "###Answer:\nThe financial news highlights several major concerns regarding inflation, particularly in relation to potential tariffs and their impact on supply chains. Bristol-Myers Squibb's CEO emphasized that tariffs targeting the pharmaceutical industry could lead to supply constraints, which may exacerbate inflationary pressures. Additionally, the broader economic outlook remains uncertain, prompting analysts to lower earnings estimates across various sectors, indicating a cautious approach to inflation's potential effects. The recent downgrade of the U.S. sovereign credit rating by Moody's has also raised concerns about fiscal health, further complicating the inflation narrative. Overall, the interplay between tariffs, supply chain disruptions, and economic forecasts is central to the ongoing inflation discourse."
          },
          "metadata": {}
        },
        {
          "output_type": "display_data",
          "data": {
            "text/plain": [
              "<IPython.core.display.Markdown object>"
            ],
            "text/markdown": "###Context used:\n"
          },
          "metadata": {}
        },
        {
          "output_type": "display_data",
          "data": {
            "text/plain": [
              "<IPython.core.display.Markdown object>"
            ],
            "text/markdown": "####BX - Blackstone Inc. (Financial Services, Asset Management) — score 0.607\n\n"
          },
          "metadata": {}
        },
        {
          "output_type": "display_data",
          "data": {
            "text/plain": [
              "<IPython.core.display.Markdown object>"
            ],
            "text/markdown": "   Blackstone Begins Sale of Clarion Events While the Market Recovers : Blackstone Inc. (NYSE:BX) has started the selling process of UK-based Clarion Events to gauge private equity interest after market disruption brought on by former US President Donald Trump’s tariff policies, according to four sources with knowledge of the situation. After purchasing Clarion for £600 million in 2017, the private equity behemoth helped the company withstand […]\n"
          },
          "metadata": {}
        },
        {
          "output_type": "display_data",
          "data": {
            "text/plain": [
              "<IPython.core.display.Markdown object>"
            ],
            "text/markdown": "####MTB - M&T Bank Corporation (Financial Services, Banks - Regional) — score 0.537\n\n"
          },
          "metadata": {}
        },
        {
          "output_type": "display_data",
          "data": {
            "text/plain": [
              "<IPython.core.display.Markdown object>"
            ],
            "text/markdown": "   Should You Buy M&T Bank Corporation (NYSE:MTB) For Its Upcoming Dividend? : It looks like M&T Bank Corporation ( NYSE:MTB ) is about to go ex-dividend in the next three days. The ex-dividend date...\n"
          },
          "metadata": {}
        },
        {
          "output_type": "display_data",
          "data": {
            "text/plain": [
              "<IPython.core.display.Markdown object>"
            ],
            "text/markdown": "####BR - Broadridge Financial Solutions, Inc. (Technology, Information Technology Services) — score 0.537\n\n"
          },
          "metadata": {}
        },
        {
          "output_type": "display_data",
          "data": {
            "text/plain": [
              "<IPython.core.display.Markdown object>"
            ],
            "text/markdown": "   Broadridge Partners with Novisto to Launch Advanced Sustainability Reporting Platform : On Wednesday, Broadridge Financial Solutions Inc. (NYSE:BR) partnered with Novisto to introduce an advanced sustainability data management and reporting platform for global companies. This partnership will enable organizations to meet evolving investor expectations, simplify third-party questionnaires and rating agency requests, optimize supply chain transparency, and enhance stakeholder engagement on a global scale. The General Manager […]\n"
          },
          "metadata": {}
        },
        {
          "output_type": "display_data",
          "data": {
            "text/plain": [
              "<IPython.core.display.Markdown object>"
            ],
            "text/markdown": "####NXPI - NXP Semiconductors N.V. (Technology, Semiconductors) — score 0.534\n\n"
          },
          "metadata": {}
        },
        {
          "output_type": "display_data",
          "data": {
            "text/plain": [
              "<IPython.core.display.Markdown object>"
            ],
            "text/markdown": "   One NXP Semiconductors Insider Has Reduced Their Stake : Insiders were net sellers of NXP Semiconductors N.V.'s ( NASDAQ:NXPI ) stock during the past year. That is, insiders...\n"
          },
          "metadata": {}
        },
        {
          "output_type": "display_data",
          "data": {
            "text/plain": [
              "<IPython.core.display.Markdown object>"
            ],
            "text/markdown": "####TXT - Textron Inc. (Industrials, Aerospace & Defense) — score 0.531\n\n"
          },
          "metadata": {}
        },
        {
          "output_type": "display_data",
          "data": {
            "text/plain": [
              "<IPython.core.display.Markdown object>"
            ],
            "text/markdown": "   3 Reasons to Avoid TXT and 1 Stock to Buy Instead : Over the last six months, Textron shares have sunk to $76.51, producing a disappointing 11.1% loss - worse than the S&P 500’s 1% drop. This may have investors wondering how to approach the situation.\n"
          },
          "metadata": {}
        },
        {
          "output_type": "display_data",
          "data": {
            "text/plain": [
              "<IPython.core.display.Markdown object>"
            ],
            "text/markdown": "####D - Dominion Energy, Inc. (Utilities, Utilities - Regulated Electric) — score 0.522\n\n"
          },
          "metadata": {}
        },
        {
          "output_type": "display_data",
          "data": {
            "text/plain": [
              "<IPython.core.display.Markdown object>"
            ],
            "text/markdown": "   Trump Wants to Sink Offshore Wind. This Project Could Test His Reach. : Dominion Energy’s massive project off the coast of Virginia would be a boon for U.S. jobs and energy needs—not to mention the climate. Its future hangs in the balance.\n"
          },
          "metadata": {}
        },
        {
          "output_type": "display_data",
          "data": {
            "text/plain": [
              "<IPython.core.display.Markdown object>"
            ],
            "text/markdown": "####BMY - Bristol-Myers Squibb Company (Healthcare, Drug Manufacturers - General) — score 0.504\n\n"
          },
          "metadata": {}
        },
        {
          "output_type": "display_data",
          "data": {
            "text/plain": [
              "<IPython.core.display.Markdown object>"
            ],
            "text/markdown": "   Bristol CEO: Pharma Tariffs Must Not Jeopardize Medicine Supplies : Bristol-Myers Squibb Chief Executive Chris Boerner said at The Wall Street Journal's Future of Everything festival on Thursday that potential tariffs targeting the drug industry from the Trump administration must not create supply constraints.  Bristol and other drugmakers are bracing for tariffs targeting pharmaceuticals shipped to the U.S. from other countries.  The administration has been conducting an investigation into such levies, and analysts expect them to be announced in coming weeks.\n"
          },
          "metadata": {}
        },
        {
          "output_type": "display_data",
          "data": {
            "text/plain": [
              "<IPython.core.display.Markdown object>"
            ],
            "text/markdown": "####CCL - Carnival Corporation & plc (Consumer Cyclical, Travel Services) — score 0.504\n\n"
          },
          "metadata": {}
        },
        {
          "output_type": "display_data",
          "data": {
            "text/plain": [
              "<IPython.core.display.Markdown object>"
            ],
            "text/markdown": "   Causeway International Value's Strategic Moves: Carnival Corp Takes Center Stage : Exploring the Latest N-PORT Filing and Investment Strategies\n"
          },
          "metadata": {}
        },
        {
          "output_type": "display_data",
          "data": {
            "text/plain": [
              "<IPython.core.display.Markdown object>"
            ],
            "text/markdown": "####STT - State Street Corporation (Financial Services, Asset Management) — score 0.502\n\n"
          },
          "metadata": {}
        },
        {
          "output_type": "display_data",
          "data": {
            "text/plain": [
              "<IPython.core.display.Markdown object>"
            ],
            "text/markdown": "   Wall Street’s Rush to Launch Vanguard-Style Funds Draws Warnings : (Bloomberg) -- Exchange-traded funds have amassed trillions of dollars by offering investors greater tax efficiency, liquidity and lower costs than mutual funds. Now, a looming regulatory shift is poised to bring the two vehicles closer together — and threatens to complicate the very features that fueled the ETF boom.Most Read from BloombergNY Wins Order Against US Funding Freeze in Congestion FightNYC Congestion Toll Brings In $216 Million in First Four MonthsThe US Securities and Exchange Comm\n"
          },
          "metadata": {}
        },
        {
          "output_type": "display_data",
          "data": {
            "text/plain": [
              "<IPython.core.display.Markdown object>"
            ],
            "text/markdown": "####ROL - Rollins, Inc. (Consumer Cyclical, Personal Services) — score 0.497\n\n"
          },
          "metadata": {}
        },
        {
          "output_type": "display_data",
          "data": {
            "text/plain": [
              "<IPython.core.display.Markdown object>"
            ],
            "text/markdown": "   Reasons Why You Should Retain Rollins Stock in Your Portfolio Now : ROL excels with strong demand, acquisitions, global expansion and consistent dividends, driving robust revenue growth.\n"
          },
          "metadata": {}
        },
        {
          "output_type": "display_data",
          "data": {
            "text/plain": [
              "<IPython.core.display.Markdown object>"
            ],
            "text/markdown": "####CPAY - Corpay, Inc. (Technology, Software - Infrastructure) — score 0.487\n\n"
          },
          "metadata": {}
        },
        {
          "output_type": "display_data",
          "data": {
            "text/plain": [
              "<IPython.core.display.Markdown object>"
            ],
            "text/markdown": "   Corpay (NYSE:CPAY) Highlights Success Of AP Automation With Computer Guidance Collaboration : Corpay (NYSE:CPAY) recently partnered with Computer Guidance Corporation to enhance integrated accounts payable automation, subsequently unveiling their successful joint case study with S.T. Wooten. This development highlights Corpay's innovations in streamlining payment processes, coinciding with its 13% share price increase over the last month. During the same period, Corpay reported improved Q1 earnings and expanded its partnership with Mastercard, which involved a $300 million investment,...\n"
          },
          "metadata": {}
        },
        {
          "output_type": "display_data",
          "data": {
            "text/plain": [
              "<IPython.core.display.Markdown object>"
            ],
            "text/markdown": "####MCK - McKesson Corporation (Healthcare, Medical Distribution) — score 0.483\n\n"
          },
          "metadata": {}
        },
        {
          "output_type": "display_data",
          "data": {
            "text/plain": [
              "<IPython.core.display.Markdown object>"
            ],
            "text/markdown": "   Cooper Companies Q2 Earnings Likely to Reflect Seasonal Trends : COO's fiscal second-quarter results are expected to follow seasonal trends, with a lighter start compared to the previous two reported quarters.\n"
          },
          "metadata": {}
        },
        {
          "output_type": "display_data",
          "data": {
            "text/plain": [
              "<IPython.core.display.Markdown object>"
            ],
            "text/markdown": "####AES - The AES Corporation (Utilities, Utilities - Diversified) — score 0.481\n\n"
          },
          "metadata": {}
        },
        {
          "output_type": "display_data",
          "data": {
            "text/plain": [
              "<IPython.core.display.Markdown object>"
            ],
            "text/markdown": "   Home Depot backs outlook as U.S. sales ticked up: Morning Buzz : Stocks are lower at midday, putting in jeopardy the six-day winning streak for the S&P 500. Federal Reserve officials’ commentary is anticipated to provide insights into the central bank’s outlook on inflation and interest rates, while markets continue digesting the implications of Moody’s recent downgrade of the U.S. sovereign credit rating, which has heightened concerns about the nation’s fiscal health as lawmakers debate President Trump’s “big, beautiful” tax bill. Looking ahead, investors ar\n"
          },
          "metadata": {}
        },
        {
          "output_type": "display_data",
          "data": {
            "text/plain": [
              "<IPython.core.display.Markdown object>"
            ],
            "text/markdown": "####PANW - Palo Alto Networks, Inc. (Technology, Software - Infrastructure) — score 0.476\n\n"
          },
          "metadata": {}
        },
        {
          "output_type": "display_data",
          "data": {
            "text/plain": [
              "<IPython.core.display.Markdown object>"
            ],
            "text/markdown": "   Billionaire Stanley Druckenmiller Just Sold One of Wall Street's Hottest Stock-Split Stocks and Is Piling Into a Promising Drugmaker Instead : Duquesne Family Office's chief dumped his entire stake in one of Wall Street's premier stock-split stocks and has continued to load up on a super-cheap drug company for a third straight quarter.\n"
          },
          "metadata": {}
        },
        {
          "output_type": "display_data",
          "data": {
            "text/plain": [
              "<IPython.core.display.Markdown object>"
            ],
            "text/markdown": "####NWS - News Corporation (Communication Services, Entertainment) — score 0.475\n\n"
          },
          "metadata": {}
        },
        {
          "output_type": "display_data",
          "data": {
            "text/plain": [
              "<IPython.core.display.Markdown object>"
            ],
            "text/markdown": "   News Corp Revenue Boosted by Gains at Dow Jones, HarperCollins : Digital and print Wall Street Journal subscriptions totaled 4.34 million for the March quarter, the company says.\n"
          },
          "metadata": {}
        },
        {
          "output_type": "display_data",
          "data": {
            "text/plain": [
              "<IPython.core.display.Markdown object>"
            ],
            "text/markdown": "####ROP - Roper Technologies, Inc. (Technology, Software - Application) — score 0.472\n\n"
          },
          "metadata": {}
        },
        {
          "output_type": "display_data",
          "data": {
            "text/plain": [
              "<IPython.core.display.Markdown object>"
            ],
            "text/markdown": "   Roper Exhibits Strong Prospects Despite Persisting Headwinds : ROP is set to benefit from strength across its segments. However, increasing expenses remain a concern.\n"
          },
          "metadata": {}
        },
        {
          "output_type": "display_data",
          "data": {
            "text/plain": [
              "<IPython.core.display.Markdown object>"
            ],
            "text/markdown": "####EOG - EOG Resources, Inc. (Energy, Oil & Gas E&P) — score 0.471\n\n"
          },
          "metadata": {}
        },
        {
          "output_type": "display_data",
          "data": {
            "text/plain": [
              "<IPython.core.display.Markdown object>"
            ],
            "text/markdown": "   EOG Resources Strikes $5.6 Billion Deal to Buy Encino Acquisition Partners : EOG Resources (EOG) said Friday it agreed to buy oil and gas firm Encino Acquisition Partners for $5\n"
          },
          "metadata": {}
        },
        {
          "output_type": "display_data",
          "data": {
            "text/plain": [
              "<IPython.core.display.Markdown object>"
            ],
            "text/markdown": "####COR - Cencora, Inc. (Healthcare, Medical Distribution) — score 0.471\n\n"
          },
          "metadata": {}
        },
        {
          "output_type": "display_data",
          "data": {
            "text/plain": [
              "<IPython.core.display.Markdown object>"
            ],
            "text/markdown": "   Cencora's (NYSE:COR) Soft Earnings Don't Show The Whole Picture : The most recent earnings report from Cencora, Inc. ( NYSE:COR ) was disappointing for shareholders. While the headline...\n"
          },
          "metadata": {}
        },
        {
          "output_type": "display_data",
          "data": {
            "text/plain": [
              "<IPython.core.display.Markdown object>"
            ],
            "text/markdown": "####GE - GE Aerospace (Industrials, Aerospace & Defense) — score 0.470\n\n"
          },
          "metadata": {}
        },
        {
          "output_type": "display_data",
          "data": {
            "text/plain": [
              "<IPython.core.display.Markdown object>"
            ],
            "text/markdown": "   Three stock picks that are standouts amid market volatility : It has been a roller coaster ride for markets so far this year. In the video above, Silvant Capital Management's chief investment officer and senior portfolio manager, Michael Sansoterra, shares his three standout stocks. To watch more expert insights and analysis on the latest market action, check out more Wealth here.\n"
          },
          "metadata": {}
        },
        {
          "output_type": "display_data",
          "data": {
            "text/plain": [
              "<IPython.core.display.Markdown object>"
            ],
            "text/markdown": "####EXPD - Expeditors International of Washington, Inc. (Industrials, Integrated Freight & Logistics) — score 0.469\n\n"
          },
          "metadata": {}
        },
        {
          "output_type": "display_data",
          "data": {
            "text/plain": [
              "<IPython.core.display.Markdown object>"
            ],
            "text/markdown": "   Expeditors Rewards Shareholders With 5.5% Dividend Hike : Expeditors' shareholder-friendly initiatives are boosting the company's prospects.\n"
          },
          "metadata": {}
        },
        {
          "output_type": "display_data",
          "data": {
            "text/plain": [
              "<IPython.core.display.Markdown object>"
            ],
            "text/markdown": "####HSY - The Hershey Company (Consumer Defensive, Confectioners) — score 0.466\n\n"
          },
          "metadata": {}
        },
        {
          "output_type": "display_data",
          "data": {
            "text/plain": [
              "<IPython.core.display.Markdown object>"
            ],
            "text/markdown": "   Trump Trade: Trump considers 50% tariff on EU, 25% on iPhones : Catch up on the top industries and stocks that were impacted, or were predicted to be impacted, by the comments, actions and policies of President Donald Trump with this daily recap compiled by The Fly: TARIFF ON EU: President Donald Trump stated in a post to Truth Social, “The European Union, which was formed for the primary purpose of taking advantage of the United States on TRADE, has been very difficult to deal with. Their powerful Trade Barriers, Vat Taxes, ridiculous Corporate Penalties, N\n"
          },
          "metadata": {}
        },
        {
          "output_type": "display_data",
          "data": {
            "text/plain": [
              "<IPython.core.display.Markdown object>"
            ],
            "text/markdown": "####AAPL - Apple Inc. (Technology, Consumer Electronics) — score 0.466\n\n"
          },
          "metadata": {}
        },
        {
          "output_type": "display_data",
          "data": {
            "text/plain": [
              "<IPython.core.display.Markdown object>"
            ],
            "text/markdown": "   Elon Musk's renewed 'laser focus' on Tesla is his 'redemption arc' : Elon Musk is back at Tesla (TSLA) after serving as a special government employee leading US President Trump's Department of Government Efficiency (DOGE). Intelligent Alpha founder and CEO Doug Clinton joins Market Domination with Josh Lipton, Josh Schafer, and Macro Talk News founder Hope King to compare Musk's place at Tesla with the other innovative drives seen from other historic tech executives. To watch more expert insights and analysis on the latest market action, check out more Market Domination here.\n"
          },
          "metadata": {}
        },
        {
          "output_type": "display_data",
          "data": {
            "text/plain": [
              "<IPython.core.display.Markdown object>"
            ],
            "text/markdown": "####AOS - A. O. Smith Corporation (Industrials, Specialty Industrial Machinery) — score 0.465\n\n"
          },
          "metadata": {}
        },
        {
          "output_type": "display_data",
          "data": {
            "text/plain": [
              "<IPython.core.display.Markdown object>"
            ],
            "text/markdown": "   Earnings Expectations Shift Lower: A Closer Look : Uncertainty about the overall macroeconomic picture continues to be a significant drag on the earnings outlook as a whole, prompting analysts to cut their estimates for the current and coming periods.\n"
          },
          "metadata": {}
        },
        {
          "output_type": "display_data",
          "data": {
            "text/plain": [
              "<IPython.core.display.Markdown object>"
            ],
            "text/markdown": "####HCA - HCA Healthcare, Inc. (Healthcare, Medical Care Facilities) — score 0.463\n\n"
          },
          "metadata": {}
        },
        {
          "output_type": "display_data",
          "data": {
            "text/plain": [
              "<IPython.core.display.Markdown object>"
            ],
            "text/markdown": "   Firing on All Cylinders: Tenet Healthcare (NYSE:THC) Q1 Earnings Lead the Way : As the Q1 earnings season comes to a close, it’s time to take stock of this quarter’s best and worst performers in the hospital chains industry, including Tenet Healthcare (NYSE:THC) and its peers.\n"
          },
          "metadata": {}
        },
        {
          "output_type": "display_data",
          "data": {
            "text/plain": [
              "<IPython.core.display.Markdown object>"
            ],
            "text/markdown": "####HAL - Halliburton Company (Energy, Oil & Gas Equipment & Services) — score 0.463\n\n"
          },
          "metadata": {}
        },
        {
          "output_type": "display_data",
          "data": {
            "text/plain": [
              "<IPython.core.display.Markdown object>"
            ],
            "text/markdown": "   Tariffs, Prices, and Pain: What's Next for Oilfield Service? : The likes of SLB, HAL and BKR face a tough future as oil prices slide, tariffs rise and drilling budgets shrink - can LNG and AI demand offer enough support?\n"
          },
          "metadata": {}
        },
        {
          "output_type": "display_data",
          "data": {
            "text/plain": [
              "<IPython.core.display.Markdown object>"
            ],
            "text/markdown": "###Question:\nHow is investor sentiment described in recent financial headlines?"
          },
          "metadata": {}
        },
        {
          "output_type": "display_data",
          "data": {
            "text/plain": [
              "<IPython.core.display.Markdown object>"
            ],
            "text/markdown": "###Answer:\nInvestor sentiment in recent financial headlines appears to be cautiously optimistic, with several companies reporting strong earnings and strategic partnerships. For instance, Microsoft has seen a 7.8% increase in stock price since its last earnings report, indicating positive market reception. Similarly, Biogen's collaboration with City Therapeutics has resulted in a 6% share price increase, reflecting investor confidence in its growth potential. However, there are also concerns, as evidenced by Workday's 12.52% drop in share price due to mixed earnings, suggesting that while some sectors are thriving, others are facing challenges. Overall, the market shows a mix of enthusiasm for certain stocks while remaining wary of others."
          },
          "metadata": {}
        },
        {
          "output_type": "display_data",
          "data": {
            "text/plain": [
              "<IPython.core.display.Markdown object>"
            ],
            "text/markdown": "###Context used:\n"
          },
          "metadata": {}
        },
        {
          "output_type": "display_data",
          "data": {
            "text/plain": [
              "<IPython.core.display.Markdown object>"
            ],
            "text/markdown": "####CCL - Carnival Corporation & plc (Consumer Cyclical, Travel Services) — score 0.639\n\n"
          },
          "metadata": {}
        },
        {
          "output_type": "display_data",
          "data": {
            "text/plain": [
              "<IPython.core.display.Markdown object>"
            ],
            "text/markdown": "   Causeway International Value's Strategic Moves: Carnival Corp Takes Center Stage : Exploring the Latest N-PORT Filing and Investment Strategies\n"
          },
          "metadata": {}
        },
        {
          "output_type": "display_data",
          "data": {
            "text/plain": [
              "<IPython.core.display.Markdown object>"
            ],
            "text/markdown": "####MSFT - Microsoft Corporation (Technology, Software - Infrastructure) — score 0.628\n\n"
          },
          "metadata": {}
        },
        {
          "output_type": "display_data",
          "data": {
            "text/plain": [
              "<IPython.core.display.Markdown object>"
            ],
            "text/markdown": "   Why Is Microsoft (MSFT) Up 7.8% Since Last Earnings Report? : Microsoft (MSFT) reported earnings 30 days ago. What's next for the stock? We take a look at earnings estimates for some clues.\n"
          },
          "metadata": {}
        },
        {
          "output_type": "display_data",
          "data": {
            "text/plain": [
              "<IPython.core.display.Markdown object>"
            ],
            "text/markdown": "####MCO - Moody's Corporation (Financial Services, Financial Data & Stock Exchanges) — score 0.618\n\n"
          },
          "metadata": {}
        },
        {
          "output_type": "display_data",
          "data": {
            "text/plain": [
              "<IPython.core.display.Markdown object>"
            ],
            "text/markdown": "   US Treasuries Hold Gains as Bessent Says SLR Moves ‘Very Close’ : (Bloomberg) -- US government debt held onto slight gains after Treasury Secretary Scott Bessent said that plans for deregulation were gaining momentum.Most Read from BloombergNY Private School Pleads for Donors to Stay Open After Declaring BankruptcyUAE’s AI University Aims to Become Stanford of the GulfCan Frank Gehry’s ‘Grand LA’ Make Downtown Feel Like a Neighborhood?NYC’s War on Trash Gets a Glam SquadChicago’s O’Hare Airport Seeks Up to $4.3 Billion of Muni DebtThe advance on Friday pushed\n"
          },
          "metadata": {}
        },
        {
          "output_type": "display_data",
          "data": {
            "text/plain": [
              "<IPython.core.display.Markdown object>"
            ],
            "text/markdown": "####DVA - DaVita Inc. (Healthcare, Medical Care Facilities) — score 0.603\n\n"
          },
          "metadata": {}
        },
        {
          "output_type": "display_data",
          "data": {
            "text/plain": [
              "<IPython.core.display.Markdown object>"
            ],
            "text/markdown": "   Why DaVita HealthCare (DVA) is a Top Value Stock for the Long-Term : Whether you're a value, growth, or momentum investor, finding strong stocks becomes easier with the Zacks Style Scores, a top feature of the Zacks Premium research service.\n"
          },
          "metadata": {}
        },
        {
          "output_type": "display_data",
          "data": {
            "text/plain": [
              "<IPython.core.display.Markdown object>"
            ],
            "text/markdown": "####NKE - NIKE, Inc. (Consumer Cyclical, Footwear & Accessories) — score 0.601\n\n"
          },
          "metadata": {}
        },
        {
          "output_type": "display_data",
          "data": {
            "text/plain": [
              "<IPython.core.display.Markdown object>"
            ],
            "text/markdown": "   French Open’s Most Memorable Tennis Outfits and Kits: Serena Williams’ Fierce Nike Catsuit, Naomi Osaka’s Sakura-Inspired Look and More : This year's French Open, Roland-Garros, concludes on June 8.\n"
          },
          "metadata": {}
        },
        {
          "output_type": "display_data",
          "data": {
            "text/plain": [
              "<IPython.core.display.Markdown object>"
            ],
            "text/markdown": "####NEE - NextEra Energy, Inc. (Utilities, Utilities - Regulated Electric) — score 0.600\n\n"
          },
          "metadata": {}
        },
        {
          "output_type": "display_data",
          "data": {
            "text/plain": [
              "<IPython.core.display.Markdown object>"
            ],
            "text/markdown": "   NextEra Energy, Inc. (NEE) Is a Trending Stock: Facts to Know Before Betting on It : Zacks.com users have recently been watching NextEra (NEE) quite a bit. Thus, it is worth knowing the facts that could determine the stock's prospects.\n"
          },
          "metadata": {}
        },
        {
          "output_type": "display_data",
          "data": {
            "text/plain": [
              "<IPython.core.display.Markdown object>"
            ],
            "text/markdown": "####ROP - Roper Technologies, Inc. (Technology, Software - Application) — score 0.600\n\n"
          },
          "metadata": {}
        },
        {
          "output_type": "display_data",
          "data": {
            "text/plain": [
              "<IPython.core.display.Markdown object>"
            ],
            "text/markdown": "   Roper Exhibits Strong Prospects Despite Persisting Headwinds : ROP is set to benefit from strength across its segments. However, increasing expenses remain a concern.\n"
          },
          "metadata": {}
        },
        {
          "output_type": "display_data",
          "data": {
            "text/plain": [
              "<IPython.core.display.Markdown object>"
            ],
            "text/markdown": "####ROL - Rollins, Inc. (Consumer Cyclical, Personal Services) — score 0.587\n\n"
          },
          "metadata": {}
        },
        {
          "output_type": "display_data",
          "data": {
            "text/plain": [
              "<IPython.core.display.Markdown object>"
            ],
            "text/markdown": "   Reasons Why You Should Retain Rollins Stock in Your Portfolio Now : ROL excels with strong demand, acquisitions, global expansion and consistent dividends, driving robust revenue growth.\n"
          },
          "metadata": {}
        },
        {
          "output_type": "display_data",
          "data": {
            "text/plain": [
              "<IPython.core.display.Markdown object>"
            ],
            "text/markdown": "####MSFT - Microsoft Corporation (Technology, Software - Infrastructure) — score 0.585\n\n"
          },
          "metadata": {}
        },
        {
          "output_type": "display_data",
          "data": {
            "text/plain": [
              "<IPython.core.display.Markdown object>"
            ],
            "text/markdown": "   Judge Weighs Big Changes to Google, Including Breakup, AI Limits : (Bloomberg) -- The federal judge who will decide how to limit Google’s monopoly in search is considering its advantage in artificial intelligence, and aiming to minimize harm to the other players in the market with any resolution. Most Read from BloombergBillionaire Steve Cohen Wants NY to Expand Taxpayer-Backed FerryNow With Colorful Blocks, Tirana’s Pyramid Represents a Changing AlbaniaNYC Congestion Toll Brings In $216 Million in First Four MonthsThe Economic Benefits of Paying Workers to Mov\n"
          },
          "metadata": {}
        },
        {
          "output_type": "display_data",
          "data": {
            "text/plain": [
              "<IPython.core.display.Markdown object>"
            ],
            "text/markdown": "####EXPD - Expeditors International of Washington, Inc. (Industrials, Integrated Freight & Logistics) — score 0.581\n\n"
          },
          "metadata": {}
        },
        {
          "output_type": "display_data",
          "data": {
            "text/plain": [
              "<IPython.core.display.Markdown object>"
            ],
            "text/markdown": "   Expeditors Gears Up to Report Q1 Earnings: What's in the Cards? : Strong segmental revenues are likely to boost EXPD's first-quarter 2025 results.\n"
          },
          "metadata": {}
        },
        {
          "output_type": "display_data",
          "data": {
            "text/plain": [
              "<IPython.core.display.Markdown object>"
            ],
            "text/markdown": "####AXON - Axon Enterprise, Inc. (Industrials, Aerospace & Defense) — score 0.577\n\n"
          },
          "metadata": {}
        },
        {
          "output_type": "display_data",
          "data": {
            "text/plain": [
              "<IPython.core.display.Markdown object>"
            ],
            "text/markdown": "   With 79% institutional ownership, Axon Enterprise, Inc. (NASDAQ:AXON) is a favorite amongst the big guns : Key Insights Institutions' substantial holdings in Axon Enterprise implies that they have significant influence over...\n"
          },
          "metadata": {}
        },
        {
          "output_type": "display_data",
          "data": {
            "text/plain": [
              "<IPython.core.display.Markdown object>"
            ],
            "text/markdown": "####WDAY - Workday, Inc. (Technology, Software - Application) — score 0.577\n\n"
          },
          "metadata": {}
        },
        {
          "output_type": "display_data",
          "data": {
            "text/plain": [
              "<IPython.core.display.Markdown object>"
            ],
            "text/markdown": "   Why Workday Inc. (WDAY) Crashed On Friday : We recently published a list of 10 Firms That Led Bloodbath Today. In this article, we are going to take a look at where Workday Inc. (NASDAQ:WDAY) stands against other Friday’s worst-performing stocks. Workday dropped its share prices by 12.52 percent on Friday to finish at $238.01 each as investors soured on its mixed earnings […]\n"
          },
          "metadata": {}
        },
        {
          "output_type": "display_data",
          "data": {
            "text/plain": [
              "<IPython.core.display.Markdown object>"
            ],
            "text/markdown": "####MSFT - Microsoft Corporation (Technology, Software - Infrastructure) — score 0.576\n\n"
          },
          "metadata": {}
        },
        {
          "output_type": "display_data",
          "data": {
            "text/plain": [
              "<IPython.core.display.Markdown object>"
            ],
            "text/markdown": "   ServiceNow Regenerates On Swarm Of AI Deals With Amazon, Microsoft And More : Teaming up with AI giants like Amazon, Microsoft and others, ServiceNow stock has rebounded and stands poised to break out.\n"
          },
          "metadata": {}
        },
        {
          "output_type": "display_data",
          "data": {
            "text/plain": [
              "<IPython.core.display.Markdown object>"
            ],
            "text/markdown": "####CARR - Carrier Global Corporation (Industrials, Building Products & Equipment) — score 0.575\n\n"
          },
          "metadata": {}
        },
        {
          "output_type": "display_data",
          "data": {
            "text/plain": [
              "<IPython.core.display.Markdown object>"
            ],
            "text/markdown": "   1 Large-Cap Stock with Exciting Potential and 2 to Turn Down : Large-cap stocks usually command their industries because they have the scale to drive market trends. The flip side though is that their sheer size can limit growth as expanding further becomes an increasingly challenging task.\n"
          },
          "metadata": {}
        },
        {
          "output_type": "display_data",
          "data": {
            "text/plain": [
              "<IPython.core.display.Markdown object>"
            ],
            "text/markdown": "####ROL - Rollins, Inc. (Consumer Cyclical, Personal Services) — score 0.574\n\n"
          },
          "metadata": {}
        },
        {
          "output_type": "display_data",
          "data": {
            "text/plain": [
              "<IPython.core.display.Markdown object>"
            ],
            "text/markdown": "   2 Mid-Cap Stocks Worth Your Attention and 1 to Approach with Caution : Mid-cap stocks often strike the right balance between having proven business models and market opportunities that can support $100 billion corporations. However, they face intense competition from scaled industry giants and can be disrupted by new innovative players vying for a slice of the pie.\n"
          },
          "metadata": {}
        },
        {
          "output_type": "display_data",
          "data": {
            "text/plain": [
              "<IPython.core.display.Markdown object>"
            ],
            "text/markdown": "####MCK - McKesson Corporation (Healthcare, Medical Distribution) — score 0.574\n\n"
          },
          "metadata": {}
        },
        {
          "output_type": "display_data",
          "data": {
            "text/plain": [
              "<IPython.core.display.Markdown object>"
            ],
            "text/markdown": "   Cooper Companies Q2 Earnings Likely to Reflect Seasonal Trends : COO's fiscal second-quarter results are expected to follow seasonal trends, with a lighter start compared to the previous two reported quarters.\n"
          },
          "metadata": {}
        },
        {
          "output_type": "display_data",
          "data": {
            "text/plain": [
              "<IPython.core.display.Markdown object>"
            ],
            "text/markdown": "####CBOE - Cboe Global Markets, Inc. (Financial Services, Financial Data & Stock Exchanges) — score 0.571\n\n"
          },
          "metadata": {}
        },
        {
          "output_type": "display_data",
          "data": {
            "text/plain": [
              "<IPython.core.display.Markdown object>"
            ],
            "text/markdown": "   These 3 Companies Reported Record Quarterly Results : It's been a record-breaking earnings cycle for several companies, a list that includes Eaton, Cboe Global Markets, and Upwork. What drove the results?\n"
          },
          "metadata": {}
        },
        {
          "output_type": "display_data",
          "data": {
            "text/plain": [
              "<IPython.core.display.Markdown object>"
            ],
            "text/markdown": "####VRTX - Vertex Pharmaceuticals Incorporated (Healthcare, Biotechnology) — score 0.570\n\n"
          },
          "metadata": {}
        },
        {
          "output_type": "display_data",
          "data": {
            "text/plain": [
              "<IPython.core.display.Markdown object>"
            ],
            "text/markdown": "   Warren Buffett Remains Optimistic About America. Here Are Top American Companies Worth Investing In. : Warren Buffett has guided Berkshire Hathaway through U.S. stock market investing for 59 years.  Buffett’s investing has spanned all market environments.  The top investor continues to believe in the future of American companies -- and their stock performance.\n"
          },
          "metadata": {}
        },
        {
          "output_type": "display_data",
          "data": {
            "text/plain": [
              "<IPython.core.display.Markdown object>"
            ],
            "text/markdown": "####MCHP - Microchip Technology Incorporated (Technology, Semiconductors) — score 0.569\n\n"
          },
          "metadata": {}
        },
        {
          "output_type": "display_data",
          "data": {
            "text/plain": [
              "<IPython.core.display.Markdown object>"
            ],
            "text/markdown": "   Microchip Technology Narrows Outlook on Higher Bookings : Microchip is performing better than management expected when it hosted its investor call on May 8, with higher-than-expected bookings, Chief Executive Steve Sanghi said.\n"
          },
          "metadata": {}
        },
        {
          "output_type": "display_data",
          "data": {
            "text/plain": [
              "<IPython.core.display.Markdown object>"
            ],
            "text/markdown": "####DHI - D.R. Horton, Inc. (Consumer Cyclical, Residential Construction) — score 0.568\n\n"
          },
          "metadata": {}
        },
        {
          "output_type": "display_data",
          "data": {
            "text/plain": [
              "<IPython.core.display.Markdown object>"
            ],
            "text/markdown": "   Top Stock Movers Now: DR Horton, Okta, Abercrombie & Fitch, and More : U.S. equities fell at midday ahead of the release of the minutes of the latest Fed meeting and Nvidia's earnings news.\n"
          },
          "metadata": {}
        },
        {
          "output_type": "display_data",
          "data": {
            "text/plain": [
              "<IPython.core.display.Markdown object>"
            ],
            "text/markdown": "####ALGN - Align Technology, Inc. (Healthcare, Medical Instruments & Supplies) — score 0.566\n\n"
          },
          "metadata": {}
        },
        {
          "output_type": "display_data",
          "data": {
            "text/plain": [
              "<IPython.core.display.Markdown object>"
            ],
            "text/markdown": "   3 of Wall Street’s Favorite Stocks in Hot Water : Wall Street is overwhelmingly bullish on the stocks in this article, with price targets suggesting significant upside potential. However, it’s worth remembering that analysts rarely issue sell ratings, partly because their firms often seek other business from the same companies they cover.\n"
          },
          "metadata": {}
        },
        {
          "output_type": "display_data",
          "data": {
            "text/plain": [
              "<IPython.core.display.Markdown object>"
            ],
            "text/markdown": "####CPAY - Corpay, Inc. (Technology, Software - Infrastructure) — score 0.565\n\n"
          },
          "metadata": {}
        },
        {
          "output_type": "display_data",
          "data": {
            "text/plain": [
              "<IPython.core.display.Markdown object>"
            ],
            "text/markdown": "   Corpay (NYSE:CPAY) Highlights Success Of AP Automation With Computer Guidance Collaboration : Corpay (NYSE:CPAY) recently partnered with Computer Guidance Corporation to enhance integrated accounts payable automation, subsequently unveiling their successful joint case study with S.T. Wooten. This development highlights Corpay's innovations in streamlining payment processes, coinciding with its 13% share price increase over the last month. During the same period, Corpay reported improved Q1 earnings and expanded its partnership with Mastercard, which involved a $300 million investment,...\n"
          },
          "metadata": {}
        },
        {
          "output_type": "display_data",
          "data": {
            "text/plain": [
              "<IPython.core.display.Markdown object>"
            ],
            "text/markdown": "####PCAR - PACCAR Inc (Industrials, Farm & Heavy Construction Machinery) — score 0.564\n\n"
          },
          "metadata": {}
        },
        {
          "output_type": "display_data",
          "data": {
            "text/plain": [
              "<IPython.core.display.Markdown object>"
            ],
            "text/markdown": "   Aurora keeps person in the driver’s seat for driverless hauls : Humans are back in the driverless driver’s seat but only as window dressing, according to a recent update from Aurora Innovation. The post Aurora keeps person in the driver’s seat for driverless hauls appeared first on FreightWaves.\n"
          },
          "metadata": {}
        },
        {
          "output_type": "display_data",
          "data": {
            "text/plain": [
              "<IPython.core.display.Markdown object>"
            ],
            "text/markdown": "####BIIB - Biogen Inc. (Healthcare, Drug Manufacturers - General) — score 0.562\n\n"
          },
          "metadata": {}
        },
        {
          "output_type": "display_data",
          "data": {
            "text/plain": [
              "<IPython.core.display.Markdown object>"
            ],
            "text/markdown": "   Biogen (NasdaqGS:BIIB) Partners With City Therapeutics in US$1 Billion RNAi Therapy Deal : Biogen (NasdaqGS:BIIB) recently announced a collaboration with City Therapeutics, Inc. to develop RNAi therapies for central nervous system diseases, contributing to a 6% share price increase over the past month. While this move aligns with an uptick in the broader tech sector due to policy shifts, other market responses could have influenced this rise. The announcement coincided with positive market momentum, as evident from major indexes inching upwards during this period, reflecting...\n"
          },
          "metadata": {}
        },
        {
          "output_type": "display_data",
          "data": {
            "text/plain": [
              "<IPython.core.display.Markdown object>"
            ],
            "text/markdown": "####DTE - DTE Energy Company (Utilities, Utilities - Regulated Electric) — score 0.562\n\n"
          },
          "metadata": {}
        },
        {
          "output_type": "display_data",
          "data": {
            "text/plain": [
              "<IPython.core.display.Markdown object>"
            ],
            "text/markdown": "   Those who invested in DTE Energy (NYSE:DTE) five years ago are up 75% : The main point of investing for the long term is to make money. Furthermore, you'd generally like to see the share...\n"
          },
          "metadata": {}
        },
        {
          "output_type": "display_data",
          "data": {
            "text/plain": [
              "<IPython.core.display.Markdown object>"
            ],
            "text/markdown": "###Question:\nWhat role is artificial intelligence playing in recent finance-related news stories?"
          },
          "metadata": {}
        },
        {
          "output_type": "display_data",
          "data": {
            "text/plain": [
              "<IPython.core.display.Markdown object>"
            ],
            "text/markdown": "###Answer:\nThe recent finance-related news highlights the growing significance of artificial intelligence (AI) across various sectors. Companies like Workday, Inc. are focusing on AI to enhance their enterprise cloud applications, with analysts raising price targets based on this strategic push. Additionally, the AI sector is influencing investment decisions, as seen with billionaire David Tepper's selling activity in prominent AI stocks, indicating a shift in market sentiment. Furthermore, the integration of AI technologies is seen as a potential driver for revenue growth, particularly in companies like Nvidia, which are closely watched by investors. Overall, AI is emerging as a critical factor in shaping market dynamics and influencing corporate strategies."
          },
          "metadata": {}
        },
        {
          "output_type": "display_data",
          "data": {
            "text/plain": [
              "<IPython.core.display.Markdown object>"
            ],
            "text/markdown": "###Context used:\n"
          },
          "metadata": {}
        },
        {
          "output_type": "display_data",
          "data": {
            "text/plain": [
              "<IPython.core.display.Markdown object>"
            ],
            "text/markdown": "####J - Jacobs Solutions Inc. (Industrials, Engineering & Construction) — score 0.665\n\n"
          },
          "metadata": {}
        },
        {
          "output_type": "display_data",
          "data": {
            "text/plain": [
              "<IPython.core.display.Markdown object>"
            ],
            "text/markdown": "   Jacobs Solutions (NYSE:J) Has Announced That It Will Be Increasing Its Dividend To $0.32 : Jacobs Solutions Inc. ( NYSE:J ) will increase its dividend from last year's comparable payment on the 21st of March to...\n"
          },
          "metadata": {}
        },
        {
          "output_type": "display_data",
          "data": {
            "text/plain": [
              "<IPython.core.display.Markdown object>"
            ],
            "text/markdown": "####MTD - Mettler-Toledo International Inc. (Healthcare, Diagnostics & Research) — score 0.646\n\n"
          },
          "metadata": {}
        },
        {
          "output_type": "display_data",
          "data": {
            "text/plain": [
              "<IPython.core.display.Markdown object>"
            ],
            "text/markdown": "   MTD Q1 Earnings Call: Tariffs, Supply Chain Shifts, and Margin Mitigation Take Center Stage : Precision measurement company Mettler-Toledo (NYSE:MTD) reported Q1 CY2025 results beating Wall Street’s revenue expectations, but sales fell by 4.6% year on year to $883.7 million. Its non-GAAP profit of $8.19 per share was 3.9% above analysts’ consensus estimates.\n"
          },
          "metadata": {}
        },
        {
          "output_type": "display_data",
          "data": {
            "text/plain": [
              "<IPython.core.display.Markdown object>"
            ],
            "text/markdown": "####PH - Parker-Hannifin Corporation (Industrials, Specialty Industrial Machinery) — score 0.635\n\n"
          },
          "metadata": {}
        },
        {
          "output_type": "display_data",
          "data": {
            "text/plain": [
              "<IPython.core.display.Markdown object>"
            ],
            "text/markdown": "   Parker-Hannifin Corporation (NYSE:PH) Passed Our Checks, And It's About To Pay A US$1.80 Dividend : Regular readers will know that we love our dividends at Simply Wall St, which is why it's exciting to see...\n"
          },
          "metadata": {}
        },
        {
          "output_type": "display_data",
          "data": {
            "text/plain": [
              "<IPython.core.display.Markdown object>"
            ],
            "text/markdown": "####PH - Parker-Hannifin Corporation (Industrials, Specialty Industrial Machinery) — score 0.635\n\n"
          },
          "metadata": {}
        },
        {
          "output_type": "display_data",
          "data": {
            "text/plain": [
              "<IPython.core.display.Markdown object>"
            ],
            "text/markdown": "   Parker Hannifin Corp (PH) Q3 2025 Earnings Call Highlights: Record Margins and Strong Aerospace ... : Parker Hannifin Corp (PH) reports record operating margins and robust aerospace growth, while navigating industrial sector headwinds and tariff impacts.\n"
          },
          "metadata": {}
        },
        {
          "output_type": "display_data",
          "data": {
            "text/plain": [
              "<IPython.core.display.Markdown object>"
            ],
            "text/markdown": "####NWSA - News Corporation (Communication Services, Entertainment) — score 0.603\n\n"
          },
          "metadata": {}
        },
        {
          "output_type": "display_data",
          "data": {
            "text/plain": [
              "<IPython.core.display.Markdown object>"
            ],
            "text/markdown": "   Compared to Estimates, News Corp. (NWSA) Q3 Earnings: A Look at Key Metrics : Although the revenue and EPS for News Corp. (NWSA) give a sense of how its business performed in the quarter ended March 2025, it might be worth considering how some key metrics compare with Wall Street estimates and the year-ago numbers.\n"
          },
          "metadata": {}
        },
        {
          "output_type": "display_data",
          "data": {
            "text/plain": [
              "<IPython.core.display.Markdown object>"
            ],
            "text/markdown": "####RVTY - Revvity, Inc. (Healthcare, Diagnostics & Research) — score 0.588\n\n"
          },
          "metadata": {}
        },
        {
          "output_type": "display_data",
          "data": {
            "text/plain": [
              "<IPython.core.display.Markdown object>"
            ],
            "text/markdown": "   RVTY Stock Falls Despite the Latest Launch of Automated Instrument : Revvity unveils IDS i20, a fully automated immunodiagnostics platform designed to enhance lab efficiency and expand specialty testing.\n"
          },
          "metadata": {}
        },
        {
          "output_type": "display_data",
          "data": {
            "text/plain": [
              "<IPython.core.display.Markdown object>"
            ],
            "text/markdown": "####STX - Seagate Technology Holdings plc (Technology, Computer Hardware) — score 0.585\n\n"
          },
          "metadata": {}
        },
        {
          "output_type": "display_data",
          "data": {
            "text/plain": [
              "<IPython.core.display.Markdown object>"
            ],
            "text/markdown": "   S&P 500 Gains and Losses Today: Coinbase Stock Climbs as Cryptocurrency Prices Surge : The S&P 500 slipped less than 0.1% on Thursday, May 22, after the House narrowly passed the Republicans' \"big beautiful\" tax and spending bill.\n"
          },
          "metadata": {}
        },
        {
          "output_type": "display_data",
          "data": {
            "text/plain": [
              "<IPython.core.display.Markdown object>"
            ],
            "text/markdown": "####SYY - Sysco Corporation (Consumer Defensive, Food Distribution) — score 0.579\n\n"
          },
          "metadata": {}
        },
        {
          "output_type": "display_data",
          "data": {
            "text/plain": [
              "<IPython.core.display.Markdown object>"
            ],
            "text/markdown": "   The Smartest Dividend Stocks to Buy With $5,000 Right Now : Sysco sells and distributes food and related products to customers and has been increasing its dividend for 56 years.  Johnson & Johnson produces consumer and pharmaceutical products and has raised its dividends for 63 consecutive years.  Coca-Cola has also paid out higher dividends for 63 consecutive years.\n"
          },
          "metadata": {}
        },
        {
          "output_type": "display_data",
          "data": {
            "text/plain": [
              "<IPython.core.display.Markdown object>"
            ],
            "text/markdown": "####PH - Parker-Hannifin Corporation (Industrials, Specialty Industrial Machinery) — score 0.572\n\n"
          },
          "metadata": {}
        },
        {
          "output_type": "display_data",
          "data": {
            "text/plain": [
              "<IPython.core.display.Markdown object>"
            ],
            "text/markdown": "   Parker-Hannifin Third Quarter 2025 Earnings: EPS Beats Expectations : Parker-Hannifin ( NYSE:PH ) Third Quarter 2025 Results Key Financial Results Revenue: US$4.96b (down 2.2% from 3Q...\n"
          },
          "metadata": {}
        },
        {
          "output_type": "display_data",
          "data": {
            "text/plain": [
              "<IPython.core.display.Markdown object>"
            ],
            "text/markdown": "####AMD - Advanced Micro Devices, Inc. (Technology, Semiconductors) — score 0.570\n\n"
          },
          "metadata": {}
        },
        {
          "output_type": "display_data",
          "data": {
            "text/plain": [
              "<IPython.core.display.Markdown object>"
            ],
            "text/markdown": "   Billionaire David Tepper of Appaloosa Just Sold 5 Prominent Artificial Intelligence (AI) Stocks : Tepper's net-selling activity in AI stocks may have to do with more than just simple profit-taking.\n"
          },
          "metadata": {}
        },
        {
          "output_type": "display_data",
          "data": {
            "text/plain": [
              "<IPython.core.display.Markdown object>"
            ],
            "text/markdown": "####ICE - Intercontinental Exchange, Inc. (Financial Services, Financial Data & Stock Exchanges) — score 0.569\n\n"
          },
          "metadata": {}
        },
        {
          "output_type": "display_data",
          "data": {
            "text/plain": [
              "<IPython.core.display.Markdown object>"
            ],
            "text/markdown": "   Zacks Industry Outlook Highlights Intercontinental Exchange, CME Group, Nasdaq and Cboe Global Markets : ICE, CME, Nasdaq and Cboe ride crypto gains, M&A momentum and tech upgrades as trading volumes and non-trading revenues drive strong growth.\n"
          },
          "metadata": {}
        },
        {
          "output_type": "display_data",
          "data": {
            "text/plain": [
              "<IPython.core.display.Markdown object>"
            ],
            "text/markdown": "####GE - GE Aerospace (Industrials, Aerospace & Defense) — score 0.567\n\n"
          },
          "metadata": {}
        },
        {
          "output_type": "display_data",
          "data": {
            "text/plain": [
              "<IPython.core.display.Markdown object>"
            ],
            "text/markdown": "   Top Wall Street Analysts Turn Bearish at Netflix and Reddit Ratings : J.P. Morgan Sees Balanced Risk/Reward in Netflix, Lowers Rating\n"
          },
          "metadata": {}
        },
        {
          "output_type": "display_data",
          "data": {
            "text/plain": [
              "<IPython.core.display.Markdown object>"
            ],
            "text/markdown": "####ABNB - Airbnb, Inc. (Consumer Cyclical, Travel Services) — score 0.560\n\n"
          },
          "metadata": {}
        },
        {
          "output_type": "display_data",
          "data": {
            "text/plain": [
              "<IPython.core.display.Markdown object>"
            ],
            "text/markdown": "   Got $3,000? 3 Artificial Intelligence (AI) Stocks to Buy and Hold for the Long Term. : This travel technology company can drive investor returns through AI-driven decision-making.  When taking these factors into account, investors may want to consider investments in the three following stocks.  Investors will likely struggle to find a company more central to AI than Taiwan Semiconductor Manufacturing (NYSE: TSM), the leading manufacturer for all of the top chip companies.\n"
          },
          "metadata": {}
        },
        {
          "output_type": "display_data",
          "data": {
            "text/plain": [
              "<IPython.core.display.Markdown object>"
            ],
            "text/markdown": "####ADBE - Adobe Inc. (Technology, Software - Application) — score 0.556\n\n"
          },
          "metadata": {}
        },
        {
          "output_type": "display_data",
          "data": {
            "text/plain": [
              "<IPython.core.display.Markdown object>"
            ],
            "text/markdown": "   AI Stocks Face 'Show Me' Moment. Nvidia Earnings Due With China In Focus. : Amid hype over artificial intelligence, the best AI stocks generate revenue or get a strategic edge from the fast evolving technology.\n"
          },
          "metadata": {}
        },
        {
          "output_type": "display_data",
          "data": {
            "text/plain": [
              "<IPython.core.display.Markdown object>"
            ],
            "text/markdown": "####NKE - NIKE, Inc. (Consumer Cyclical, Footwear & Accessories) — score 0.556\n\n"
          },
          "metadata": {}
        },
        {
          "output_type": "display_data",
          "data": {
            "text/plain": [
              "<IPython.core.display.Markdown object>"
            ],
            "text/markdown": "   Are These Beaten-Down Stocks a Buy? : Several popular stocks - NIKE and Target - have been beaten down over recent years, widely underperforming. Given their falls from glory, are they a buy at cheaper levels?\n"
          },
          "metadata": {}
        },
        {
          "output_type": "display_data",
          "data": {
            "text/plain": [
              "<IPython.core.display.Markdown object>"
            ],
            "text/markdown": "####NEE - NextEra Energy, Inc. (Utilities, Utilities - Regulated Electric) — score 0.553\n\n"
          },
          "metadata": {}
        },
        {
          "output_type": "display_data",
          "data": {
            "text/plain": [
              "<IPython.core.display.Markdown object>"
            ],
            "text/markdown": "   NextEra (NEE) Up 0.9% Since Last Earnings Report: Can It Continue? : NextEra (NEE) reported earnings 30 days ago. What's next for the stock? We take a look at earnings estimates for some clues.\n"
          },
          "metadata": {}
        },
        {
          "output_type": "display_data",
          "data": {
            "text/plain": [
              "<IPython.core.display.Markdown object>"
            ],
            "text/markdown": "####COO - The Cooper Companies, Inc. (Healthcare, Medical Instruments & Supplies) — score 0.551\n\n"
          },
          "metadata": {}
        },
        {
          "output_type": "display_data",
          "data": {
            "text/plain": [
              "<IPython.core.display.Markdown object>"
            ],
            "text/markdown": "   Cooper Companies Second Quarter 2025 Earnings: EPS Misses Expectations : Cooper Companies ( NASDAQ:COO ) Second Quarter 2025 Results Key Financial Results Revenue: US$1.00b (up 6.3% from 2Q...\n"
          },
          "metadata": {}
        },
        {
          "output_type": "display_data",
          "data": {
            "text/plain": [
              "<IPython.core.display.Markdown object>"
            ],
            "text/markdown": "####PCAR - PACCAR Inc (Industrials, Farm & Heavy Construction Machinery) — score 0.548\n\n"
          },
          "metadata": {}
        },
        {
          "output_type": "display_data",
          "data": {
            "text/plain": [
              "<IPython.core.display.Markdown object>"
            ],
            "text/markdown": "   3 Large-Cap Stocks Skating on Thin Ice : Large-cap stocks have the power to shape entire industries thanks to their size and widespread influence. With such vast footprints, however, finding new areas for growth is much harder than for smaller, more agile players.\n"
          },
          "metadata": {}
        },
        {
          "output_type": "display_data",
          "data": {
            "text/plain": [
              "<IPython.core.display.Markdown object>"
            ],
            "text/markdown": "####PFE - Pfizer Inc. (Healthcare, Drug Manufacturers - General) — score 0.543\n\n"
          },
          "metadata": {}
        },
        {
          "output_type": "display_data",
          "data": {
            "text/plain": [
              "<IPython.core.display.Markdown object>"
            ],
            "text/markdown": "   Full Arvinas, Pfizer data confirm potential, limits of ‘Protac’ drug in breast cancer : While vepdegestrant outperformed a standard treatment option in a subtype of patients, the benefit on progression-free survival was modest.\n"
          },
          "metadata": {}
        },
        {
          "output_type": "display_data",
          "data": {
            "text/plain": [
              "<IPython.core.display.Markdown object>"
            ],
            "text/markdown": "####MGM - MGM Resorts International (Consumer Cyclical, Resorts & Casinos) — score 0.540\n\n"
          },
          "metadata": {}
        },
        {
          "output_type": "display_data",
          "data": {
            "text/plain": [
              "<IPython.core.display.Markdown object>"
            ],
            "text/markdown": "   3 Reasons MGM is Risky and 1 Stock to Buy Instead : Although the S&P 500 is down 2.2% over the past six months, MGM Resorts’s stock price has fallen further to $31.80, losing shareholders 16.9% of their capital. This may have investors wondering how to approach the situation.\n"
          },
          "metadata": {}
        },
        {
          "output_type": "display_data",
          "data": {
            "text/plain": [
              "<IPython.core.display.Markdown object>"
            ],
            "text/markdown": "####ISRG - Intuitive Surgical, Inc. (Healthcare, Medical Instruments & Supplies) — score 0.538\n\n"
          },
          "metadata": {}
        },
        {
          "output_type": "display_data",
          "data": {
            "text/plain": [
              "<IPython.core.display.Markdown object>"
            ],
            "text/markdown": "   These 7 Stocks Are Analyst Favorites For Magnificent Earnings Growth; Axon Tops Buy Point : As the stock market extends its rebound, it's important to watch the stocks most loved among equity analysts.  Netflix and Visa are two of the seven best stocks where investors can find magnificent profit growth prospects.  Of 53 analysts covering Netflix, 36 have buy or overweight ratings on the video streaming service.\n"
          },
          "metadata": {}
        },
        {
          "output_type": "display_data",
          "data": {
            "text/plain": [
              "<IPython.core.display.Markdown object>"
            ],
            "text/markdown": "####PH - Parker-Hannifin Corporation (Industrials, Specialty Industrial Machinery) — score 0.535\n\n"
          },
          "metadata": {}
        },
        {
          "output_type": "display_data",
          "data": {
            "text/plain": [
              "<IPython.core.display.Markdown object>"
            ],
            "text/markdown": "   1 Large-Cap Stock with Exciting Potential and 2 to Turn Down : Large-cap stocks usually command their industries because they have the scale to drive market trends. The flip side though is that their sheer size can limit growth as expanding further becomes an increasingly challenging task.\n"
          },
          "metadata": {}
        },
        {
          "output_type": "display_data",
          "data": {
            "text/plain": [
              "<IPython.core.display.Markdown object>"
            ],
            "text/markdown": "####WDAY - Workday, Inc. (Technology, Software - Application) — score 0.532\n\n"
          },
          "metadata": {}
        },
        {
          "output_type": "display_data",
          "data": {
            "text/plain": [
              "<IPython.core.display.Markdown object>"
            ],
            "text/markdown": "   Workday (WDAY)’s AI Push and Margin Beat Lead to $250 Price Target : We recently published a list of 10 AI Stocks on Wall Street’s Radar. In this article, we are going to take a look at where Workday, Inc. (NASDAQ:WDAY) stands against other AI stocks on Wall Street’s radar. Workday, Inc. (NASDAQ:WDAY) provides enterprise cloud applications. On May 23, DA Davidson raised the firm’s price target on […]\n"
          },
          "metadata": {}
        },
        {
          "output_type": "display_data",
          "data": {
            "text/plain": [
              "<IPython.core.display.Markdown object>"
            ],
            "text/markdown": "####OTIS - Otis Worldwide Corporation (Industrials, Specialty Industrial Machinery) — score 0.516\n\n"
          },
          "metadata": {}
        },
        {
          "output_type": "display_data",
          "data": {
            "text/plain": [
              "<IPython.core.display.Markdown object>"
            ],
            "text/markdown": "   Otis Worldwide (OTIS) Up 4.8% Since Last Earnings Report: Can It Continue? : Otis Worldwide (OTIS) reported earnings 30 days ago. What's next for the stock? We take a look at earnings estimates for some clues.\n"
          },
          "metadata": {}
        },
        {
          "output_type": "display_data",
          "data": {
            "text/plain": [
              "<IPython.core.display.Markdown object>"
            ],
            "text/markdown": "####PH - Parker-Hannifin Corporation (Industrials, Specialty Industrial Machinery) — score 0.512\n\n"
          },
          "metadata": {}
        },
        {
          "output_type": "display_data",
          "data": {
            "text/plain": [
              "<IPython.core.display.Markdown object>"
            ],
            "text/markdown": "   Earnings Beat: Parker-Hannifin Corporation Just Beat Analyst Forecasts, And Analysts Have Been Updating Their Models : Investors in Parker-Hannifin Corporation ( NYSE:PH ) had a good week, as its shares rose 3.5% to close at US$619...\n"
          },
          "metadata": {}
        }
      ]
    },
    {
      "cell_type": "code",
      "source": [
        "#\n",
        "# Questions Company\n",
        "print_markdown(\"#Company\")\n",
        "for q in questions_company:\n",
        "    rag(q,faiss_store_augmented, k=K)"
      ],
      "metadata": {
        "colab": {
          "base_uri": "https://localhost:8080/",
          "height": 1000
        },
        "id": "XQURKQvPfCdV",
        "outputId": "19940f53-c3bc-4753-aa0a-1ad762f3a0a2"
      },
      "id": "XQURKQvPfCdV",
      "execution_count": null,
      "outputs": [
        {
          "output_type": "display_data",
          "data": {
            "text/plain": [
              "<IPython.core.display.Markdown object>"
            ],
            "text/markdown": "#Company"
          },
          "metadata": {}
        },
        {
          "output_type": "display_data",
          "data": {
            "text/plain": [
              "<IPython.core.display.Markdown object>"
            ],
            "text/markdown": "###Question:\nHow is Microsoft being portrayed in news stories about artificial intelligence?"
          },
          "metadata": {}
        },
        {
          "output_type": "display_data",
          "data": {
            "text/plain": [
              "<IPython.core.display.Markdown object>"
            ],
            "text/markdown": "###Answer:\nThe provided context does not contain specific information regarding Microsoft's portrayal in news stories about artificial intelligence. Therefore, I cannot provide an answer based on the available data."
          },
          "metadata": {}
        },
        {
          "output_type": "display_data",
          "data": {
            "text/plain": [
              "<IPython.core.display.Markdown object>"
            ],
            "text/markdown": "###Context used:\n"
          },
          "metadata": {}
        },
        {
          "output_type": "display_data",
          "data": {
            "text/plain": [
              "<IPython.core.display.Markdown object>"
            ],
            "text/markdown": "####MTD - Mettler-Toledo International Inc. (Healthcare, Diagnostics & Research) — score 0.575\n\n"
          },
          "metadata": {}
        },
        {
          "output_type": "display_data",
          "data": {
            "text/plain": [
              "<IPython.core.display.Markdown object>"
            ],
            "text/markdown": "   MTD Q1 Earnings Call: Tariffs, Supply Chain Shifts, and Margin Mitigation Take Center Stage : Precision measurement company Mettler-Toledo (NYSE:MTD) reported Q1 CY2025 results beating Wall Street’s revenue expectations, but sales fell by 4.6% year on year to $883.7 million. Its non-GAAP profit of $8.19 per share was 3.9% above analysts’ consensus estimates.\n"
          },
          "metadata": {}
        },
        {
          "output_type": "display_data",
          "data": {
            "text/plain": [
              "<IPython.core.display.Markdown object>"
            ],
            "text/markdown": "####STX - Seagate Technology Holdings plc (Technology, Computer Hardware) — score 0.546\n\n"
          },
          "metadata": {}
        },
        {
          "output_type": "display_data",
          "data": {
            "text/plain": [
              "<IPython.core.display.Markdown object>"
            ],
            "text/markdown": "   S&P 500 Gains and Losses Today: Coinbase Stock Climbs as Cryptocurrency Prices Surge : The S&P 500 slipped less than 0.1% on Thursday, May 22, after the House narrowly passed the Republicans' \"big beautiful\" tax and spending bill.\n"
          },
          "metadata": {}
        },
        {
          "output_type": "display_data",
          "data": {
            "text/plain": [
              "<IPython.core.display.Markdown object>"
            ],
            "text/markdown": "####MGM - MGM Resorts International (Consumer Cyclical, Resorts & Casinos) — score 0.512\n\n"
          },
          "metadata": {}
        },
        {
          "output_type": "display_data",
          "data": {
            "text/plain": [
              "<IPython.core.display.Markdown object>"
            ],
            "text/markdown": "   3 Reasons MGM is Risky and 1 Stock to Buy Instead : Although the S&P 500 is down 2.2% over the past six months, MGM Resorts’s stock price has fallen further to $31.80, losing shareholders 16.9% of their capital. This may have investors wondering how to approach the situation.\n"
          },
          "metadata": {}
        },
        {
          "output_type": "display_data",
          "data": {
            "text/plain": [
              "<IPython.core.display.Markdown object>"
            ],
            "text/markdown": "####RTX - RTX Corporation (Industrials, Aerospace & Defense) — score 0.506\n\n"
          },
          "metadata": {}
        },
        {
          "output_type": "display_data",
          "data": {
            "text/plain": [
              "<IPython.core.display.Markdown object>"
            ],
            "text/markdown": "   Trump to make Golden Dome announcement Tuesday, Reuters reports : President Donald Trump is set to make an announcement on the path forward for his plan for a “Golden Dome” missile-defense shield, Reuters’ Mike Stone and Doina Chiacu report, citing a U.S. official. Trump and Defense Secretary Pete Hegseth are set to make the announcement at 3 pm on Tuesday, the White House said in an update to the president’s schedule. Golden Dome is estimated to cost tens of billions of dollars and take years to implement, as the program faces both political scrutiny and fund\n"
          },
          "metadata": {}
        },
        {
          "output_type": "display_data",
          "data": {
            "text/plain": [
              "<IPython.core.display.Markdown object>"
            ],
            "text/markdown": "####NWSA - News Corporation (Communication Services, Entertainment) — score 0.504\n\n"
          },
          "metadata": {}
        },
        {
          "output_type": "display_data",
          "data": {
            "text/plain": [
              "<IPython.core.display.Markdown object>"
            ],
            "text/markdown": "   Compared to Estimates, News Corp. (NWSA) Q3 Earnings: A Look at Key Metrics : Although the revenue and EPS for News Corp. (NWSA) give a sense of how its business performed in the quarter ended March 2025, it might be worth considering how some key metrics compare with Wall Street estimates and the year-ago numbers.\n"
          },
          "metadata": {}
        },
        {
          "output_type": "display_data",
          "data": {
            "text/plain": [
              "<IPython.core.display.Markdown object>"
            ],
            "text/markdown": "####MHK - Mohawk Industries, Inc. (Consumer Cyclical, Furnishings, Fixtures & Appliances) — score 0.502\n\n"
          },
          "metadata": {}
        },
        {
          "output_type": "display_data",
          "data": {
            "text/plain": [
              "<IPython.core.display.Markdown object>"
            ],
            "text/markdown": "   Is It Too Late To Consider Buying Mohawk Industries, Inc. (NYSE:MHK)? : Mohawk Industries, Inc. ( NYSE:MHK ), is not the largest company out there, but it saw significant share price movement...\n"
          },
          "metadata": {}
        },
        {
          "output_type": "display_data",
          "data": {
            "text/plain": [
              "<IPython.core.display.Markdown object>"
            ],
            "text/markdown": "####ADBE - Adobe Inc. (Technology, Software - Application) — score 0.491\n\n"
          },
          "metadata": {}
        },
        {
          "output_type": "display_data",
          "data": {
            "text/plain": [
              "<IPython.core.display.Markdown object>"
            ],
            "text/markdown": "   AI Stocks Face 'Show Me' Moment. Nvidia Earnings Due With China In Focus. : Amid hype over artificial intelligence, the best AI stocks generate revenue or get a strategic edge from the fast evolving technology.\n"
          },
          "metadata": {}
        },
        {
          "output_type": "display_data",
          "data": {
            "text/plain": [
              "<IPython.core.display.Markdown object>"
            ],
            "text/markdown": "####SYY - Sysco Corporation (Consumer Defensive, Food Distribution) — score 0.491\n\n"
          },
          "metadata": {}
        },
        {
          "output_type": "display_data",
          "data": {
            "text/plain": [
              "<IPython.core.display.Markdown object>"
            ],
            "text/markdown": "   The Smartest Dividend Stocks to Buy With $5,000 Right Now : Sysco sells and distributes food and related products to customers and has been increasing its dividend for 56 years.  Johnson & Johnson produces consumer and pharmaceutical products and has raised its dividends for 63 consecutive years.  Coca-Cola has also paid out higher dividends for 63 consecutive years.\n"
          },
          "metadata": {}
        },
        {
          "output_type": "display_data",
          "data": {
            "text/plain": [
              "<IPython.core.display.Markdown object>"
            ],
            "text/markdown": "####AMD - Advanced Micro Devices, Inc. (Technology, Semiconductors) — score 0.489\n\n"
          },
          "metadata": {}
        },
        {
          "output_type": "display_data",
          "data": {
            "text/plain": [
              "<IPython.core.display.Markdown object>"
            ],
            "text/markdown": "   Billionaire David Tepper of Appaloosa Just Sold 5 Prominent Artificial Intelligence (AI) Stocks : Tepper's net-selling activity in AI stocks may have to do with more than just simple profit-taking.\n"
          },
          "metadata": {}
        },
        {
          "output_type": "display_data",
          "data": {
            "text/plain": [
              "<IPython.core.display.Markdown object>"
            ],
            "text/markdown": "####ICE - Intercontinental Exchange, Inc. (Financial Services, Financial Data & Stock Exchanges) — score 0.488\n\n"
          },
          "metadata": {}
        },
        {
          "output_type": "display_data",
          "data": {
            "text/plain": [
              "<IPython.core.display.Markdown object>"
            ],
            "text/markdown": "   Zacks Industry Outlook Highlights Intercontinental Exchange, CME Group, Nasdaq and Cboe Global Markets : ICE, CME, Nasdaq and Cboe ride crypto gains, M&A momentum and tech upgrades as trading volumes and non-trading revenues drive strong growth.\n"
          },
          "metadata": {}
        },
        {
          "output_type": "display_data",
          "data": {
            "text/plain": [
              "<IPython.core.display.Markdown object>"
            ],
            "text/markdown": "####DAL - Delta Air Lines, Inc. (Industrials, Airlines) — score 0.487\n\n"
          },
          "metadata": {}
        },
        {
          "output_type": "display_data",
          "data": {
            "text/plain": [
              "<IPython.core.display.Markdown object>"
            ],
            "text/markdown": "   3 Profitable Stocks in Hot Water : Not all profitable companies are built to last - some rely on outdated models or unsustainable advantages. Just because a business is in the green today doesn’t mean it will thrive tomorrow.\n"
          },
          "metadata": {}
        },
        {
          "output_type": "display_data",
          "data": {
            "text/plain": [
              "<IPython.core.display.Markdown object>"
            ],
            "text/markdown": "####GOOG - Alphabet Inc. (Communication Services, Internet Content & Information) — score 0.484\n\n"
          },
          "metadata": {}
        },
        {
          "output_type": "display_data",
          "data": {
            "text/plain": [
              "<IPython.core.display.Markdown object>"
            ],
            "text/markdown": "   Judge Examines Steps to Limit Google’s Reach in AI Arms Race : Lawyers began making closing arguments Friday in a landmark antitrust case over the online search market and future of AI.\n"
          },
          "metadata": {}
        },
        {
          "output_type": "display_data",
          "data": {
            "text/plain": [
              "<IPython.core.display.Markdown object>"
            ],
            "text/markdown": "####J - Jacobs Solutions Inc. (Industrials, Engineering & Construction) — score 0.484\n\n"
          },
          "metadata": {}
        },
        {
          "output_type": "display_data",
          "data": {
            "text/plain": [
              "<IPython.core.display.Markdown object>"
            ],
            "text/markdown": "   Jacobs Solutions (NYSE:J) Has Announced That It Will Be Increasing Its Dividend To $0.32 : Jacobs Solutions Inc. ( NYSE:J ) will increase its dividend from last year's comparable payment on the 21st of March to...\n"
          },
          "metadata": {}
        },
        {
          "output_type": "display_data",
          "data": {
            "text/plain": [
              "<IPython.core.display.Markdown object>"
            ],
            "text/markdown": "####PH - Parker-Hannifin Corporation (Industrials, Specialty Industrial Machinery) — score 0.483\n\n"
          },
          "metadata": {}
        },
        {
          "output_type": "display_data",
          "data": {
            "text/plain": [
              "<IPython.core.display.Markdown object>"
            ],
            "text/markdown": "   Parker-Hannifin Corporation (NYSE:PH) Passed Our Checks, And It's About To Pay A US$1.80 Dividend : Regular readers will know that we love our dividends at Simply Wall St, which is why it's exciting to see...\n"
          },
          "metadata": {}
        },
        {
          "output_type": "display_data",
          "data": {
            "text/plain": [
              "<IPython.core.display.Markdown object>"
            ],
            "text/markdown": "####HUBB - Hubbell Incorporated (Industrials, Electrical Equipment & Parts) — score 0.481\n\n"
          },
          "metadata": {}
        },
        {
          "output_type": "display_data",
          "data": {
            "text/plain": [
              "<IPython.core.display.Markdown object>"
            ],
            "text/markdown": "   HUBB Q1 Earnings Call: Softer Sales, Margin Management, and Tariff Uncertainty Highlight Quarter : Electrical and electronic products company Hubbell (NYSE:HUBB) missed Wall Street’s revenue expectations in Q1 CY2025, with sales falling 2.4% year on year to $1.37 billion. Its non-GAAP profit of $3.50 per share was 6% below analysts’ consensus estimates.\n"
          },
          "metadata": {}
        },
        {
          "output_type": "display_data",
          "data": {
            "text/plain": [
              "<IPython.core.display.Markdown object>"
            ],
            "text/markdown": "####ACN - Accenture plc (Technology, Information Technology Services) — score 0.479\n\n"
          },
          "metadata": {}
        },
        {
          "output_type": "display_data",
          "data": {
            "text/plain": [
              "<IPython.core.display.Markdown object>"
            ],
            "text/markdown": "   IBM vs. Accenture: Which Stock Stands Out in the Consulting Game? : IBM and ACN battle for consulting dominance as AI, cloud and strategic collaborations reshape enterprise digital transformation strategies.\n"
          },
          "metadata": {}
        },
        {
          "output_type": "display_data",
          "data": {
            "text/plain": [
              "<IPython.core.display.Markdown object>"
            ],
            "text/markdown": "####ROK - Rockwell Automation, Inc. (Industrials, Specialty Industrial Machinery) — score 0.478\n\n"
          },
          "metadata": {}
        },
        {
          "output_type": "display_data",
          "data": {
            "text/plain": [
              "<IPython.core.display.Markdown object>"
            ],
            "text/markdown": "   Rockwell Automation Hits 52-Week High: What's Driving Its Performance? : ROK hits a new 52-week high on improved EPS outlook, portfolio expansion and productivity gains.\n"
          },
          "metadata": {}
        },
        {
          "output_type": "display_data",
          "data": {
            "text/plain": [
              "<IPython.core.display.Markdown object>"
            ],
            "text/markdown": "####PH - Parker-Hannifin Corporation (Industrials, Specialty Industrial Machinery) — score 0.477\n\n"
          },
          "metadata": {}
        },
        {
          "output_type": "display_data",
          "data": {
            "text/plain": [
              "<IPython.core.display.Markdown object>"
            ],
            "text/markdown": "   Parker Hannifin Corp (PH) Q3 2025 Earnings Call Highlights: Record Margins and Strong Aerospace ... : Parker Hannifin Corp (PH) reports record operating margins and robust aerospace growth, while navigating industrial sector headwinds and tariff impacts.\n"
          },
          "metadata": {}
        },
        {
          "output_type": "display_data",
          "data": {
            "text/plain": [
              "<IPython.core.display.Markdown object>"
            ],
            "text/markdown": "####DG - Dollar General Corporation (Consumer Defensive, Discount Stores) — score 0.473\n\n"
          },
          "metadata": {}
        },
        {
          "output_type": "display_data",
          "data": {
            "text/plain": [
              "<IPython.core.display.Markdown object>"
            ],
            "text/markdown": "   Countdown to Dollar General (DG) Q1 Earnings: A Look at Estimates Beyond Revenue and EPS : Beyond analysts' top -and-bottom-line estimates for Dollar General (DG), evaluate projections for some of its key metrics to gain a better insight into how the business might have performed for the quarter ended April 2025.\n"
          },
          "metadata": {}
        },
        {
          "output_type": "display_data",
          "data": {
            "text/plain": [
              "<IPython.core.display.Markdown object>"
            ],
            "text/markdown": "####PH - Parker-Hannifin Corporation (Industrials, Specialty Industrial Machinery) — score 0.471\n\n"
          },
          "metadata": {}
        },
        {
          "output_type": "display_data",
          "data": {
            "text/plain": [
              "<IPython.core.display.Markdown object>"
            ],
            "text/markdown": "   Parker-Hannifin Third Quarter 2025 Earnings: EPS Beats Expectations : Parker-Hannifin ( NYSE:PH ) Third Quarter 2025 Results Key Financial Results Revenue: US$4.96b (down 2.2% from 3Q...\n"
          },
          "metadata": {}
        },
        {
          "output_type": "display_data",
          "data": {
            "text/plain": [
              "<IPython.core.display.Markdown object>"
            ],
            "text/markdown": "####SWKS - Skyworks Solutions, Inc. (Technology, Semiconductors) — score 0.471\n\n"
          },
          "metadata": {}
        },
        {
          "output_type": "display_data",
          "data": {
            "text/plain": [
              "<IPython.core.display.Markdown object>"
            ],
            "text/markdown": "   Skyworks Solutions Insider Ups Holding During Year : Insiders were net buyers of Skyworks Solutions, Inc.'s ( NASDAQ:SWKS ) stock during the past year. That is, insiders...\n"
          },
          "metadata": {}
        },
        {
          "output_type": "display_data",
          "data": {
            "text/plain": [
              "<IPython.core.display.Markdown object>"
            ],
            "text/markdown": "####C - Citigroup Inc. (Financial Services, Banks - Diversified) — score 0.471\n\n"
          },
          "metadata": {}
        },
        {
          "output_type": "display_data",
          "data": {
            "text/plain": [
              "<IPython.core.display.Markdown object>"
            ],
            "text/markdown": "   Oil Edges Down on Trade Jitters, Uncertainty Over OPEC+ Meeting : (Bloomberg) -- Oil edged down after a choppy session as traders parsed mixed messaging on the status of trade talks between the US and China.Most Read from BloombergBillionaire Steve Cohen Wants NY to Expand Taxpayer-Backed FerryNow With Colorful Blocks, Tirana’s Pyramid Represents a Changing AlbaniaNYC Congestion Toll Brings In $216 Million in First Four MonthsThe Economic Benefits of Paying Workers to MoveWhere the Wild Children’s Museums AreWest Texas Intermediate futures swung in a roughly $\n"
          },
          "metadata": {}
        },
        {
          "output_type": "display_data",
          "data": {
            "text/plain": [
              "<IPython.core.display.Markdown object>"
            ],
            "text/markdown": "####AMZN - Amazon.com, Inc. (Consumer Cyclical, Internet Retail) — score 0.471\n\n"
          },
          "metadata": {}
        },
        {
          "output_type": "display_data",
          "data": {
            "text/plain": [
              "<IPython.core.display.Markdown object>"
            ],
            "text/markdown": "   ServiceNow Regenerates On Swarm Of AI Deals With Amazon, Microsoft And More : Teaming up with AI giants like Amazon, Microsoft and others, ServiceNow stock has rebounded and stands poised to break out.\n"
          },
          "metadata": {}
        },
        {
          "output_type": "display_data",
          "data": {
            "text/plain": [
              "<IPython.core.display.Markdown object>"
            ],
            "text/markdown": "####MRNA - Moderna, Inc. (Healthcare, Biotechnology) — score 0.471\n\n"
          },
          "metadata": {}
        },
        {
          "output_type": "display_data",
          "data": {
            "text/plain": [
              "<IPython.core.display.Markdown object>"
            ],
            "text/markdown": "   HHS terminates Moderna contract to develop bird flu vaccine : The funding was meant to help the U.S. prepare for pandemics triggered by avian flu strains, but now leaves the future of Moderna’s program uncertain.\n"
          },
          "metadata": {}
        },
        {
          "output_type": "display_data",
          "data": {
            "text/plain": [
              "<IPython.core.display.Markdown object>"
            ],
            "text/markdown": "####NKE - NIKE, Inc. (Consumer Cyclical, Footwear & Accessories) — score 0.466\n\n"
          },
          "metadata": {}
        },
        {
          "output_type": "display_data",
          "data": {
            "text/plain": [
              "<IPython.core.display.Markdown object>"
            ],
            "text/markdown": "   Are These Beaten-Down Stocks a Buy? : Several popular stocks - NIKE and Target - have been beaten down over recent years, widely underperforming. Given their falls from glory, are they a buy at cheaper levels?\n"
          },
          "metadata": {}
        },
        {
          "output_type": "display_data",
          "data": {
            "text/plain": [
              "<IPython.core.display.Markdown object>"
            ],
            "text/markdown": "###Question:\nWhat financial news headlines connect Amazon with automation or logistics?"
          },
          "metadata": {}
        },
        {
          "output_type": "display_data",
          "data": {
            "text/plain": [
              "<IPython.core.display.Markdown object>"
            ],
            "text/markdown": "###Answer:\nThe relevant financial news headline connecting Amazon with automation is from context [2], where Matt Garman, CEO of Amazon Web Services, discusses Amazon's AI roadmap. He emphasizes that every aspect of Amazon is leveraging artificial intelligence, indicating a strong focus on automation within the company's operations. This highlights Amazon's commitment to integrating advanced technologies to enhance its logistics and operational efficiency. No additional specific financial figures or trends were provided in the context."
          },
          "metadata": {}
        },
        {
          "output_type": "display_data",
          "data": {
            "text/plain": [
              "<IPython.core.display.Markdown object>"
            ],
            "text/markdown": "###Context used:\n"
          },
          "metadata": {}
        },
        {
          "output_type": "display_data",
          "data": {
            "text/plain": [
              "<IPython.core.display.Markdown object>"
            ],
            "text/markdown": "####USB - U.S. Bancorp (Financial Services, Banks - Regional) — score 0.616\n\n"
          },
          "metadata": {}
        },
        {
          "output_type": "display_data",
          "data": {
            "text/plain": [
              "<IPython.core.display.Markdown object>"
            ],
            "text/markdown": "   U.S. Bancorp (USB): A Growing Dividend Stock with Low PE Ratio : We recently published a list of the 30 Growing Dividend Stocks with Low PE Ratios. In this article, we are going to take a look at where U.S. Bancorp (NYSE:USB) stands against other growing dividend stocks. Value stocks are enjoying a rare period of strength amid this year’s broader market downturn. With earnings season approaching, it […]\n"
          },
          "metadata": {}
        },
        {
          "output_type": "display_data",
          "data": {
            "text/plain": [
              "<IPython.core.display.Markdown object>"
            ],
            "text/markdown": "####AMZN - Amazon.com, Inc. (Consumer Cyclical, Internet Retail) — score 0.564\n\n"
          },
          "metadata": {}
        },
        {
          "output_type": "display_data",
          "data": {
            "text/plain": [
              "<IPython.core.display.Markdown object>"
            ],
            "text/markdown": "   Amazon's AI Roadmap With AWS CEO Garman : Every aspect of Amazon is leveraging artificial intelligence, says Matt Garman, CEO of Amazon Web Services. Garman discusses Amazon's AI roadmap and reflects on his first year in the role with Ed Ludlow on \"Bloomberg Technology.\"\n"
          },
          "metadata": {}
        },
        {
          "output_type": "display_data",
          "data": {
            "text/plain": [
              "<IPython.core.display.Markdown object>"
            ],
            "text/markdown": "####CDNS - Cadence Design Systems, Inc. (Technology, Software - Application) — score 0.547\n\n"
          },
          "metadata": {}
        },
        {
          "output_type": "display_data",
          "data": {
            "text/plain": [
              "<IPython.core.display.Markdown object>"
            ],
            "text/markdown": "   U.S. May Tighten China Export Rules on Cadence (CDNS), Synopsys (SNPS) : On Thursday, Reuters reported that the U.S. Commerce Department has issued notification letters to several Electronic Design Automation (EDA) software companies, including Cadence Design Systems Inc. (NASDAQ:CDNS), Synopsys Inc. (NASDAQ:SNPS) and Siemens EDA, asking them to halt the supply of their technologies to China. Although no official statement or formal order has been issued, the […]\n"
          },
          "metadata": {}
        },
        {
          "output_type": "display_data",
          "data": {
            "text/plain": [
              "<IPython.core.display.Markdown object>"
            ],
            "text/markdown": "####APA - APA Corporation (Energy, Oil & Gas E&P) — score 0.546\n\n"
          },
          "metadata": {}
        },
        {
          "output_type": "display_data",
          "data": {
            "text/plain": [
              "<IPython.core.display.Markdown object>"
            ],
            "text/markdown": "   OPEC Shifts To Oil Price-War Stance Ahead Of Trump Saudi Visit; These Stocks Rally : Oil prices slumped Monday after OPEC accelerated its production increases for a third straight month.\n"
          },
          "metadata": {}
        },
        {
          "output_type": "display_data",
          "data": {
            "text/plain": [
              "<IPython.core.display.Markdown object>"
            ],
            "text/markdown": "####UHS - Universal Health Services, Inc. (Healthcare, Medical Care Facilities) — score 0.543\n\n"
          },
          "metadata": {}
        },
        {
          "output_type": "display_data",
          "data": {
            "text/plain": [
              "<IPython.core.display.Markdown object>"
            ],
            "text/markdown": "   UHT Downgraded to Neutral Amid Leasing & Rate Pressures : Universal Health Realty's lease stability and dividend yield support income, but muted leasing, variable-rate debt and tenant concentration weigh on growth prospects.\n"
          },
          "metadata": {}
        },
        {
          "output_type": "display_data",
          "data": {
            "text/plain": [
              "<IPython.core.display.Markdown object>"
            ],
            "text/markdown": "####USB - U.S. Bancorp (Financial Services, Banks - Regional) — score 0.541\n\n"
          },
          "metadata": {}
        },
        {
          "output_type": "display_data",
          "data": {
            "text/plain": [
              "<IPython.core.display.Markdown object>"
            ],
            "text/markdown": "   U.S. Bancorp (NYSE:USB) Names Adam Graves Senior Executive VP in Strategic Role Expansion : U.S. Bancorp (NYSE:USB) recently appointed Adam Graves as Senior Executive Vice President, which aligns with the company's focus on strengthening leadership. Over the past week, the company's stock rose by 3%, a movement that corresponds broadly with the flat market performance during the same period. The firm's earnings report, highlighting improved financials with net income rising to $1.7 billion, and share buybacks also underscore its robust financial health. Meanwhile, product launches...\n"
          },
          "metadata": {}
        },
        {
          "output_type": "display_data",
          "data": {
            "text/plain": [
              "<IPython.core.display.Markdown object>"
            ],
            "text/markdown": "####OTIS - Otis Worldwide Corporation (Industrials, Specialty Industrial Machinery) — score 0.535\n\n"
          },
          "metadata": {}
        },
        {
          "output_type": "display_data",
          "data": {
            "text/plain": [
              "<IPython.core.display.Markdown object>"
            ],
            "text/markdown": "   Otis Worldwide (OTIS) Up 4.8% Since Last Earnings Report: Can It Continue? : Otis Worldwide (OTIS) reported earnings 30 days ago. What's next for the stock? We take a look at earnings estimates for some clues.\n"
          },
          "metadata": {}
        },
        {
          "output_type": "display_data",
          "data": {
            "text/plain": [
              "<IPython.core.display.Markdown object>"
            ],
            "text/markdown": "####UHS - Universal Health Services, Inc. (Healthcare, Medical Care Facilities) — score 0.528\n\n"
          },
          "metadata": {}
        },
        {
          "output_type": "display_data",
          "data": {
            "text/plain": [
              "<IPython.core.display.Markdown object>"
            ],
            "text/markdown": "   Here's Why Universal Health Services (UHS) is a Strong Growth Stock : The Zacks Style Scores offers investors a way to easily find top-rated stocks based on their investing style. Here's why you should take advantage.\n"
          },
          "metadata": {}
        },
        {
          "output_type": "display_data",
          "data": {
            "text/plain": [
              "<IPython.core.display.Markdown object>"
            ],
            "text/markdown": "####NXPI - NXP Semiconductors N.V. (Technology, Semiconductors) — score 0.520\n\n"
          },
          "metadata": {}
        },
        {
          "output_type": "display_data",
          "data": {
            "text/plain": [
              "<IPython.core.display.Markdown object>"
            ],
            "text/markdown": "   Is NXP Semiconductors N.V.'s (NASDAQ:NXPI) ROE Of 25% Impressive? : While some investors are already well versed in financial metrics (hat tip), this article is for those who would like...\n"
          },
          "metadata": {}
        },
        {
          "output_type": "display_data",
          "data": {
            "text/plain": [
              "<IPython.core.display.Markdown object>"
            ],
            "text/markdown": "####RVTY - Revvity, Inc. (Healthcare, Diagnostics & Research) — score 0.517\n\n"
          },
          "metadata": {}
        },
        {
          "output_type": "display_data",
          "data": {
            "text/plain": [
              "<IPython.core.display.Markdown object>"
            ],
            "text/markdown": "   3 S&P 500 Stocks in the Doghouse : The S&P 500 (^GSPC) is home to the biggest and most well-known companies in the market, making it a go-to index for investors seeking stability. But not all large-cap stocks are created equal - some are struggling with slowing growth, declining margins, or increased competition.\n"
          },
          "metadata": {}
        },
        {
          "output_type": "display_data",
          "data": {
            "text/plain": [
              "<IPython.core.display.Markdown object>"
            ],
            "text/markdown": "####KMB - Kimberly-Clark Corporation (Consumer Defensive, Household & Personal Products) — score 0.517\n\n"
          },
          "metadata": {}
        },
        {
          "output_type": "display_data",
          "data": {
            "text/plain": [
              "<IPython.core.display.Markdown object>"
            ],
            "text/markdown": "   Kimberly-Clark (NYSE:KMB) Elevates Russ Torres To President And COO : Kimberly-Clark (NYSE:KMB) recently appointed Russ Torres as President and Chief Operating Officer, a role entailing oversight of key business segments. During the last quarter, the company's stock moved 1.24%, closely paralleling broad market trends, which saw a modest gain driven by fluctuations in investor sentiment amidst tariff and Federal Reserve news. The company's significant $2 billion investment announcement for North America and steady dividends may have contributed weight to its...\n"
          },
          "metadata": {}
        },
        {
          "output_type": "display_data",
          "data": {
            "text/plain": [
              "<IPython.core.display.Markdown object>"
            ],
            "text/markdown": "####D - Dominion Energy, Inc. (Utilities, Utilities - Regulated Electric) — score 0.514\n\n"
          },
          "metadata": {}
        },
        {
          "output_type": "display_data",
          "data": {
            "text/plain": [
              "<IPython.core.display.Markdown object>"
            ],
            "text/markdown": "   3 Dividend Stocks to Buy With $500 and Hold Forever : Investing in dividend stocks is an excellent way to generate passive income.  Over the past several decades, dividend stocks have historically outperformed stocks that don't pay any dividends.  Research by Hartford Funds (a division of Hartford Financial Services), in collaboration with Ned Davis Research, reveals a compelling narrative: Dividend-paying companies have historically outperformed their counterparts that don't pay dividends.\n"
          },
          "metadata": {}
        },
        {
          "output_type": "display_data",
          "data": {
            "text/plain": [
              "<IPython.core.display.Markdown object>"
            ],
            "text/markdown": "####CCI - Crown Castle Inc. (Real Estate, REIT - Specialty) — score 0.514\n\n"
          },
          "metadata": {}
        },
        {
          "output_type": "display_data",
          "data": {
            "text/plain": [
              "<IPython.core.display.Markdown object>"
            ],
            "text/markdown": "   If You Invested $10K In Crown Castle Stock 10 Years Ago, How Much Would You Have Now? : Crown Castle Inc. (NYSE:CCI) owns, operates and leases more than 40,000 cell towers and approximately 90,000 route miles of fiber supporting small cells and fiber solutions across every major U.S. market. If You Bought Crown Castle Stock 10 Years ...\n"
          },
          "metadata": {}
        },
        {
          "output_type": "display_data",
          "data": {
            "text/plain": [
              "<IPython.core.display.Markdown object>"
            ],
            "text/markdown": "####MTB - M&T Bank Corporation (Financial Services, Banks - Regional) — score 0.513\n\n"
          },
          "metadata": {}
        },
        {
          "output_type": "display_data",
          "data": {
            "text/plain": [
              "<IPython.core.display.Markdown object>"
            ],
            "text/markdown": "   Are You Looking for a High-Growth Dividend Stock? : Dividends are one of the best benefits to being a shareholder, but finding a great dividend stock is no easy task. Does M&T Bank Corporation (MTB) have what it takes? Let's find out.\n"
          },
          "metadata": {}
        },
        {
          "output_type": "display_data",
          "data": {
            "text/plain": [
              "<IPython.core.display.Markdown object>"
            ],
            "text/markdown": "####HLT - Hilton Worldwide Holdings Inc. (Consumer Cyclical, Lodging) — score 0.513\n\n"
          },
          "metadata": {}
        },
        {
          "output_type": "display_data",
          "data": {
            "text/plain": [
              "<IPython.core.display.Markdown object>"
            ],
            "text/markdown": "   Travel and Vacation Providers Stocks Q1 Recap: Benchmarking Royal Caribbean (NYSE:RCL) : Wrapping up Q1 earnings, we look at the numbers and key takeaways for the travel and vacation providers stocks, including Royal Caribbean (NYSE:RCL) and its peers.\n"
          },
          "metadata": {}
        },
        {
          "output_type": "display_data",
          "data": {
            "text/plain": [
              "<IPython.core.display.Markdown object>"
            ],
            "text/markdown": "####DLTR - Dollar Tree, Inc. (Consumer Defensive, Discount Stores) — score 0.513\n\n"
          },
          "metadata": {}
        },
        {
          "output_type": "display_data",
          "data": {
            "text/plain": [
              "<IPython.core.display.Markdown object>"
            ],
            "text/markdown": "   Lululemon earnings, JOLTS data, May jobs report: What to Watch : Market Domination Overtime host Josh Lipton previews next week's biggest market stories and economic data that Wall Street will be listening for, including earnings from Lululemon Athletica (LULU), Broadcom (AVGO), discount retailers Dollar General (DG), Dollar Tree (DLTR), and Five Below (FIVE), Hewlett Packard Enterprise (HPE), and CrowdStrike (CRWD), as well as the latest Job Openings and Labor Turnover Survey (JOLTS) results and May's jobs report out on Friday, June 6. To watch more expert insights and analysis on the latest market action, check out more Market Domination Overtime&nbsp;here.\n"
          },
          "metadata": {}
        },
        {
          "output_type": "display_data",
          "data": {
            "text/plain": [
              "<IPython.core.display.Markdown object>"
            ],
            "text/markdown": "####COF - Capital One Financial Corporation (Financial Services, Credit Services) — score 0.513\n\n"
          },
          "metadata": {}
        },
        {
          "output_type": "display_data",
          "data": {
            "text/plain": [
              "<IPython.core.display.Markdown object>"
            ],
            "text/markdown": "   Why This 1 Momentum Stock Could Be a Great Addition to Your Portfolio : The Zacks Style Scores offers investors a way to easily find top-rated stocks based on their investing style. Here's why you should take advantage.\n"
          },
          "metadata": {}
        },
        {
          "output_type": "display_data",
          "data": {
            "text/plain": [
              "<IPython.core.display.Markdown object>"
            ],
            "text/markdown": "####ENPH - Enphase Energy, Inc. (Technology, Solar) — score 0.513\n\n"
          },
          "metadata": {}
        },
        {
          "output_type": "display_data",
          "data": {
            "text/plain": [
              "<IPython.core.display.Markdown object>"
            ],
            "text/markdown": "   SunRun and Other Solar Stocks Fall on Tax Bill : Rooftop solar shares tumbled after the House passed President Trump’s tax-and-spending package.  Tax credits for both utility-sized and small renewable energy projects were expected to be phased out.  Enphase Energy, which supplies microinverter-based solar and battery systems, sank nearly 20%.\n"
          },
          "metadata": {}
        },
        {
          "output_type": "display_data",
          "data": {
            "text/plain": [
              "<IPython.core.display.Markdown object>"
            ],
            "text/markdown": "####BR - Broadridge Financial Solutions, Inc. (Technology, Information Technology Services) — score 0.513\n\n"
          },
          "metadata": {}
        },
        {
          "output_type": "display_data",
          "data": {
            "text/plain": [
              "<IPython.core.display.Markdown object>"
            ],
            "text/markdown": "   Here's What To Make Of Broadridge Financial Solutions' (NYSE:BR) Decelerating Rates Of Return : If you're not sure where to start when looking for the next multi-bagger, there are a few key trends you should keep an...\n"
          },
          "metadata": {}
        },
        {
          "output_type": "display_data",
          "data": {
            "text/plain": [
              "<IPython.core.display.Markdown object>"
            ],
            "text/markdown": "####FIS - Fidelity National Information Services, Inc. (Technology, Information Technology Services) — score 0.509\n\n"
          },
          "metadata": {}
        },
        {
          "output_type": "display_data",
          "data": {
            "text/plain": [
              "<IPython.core.display.Markdown object>"
            ],
            "text/markdown": "   Fidelity National Information Services (NYSE:FIS) Partners With Letskipp To Innovate NSF Solutions : Fidelity National Information Services (NYSE:FIS) recently announced a strategic partnership with Letskipp Ltd., introducing an NSF authorization solution aimed at reducing debit transaction declines. This development, alongside other key activities such as share buyback completions and new product launches—including the Money Movement Hub—adds weight to the company's 16% price increase over the last quarter. While the broader market experienced modest gains during this period, FIS's...\n"
          },
          "metadata": {}
        },
        {
          "output_type": "display_data",
          "data": {
            "text/plain": [
              "<IPython.core.display.Markdown object>"
            ],
            "text/markdown": "####HRL - Hormel Foods Corporation (Consumer Defensive, Packaged Foods) — score 0.509\n\n"
          },
          "metadata": {}
        },
        {
          "output_type": "display_data",
          "data": {
            "text/plain": [
              "<IPython.core.display.Markdown object>"
            ],
            "text/markdown": "   Hormel Foods confident of sales growth acceleration in back half : Full-year guidance has been tweaked to reflect the macroenvironment but operating income target remains unchanged.\n"
          },
          "metadata": {}
        },
        {
          "output_type": "display_data",
          "data": {
            "text/plain": [
              "<IPython.core.display.Markdown object>"
            ],
            "text/markdown": "####XYL - Xylem Inc. (Industrials, Specialty Industrial Machinery) — score 0.508\n\n"
          },
          "metadata": {}
        },
        {
          "output_type": "display_data",
          "data": {
            "text/plain": [
              "<IPython.core.display.Markdown object>"
            ],
            "text/markdown": "   Xylem First Quarter 2025 Earnings: Revenues Beat Expectations, EPS In Line : Xylem ( NYSE:XYL ) First Quarter 2025 Results Key Financial Results Revenue: US$2.07b (up 1.8% from 1Q 2024). Net...\n"
          },
          "metadata": {}
        },
        {
          "output_type": "display_data",
          "data": {
            "text/plain": [
              "<IPython.core.display.Markdown object>"
            ],
            "text/markdown": "####PEG - Public Service Enterprise Group Incorporated (Utilities, Utilities - Regulated Electric) — score 0.508\n\n"
          },
          "metadata": {}
        },
        {
          "output_type": "display_data",
          "data": {
            "text/plain": [
              "<IPython.core.display.Markdown object>"
            ],
            "text/markdown": "   Those who invested in Public Service Enterprise Group (NYSE:PEG) five years ago are up 80% : If you buy and hold a stock for many years, you'd hope to be making a profit. Better yet, you'd like to see the share...\n"
          },
          "metadata": {}
        },
        {
          "output_type": "display_data",
          "data": {
            "text/plain": [
              "<IPython.core.display.Markdown object>"
            ],
            "text/markdown": "####EIX - Edison International (Utilities, Utilities - Regulated Electric) — score 0.507\n\n"
          },
          "metadata": {}
        },
        {
          "output_type": "display_data",
          "data": {
            "text/plain": [
              "<IPython.core.display.Markdown object>"
            ],
            "text/markdown": "   Tragic Wildfires in Southern California Affected Edison International (EIX) in Q1 : ClearBridge Investments, an investment management company, released its “ClearBridge Large Cap Value Strategy” first quarter 2025 investor letter. A copy of the letter can be downloaded here. The S&P 500 Index declined by -4.3% in Q1 2025 due to a tariff war and a shift away from AI-related tech stocks. Amid the tech-led sell-off, the […]\n"
          },
          "metadata": {}
        },
        {
          "output_type": "display_data",
          "data": {
            "text/plain": [
              "<IPython.core.display.Markdown object>"
            ],
            "text/markdown": "####CDNS - Cadence Design Systems, Inc. (Technology, Software - Application) — score 0.507\n\n"
          },
          "metadata": {}
        },
        {
          "output_type": "display_data",
          "data": {
            "text/plain": [
              "<IPython.core.display.Markdown object>"
            ],
            "text/markdown": "   US Tightens China Chip Curbs by Targeting Design Software : (Bloomberg) -- The Trump administration is moving to restrict the sale of chip design software to China, people familiar with the matter said, as the US government evaluates a broader policy announcement on the issue.Most Read from BloombergNYC Congestion Toll Brings In $216 Million in First Four MonthsNY Wins Order Against US Funding Freeze in Congestion FightNY Congestion Pricing Is Likely to Stay Until Year End During Court CaseNow With Colorful Blocks, Tirana’s Pyramid Represents a Changing\n"
          },
          "metadata": {}
        }
      ]
    },
    {
      "cell_type": "code",
      "source": [
        "#\n",
        "# Questions Industry\n",
        "print_markdown(\"#Industry\")\n",
        "for q in questions_industry:\n",
        "    rag(q, faiss_store_augmented,  k=K)"
      ],
      "metadata": {
        "colab": {
          "base_uri": "https://localhost:8080/",
          "height": 1000
        },
        "id": "RulxqMjge4Fo",
        "outputId": "e57e2e80-5e83-4fbe-fb93-348e7c32623e"
      },
      "id": "RulxqMjge4Fo",
      "execution_count": null,
      "outputs": [
        {
          "output_type": "display_data",
          "data": {
            "text/plain": [
              "<IPython.core.display.Markdown object>"
            ],
            "text/markdown": "#Industry"
          },
          "metadata": {}
        },
        {
          "output_type": "display_data",
          "data": {
            "text/plain": [
              "<IPython.core.display.Markdown object>"
            ],
            "text/markdown": "###Question:\nWhat are the main themes emerging in financial news about the semiconductor industry?"
          },
          "metadata": {}
        },
        {
          "output_type": "display_data",
          "data": {
            "text/plain": [
              "<IPython.core.display.Markdown object>"
            ],
            "text/markdown": "###Answer:\nThe financial news regarding the semiconductor industry highlights several key themes. Firstly, there is a focus on stock performance, with companies like Analog Devices and ON Semiconductor being scrutinized for their earnings and market positioning. For instance, ON Semiconductor has experienced a significant 35% decline year-to-date, attributed to challenging macroeconomic conditions despite strong growth in SiC and AI data centers.\n\nAdditionally, there is an emphasis on strategic moves within the industry, such as acquisitions and partnerships, which are seen as critical for growth and competitiveness. The overall market for semiconductors is also being influenced by broader economic factors, including trade policies and tariffs, which could impact inventory levels and supply chains. Lastly, the integration of artificial intelligence into semiconductor applications is a recurring topic, indicating a shift towards next-gen computing solutions."
          },
          "metadata": {}
        },
        {
          "output_type": "display_data",
          "data": {
            "text/plain": [
              "<IPython.core.display.Markdown object>"
            ],
            "text/markdown": "###Context used:\n"
          },
          "metadata": {}
        },
        {
          "output_type": "display_data",
          "data": {
            "text/plain": [
              "<IPython.core.display.Markdown object>"
            ],
            "text/markdown": "####ORCL - Oracle Corporation (Technology, Software - Infrastructure) — score 0.665\n\n"
          },
          "metadata": {}
        },
        {
          "output_type": "display_data",
          "data": {
            "text/plain": [
              "<IPython.core.display.Markdown object>"
            ],
            "text/markdown": "   Salesforce CEO on why he defied conventional thinking by hiking earnings guidance : Salesforce co-founder and CEO Marc Benioff says the business is strong enough to support a guidance raise despite the economic headwinds.\n"
          },
          "metadata": {}
        },
        {
          "output_type": "display_data",
          "data": {
            "text/plain": [
              "<IPython.core.display.Markdown object>"
            ],
            "text/markdown": "####ORCL - Oracle Corporation (Technology, Software - Infrastructure) — score 0.614\n\n"
          },
          "metadata": {}
        },
        {
          "output_type": "display_data",
          "data": {
            "text/plain": [
              "<IPython.core.display.Markdown object>"
            ],
            "text/markdown": "   Prediction: This Top Artificial Intelligence (AI) Cloud Stock Will Skyrocket in June : Oracle stock has been recovering nicely in recent weeks from its 2025 slump, and it could receive another shot in the arm from the release of its quarterly results in mid-June.  Over the same period, the Nasdaq Composite index recorded an 22% gain.  The database and cloud infrastructure provider is expected to table its fiscal 2025 fourth-quarter results in mid-June.\n"
          },
          "metadata": {}
        },
        {
          "output_type": "display_data",
          "data": {
            "text/plain": [
              "<IPython.core.display.Markdown object>"
            ],
            "text/markdown": "####ORCL - Oracle Corporation (Technology, Software - Infrastructure) — score 0.599\n\n"
          },
          "metadata": {}
        },
        {
          "output_type": "display_data",
          "data": {
            "text/plain": [
              "<IPython.core.display.Markdown object>"
            ],
            "text/markdown": "   Expand Energy And 2 Stocks That Might Be Priced Below Their Estimated Worth : The United States market has been flat over the last week but is up 11% over the past year, with earnings forecast to grow by 14% annually. In this environment, identifying stocks that are potentially undervalued can be a strategic move for investors looking to capitalize on growth opportunities while navigating a stable yet promising market landscape.\n"
          },
          "metadata": {}
        },
        {
          "output_type": "display_data",
          "data": {
            "text/plain": [
              "<IPython.core.display.Markdown object>"
            ],
            "text/markdown": "####ADI - Analog Devices, Inc. (Technology, Semiconductors) — score 0.585\n\n"
          },
          "metadata": {}
        },
        {
          "output_type": "display_data",
          "data": {
            "text/plain": [
              "<IPython.core.display.Markdown object>"
            ],
            "text/markdown": "   Spotting Winners: Vishay Intertechnology (NYSE:VSH) And Analog Semiconductors Stocks In Q1 : The end of an earnings season can be a great time to discover new stocks and assess how companies are handling the current business environment. Let’s take a look at how Vishay Intertechnology (NYSE:VSH) and the rest of the analog semiconductors stocks fared in Q1.\n"
          },
          "metadata": {}
        },
        {
          "output_type": "display_data",
          "data": {
            "text/plain": [
              "<IPython.core.display.Markdown object>"
            ],
            "text/markdown": "####EOG - EOG Resources, Inc. (Energy, Oil & Gas E&P) — score 0.567\n\n"
          },
          "metadata": {}
        },
        {
          "output_type": "display_data",
          "data": {
            "text/plain": [
              "<IPython.core.display.Markdown object>"
            ],
            "text/markdown": "   EOG Resources Strikes $5.6 Billion Deal to Buy Encino Acquisition Partners : EOG Resources (EOG) said Friday it agreed to buy oil and gas firm Encino Acquisition Partners for $5\n"
          },
          "metadata": {}
        },
        {
          "output_type": "display_data",
          "data": {
            "text/plain": [
              "<IPython.core.display.Markdown object>"
            ],
            "text/markdown": "####BA - The Boeing Company (Industrials, Aerospace & Defense) — score 0.566\n\n"
          },
          "metadata": {}
        },
        {
          "output_type": "display_data",
          "data": {
            "text/plain": [
              "<IPython.core.display.Markdown object>"
            ],
            "text/markdown": "   Justice Department drops criminal case against Boeing, sparking outrage from crash victims’ families : The Department of Justice has decided to drop its criminal case against Boeing despite the company agreeing to plead guilty last year to its role in two fatal 737 Max crashes that killed 346 people.\n"
          },
          "metadata": {}
        },
        {
          "output_type": "display_data",
          "data": {
            "text/plain": [
              "<IPython.core.display.Markdown object>"
            ],
            "text/markdown": "####ORCL - Oracle Corporation (Technology, Software - Infrastructure) — score 0.566\n\n"
          },
          "metadata": {}
        },
        {
          "output_type": "display_data",
          "data": {
            "text/plain": [
              "<IPython.core.display.Markdown object>"
            ],
            "text/markdown": "   United Rentals a 'natural choice' amid AI construction projects : US equities (^DJI, ^IXIC, ^GSPC) took a hit in Friday's session after President Trump threatened a new 50% tariff against European Union (EU) nations. The indexes ended up closing out the trading week at a loss of over 2% each. Argent Capital Management Portfolio Manager Jed Ellerbroek comes on Market Domination to discuss his latest stock picks in industrial equipment company United Rentals (URI), Oracle (ORCL), and — ahead of its earnings release on Wednesday, May 28 — Nvidia (NVDA). To watch more expert insights and analysis on the latest market action, check out more Market Domination&nbsp;here.\n"
          },
          "metadata": {}
        },
        {
          "output_type": "display_data",
          "data": {
            "text/plain": [
              "<IPython.core.display.Markdown object>"
            ],
            "text/markdown": "####ROL - Rollins, Inc. (Consumer Cyclical, Personal Services) — score 0.555\n\n"
          },
          "metadata": {}
        },
        {
          "output_type": "display_data",
          "data": {
            "text/plain": [
              "<IPython.core.display.Markdown object>"
            ],
            "text/markdown": "   Reasons Why You Should Retain Rollins Stock in Your Portfolio Now : ROL excels with strong demand, acquisitions, global expansion and consistent dividends, driving robust revenue growth.\n"
          },
          "metadata": {}
        },
        {
          "output_type": "display_data",
          "data": {
            "text/plain": [
              "<IPython.core.display.Markdown object>"
            ],
            "text/markdown": "####ORCL - Oracle Corporation (Technology, Software - Infrastructure) — score 0.548\n\n"
          },
          "metadata": {}
        },
        {
          "output_type": "display_data",
          "data": {
            "text/plain": [
              "<IPython.core.display.Markdown object>"
            ],
            "text/markdown": "   Why the Market Dipped But Oracle (ORCL) Gained Today : Oracle (ORCL) concluded the recent trading session at $163.85, signifying a +1.2% move from its prior day's close.\n"
          },
          "metadata": {}
        },
        {
          "output_type": "display_data",
          "data": {
            "text/plain": [
              "<IPython.core.display.Markdown object>"
            ],
            "text/markdown": "####OTIS - Otis Worldwide Corporation (Industrials, Specialty Industrial Machinery) — score 0.538\n\n"
          },
          "metadata": {}
        },
        {
          "output_type": "display_data",
          "data": {
            "text/plain": [
              "<IPython.core.display.Markdown object>"
            ],
            "text/markdown": "   Otis Worldwide (OTIS) Up 4.8% Since Last Earnings Report: Can It Continue? : Otis Worldwide (OTIS) reported earnings 30 days ago. What's next for the stock? We take a look at earnings estimates for some clues.\n"
          },
          "metadata": {}
        },
        {
          "output_type": "display_data",
          "data": {
            "text/plain": [
              "<IPython.core.display.Markdown object>"
            ],
            "text/markdown": "####PANW - Palo Alto Networks, Inc. (Technology, Software - Infrastructure) — score 0.532\n\n"
          },
          "metadata": {}
        },
        {
          "output_type": "display_data",
          "data": {
            "text/plain": [
              "<IPython.core.display.Markdown object>"
            ],
            "text/markdown": "   Billionaire Stanley Druckenmiller Just Sold One of Wall Street's Hottest Stock-Split Stocks and Is Piling Into a Promising Drugmaker Instead : Duquesne Family Office's chief dumped his entire stake in one of Wall Street's premier stock-split stocks and has continued to load up on a super-cheap drug company for a third straight quarter.\n"
          },
          "metadata": {}
        },
        {
          "output_type": "display_data",
          "data": {
            "text/plain": [
              "<IPython.core.display.Markdown object>"
            ],
            "text/markdown": "####DAL - Delta Air Lines, Inc. (Industrials, Airlines) — score 0.531\n\n"
          },
          "metadata": {}
        },
        {
          "output_type": "display_data",
          "data": {
            "text/plain": [
              "<IPython.core.display.Markdown object>"
            ],
            "text/markdown": "   Delta Air Lines (DAL) Stock Drops Despite Market Gains: Important Facts to Note : Delta Air Lines (DAL) concluded the recent trading session at $48.50, signifying a -0.21% move from its prior day's close.\n"
          },
          "metadata": {}
        },
        {
          "output_type": "display_data",
          "data": {
            "text/plain": [
              "<IPython.core.display.Markdown object>"
            ],
            "text/markdown": "####ALL - The Allstate Corporation (Financial Services, Insurance - Property & Casualty) — score 0.529\n\n"
          },
          "metadata": {}
        },
        {
          "output_type": "display_data",
          "data": {
            "text/plain": [
              "<IPython.core.display.Markdown object>"
            ],
            "text/markdown": "   Here's Why We Think Allstate (NYSE:ALL) Might Deserve Your Attention Today : Investors are often guided by the idea of discovering 'the next big thing', even if that means buying 'story stocks...\n"
          },
          "metadata": {}
        },
        {
          "output_type": "display_data",
          "data": {
            "text/plain": [
              "<IPython.core.display.Markdown object>"
            ],
            "text/markdown": "####ODFL - Old Dominion Freight Line, Inc. (Industrials, Trucking) — score 0.529\n\n"
          },
          "metadata": {}
        },
        {
          "output_type": "display_data",
          "data": {
            "text/plain": [
              "<IPython.core.display.Markdown object>"
            ],
            "text/markdown": "   Why Is Old Dominion (ODFL) Up 3% Since Last Earnings Report? : Old Dominion (ODFL) reported earnings 30 days ago. What's next for the stock? We take a look at earnings estimates for some clues.\n"
          },
          "metadata": {}
        },
        {
          "output_type": "display_data",
          "data": {
            "text/plain": [
              "<IPython.core.display.Markdown object>"
            ],
            "text/markdown": "####BMY - Bristol-Myers Squibb Company (Healthcare, Drug Manufacturers - General) — score 0.528\n\n"
          },
          "metadata": {}
        },
        {
          "output_type": "display_data",
          "data": {
            "text/plain": [
              "<IPython.core.display.Markdown object>"
            ],
            "text/markdown": "   Bristol CEO: Pharma Tariffs Must Not Jeopardize Medicine Supplies : Bristol-Myers Squibb Chief Executive Chris Boerner said at The Wall Street Journal's Future of Everything festival on Thursday that potential tariffs targeting the drug industry from the Trump administration must not create supply constraints.  Bristol and other drugmakers are bracing for tariffs targeting pharmaceuticals shipped to the U.S. from other countries.  The administration has been conducting an investigation into such levies, and analysts expect them to be announced in coming weeks.\n"
          },
          "metadata": {}
        },
        {
          "output_type": "display_data",
          "data": {
            "text/plain": [
              "<IPython.core.display.Markdown object>"
            ],
            "text/markdown": "####GILD - Gilead Sciences, Inc. (Healthcare, Drug Manufacturers - General) — score 0.527\n\n"
          },
          "metadata": {}
        },
        {
          "output_type": "display_data",
          "data": {
            "text/plain": [
              "<IPython.core.display.Markdown object>"
            ],
            "text/markdown": "   Gilead Sciences Stock Gains 21% YTD: Buy, Sell or Hold? : GILD stock jumps 21.1% YTD as HIV dominance, lenacapavir progress, and liver drug approval offset oncology pressures. However, we recommend investors remain on the sidelines at current levels.\n"
          },
          "metadata": {}
        },
        {
          "output_type": "display_data",
          "data": {
            "text/plain": [
              "<IPython.core.display.Markdown object>"
            ],
            "text/markdown": "####ORCL - Oracle Corporation (Technology, Software - Infrastructure) — score 0.523\n\n"
          },
          "metadata": {}
        },
        {
          "output_type": "display_data",
          "data": {
            "text/plain": [
              "<IPython.core.display.Markdown object>"
            ],
            "text/markdown": "   OpenAI Secures $11.6B For Texas Data Center Expansion, Reducing Microsoft Dependence : Zinger Points: Crusoe secures $11.6 billion to build OpenAI's massive 1.2 gigawatt Abilene, Texas data center, part of the $500 billion Project Stargate. Oracle has signed a 15-year lease to anchor the Abilene data center. Crusoe's evolution from gas-powered crypto rigs to liquid-cooled AI supercenters captures the arc of next-gen computing. AI infrastructure startup Crusoe Energy Systems has secured $11.6 billion in funding commitments to build a massive data center in Abilene, Texas, designed\n"
          },
          "metadata": {}
        },
        {
          "output_type": "display_data",
          "data": {
            "text/plain": [
              "<IPython.core.display.Markdown object>"
            ],
            "text/markdown": "####ADI - Analog Devices, Inc. (Technology, Semiconductors) — score 0.521\n\n"
          },
          "metadata": {}
        },
        {
          "output_type": "display_data",
          "data": {
            "text/plain": [
              "<IPython.core.display.Markdown object>"
            ],
            "text/markdown": "   ON Semiconductor Plunges 35% YTD: Buy, Sell or Hold the Stock? : ON shows strong growth across SiC and AI Data Centers amidst declining EV demand due to challenging macroeconomic conditions.\n"
          },
          "metadata": {}
        },
        {
          "output_type": "display_data",
          "data": {
            "text/plain": [
              "<IPython.core.display.Markdown object>"
            ],
            "text/markdown": "####FICO - Fair Isaac Corporation (Technology, Software - Application) — score 0.520\n\n"
          },
          "metadata": {}
        },
        {
          "output_type": "display_data",
          "data": {
            "text/plain": [
              "<IPython.core.display.Markdown object>"
            ],
            "text/markdown": "   NRG Energy and UnitedHealth Are the S&P 500’s Best and Worst for May. Here’s Why. : Investors flocked to shares of NRG as the energy supplier boosted capacity. UnitedHealth stock slumped, and the company’s CEO resigned.\n"
          },
          "metadata": {}
        },
        {
          "output_type": "display_data",
          "data": {
            "text/plain": [
              "<IPython.core.display.Markdown object>"
            ],
            "text/markdown": "####EBAY - eBay Inc. (Consumer Cyclical, Internet Retail) — score 0.519\n\n"
          },
          "metadata": {}
        },
        {
          "output_type": "display_data",
          "data": {
            "text/plain": [
              "<IPython.core.display.Markdown object>"
            ],
            "text/markdown": "   Google, eBay Launch Gen AI-Powered Capabilities to Make Items More Shoppable : Google launched 3D product visualizations generated from photos, while eBay brought to life social media videos based on images of products.\n"
          },
          "metadata": {}
        },
        {
          "output_type": "display_data",
          "data": {
            "text/plain": [
              "<IPython.core.display.Markdown object>"
            ],
            "text/markdown": "####ODFL - Old Dominion Freight Line, Inc. (Industrials, Trucking) — score 0.513\n\n"
          },
          "metadata": {}
        },
        {
          "output_type": "display_data",
          "data": {
            "text/plain": [
              "<IPython.core.display.Markdown object>"
            ],
            "text/markdown": "   Port Of Los Angeles Warns Of 'Lower Inventory' For Retailers Amid Trump Tariff Uncertainty : President Donald Trump's trade war policies will likely mean lower retail inventories, the Port of Los Angeles says. A 90-day pause doesn't offer much time.\n"
          },
          "metadata": {}
        },
        {
          "output_type": "display_data",
          "data": {
            "text/plain": [
              "<IPython.core.display.Markdown object>"
            ],
            "text/markdown": "####SJM - The J. M. Smucker Company (Consumer Defensive, Packaged Foods) — score 0.511\n\n"
          },
          "metadata": {}
        },
        {
          "output_type": "display_data",
          "data": {
            "text/plain": [
              "<IPython.core.display.Markdown object>"
            ],
            "text/markdown": "   3 Value Stocks with Questionable Fundamentals : Value stocks typically trade at discounts to the broader market, offering patient investors the opportunity to buy businesses when they’re out of favor. The key risk, however, is that these stocks are usually cheap for a reason – five cents for a piece of fruit may seem like a great deal until you find out it’s rotten.\n"
          },
          "metadata": {}
        },
        {
          "output_type": "display_data",
          "data": {
            "text/plain": [
              "<IPython.core.display.Markdown object>"
            ],
            "text/markdown": "####TPL - Texas Pacific Land Corporation (Energy, Oil & Gas E&P) — score 0.507\n\n"
          },
          "metadata": {}
        },
        {
          "output_type": "display_data",
          "data": {
            "text/plain": [
              "<IPython.core.display.Markdown object>"
            ],
            "text/markdown": "   Texas Pacific Land Corporation (TPL): Among Large-Cap Stocks Insiders Were Buying in Q1 2025 Before Trump’s Tariff Shockwave : We recently published a list of 12 Large-Cap Stocks Insiders Were Buying in Q1 2025 Before Trump’s Tariff Shockwave. In this article, we are going to take a look at where Texas Pacific Land Corporation (NYSE:TPL) stands against other large-cap stocks insiders were buying in Q1 2025 before Trump’s tariff shockwave. US stocks surged last […]\n"
          },
          "metadata": {}
        },
        {
          "output_type": "display_data",
          "data": {
            "text/plain": [
              "<IPython.core.display.Markdown object>"
            ],
            "text/markdown": "####LVS - Las Vegas Sands Corp. (Consumer Cyclical, Resorts & Casinos) — score 0.505\n\n"
          },
          "metadata": {}
        },
        {
          "output_type": "display_data",
          "data": {
            "text/plain": [
              "<IPython.core.display.Markdown object>"
            ],
            "text/markdown": "   Las Vegas Sands (LVS) Reports Q1 Earnings: What Key Metrics Have to Say : While the top- and bottom-line numbers for Las Vegas Sands (LVS) give a sense of how the business performed in the quarter ended March 2025, it could be worth looking at how some of its key metrics compare to Wall Street estimates and year-ago values.\n"
          },
          "metadata": {}
        },
        {
          "output_type": "display_data",
          "data": {
            "text/plain": [
              "<IPython.core.display.Markdown object>"
            ],
            "text/markdown": "####ALLE - Allegion plc (Industrials, Security & Protection Services) — score 0.505\n\n"
          },
          "metadata": {}
        },
        {
          "output_type": "display_data",
          "data": {
            "text/plain": [
              "<IPython.core.display.Markdown object>"
            ],
            "text/markdown": "   A Look Back at Electrical Systems Stocks’ Q1 Earnings: Allegion (NYSE:ALLE) Vs The Rest Of The Pack : Quarterly earnings results are a good time to check in on a company’s progress, especially compared to its peers in the same sector. Today we are looking at Allegion (NYSE:ALLE) and the best and worst performers in the electrical systems industry.\n"
          },
          "metadata": {}
        },
        {
          "output_type": "display_data",
          "data": {
            "text/plain": [
              "<IPython.core.display.Markdown object>"
            ],
            "text/markdown": "###Question:\nWhat trends are being reported in the retail industry?"
          },
          "metadata": {}
        },
        {
          "output_type": "display_data",
          "data": {
            "text/plain": [
              "<IPython.core.display.Markdown object>"
            ],
            "text/markdown": "###Answer:\nThe provided context does not contain specific information or trends related to the retail industry. Therefore, I cannot summarize any retail industry trends based on the available data."
          },
          "metadata": {}
        },
        {
          "output_type": "display_data",
          "data": {
            "text/plain": [
              "<IPython.core.display.Markdown object>"
            ],
            "text/markdown": "###Context used:\n"
          },
          "metadata": {}
        },
        {
          "output_type": "display_data",
          "data": {
            "text/plain": [
              "<IPython.core.display.Markdown object>"
            ],
            "text/markdown": "####CCL - Carnival Corporation & plc (Consumer Cyclical, Travel Services) — score 0.618\n\n"
          },
          "metadata": {}
        },
        {
          "output_type": "display_data",
          "data": {
            "text/plain": [
              "<IPython.core.display.Markdown object>"
            ],
            "text/markdown": "   UK 'bargain' stocks that have outperformed the market long-term : A number of FTSE 350 stocks are trading on steep discounts, despite having outperformed the UK market over five years, according to IG.\n"
          },
          "metadata": {}
        },
        {
          "output_type": "display_data",
          "data": {
            "text/plain": [
              "<IPython.core.display.Markdown object>"
            ],
            "text/markdown": "####HOLX - Hologic, Inc. (Healthcare, Medical Instruments & Supplies) — score 0.543\n\n"
          },
          "metadata": {}
        },
        {
          "output_type": "display_data",
          "data": {
            "text/plain": [
              "<IPython.core.display.Markdown object>"
            ],
            "text/markdown": "   Why Is Hologic (HOLX) Stock Rocketing Higher Today : Shares of medical technology company Hologic (NASDAQ:HOLX) jumped 18.6% in the afternoon session after the Financial Times reported that private equity firms TPG and Blackstone made an offer to buy the company (HOLX).\n"
          },
          "metadata": {}
        },
        {
          "output_type": "display_data",
          "data": {
            "text/plain": [
              "<IPython.core.display.Markdown object>"
            ],
            "text/markdown": "####TECH - Bio-Techne Corporation (Healthcare, Biotechnology) — score 0.543\n\n"
          },
          "metadata": {}
        },
        {
          "output_type": "display_data",
          "data": {
            "text/plain": [
              "<IPython.core.display.Markdown object>"
            ],
            "text/markdown": "   S&P 500 Gains & Losses Today: Supermicro Stock Surges After DataVolt Deal : The S&P 500 ticked 0.1% higher on Wednesday, May 14, 2025, bolstered by a tech sector rally even as macroeconomic concerns pressured other sectors.\n"
          },
          "metadata": {}
        },
        {
          "output_type": "display_data",
          "data": {
            "text/plain": [
              "<IPython.core.display.Markdown object>"
            ],
            "text/markdown": "####PANW - Palo Alto Networks, Inc. (Technology, Software - Infrastructure) — score 0.523\n\n"
          },
          "metadata": {}
        },
        {
          "output_type": "display_data",
          "data": {
            "text/plain": [
              "<IPython.core.display.Markdown object>"
            ],
            "text/markdown": "   Billionaire Stanley Druckenmiller Just Sold One of Wall Street's Hottest Stock-Split Stocks and Is Piling Into a Promising Drugmaker Instead : Duquesne Family Office's chief dumped his entire stake in one of Wall Street's premier stock-split stocks and has continued to load up on a super-cheap drug company for a third straight quarter.\n"
          },
          "metadata": {}
        },
        {
          "output_type": "display_data",
          "data": {
            "text/plain": [
              "<IPython.core.display.Markdown object>"
            ],
            "text/markdown": "####DVA - DaVita Inc. (Healthcare, Medical Care Facilities) — score 0.521\n\n"
          },
          "metadata": {}
        },
        {
          "output_type": "display_data",
          "data": {
            "text/plain": [
              "<IPython.core.display.Markdown object>"
            ],
            "text/markdown": "   3 S&P 500 Stocks Walking a Fine Line : While the S&P 500 (^GSPC) includes industry leaders, not every stock in the index is a winner. Some companies are past their prime, weighed down by poor execution, weak financials, or structural headwinds.\n"
          },
          "metadata": {}
        },
        {
          "output_type": "display_data",
          "data": {
            "text/plain": [
              "<IPython.core.display.Markdown object>"
            ],
            "text/markdown": "####APD - Air Products and Chemicals, Inc. (Basic Materials, Specialty Chemicals) — score 0.517\n\n"
          },
          "metadata": {}
        },
        {
          "output_type": "display_data",
          "data": {
            "text/plain": [
              "<IPython.core.display.Markdown object>"
            ],
            "text/markdown": "   Air Products and Chemicals (NYSE:APD) Will Be Hoping To Turn Its Returns On Capital Around : To find a multi-bagger stock, what are the underlying trends we should look for in a business? Firstly, we'll want to...\n"
          },
          "metadata": {}
        },
        {
          "output_type": "display_data",
          "data": {
            "text/plain": [
              "<IPython.core.display.Markdown object>"
            ],
            "text/markdown": "####LLY - Eli Lilly and Company (Healthcare, Drug Manufacturers - General) — score 0.517\n\n"
          },
          "metadata": {}
        },
        {
          "output_type": "display_data",
          "data": {
            "text/plain": [
              "<IPython.core.display.Markdown object>"
            ],
            "text/markdown": "   How Ozempic maker Novo Nordisk fell behind Eli Lilly in the weight loss drug race : Novo Nordisk (NVO) makes Ozempic, the best-known GLP-1 drug out today. And until quite recently, the Danish pharma giant consistently led the pack in new prescriptions, becoming virtually synonymous with a booming weight loss drug market that could hit $139 billion by 2030.\n"
          },
          "metadata": {}
        },
        {
          "output_type": "display_data",
          "data": {
            "text/plain": [
              "<IPython.core.display.Markdown object>"
            ],
            "text/markdown": "####TXN - Texas Instruments Incorporated (Technology, Semiconductors) — score 0.517\n\n"
          },
          "metadata": {}
        },
        {
          "output_type": "display_data",
          "data": {
            "text/plain": [
              "<IPython.core.display.Markdown object>"
            ],
            "text/markdown": "   Texas Instruments Insiders Sell US$5.5m Of Stock, Possibly Signalling Caution : Many Texas Instruments Incorporated ( NASDAQ:TXN ) insiders ditched their stock over the past year, which may be of...\n"
          },
          "metadata": {}
        },
        {
          "output_type": "display_data",
          "data": {
            "text/plain": [
              "<IPython.core.display.Markdown object>"
            ],
            "text/markdown": "####DE - Deere & Company (Industrials, Farm & Heavy Construction Machinery) — score 0.508\n\n"
          },
          "metadata": {}
        },
        {
          "output_type": "display_data",
          "data": {
            "text/plain": [
              "<IPython.core.display.Markdown object>"
            ],
            "text/markdown": "   Deere (NYSE:DE) Board Declares Quarterly US$1.62 Dividend Payable August 2025 : Deere (NYSE:DE) recently declared a quarterly dividend of $1.62 per share, indicating a firm commitment to shareholder returns. Over the past month, Deere's stock price moved 10.38%, reflecting, in part, the company's fiscal position. The declaration of the dividend might have added weight to this movement, while the release of Deere's earnings report, which showed declines in sales and net income, potentially countered it. As the S&P 500 also experienced gains, influenced by strong sector...\n"
          },
          "metadata": {}
        },
        {
          "output_type": "display_data",
          "data": {
            "text/plain": [
              "<IPython.core.display.Markdown object>"
            ],
            "text/markdown": "####TER - Teradyne, Inc. (Technology, Semiconductor Equipment & Materials) — score 0.504\n\n"
          },
          "metadata": {}
        },
        {
          "output_type": "display_data",
          "data": {
            "text/plain": [
              "<IPython.core.display.Markdown object>"
            ],
            "text/markdown": "   3 Mid-Cap Stocks in Hot Water : Mid-cap stocks often strike the right balance between having proven business models and market opportunities that can support $100 billion corporations. However, they face intense competition from scaled industry giants and can be disrupted by new innovative players vying for a slice of the pie.\n"
          },
          "metadata": {}
        },
        {
          "output_type": "display_data",
          "data": {
            "text/plain": [
              "<IPython.core.display.Markdown object>"
            ],
            "text/markdown": "####MDLZ - Mondelez International, Inc. (Consumer Defensive, Confectioners) — score 0.499\n\n"
          },
          "metadata": {}
        },
        {
          "output_type": "display_data",
          "data": {
            "text/plain": [
              "<IPython.core.display.Markdown object>"
            ],
            "text/markdown": "   A Look At The Intrinsic Value Of Mondelez International, Inc. (NASDAQ:MDLZ) : Key Insights The projected fair value for Mondelez International is US$68.01 based on 2 Stage Free Cash Flow to Equity...\n"
          },
          "metadata": {}
        },
        {
          "output_type": "display_data",
          "data": {
            "text/plain": [
              "<IPython.core.display.Markdown object>"
            ],
            "text/markdown": "####EOG - EOG Resources, Inc. (Energy, Oil & Gas E&P) — score 0.490\n\n"
          },
          "metadata": {}
        },
        {
          "output_type": "display_data",
          "data": {
            "text/plain": [
              "<IPython.core.display.Markdown object>"
            ],
            "text/markdown": "   EOG Resources Strikes $5.6 Billion Deal to Buy Encino Acquisition Partners : EOG Resources (EOG) said Friday it agreed to buy oil and gas firm Encino Acquisition Partners for $5\n"
          },
          "metadata": {}
        },
        {
          "output_type": "display_data",
          "data": {
            "text/plain": [
              "<IPython.core.display.Markdown object>"
            ],
            "text/markdown": "####TRMB - Trimble Inc. (Technology, Scientific & Technical Instruments) — score 0.489\n\n"
          },
          "metadata": {}
        },
        {
          "output_type": "display_data",
          "data": {
            "text/plain": [
              "<IPython.core.display.Markdown object>"
            ],
            "text/markdown": "   Trimble launches new software solution to enhance construction cost control : The solution complements the company's existing construction supply chain workflows.\n"
          },
          "metadata": {}
        },
        {
          "output_type": "display_data",
          "data": {
            "text/plain": [
              "<IPython.core.display.Markdown object>"
            ],
            "text/markdown": "####CRM - Salesforce, Inc. (Technology, Software - Application) — score 0.482\n\n"
          },
          "metadata": {}
        },
        {
          "output_type": "display_data",
          "data": {
            "text/plain": [
              "<IPython.core.display.Markdown object>"
            ],
            "text/markdown": "   Morgan Stanley Lifts Salesforce, Inc. (CRM)’s Price Target to $404, Maintains Overweight Rating : On Thursday, Morgan Stanley lifted Salesforce, Inc. (NYSE:CRM)’s stock price target from $393 to $404, while maintaining an Overweight rating for its shares. The firm’s revision followed the company’s Q1 FY26 earnings call, in which it announced beating profit expectations and raised guidance for the full year. The analysts described Salesforce, Inc. (NYSE:CRM)’s cRPO growth […]\n"
          },
          "metadata": {}
        },
        {
          "output_type": "display_data",
          "data": {
            "text/plain": [
              "<IPython.core.display.Markdown object>"
            ],
            "text/markdown": "####TEL - TE Connectivity plc (Technology, Electronic Components) — score 0.481\n\n"
          },
          "metadata": {}
        },
        {
          "output_type": "display_data",
          "data": {
            "text/plain": [
              "<IPython.core.display.Markdown object>"
            ],
            "text/markdown": "   Here's Why TE Connectivity (TEL) is a Strong Momentum Stock : Wondering how to pick strong, market-beating stocks for your investment portfolio? Look no further than the Zacks Style Scores.\n"
          },
          "metadata": {}
        },
        {
          "output_type": "display_data",
          "data": {
            "text/plain": [
              "<IPython.core.display.Markdown object>"
            ],
            "text/markdown": "####FRT - Federal Realty Investment Trust (Real Estate, REIT - Retail) — score 0.478\n\n"
          },
          "metadata": {}
        },
        {
          "output_type": "display_data",
          "data": {
            "text/plain": [
              "<IPython.core.display.Markdown object>"
            ],
            "text/markdown": "   Prediction: 2 Stocks That Will Be Worth More Than AGNC Investment 10 Years From Now : Over the past decade, AGNC Investment has had a very clear, downward dividend trend.  Retail-focused Federal Realty is a Dividend King that uses both internal and external growth levers.  Rexford Industrial is a hyper-focused industrial REIT, but it has skills that set it apart from its competitors.\n"
          },
          "metadata": {}
        },
        {
          "output_type": "display_data",
          "data": {
            "text/plain": [
              "<IPython.core.display.Markdown object>"
            ],
            "text/markdown": "####LYB - LyondellBasell Industries N.V. (Basic Materials, Specialty Chemicals) — score 0.477\n\n"
          },
          "metadata": {}
        },
        {
          "output_type": "display_data",
          "data": {
            "text/plain": [
              "<IPython.core.display.Markdown object>"
            ],
            "text/markdown": "   Chemical Breakthrough Could Solve Our Plastic Waste Problem : A new depolymerization breakthrough now makes it possible to reverse-engineer plastic by chemically unzipping its molecular chains at room temperature\n"
          },
          "metadata": {}
        },
        {
          "output_type": "display_data",
          "data": {
            "text/plain": [
              "<IPython.core.display.Markdown object>"
            ],
            "text/markdown": "####KDP - Keurig Dr Pepper Inc. (Consumer Defensive, Beverages - Non-Alcoholic) — score 0.476\n\n"
          },
          "metadata": {}
        },
        {
          "output_type": "display_data",
          "data": {
            "text/plain": [
              "<IPython.core.display.Markdown object>"
            ],
            "text/markdown": "   An Intrinsic Calculation For Keurig Dr Pepper Inc. (NASDAQ:KDP) Suggests It's 50% Undervalued : Key Insights Using the 2 Stage Free Cash Flow to Equity, Keurig Dr Pepper fair value estimate is US$67.07 Current share...\n"
          },
          "metadata": {}
        },
        {
          "output_type": "display_data",
          "data": {
            "text/plain": [
              "<IPython.core.display.Markdown object>"
            ],
            "text/markdown": "####WM - Waste Management, Inc. (Industrials, Waste Management) — score 0.474\n\n"
          },
          "metadata": {}
        },
        {
          "output_type": "display_data",
          "data": {
            "text/plain": [
              "<IPython.core.display.Markdown object>"
            ],
            "text/markdown": "   Waste Management (WM) Up 4% Since Last Earnings Report: Can It Continue? : Waste Management (WM) reported earnings 30 days ago. What's next for the stock? We take a look at earnings estimates for some clues.\n"
          },
          "metadata": {}
        },
        {
          "output_type": "display_data",
          "data": {
            "text/plain": [
              "<IPython.core.display.Markdown object>"
            ],
            "text/markdown": "####DE - Deere & Company (Industrials, Farm & Heavy Construction Machinery) — score 0.474\n\n"
          },
          "metadata": {}
        },
        {
          "output_type": "display_data",
          "data": {
            "text/plain": [
              "<IPython.core.display.Markdown object>"
            ],
            "text/markdown": "   This Unstoppable Dividend-Paying Growth Stock Is Up More Than 260% in 5 Years. Here's Why It Just Hit an All-Time High. : Deere & Company stock leaped to a new all-time high after its earnings and forecast were good, given the challenging economic environment.  The equipment manufacturer continues to generate strong margins that support long-term growth.  Deere is raking in free cash flow to fuel stock buybacks and dividend increases.\n"
          },
          "metadata": {}
        },
        {
          "output_type": "display_data",
          "data": {
            "text/plain": [
              "<IPython.core.display.Markdown object>"
            ],
            "text/markdown": "####GS - The Goldman Sachs Group, Inc. (Financial Services, Capital Markets) — score 0.472\n\n"
          },
          "metadata": {}
        },
        {
          "output_type": "display_data",
          "data": {
            "text/plain": [
              "<IPython.core.display.Markdown object>"
            ],
            "text/markdown": "   Goldman Sachs says deal outlook is good, but timing is uncertain : NEW YORK (Reuters) -Goldman Sachs President John Waldron said on Thursday that the outlook for investment banking remains \"quite good.\"  \"Our investment banking business is very strong, and I think the outlook remains quite good,\" Waldron said.  Corporate clients have a positive bias toward transactions and are still holding discussions about mergers, acquisitions and raising capital, Waldron said.\n"
          },
          "metadata": {}
        },
        {
          "output_type": "display_data",
          "data": {
            "text/plain": [
              "<IPython.core.display.Markdown object>"
            ],
            "text/markdown": "####KEYS - Keysight Technologies, Inc. (Technology, Scientific & Technical Instruments) — score 0.472\n\n"
          },
          "metadata": {}
        },
        {
          "output_type": "display_data",
          "data": {
            "text/plain": [
              "<IPython.core.display.Markdown object>"
            ],
            "text/markdown": "   Keysight Technologies, Inc. (KEYS) Beats Earnings, JP Morgan Raises Price Target to $177 : We recently published a list of 12 AI Stocks on Analysts’ Radar. In this article, we are going to take a look at where Keysight Technologies, Inc. (NYSE:KEYS) stands against other AI stocks on analysts’ radar. The recently imposed US sanctions on chip use have angered China. In recent news, the country has stated that […]\n"
          },
          "metadata": {}
        },
        {
          "output_type": "display_data",
          "data": {
            "text/plain": [
              "<IPython.core.display.Markdown object>"
            ],
            "text/markdown": "####STZ - Constellation Brands, Inc. (Consumer Defensive, Beverages - Brewers) — score 0.472\n\n"
          },
          "metadata": {}
        },
        {
          "output_type": "display_data",
          "data": {
            "text/plain": [
              "<IPython.core.display.Markdown object>"
            ],
            "text/markdown": "   Constellation Brands (NYSE:STZ) Could Become A Multi-Bagger : If we want to find a potential multi-bagger, often there are underlying trends that can provide clues. Amongst other...\n"
          },
          "metadata": {}
        },
        {
          "output_type": "display_data",
          "data": {
            "text/plain": [
              "<IPython.core.display.Markdown object>"
            ],
            "text/markdown": "####CCL - Carnival Corporation & plc (Consumer Cyclical, Travel Services) — score 0.472\n\n"
          },
          "metadata": {}
        },
        {
          "output_type": "display_data",
          "data": {
            "text/plain": [
              "<IPython.core.display.Markdown object>"
            ],
            "text/markdown": "   1 Momentum  Stock to Target This Week and 2 to Be Wary Of : Exciting developments are taking place for the stocks in this article. They’ve all surged ahead of the broader market over the last month as catalysts such as new products and positive media coverage have propelled their returns.\n"
          },
          "metadata": {}
        },
        {
          "output_type": "display_data",
          "data": {
            "text/plain": [
              "<IPython.core.display.Markdown object>"
            ],
            "text/markdown": "####TDG - TransDigm Group Incorporated (Industrials, Aerospace & Defense) — score 0.471\n\n"
          },
          "metadata": {}
        },
        {
          "output_type": "display_data",
          "data": {
            "text/plain": [
              "<IPython.core.display.Markdown object>"
            ],
            "text/markdown": "   1 Industrials Stock to Target This Week and 2 to Avoid : Whether you see them or not, industrials businesses play a crucial part in our daily activities. But they are at the whim of volatile macroeconomic factors that influence capital spending (like interest rates), and the market seems convinced that demand will slow. Due to this bearish outlook, the industry has tumbled by 11.8% over the past six months. This drop was worse than the S&P 500’s 2.2% loss.\n"
          },
          "metadata": {}
        },
        {
          "output_type": "display_data",
          "data": {
            "text/plain": [
              "<IPython.core.display.Markdown object>"
            ],
            "text/markdown": "###Question:\nWhat risks or challenges are discussed in recent news about the energy industry?"
          },
          "metadata": {}
        },
        {
          "output_type": "display_data",
          "data": {
            "text/plain": [
              "<IPython.core.display.Markdown object>"
            ],
            "text/markdown": "###Answer:\nThe recent news highlights several risks and challenges in the energy industry. NiSource Inc. reported a 13% EPS beat, indicating strong performance, but the broader context suggests ongoing scrutiny of utility companies amid regulatory changes. Entergy Corporation is noted for its potential upside but faces competitive pressures as highlighted by hedge fund interest. Additionally, Exelon Corporation and AES are compared for their renewable focus, suggesting that the transition to renewable energy sources presents both opportunities and challenges. Overall, regulatory scrutiny, competitive dynamics, and the shift towards renewable energy are key themes affecting the sector."
          },
          "metadata": {}
        },
        {
          "output_type": "display_data",
          "data": {
            "text/plain": [
              "<IPython.core.display.Markdown object>"
            ],
            "text/markdown": "###Context used:\n"
          },
          "metadata": {}
        },
        {
          "output_type": "display_data",
          "data": {
            "text/plain": [
              "<IPython.core.display.Markdown object>"
            ],
            "text/markdown": "####NI - NiSource Inc. (Utilities, Utilities - Regulated Gas) — score 0.567\n\n"
          },
          "metadata": {}
        },
        {
          "output_type": "display_data",
          "data": {
            "text/plain": [
              "<IPython.core.display.Markdown object>"
            ],
            "text/markdown": "   NiSource Inc. Just Recorded A 13% EPS Beat: Here's What Analysts Are Forecasting Next : Last week saw the newest quarterly earnings release from NiSource Inc. ( NYSE:NI ), an important milestone in the...\n"
          },
          "metadata": {}
        },
        {
          "output_type": "display_data",
          "data": {
            "text/plain": [
              "<IPython.core.display.Markdown object>"
            ],
            "text/markdown": "####ETR - Entergy Corporation (Utilities, Utilities - Regulated Electric) — score 0.567\n\n"
          },
          "metadata": {}
        },
        {
          "output_type": "display_data",
          "data": {
            "text/plain": [
              "<IPython.core.display.Markdown object>"
            ],
            "text/markdown": "   Entergy Corporation (ETR): Among Steven Cohen’s Mid-Cap Stock Picks with Huge Upside Potential : We recently published an article titled Billionaire Steve Cohen’s 10 Mid-Cap Stock Picks with Huge Upside Potential. In this article, we are going to take a look at where Entergy Corporation (NYSE:ETR) stands against Steve Cohen’s other mid-cap stock picks with huge upside potential. Steven Cohen has established himself as a leading figure in the hedge […]\n"
          },
          "metadata": {}
        },
        {
          "output_type": "display_data",
          "data": {
            "text/plain": [
              "<IPython.core.display.Markdown object>"
            ],
            "text/markdown": "####BALL - Ball Corporation (Consumer Cyclical, Packaging & Containers) — score 0.520\n\n"
          },
          "metadata": {}
        },
        {
          "output_type": "display_data",
          "data": {
            "text/plain": [
              "<IPython.core.display.Markdown object>"
            ],
            "text/markdown": "   Ball posts net sales of $3.09bn in Q1 2025 : The company’s global aluminium packaging shipments increased by 2.6% YoY during the quarter.\n"
          },
          "metadata": {}
        },
        {
          "output_type": "display_data",
          "data": {
            "text/plain": [
              "<IPython.core.display.Markdown object>"
            ],
            "text/markdown": "####NOW - ServiceNow, Inc. (Technology, Software - Application) — score 0.520\n\n"
          },
          "metadata": {}
        },
        {
          "output_type": "display_data",
          "data": {
            "text/plain": [
              "<IPython.core.display.Markdown object>"
            ],
            "text/markdown": "   Should You Hold ServiceNow (NOW)? : Sands Capital, an investment management company, released its “Sands Capital Technology Innovators Fund” Q1 2025 investor letter. A copy of the letter can be downloaded here. Technology Innovators focus on pioneering businesses worldwide that serve as key drivers or beneficiaries of significant long-term changes driven by technology. The fund returned -10.4% (net) in the first […]\n"
          },
          "metadata": {}
        },
        {
          "output_type": "display_data",
          "data": {
            "text/plain": [
              "<IPython.core.display.Markdown object>"
            ],
            "text/markdown": "####GRMN - Garmin Ltd. (Technology, Scientific & Technical Instruments) — score 0.514\n\n"
          },
          "metadata": {}
        },
        {
          "output_type": "display_data",
          "data": {
            "text/plain": [
              "<IPython.core.display.Markdown object>"
            ],
            "text/markdown": "   CCME launches to take on anti-competitive smartphone platform duopoly : Meta Platforms (META), Spotify (SPOT), Garmin (GRMN) and Match (MTCH) are among the companies launching the Coalition for a Competitive Mobile Experience, a lobbying coalition to take on Apple (AAPL) and Alphabet (GOOG) (GOOGL) as legislation to require age verification gains momentum amid rising public concern over minors’ online access to inappropriate material. The group will lobby federal and state policymakers to enact legislation cracking down on the smartphone companies’ business practice\n"
          },
          "metadata": {}
        },
        {
          "output_type": "display_data",
          "data": {
            "text/plain": [
              "<IPython.core.display.Markdown object>"
            ],
            "text/markdown": "####DPZ - Domino's Pizza, Inc. (Consumer Cyclical, Restaurants) — score 0.513\n\n"
          },
          "metadata": {}
        },
        {
          "output_type": "display_data",
          "data": {
            "text/plain": [
              "<IPython.core.display.Markdown object>"
            ],
            "text/markdown": "   Domino’s Pizza, Inc. (DPZ): One of the Best Restaurant Stocks to Buy According to Hedge Funds : We recently compiled a list of the 12 Best Restaurant Stocks to Buy According to Hedge Funds. In this article, we are going to take a look at where Domino’s Pizza, Inc. (NASDAQ:DPZ) stands against the other best restaurant stocks. Restaurant stocks are businesses that own, run, and franchise full-service restaurants that sell prepared food and […]\n"
          },
          "metadata": {}
        },
        {
          "output_type": "display_data",
          "data": {
            "text/plain": [
              "<IPython.core.display.Markdown object>"
            ],
            "text/markdown": "####HIG - The Hartford Insurance Group, Inc. (Financial Services, Insurance - Property & Casualty) — score 0.512\n\n"
          },
          "metadata": {}
        },
        {
          "output_type": "display_data",
          "data": {
            "text/plain": [
              "<IPython.core.display.Markdown object>"
            ],
            "text/markdown": "   Analysts Estimate Kinsale Capital Group, Inc. (KNSL) to Report a Decline in Earnings: What to Look Out for : Kinsale Capital Group (KNSL) doesn't possess the right combination of the two key ingredients for a likely earnings beat in its upcoming report. Get prepared with the key expectations.\n"
          },
          "metadata": {}
        },
        {
          "output_type": "display_data",
          "data": {
            "text/plain": [
              "<IPython.core.display.Markdown object>"
            ],
            "text/markdown": "####ZBH - Zimmer Biomet Holdings, Inc. (Healthcare, Medical Devices) — score 0.509\n\n"
          },
          "metadata": {}
        },
        {
          "output_type": "display_data",
          "data": {
            "text/plain": [
              "<IPython.core.display.Markdown object>"
            ],
            "text/markdown": "   ZBH Q1 Earnings Call: Revenue Tops Expectations, Guidance Lowered Amid Tariff and Integration Headwinds : Medical device company Zimmer Biomet (NYSE:ZBH) reported Q1 CY2025 results topping the market’s revenue expectations, with sales up 1.1% year on year to $1.91 billion. Its non-GAAP profit of $1.81 per share was 2.3% above analysts’ consensus estimates.\n"
          },
          "metadata": {}
        },
        {
          "output_type": "display_data",
          "data": {
            "text/plain": [
              "<IPython.core.display.Markdown object>"
            ],
            "text/markdown": "####DELL - Dell Technologies Inc. (Technology, Computer Hardware) — score 0.506\n\n"
          },
          "metadata": {}
        },
        {
          "output_type": "display_data",
          "data": {
            "text/plain": [
              "<IPython.core.display.Markdown object>"
            ],
            "text/markdown": "   Nvidia and Dell Team Up to Build Department of Energy Supercomputer : Dell's Liquid-Cooled Leap: Nvidia Partnership Fuels DOE's AI Push\n"
          },
          "metadata": {}
        },
        {
          "output_type": "display_data",
          "data": {
            "text/plain": [
              "<IPython.core.display.Markdown object>"
            ],
            "text/markdown": "####WYNN - Wynn Resorts, Limited (Consumer Cyclical, Resorts & Casinos) — score 0.503\n\n"
          },
          "metadata": {}
        },
        {
          "output_type": "display_data",
          "data": {
            "text/plain": [
              "<IPython.core.display.Markdown object>"
            ],
            "text/markdown": "   WYNN Q1 Earnings Call: Tariff Delays, Cost Controls, and Market Dynamics Shape Outlook : Luxury hotels and casino operator Wynn Resorts (NASDAQ:WYNN) missed Wall Street’s revenue expectations in Q1 CY2025, with sales falling 8.7% year on year to $1.7 billion. Its non-GAAP profit of $1.07 per share was 14% below analysts’ consensus estimates.\n"
          },
          "metadata": {}
        },
        {
          "output_type": "display_data",
          "data": {
            "text/plain": [
              "<IPython.core.display.Markdown object>"
            ],
            "text/markdown": "####REGN - Regeneron Pharmaceuticals, Inc. (Healthcare, Biotechnology) — score 0.502\n\n"
          },
          "metadata": {}
        },
        {
          "output_type": "display_data",
          "data": {
            "text/plain": [
              "<IPython.core.display.Markdown object>"
            ],
            "text/markdown": "   S&P 500 Gains & Losses Today: Ulta Beauty Stock Soars; Regeneron Shares Plummet : The S&P 500 slipped less than 0.1% on Friday, May 30, 2025, as President Trump rekindled his tough rhetoric on China and a key report revealed softening inflation.\n"
          },
          "metadata": {}
        },
        {
          "output_type": "display_data",
          "data": {
            "text/plain": [
              "<IPython.core.display.Markdown object>"
            ],
            "text/markdown": "####DOW - Dow Inc. (Basic Materials, Chemicals) — score 0.499\n\n"
          },
          "metadata": {}
        },
        {
          "output_type": "display_data",
          "data": {
            "text/plain": [
              "<IPython.core.display.Markdown object>"
            ],
            "text/markdown": "   Chemical Breakthrough Could Solve Our Plastic Waste Problem : A new depolymerization breakthrough now makes it possible to reverse-engineer plastic by chemically unzipping its molecular chains at room temperature\n"
          },
          "metadata": {}
        },
        {
          "output_type": "display_data",
          "data": {
            "text/plain": [
              "<IPython.core.display.Markdown object>"
            ],
            "text/markdown": "####PKG - Packaging Corporation of America (Consumer Cyclical, Packaging & Containers) — score 0.499\n\n"
          },
          "metadata": {}
        },
        {
          "output_type": "display_data",
          "data": {
            "text/plain": [
              "<IPython.core.display.Markdown object>"
            ],
            "text/markdown": "   Q1 Industrial Packaging Earnings: Ball (NYSE:BALL) Impresses : The end of an earnings season can be a great time to discover new stocks and assess how companies are handling the current business environment. Let’s take a look at how Ball (NYSE:BALL) and the rest of the industrial packaging stocks fared in Q1.\n"
          },
          "metadata": {}
        },
        {
          "output_type": "display_data",
          "data": {
            "text/plain": [
              "<IPython.core.display.Markdown object>"
            ],
            "text/markdown": "####DLR - Digital Realty Trust, Inc. (Real Estate, REIT - Specialty) — score 0.498\n\n"
          },
          "metadata": {}
        },
        {
          "output_type": "display_data",
          "data": {
            "text/plain": [
              "<IPython.core.display.Markdown object>"
            ],
            "text/markdown": "   Oppenheimer Analyst Lists Digital Realty Trust (NYSE:DLR) as Major Beneficiary of AI Megatrend : Oppenheimer recently initiated coverage of Digital Realty Trust, Inc. (NYSE:DLR) with an Outperform rating and $200 price target. Digital Realty brings companies and data together by delivering the full spectrum of data center, colocation, and interconnection solutions. In an investor note, the advisory noted that Digital Realty was one of the largest and now most […]\n"
          },
          "metadata": {}
        },
        {
          "output_type": "display_data",
          "data": {
            "text/plain": [
              "<IPython.core.display.Markdown object>"
            ],
            "text/markdown": "####EXC - Exelon Corporation (Utilities, Utilities - Regulated Electric) — score 0.496\n\n"
          },
          "metadata": {}
        },
        {
          "output_type": "display_data",
          "data": {
            "text/plain": [
              "<IPython.core.display.Markdown object>"
            ],
            "text/markdown": "   AES vs. Exelon: Which Renewable-Focused Utility Stock is a Better Player? : Both AES and EXC offer promising opportunities as utilities with a strong renewable focus.\n"
          },
          "metadata": {}
        },
        {
          "output_type": "display_data",
          "data": {
            "text/plain": [
              "<IPython.core.display.Markdown object>"
            ],
            "text/markdown": "####TFC - Truist Financial Corporation (Financial Services, Banks - Regional) — score 0.495\n\n"
          },
          "metadata": {}
        },
        {
          "output_type": "display_data",
          "data": {
            "text/plain": [
              "<IPython.core.display.Markdown object>"
            ],
            "text/markdown": "   Tesla Robotaxi Launch Could Boost Stock, Says Truist Analyst William Stein : With a steady price target of $280, Truist Securities maintained its Hold rating on Tesla Inc. (NASDAQ:TSLA) shares on May 24. Analyst William Stein offered insights into how Tesla’s upcoming Robotaxi service might affect the company’s stock price. Stein’s observations are influenced by his personal experience with Waymo’s autonomous ride-hailing service and Tesla’s Full Self-Driving (FSD) […]\n"
          },
          "metadata": {}
        },
        {
          "output_type": "display_data",
          "data": {
            "text/plain": [
              "<IPython.core.display.Markdown object>"
            ],
            "text/markdown": "####NOW - ServiceNow, Inc. (Technology, Software - Application) — score 0.492\n\n"
          },
          "metadata": {}
        },
        {
          "output_type": "display_data",
          "data": {
            "text/plain": [
              "<IPython.core.display.Markdown object>"
            ],
            "text/markdown": "   Is Trending Stock ServiceNow, Inc. (NOW) a Buy Now? : Zacks.com users have recently been watching ServiceNow (NOW) quite a bit. Thus, it is worth knowing the facts that could determine the stock's prospects.\n"
          },
          "metadata": {}
        },
        {
          "output_type": "display_data",
          "data": {
            "text/plain": [
              "<IPython.core.display.Markdown object>"
            ],
            "text/markdown": "####EW - Edwards Lifesciences Corporation (Healthcare, Medical Devices) — score 0.490\n\n"
          },
          "metadata": {}
        },
        {
          "output_type": "display_data",
          "data": {
            "text/plain": [
              "<IPython.core.display.Markdown object>"
            ],
            "text/markdown": "   Why Edwards Lifesciences (EW) Is Among the Best Medical Device Stocks to Buy Now : We recently published a list of 11 Best Medical Device Stocks to Buy Now. In this article, we are going to take a look at where Edwards Lifesciences Corporation (NYSE:EW) stands against other best medical device stocks to buy now. Trump’s Tariffs Are Dividing the Medical Community On April 16, CNBC reported that Trump’s tariffs […]\n"
          },
          "metadata": {}
        },
        {
          "output_type": "display_data",
          "data": {
            "text/plain": [
              "<IPython.core.display.Markdown object>"
            ],
            "text/markdown": "####FFIV - F5, Inc. (Technology, Software - Infrastructure) — score 0.490\n\n"
          },
          "metadata": {}
        },
        {
          "output_type": "display_data",
          "data": {
            "text/plain": [
              "<IPython.core.display.Markdown object>"
            ],
            "text/markdown": "   Is F5, Inc.'s (NASDAQ:FFIV) Stock's Recent Performance A Reflection Of Its Financial Health? : Most readers would already know that F5's (NASDAQ:FFIV) stock increased by 4.5% over the past month. Given its...\n"
          },
          "metadata": {}
        },
        {
          "output_type": "display_data",
          "data": {
            "text/plain": [
              "<IPython.core.display.Markdown object>"
            ],
            "text/markdown": "####CRWD - CrowdStrike Holdings, Inc. (Technology, Software - Infrastructure) — score 0.489\n\n"
          },
          "metadata": {}
        },
        {
          "output_type": "display_data",
          "data": {
            "text/plain": [
              "<IPython.core.display.Markdown object>"
            ],
            "text/markdown": "   CrowdStrike Partners With Australia’s AARNet to Thwart Cyber-attacks in Research and Learning Institutions : Crowdstrike Holdings, Inc. (NASDAQ:CRWD) has affirmed its commitment to helping research and learning institutions defend themselves against advanced cyber-attacks. On May 28, the company inked a strategic collaboration with Australia’s Academic and Research Network (AARNet). As part of the partnership, the company is to deliver Falcon Complete Next-Gen MDR to research and education institutions in the […]\n"
          },
          "metadata": {}
        },
        {
          "output_type": "display_data",
          "data": {
            "text/plain": [
              "<IPython.core.display.Markdown object>"
            ],
            "text/markdown": "####NOC - Northrop Grumman Corporation (Industrials, Aerospace & Defense) — score 0.488\n\n"
          },
          "metadata": {}
        },
        {
          "output_type": "display_data",
          "data": {
            "text/plain": [
              "<IPython.core.display.Markdown object>"
            ],
            "text/markdown": "   Leidos (NYSE:LDOS) Q1 Earnings: Leading The Defense Contractors Pack : Quarterly earnings results are a good time to check in on a company’s progress, especially compared to its peers in the same sector. Today we are looking at Leidos (NYSE:LDOS) and the best and worst performers in the defense contractors industry.\n"
          },
          "metadata": {}
        },
        {
          "output_type": "display_data",
          "data": {
            "text/plain": [
              "<IPython.core.display.Markdown object>"
            ],
            "text/markdown": "####EXPE - Expedia Group, Inc. (Consumer Cyclical, Travel Services) — score 0.488\n\n"
          },
          "metadata": {}
        },
        {
          "output_type": "display_data",
          "data": {
            "text/plain": [
              "<IPython.core.display.Markdown object>"
            ],
            "text/markdown": "   Expedia Group (NasdaqGS:EXPE) Expands B2B Tech Platform With AI-Powered Innovations : Expedia Group (NasdaqGS:EXPE) recently announced significant advancements in its B2B technology platform, focusing on AI and API innovations to enhance travel experiences. During the past month, the company's share price moved 13% higher, aligning with broader market gains driven by positive economic data and easing global trade tensions. Although specific catalysts related to Expedia's technology announcements likely added positive weight, the company's overall share movement also mirrored...\n"
          },
          "metadata": {}
        },
        {
          "output_type": "display_data",
          "data": {
            "text/plain": [
              "<IPython.core.display.Markdown object>"
            ],
            "text/markdown": "####POOL - Pool Corporation (Industrials, Industrial Distribution) — score 0.488\n\n"
          },
          "metadata": {}
        },
        {
          "output_type": "display_data",
          "data": {
            "text/plain": [
              "<IPython.core.display.Markdown object>"
            ],
            "text/markdown": "   Pool Corporation (NASDAQ:POOL) Looks Like A Good Stock, And It's Going Ex-Dividend Soon : Readers hoping to buy Pool Corporation ( NASDAQ:POOL ) for its dividend will need to make their move shortly, as the...\n"
          },
          "metadata": {}
        },
        {
          "output_type": "display_data",
          "data": {
            "text/plain": [
              "<IPython.core.display.Markdown object>"
            ],
            "text/markdown": "####CRWD - CrowdStrike Holdings, Inc. (Technology, Software - Infrastructure) — score 0.487\n\n"
          },
          "metadata": {}
        },
        {
          "output_type": "display_data",
          "data": {
            "text/plain": [
              "<IPython.core.display.Markdown object>"
            ],
            "text/markdown": "   CrowdStrike Holdings, Inc. (CRWD): A Bear Case Theory : We came across a bearish thesis on CrowdStrike Holdings, Inc. (CRWD) on Stock Whisperer’s Substack. In this article, we will summarize the bears’ thesis on CRWD. CrowdStrike Holdings, Inc. (CRWD)’s share was trading at $455.59 as of 23rd May. CRWD’s trailing and forward P/E were 401.83 and 131.58 respectively according to Yahoo Finance. CrowdStrike Holdings (CRWD), a […]\n"
          },
          "metadata": {}
        },
        {
          "output_type": "display_data",
          "data": {
            "text/plain": [
              "<IPython.core.display.Markdown object>"
            ],
            "text/markdown": "####PCAR - PACCAR Inc (Industrials, Farm & Heavy Construction Machinery) — score 0.487\n\n"
          },
          "metadata": {}
        },
        {
          "output_type": "display_data",
          "data": {
            "text/plain": [
              "<IPython.core.display.Markdown object>"
            ],
            "text/markdown": "   Upwork and PACCAR have been highlighted as Zacks Bull and Bear of the Day : Upwork and PACCAR have been highlighted as Zacks Bull and Bear of the Day.\n"
          },
          "metadata": {}
        }
      ]
    },
    {
      "cell_type": "markdown",
      "id": "80f53c26",
      "metadata": {
        "id": "80f53c26"
      },
      "source": [
        "## Analysis & Questions - Section 2"
      ]
    },
    {
      "cell_type": "markdown",
      "id": "cfbff478",
      "metadata": {
        "id": "cfbff478"
      },
      "source": [
        "### Instructions: Evaluate Answers With and Without Metadata\n",
        "\n",
        "For each question, compare the two answers provided:\n",
        "- One generated **without** metadata\n",
        "- One generated **with** metadata\n",
        "\n",
        "---\n",
        "\n",
        "### Steps:\n",
        "\n",
        "1. Use the following evaluation criteria:\n",
        "   - Clarity\n",
        "   - Detail & Depth\n",
        "   - Use of Context\n",
        "   - Accuracy & Grounding\n",
        "   - Relevance\n",
        "   - Narrrative Flow\n",
        "\n",
        "2. For each criterion, write brief notes comparing how the answer **without metadata** performs versus the answer **with metadata**.\n",
        "\n",
        "3. Summarize your evaluation in a markdown table with the following columns:\n",
        "\n",
        "| Criteria       | WITHOUT METADATA            | WITH METADATA             |\n",
        "|----------------|----------------------------|--------------------------|\n",
        "| Clarity        | [Your brief note here]     | [Your brief note here]   |\n",
        "| Detail & Depth         | [Your brief note here]     | [Your brief note here]   |\n",
        "| Use of Context        | [Your brief note here]     | [Your brief note here]   |\n",
        "| Accuracy & Grounding       | [Your brief note here]     | [Your brief note here]   |\n",
        "| Relevance      | [Your brief note here]     | [Your brief note here]   |\n",
        "| Narrative Flow      | [Your brief note here]     | [Your brief note here]   |\n",
        "\n",
        "---\n",
        "\n",
        "**Note:** Keep comments short and clear for easy comparison.\n",
        "\n"
      ]
    },
    {
      "cell_type": "markdown",
      "source": [
        "| <font color=\"green\"><b>Criteria</b></font> | <font color=\"green\">WITHOUT METADATA</font> | <font color=\"green\">WITH METADATA</font> |\n",
        "|----------------------------------------------|------------------------------------------------------|---------------------------------------------------|\n",
        "| <font color=\"green\"><b>Clarity</b></font> | <font color=\"green\">Answers are understandable but can feel vague because they lack concrete identifiers like company names or dates.</font> | <font color=\"green\">Provides immediate clarity by referencing specific companies, sectors, and industries, allowing readers to understand exactly who and what is being discussed.</font> |\n",
        "| <font color=\"green\"><b>Detail & Depth</b></font> | <font color=\"green\">Focuses on broad market themes or trends without drilling into the specifics, resulting in surface-level observations that are less insightful.</font> | <font color=\"green\">Adds layers of information such as sector performance, industry trends, and company-level details, making the responses more nuanced and informative.</font> |\n",
        "| <font color=\"green\"><b>Use of Context</b></font> | <font color=\"green\">Relies on generic summaries that are loosely connected to the question, which can weaken the contextual grounding of the answer.</font> | <font color=\"green\">Context is tightly linked to real-world entities, events, and timelines, which strengthens the connection between the provided evidence and the answer.</font> |\n",
        "| <font color=\"green\"><b>Accuracy & Grounding</b></font> | <font color=\"green\">Because examples are generic, it’s easier for the model to make slight inaccuracies or assumptions without being noticed by the reader.</font> | <font color=\"green\">Accuracy improves because claims are explicitly tied to named companies, industries, and factual details, reducing the risk of vague or unverified statements.</font> |\n",
        "| <font color=\"green\"><b>Relevance</b></font> | <font color=\"green\">Sometimes drifts into tangential topics, especially when the retrieved context is broad and lacks strong entity matches.</font> | <font color=\"green\">Maintains high relevance by filtering context to match entities directly tied to the query, keeping the focus tightly on the question.</font> |\n",
        "| <font color=\"green\"><b>Narrative Flow</b></font> | <font color=\"green\">Reads like a stitched collection of general facts, with minimal connective tissue between points, making it less engaging.</font> | <font color=\"green\">Narrative is smoother and more cohesive because company and sector references give the answer a clear storyline with logical progression.</font> |\n"
      ],
      "metadata": {
        "id": "RVNc-nFUjszM"
      },
      "id": "RVNc-nFUjszM"
    }
  ],
  "metadata": {
    "kernelspec": {
      "display_name": "Python 3",
      "name": "python3"
    },
    "language_info": {
      "codemirror_mode": {
        "name": "ipython",
        "version": 3
      },
      "file_extension": ".py",
      "mimetype": "text/x-python",
      "name": "python",
      "nbconvert_exporter": "python",
      "pygments_lexer": "ipython3",
      "version": "3.9.6"
    },
    "colab": {
      "provenance": [],
      "gpuType": "T4",
      "include_colab_link": true
    },
    "accelerator": "GPU"
  },
  "nbformat": 4,
  "nbformat_minor": 5
}