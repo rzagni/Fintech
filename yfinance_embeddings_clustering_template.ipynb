{
 "cells": [
  {
   "cell_type": "markdown",
   "id": "278363b3",
   "metadata": {},
   "source": [
    "# Introduction to text embeddings on S&P 500 news"
   ]
  },
  {
   "cell_type": "markdown",
   "id": "83d6ffde",
   "metadata": {},
   "source": [
    "objectives# 📌 Objectives\n",
    "\n",
    "By the end of this notebook, students will be able to:\n",
    "\n",
    "1. **Retrieve Financial News:**\n",
    "   - Use the `yfinance` library to gather news headlines for all companies in the S&P 500 index.\n",
    "\n",
    "2. **Clean and Structure Financial Text Data:**\n",
    "   - Extract and organize relevant metadata (e.g., ticker, title, summary, publication date, URL) into a structured pandas DataFrame.\n",
    "\n",
    "3. **Generate Text Embeddings:**\n",
    "   - Apply a pre-trained sentence transformer model (`all-MiniLM-L6-v2`) to convert news headlines and summaries into numerical embeddings.\n",
    "\n",
    "4. **Apply Clustering Techniques:**\n",
    "   - Use K-Means clustering to identify groups of similar news articles based on semantic content.\n",
    "\n",
    "5. **Determine Optimal Number of Clusters:**\n",
    "   - Evaluate clustering quality using silhouette scores to find the best number of clusters.\n",
    "\n",
    "6. **Visualize High-Dimensional Embeddings:**\n",
    "   - Reduce the embedding space using PCA and visualize clusters in two dimensions.\n",
    "\n",
    "7. **Interpret Cluster Themes:**\n",
    "   - Analyze representative news\n"
   ]
  },
  {
   "cell_type": "markdown",
   "id": "fe54247f",
   "metadata": {},
   "source": [
    "## Install and Import important librairies"
   ]
  },
  {
   "cell_type": "code",
   "execution_count": 7,
   "id": "49c4fff2",
   "metadata": {},
   "outputs": [
    {
     "name": "stdout",
     "output_type": "stream",
     "text": [
      "Defaulting to user installation because normal site-packages is not writeable\n",
      "Requirement already satisfied: pandas in /Users/marieeve.malette/Library/Python/3.9/lib/python/site-packages (2.2.3)\n",
      "Requirement already satisfied: pytz>=2020.1 in /Users/marieeve.malette/Library/Python/3.9/lib/python/site-packages (from pandas) (2025.2)\n",
      "Requirement already satisfied: numpy>=1.22.4 in /Users/marieeve.malette/Library/Python/3.9/lib/python/site-packages (from pandas) (2.0.2)\n",
      "Requirement already satisfied: tzdata>=2022.7 in /Users/marieeve.malette/Library/Python/3.9/lib/python/site-packages (from pandas) (2025.2)\n",
      "Requirement already satisfied: python-dateutil>=2.8.2 in /Users/marieeve.malette/Library/Python/3.9/lib/python/site-packages (from pandas) (2.9.0.post0)\n",
      "Requirement already satisfied: six>=1.5 in /Library/Developer/CommandLineTools/Library/Frameworks/Python3.framework/Versions/3.9/lib/python3.9/site-packages (from python-dateutil>=2.8.2->pandas) (1.15.0)\n",
      "\u001b[33mWARNING: You are using pip version 21.2.4; however, version 25.1.1 is available.\n",
      "You should consider upgrading via the '/Library/Developer/CommandLineTools/usr/bin/python3 -m pip install --upgrade pip' command.\u001b[0m\n",
      "Note: you may need to restart the kernel to use updated packages.\n",
      "Defaulting to user installation because normal site-packages is not writeable\n",
      "Requirement already satisfied: yfinance in /Users/marieeve.malette/Library/Python/3.9/lib/python/site-packages (0.2.61)\n",
      "Requirement already satisfied: pandas>=1.3.0 in /Users/marieeve.malette/Library/Python/3.9/lib/python/site-packages (from yfinance) (2.2.3)\n",
      "Requirement already satisfied: multitasking>=0.0.7 in /Users/marieeve.malette/Library/Python/3.9/lib/python/site-packages (from yfinance) (0.0.11)\n",
      "Requirement already satisfied: websockets>=13.0 in /Users/marieeve.malette/Library/Python/3.9/lib/python/site-packages (from yfinance) (15.0.1)\n",
      "Requirement already satisfied: numpy>=1.16.5 in /Users/marieeve.malette/Library/Python/3.9/lib/python/site-packages (from yfinance) (2.0.2)\n",
      "Requirement already satisfied: requests>=2.31 in /Users/marieeve.malette/Library/Python/3.9/lib/python/site-packages (from yfinance) (2.32.3)\n",
      "Requirement already satisfied: curl_cffi>=0.7 in /Users/marieeve.malette/Library/Python/3.9/lib/python/site-packages (from yfinance) (0.11.1)\n",
      "Requirement already satisfied: platformdirs>=2.0.0 in /Users/marieeve.malette/Library/Python/3.9/lib/python/site-packages (from yfinance) (4.3.8)\n",
      "Requirement already satisfied: peewee>=3.16.2 in /Users/marieeve.malette/Library/Python/3.9/lib/python/site-packages (from yfinance) (3.18.1)\n",
      "Requirement already satisfied: beautifulsoup4>=4.11.1 in /Users/marieeve.malette/Library/Python/3.9/lib/python/site-packages (from yfinance) (4.13.4)\n",
      "Requirement already satisfied: protobuf>=3.19.0 in /Users/marieeve.malette/Library/Python/3.9/lib/python/site-packages (from yfinance) (6.31.0)\n",
      "Requirement already satisfied: pytz>=2022.5 in /Users/marieeve.malette/Library/Python/3.9/lib/python/site-packages (from yfinance) (2025.2)\n",
      "Requirement already satisfied: frozendict>=2.3.4 in /Users/marieeve.malette/Library/Python/3.9/lib/python/site-packages (from yfinance) (2.4.6)\n",
      "Requirement already satisfied: soupsieve>1.2 in /Users/marieeve.malette/Library/Python/3.9/lib/python/site-packages (from beautifulsoup4>=4.11.1->yfinance) (2.7)\n",
      "Requirement already satisfied: typing-extensions>=4.0.0 in /Users/marieeve.malette/Library/Python/3.9/lib/python/site-packages (from beautifulsoup4>=4.11.1->yfinance) (4.13.2)\n",
      "Requirement already satisfied: certifi>=2024.2.2 in /Users/marieeve.malette/Library/Python/3.9/lib/python/site-packages (from curl_cffi>=0.7->yfinance) (2025.4.26)\n",
      "Requirement already satisfied: cffi>=1.12.0 in /Users/marieeve.malette/Library/Python/3.9/lib/python/site-packages (from curl_cffi>=0.7->yfinance) (1.17.1)\n",
      "Requirement already satisfied: pycparser in /Users/marieeve.malette/Library/Python/3.9/lib/python/site-packages (from cffi>=1.12.0->curl_cffi>=0.7->yfinance) (2.22)\n",
      "Requirement already satisfied: tzdata>=2022.7 in /Users/marieeve.malette/Library/Python/3.9/lib/python/site-packages (from pandas>=1.3.0->yfinance) (2025.2)\n",
      "Requirement already satisfied: python-dateutil>=2.8.2 in /Users/marieeve.malette/Library/Python/3.9/lib/python/site-packages (from pandas>=1.3.0->yfinance) (2.9.0.post0)\n",
      "Requirement already satisfied: six>=1.5 in /Library/Developer/CommandLineTools/Library/Frameworks/Python3.framework/Versions/3.9/lib/python3.9/site-packages (from python-dateutil>=2.8.2->pandas>=1.3.0->yfinance) (1.15.0)\n",
      "Requirement already satisfied: charset-normalizer<4,>=2 in /Users/marieeve.malette/Library/Python/3.9/lib/python/site-packages (from requests>=2.31->yfinance) (3.4.2)\n",
      "Requirement already satisfied: idna<4,>=2.5 in /Users/marieeve.malette/Library/Python/3.9/lib/python/site-packages (from requests>=2.31->yfinance) (3.10)\n",
      "Requirement already satisfied: urllib3<3,>=1.21.1 in /Users/marieeve.malette/Library/Python/3.9/lib/python/site-packages (from requests>=2.31->yfinance) (2.4.0)\n",
      "\u001b[33mWARNING: You are using pip version 21.2.4; however, version 25.1.1 is available.\n",
      "You should consider upgrading via the '/Library/Developer/CommandLineTools/usr/bin/python3 -m pip install --upgrade pip' command.\u001b[0m\n",
      "Note: you may need to restart the kernel to use updated packages.\n",
      "Defaulting to user installation because normal site-packages is not writeable\n",
      "Requirement already satisfied: lxml in /Users/marieeve.malette/Library/Python/3.9/lib/python/site-packages (5.4.0)\n",
      "\u001b[33mWARNING: You are using pip version 21.2.4; however, version 25.1.1 is available.\n",
      "You should consider upgrading via the '/Library/Developer/CommandLineTools/usr/bin/python3 -m pip install --upgrade pip' command.\u001b[0m\n",
      "Note: you may need to restart the kernel to use updated packages.\n",
      "Defaulting to user installation because normal site-packages is not writeable\n",
      "Requirement already satisfied: sentence-transformers in /Users/marieeve.malette/Library/Python/3.9/lib/python/site-packages (4.1.0)\n",
      "Requirement already satisfied: tqdm in /Users/marieeve.malette/Library/Python/3.9/lib/python/site-packages (from sentence-transformers) (4.67.1)\n",
      "Requirement already satisfied: huggingface-hub>=0.20.0 in /Users/marieeve.malette/Library/Python/3.9/lib/python/site-packages (from sentence-transformers) (0.31.2)\n",
      "Requirement already satisfied: scipy in /Users/marieeve.malette/Library/Python/3.9/lib/python/site-packages (from sentence-transformers) (1.13.1)\n",
      "Requirement already satisfied: transformers<5.0.0,>=4.41.0 in /Users/marieeve.malette/Library/Python/3.9/lib/python/site-packages (from sentence-transformers) (4.51.3)\n",
      "Requirement already satisfied: Pillow in /Users/marieeve.malette/Library/Python/3.9/lib/python/site-packages (from sentence-transformers) (11.2.1)\n",
      "Requirement already satisfied: typing_extensions>=4.5.0 in /Users/marieeve.malette/Library/Python/3.9/lib/python/site-packages (from sentence-transformers) (4.13.2)\n",
      "Requirement already satisfied: scikit-learn in /Users/marieeve.malette/Library/Python/3.9/lib/python/site-packages (from sentence-transformers) (1.6.1)\n",
      "Requirement already satisfied: torch>=1.11.0 in /Users/marieeve.malette/Library/Python/3.9/lib/python/site-packages (from sentence-transformers) (2.7.0)\n",
      "Requirement already satisfied: requests in /Users/marieeve.malette/Library/Python/3.9/lib/python/site-packages (from huggingface-hub>=0.20.0->sentence-transformers) (2.32.3)\n",
      "Requirement already satisfied: filelock in /Users/marieeve.malette/Library/Python/3.9/lib/python/site-packages (from huggingface-hub>=0.20.0->sentence-transformers) (3.18.0)\n",
      "Requirement already satisfied: packaging>=20.9 in /Users/marieeve.malette/Library/Python/3.9/lib/python/site-packages (from huggingface-hub>=0.20.0->sentence-transformers) (25.0)\n",
      "Requirement already satisfied: fsspec>=2023.5.0 in /Users/marieeve.malette/Library/Python/3.9/lib/python/site-packages (from huggingface-hub>=0.20.0->sentence-transformers) (2025.3.2)\n",
      "Requirement already satisfied: pyyaml>=5.1 in /Users/marieeve.malette/Library/Python/3.9/lib/python/site-packages (from huggingface-hub>=0.20.0->sentence-transformers) (6.0.2)\n",
      "Requirement already satisfied: networkx in /Users/marieeve.malette/Library/Python/3.9/lib/python/site-packages (from torch>=1.11.0->sentence-transformers) (3.2.1)\n",
      "Requirement already satisfied: jinja2 in /Users/marieeve.malette/Library/Python/3.9/lib/python/site-packages (from torch>=1.11.0->sentence-transformers) (3.1.6)\n",
      "Requirement already satisfied: sympy>=1.13.3 in /Users/marieeve.malette/Library/Python/3.9/lib/python/site-packages (from torch>=1.11.0->sentence-transformers) (1.14.0)\n",
      "Requirement already satisfied: mpmath<1.4,>=1.1.0 in /Users/marieeve.malette/Library/Python/3.9/lib/python/site-packages (from sympy>=1.13.3->torch>=1.11.0->sentence-transformers) (1.3.0)\n",
      "Requirement already satisfied: safetensors>=0.4.3 in /Users/marieeve.malette/Library/Python/3.9/lib/python/site-packages (from transformers<5.0.0,>=4.41.0->sentence-transformers) (0.5.3)\n",
      "Requirement already satisfied: regex!=2019.12.17 in /Users/marieeve.malette/Library/Python/3.9/lib/python/site-packages (from transformers<5.0.0,>=4.41.0->sentence-transformers) (2024.11.6)\n",
      "Requirement already satisfied: tokenizers<0.22,>=0.21 in /Users/marieeve.malette/Library/Python/3.9/lib/python/site-packages (from transformers<5.0.0,>=4.41.0->sentence-transformers) (0.21.1)\n",
      "Requirement already satisfied: numpy>=1.17 in /Users/marieeve.malette/Library/Python/3.9/lib/python/site-packages (from transformers<5.0.0,>=4.41.0->sentence-transformers) (2.0.2)\n",
      "Requirement already satisfied: MarkupSafe>=2.0 in /Users/marieeve.malette/Library/Python/3.9/lib/python/site-packages (from jinja2->torch>=1.11.0->sentence-transformers) (3.0.2)\n",
      "Requirement already satisfied: idna<4,>=2.5 in /Users/marieeve.malette/Library/Python/3.9/lib/python/site-packages (from requests->huggingface-hub>=0.20.0->sentence-transformers) (3.10)\n",
      "Requirement already satisfied: charset-normalizer<4,>=2 in /Users/marieeve.malette/Library/Python/3.9/lib/python/site-packages (from requests->huggingface-hub>=0.20.0->sentence-transformers) (3.4.2)\n",
      "Requirement already satisfied: certifi>=2017.4.17 in /Users/marieeve.malette/Library/Python/3.9/lib/python/site-packages (from requests->huggingface-hub>=0.20.0->sentence-transformers) (2025.4.26)\n",
      "Requirement already satisfied: urllib3<3,>=1.21.1 in /Users/marieeve.malette/Library/Python/3.9/lib/python/site-packages (from requests->huggingface-hub>=0.20.0->sentence-transformers) (2.4.0)\n",
      "Requirement already satisfied: joblib>=1.2.0 in /Users/marieeve.malette/Library/Python/3.9/lib/python/site-packages (from scikit-learn->sentence-transformers) (1.5.0)\n",
      "Requirement already satisfied: threadpoolctl>=3.1.0 in /Users/marieeve.malette/Library/Python/3.9/lib/python/site-packages (from scikit-learn->sentence-transformers) (3.6.0)\n",
      "\u001b[33mWARNING: You are using pip version 21.2.4; however, version 25.1.1 is available.\n",
      "You should consider upgrading via the '/Library/Developer/CommandLineTools/usr/bin/python3 -m pip install --upgrade pip' command.\u001b[0m\n",
      "Note: you may need to restart the kernel to use updated packages.\n"
     ]
    }
   ],
   "source": [
    "%pip install pandas\n",
    "%pip install yfinance\n",
    "%pip install lxml\n",
    "%pip install -U sentence-transformers"
   ]
  },
  {
   "cell_type": "code",
   "execution_count": 8,
   "id": "7b8b20aa",
   "metadata": {},
   "outputs": [],
   "source": [
    "from sentence_transformers import SentenceTransformer\n",
    "import pandas as pd\n",
    "from sklearn.cluster import KMeans\n",
    "from sklearn.decomposition import PCA\n",
    "import matplotlib.pyplot as plt\n",
    "from sentence_transformers import SentenceTransformer\n",
    "import pandas as pd\n",
    "from sklearn.metrics import silhouette_score\n",
    "import yfinance as yf"
   ]
  },
  {
   "cell_type": "markdown",
   "id": "3f54a285",
   "metadata": {},
   "source": [
    "## Get the list of stocks in the S&P 500 "
   ]
  },
  {
   "cell_type": "code",
   "execution_count": 9,
   "id": "2d3c3175",
   "metadata": {},
   "outputs": [
    {
     "data": {
      "text/html": [
       "<div>\n",
       "<style scoped>\n",
       "    .dataframe tbody tr th:only-of-type {\n",
       "        vertical-align: middle;\n",
       "    }\n",
       "\n",
       "    .dataframe tbody tr th {\n",
       "        vertical-align: top;\n",
       "    }\n",
       "\n",
       "    .dataframe thead th {\n",
       "        text-align: right;\n",
       "    }\n",
       "</style>\n",
       "<table border=\"1\" class=\"dataframe\">\n",
       "  <thead>\n",
       "    <tr style=\"text-align: right;\">\n",
       "      <th></th>\n",
       "      <th>Symbol</th>\n",
       "      <th>Security</th>\n",
       "      <th>GICS Sector</th>\n",
       "      <th>GICS Sub-Industry</th>\n",
       "      <th>Headquarters Location</th>\n",
       "      <th>Date added</th>\n",
       "      <th>CIK</th>\n",
       "      <th>Founded</th>\n",
       "    </tr>\n",
       "  </thead>\n",
       "  <tbody>\n",
       "    <tr>\n",
       "      <th>0</th>\n",
       "      <td>MMM</td>\n",
       "      <td>3M</td>\n",
       "      <td>Industrials</td>\n",
       "      <td>Industrial Conglomerates</td>\n",
       "      <td>Saint Paul, Minnesota</td>\n",
       "      <td>1957-03-04</td>\n",
       "      <td>66740</td>\n",
       "      <td>1902</td>\n",
       "    </tr>\n",
       "    <tr>\n",
       "      <th>1</th>\n",
       "      <td>AOS</td>\n",
       "      <td>A. O. Smith</td>\n",
       "      <td>Industrials</td>\n",
       "      <td>Building Products</td>\n",
       "      <td>Milwaukee, Wisconsin</td>\n",
       "      <td>2017-07-26</td>\n",
       "      <td>91142</td>\n",
       "      <td>1916</td>\n",
       "    </tr>\n",
       "    <tr>\n",
       "      <th>2</th>\n",
       "      <td>ABT</td>\n",
       "      <td>Abbott Laboratories</td>\n",
       "      <td>Health Care</td>\n",
       "      <td>Health Care Equipment</td>\n",
       "      <td>North Chicago, Illinois</td>\n",
       "      <td>1957-03-04</td>\n",
       "      <td>1800</td>\n",
       "      <td>1888</td>\n",
       "    </tr>\n",
       "    <tr>\n",
       "      <th>3</th>\n",
       "      <td>ABBV</td>\n",
       "      <td>AbbVie</td>\n",
       "      <td>Health Care</td>\n",
       "      <td>Biotechnology</td>\n",
       "      <td>North Chicago, Illinois</td>\n",
       "      <td>2012-12-31</td>\n",
       "      <td>1551152</td>\n",
       "      <td>2013 (1888)</td>\n",
       "    </tr>\n",
       "    <tr>\n",
       "      <th>4</th>\n",
       "      <td>ACN</td>\n",
       "      <td>Accenture</td>\n",
       "      <td>Information Technology</td>\n",
       "      <td>IT Consulting &amp; Other Services</td>\n",
       "      <td>Dublin, Ireland</td>\n",
       "      <td>2011-07-06</td>\n",
       "      <td>1467373</td>\n",
       "      <td>1989</td>\n",
       "    </tr>\n",
       "  </tbody>\n",
       "</table>\n",
       "</div>"
      ],
      "text/plain": [
       "  Symbol             Security             GICS Sector  \\\n",
       "0    MMM                   3M             Industrials   \n",
       "1    AOS          A. O. Smith             Industrials   \n",
       "2    ABT  Abbott Laboratories             Health Care   \n",
       "3   ABBV               AbbVie             Health Care   \n",
       "4    ACN            Accenture  Information Technology   \n",
       "\n",
       "                GICS Sub-Industry    Headquarters Location  Date added  \\\n",
       "0        Industrial Conglomerates    Saint Paul, Minnesota  1957-03-04   \n",
       "1               Building Products     Milwaukee, Wisconsin  2017-07-26   \n",
       "2           Health Care Equipment  North Chicago, Illinois  1957-03-04   \n",
       "3                   Biotechnology  North Chicago, Illinois  2012-12-31   \n",
       "4  IT Consulting & Other Services          Dublin, Ireland  2011-07-06   \n",
       "\n",
       "       CIK      Founded  \n",
       "0    66740         1902  \n",
       "1    91142         1916  \n",
       "2     1800         1888  \n",
       "3  1551152  2013 (1888)  \n",
       "4  1467373         1989  "
      ]
     },
     "metadata": {},
     "output_type": "display_data"
    }
   ],
   "source": [
    "# Read and print the stock tickers that make up S&P500\n",
    "df_tickers = pd.read_html(\n",
    "    'https://en.wikipedia.org/wiki/List_of_S%26P_500_companies')[0]\n",
    "\n",
    "display(df_tickers.head())"
   ]
  },
  {
   "cell_type": "code",
   "execution_count": 10,
   "id": "c5309ff2",
   "metadata": {},
   "outputs": [],
   "source": [
    "ticker_list = df_tickers['Symbol'].tolist()"
   ]
  },
  {
   "cell_type": "markdown",
   "id": "e067dba6",
   "metadata": {},
   "source": [
    "## Get the news of all 500 stocks in the S&P 500 Index\n",
    "Use the yfinance library to retrieve the news of all 500 stocks in the index.\n",
    "https://ranaroussi.github.io/yfinance/reference/yfinance.stock.html"
   ]
  },
  {
   "cell_type": "markdown",
   "id": "c2807119",
   "metadata": {},
   "source": [
    "### Get the news in a dictionary"
   ]
  },
  {
   "cell_type": "code",
   "execution_count": 11,
   "id": "2e78bb43",
   "metadata": {},
   "outputs": [],
   "source": [
    "# Create a dictionary where the keys are the symbols (tickers) of each 500 stocks \n",
    "# and the value is the output news from the yfinance library\n",
    "\n",
    "# YOUR CODE HERE"
   ]
  },
  {
   "cell_type": "markdown",
   "id": "c1de6cae",
   "metadata": {},
   "source": [
    "### Structure the news into a pandas dataframe \n",
    "\n",
    "Your final dataframe should have the following columns: \n",
    "- TICKER\n",
    "- TITLE (of the news)\n",
    "- SUMMARY (of the news)\n",
    "- PUBLICATION_DATE (of the news)\n",
    "- URL (of the news)\n",
    "\n",
    "Note: all of those fields are provided in the yfinance news component. Refer to the library documentation."
   ]
  },
  {
   "cell_type": "code",
   "execution_count": 12,
   "id": "fdb2faf1",
   "metadata": {},
   "outputs": [],
   "source": [
    "# YOUR CODE HERE\n",
    "# USE AS MANY CELLS AS YOU NEED\n",
    "# MAKE SURE TO DISPLAY INTERMEDIARY RESULS"
   ]
  },
  {
   "cell_type": "markdown",
   "id": "c7d157a8",
   "metadata": {},
   "source": [
    "## Exploring text embeddings\n",
    "\n",
    "- Use the open-source model: 'sentence-transformers/all-MiniLM-L6-v2' to create embeddings on the news title and summary\n",
    "- Add a column to your news dataframe called EMBEDDED_TEXT using ONLY the TITLE of the news\n",
    "- Add a column to your news dataframe called EMBEDDINGS, which contains the embedding of EMBEDDED_TEXT\n"
   ]
  },
  {
   "cell_type": "code",
   "execution_count": 13,
   "id": "a59b6d58",
   "metadata": {},
   "outputs": [],
   "source": [
    "# YOUR CODE HERE\n",
    "# USE AS MANY CELLS AS YOU NEED\n",
    "# MAKE SURE TO DISPLAY INTERMEDIARY RESULS"
   ]
  },
  {
   "cell_type": "markdown",
   "id": "17f0fada",
   "metadata": {},
   "source": [
    "## Using K-means clustering on news embeddings\n",
    "to simplify, keep only one news for each company (ticker), you should have 500 rows in your news dataframe"
   ]
  },
  {
   "cell_type": "code",
   "execution_count": 14,
   "id": "78bf32c0",
   "metadata": {},
   "outputs": [],
   "source": [
    "# YOUR CODE HERE\n",
    "# USE AS MANY CELLS AS YOU NEED\n",
    "# MAKE SURE TO DISPLAY INTERMEDIARY RESULS"
   ]
  },
  {
   "cell_type": "markdown",
   "id": "b1cdc413",
   "metadata": {},
   "source": [
    "### Identify the number of clusters using the silhouette score\n",
    "\n",
    "- Using a for loop, do the clustering with different k values (number of clusters), test 1 to 6 clusters\n",
    "- Compute the silhouette score for every k value\n",
    "- Plot the silhouette score for different k values"
   ]
  },
  {
   "cell_type": "markdown",
   "id": "22bda120",
   "metadata": {},
   "source": [
    "#### Try different values of k and compute silhouette scores"
   ]
  },
  {
   "cell_type": "code",
   "execution_count": 15,
   "id": "e0ea69df",
   "metadata": {},
   "outputs": [],
   "source": [
    "# YOUR CODE HERE\n",
    "# USE AS MANY CELLS AS YOU NEED\n",
    "# MAKE SURE TO DISPLAY INTERMEDIARY RESULS"
   ]
  },
  {
   "cell_type": "markdown",
   "id": "41da4eae",
   "metadata": {},
   "source": [
    "#### Plot silhouette scores"
   ]
  },
  {
   "cell_type": "code",
   "execution_count": 16,
   "id": "99798590",
   "metadata": {},
   "outputs": [],
   "source": [
    "# YOUR CODE HERE\n",
    "# USE AS MANY CELLS AS YOU NEED\n",
    "# MAKE SURE TO DISPLAY INTERMEDIARY RESULS"
   ]
  },
  {
   "cell_type": "markdown",
   "id": "d311d914",
   "metadata": {},
   "source": [
    "#### Identify the Best k"
   ]
  },
  {
   "cell_type": "code",
   "execution_count": 17,
   "id": "34e71c10",
   "metadata": {},
   "outputs": [],
   "source": [
    "# YOUR CODE HERE\n",
    "# USE AS MANY CELLS AS YOU NEED\n",
    "# MAKE SURE TO DISPLAY INTERMEDIARY RESULS"
   ]
  },
  {
   "cell_type": "markdown",
   "id": "07115a68",
   "metadata": {},
   "source": [
    "#### Cluster the embeddings using 3 clusters (k=3)"
   ]
  },
  {
   "cell_type": "code",
   "execution_count": 18,
   "id": "3bbae044",
   "metadata": {},
   "outputs": [],
   "source": [
    "# YOUR CODE HERE\n",
    "# USE AS MANY CELLS AS YOU NEED\n",
    "# MAKE SURE TO DISPLAY INTERMEDIARY RESULS"
   ]
  },
  {
   "cell_type": "markdown",
   "id": "c4920b80",
   "metadata": {},
   "source": [
    "### Visualize the 2 first PCA Components of your embeddings"
   ]
  },
  {
   "cell_type": "code",
   "execution_count": 19,
   "id": "5e600ab9",
   "metadata": {},
   "outputs": [],
   "source": [
    "# YOUR CODE HERE\n",
    "# USE AS MANY CELLS AS YOU NEED\n",
    "# MAKE SURE TO DISPLAY INTERMEDIARY RESULS"
   ]
  },
  {
   "cell_type": "markdown",
   "id": "6b0dae3d",
   "metadata": {},
   "source": [
    "#### Analyze the content of each cluster\n",
    "- Add the kmeans cluster label to your news dataframe\n",
    "- Print the content of each cluster and analyze it"
   ]
  },
  {
   "cell_type": "code",
   "execution_count": 20,
   "id": "3e6719b8",
   "metadata": {},
   "outputs": [],
   "source": [
    "# YOUR CODE HERE\n",
    "# USE AS MANY CELLS AS YOU NEED\n",
    "# MAKE SURE TO DISPLAY INTERMEDIARY RESULS"
   ]
  },
  {
   "cell_type": "markdown",
   "id": "9bbe670f",
   "metadata": {},
   "source": [
    "\n",
    "\n",
    "## Question Section\n",
    "\n",
    "Take time to reflect on what you've implemented and observed. Answer the following questions in a separate markdown cell or notebook file:\n",
    "\n",
    "---\n",
    "\n",
    "### Technical Understanding\n",
    "\n",
    "#### 1️⃣ How might the choice of embedding model (e.g., MiniLM vs. a larger transformer) affect your clustering results and interpretation?\n",
    "\n",
    "YOUR WRITTEN RESPONSE HERE\n",
    "\n",
    "---\n",
    "\n",
    "#### 2️⃣ What would be the differences in embeddings if you used only the TITLE, only the SUMMARY, or the combination of both? How could you empirically test this?\n",
    "\n",
    "YOUR WRITTEN RESPONSE HERE\n",
    "\n",
    "---\n",
    "\n",
    "#### 3️⃣ In what situations would using a different dimensionality reduction method (e.g., t-SNE, UMAP) be preferable over PCA for visualization of embeddings?\n",
    "\n",
    "YOUR WRITTEN RESPONSE HERE\n",
    "\n",
    "\n",
    "---\n",
    "\n",
    "### Data Analysis and Interpretation\n",
    "\n",
    "#### 4️⃣ Based on your cluster analysis, identify at least two potential challenges you faced in interpreting the clusters and propose strategies to address them.\n",
    "\n",
    "YOUR WRITTEN RESPONSE\n",
    "\n",
    "---\n",
    "\n",
    "#### 5️⃣ Did you observe any outliers in your 2D visualization? How would you identify and handle these outliers in a production pipeline?\n",
    "\n",
    "YOUR WRITTEN RESPONSE\n",
    "\n",
    "---\n",
    "\n",
    "#### 6️⃣ If you could assign a 'label' or 'theme' to each cluster you obtained, what would they be? How confident are you in these assignments, and what could you do to validate them systematically?\n",
    "\n",
    "YOUR WRITTEN RESPONSE \n",
    "\n",
    "---\n",
    "\n",
    "### Critical Thinking\n",
    "\n",
    "#### 7️⃣ If news sentiment was incorporated into the analysis, how might this influence the clustering structure and interpretation of the clusters in a financial analysis context?\n",
    "\n",
    "YOUR WRITTEN RESPONSE\n",
    "\n",
    "---\n",
    "\n",
    "#### 8️⃣ Discuss the limitations of using k-means clustering for news embeddings. What alternative clustering methods could address these limitations, and under what conditions would you prefer them?\n",
    "\n",
    "YOUR WRITTEN RESPONSE\n",
    "\n",
    "---\n",
    "\n",
    "#### 9️⃣ How could the approach in this notebook be extended to analyze the potential impact of news clusters on stock price movements over time? Sketch a high-level pipeline you would implement to test this.\n",
    "\n",
    "YOUR WRITTEN RESPONSE\n",
    "\n",
    "---\n",
    "\n",
    "#### 10️⃣ Imagine your clustering shows clear groups of news, but your downstream task (e.g., prediction of stock movement) does not improve. What might explain this disconnect between clear clusters and predictive utility?\n",
    "\n",
    "YOU WRITTEN RESPONSE\n",
    "\n"
   ]
  }
 ],
 "metadata": {
  "kernelspec": {
   "display_name": "Python 3",
   "language": "python",
   "name": "python3"
  },
  "language_info": {
   "codemirror_mode": {
    "name": "ipython",
    "version": 3
   },
   "file_extension": ".py",
   "mimetype": "text/x-python",
   "name": "python",
   "nbconvert_exporter": "python",
   "pygments_lexer": "ipython3",
   "version": "3.9.6"
  }
 },
 "nbformat": 4,
 "nbformat_minor": 5
}
