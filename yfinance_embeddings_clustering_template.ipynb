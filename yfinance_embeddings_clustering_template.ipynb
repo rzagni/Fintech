{
 "cells": [
  {
   "cell_type": "markdown",
   "id": "278363b3",
   "metadata": {},
   "source": [
    "# Introduction to text embeddings on S&P 500 news"
   ]
  },
  {
   "cell_type": "markdown",
   "id": "83d6ffde",
   "metadata": {},
   "source": [
    "objectives# 📌 Objectives\n",
    "\n",
    "By the end of this notebook, students will be able to:\n",
    "\n",
    "1. **Retrieve Financial News:**\n",
    "   - Use the `yfinance` library to gather news headlines for all companies in the S&P 500 index.\n",
    "\n",
    "2. **Clean and Structure Financial Text Data:**\n",
    "   - Extract and organize relevant metadata (e.g., ticker, title, summary, publication date, URL) into a structured pandas DataFrame.\n",
    "\n",
    "3. **Generate Text Embeddings:**\n",
    "   - Apply a pre-trained sentence transformer model (`all-MiniLM-L6-v2`) to convert news headlines and summaries into numerical embeddings.\n",
    "\n",
    "4. **Apply Clustering Techniques:**\n",
    "   - Use K-Means clustering to identify groups of similar news articles based on semantic content.\n",
    "\n",
    "5. **Determine Optimal Number of Clusters:**\n",
    "   - Evaluate clustering quality using silhouette scores to find the best number of clusters.\n",
    "\n",
    "6. **Visualize High-Dimensional Embeddings:**\n",
    "   - Reduce the embedding space using PCA and visualize clusters in two dimensions.\n",
    "\n",
    "7. **Interpret Cluster Themes:**\n",
    "   - Analyze representative news\n"
   ]
  },
  {
   "cell_type": "markdown",
   "id": "fe54247f",
   "metadata": {},
   "source": [
    "## Install and Import important librairies"
   ]
  },
  {
   "cell_type": "code",
   "execution_count": 7,
   "id": "49c4fff2",
   "metadata": {},
   "outputs": [
    {
     "name": "stdout",
     "output_type": "stream",
     "text": [
      "Defaulting to user installation because normal site-packages is not writeable\n",
      "Requirement already satisfied: pandas in /Users/marieeve.malette/Library/Python/3.9/lib/python/site-packages (2.2.3)\n",
      "Requirement already satisfied: pytz>=2020.1 in /Users/marieeve.malette/Library/Python/3.9/lib/python/site-packages (from pandas) (2025.2)\n",
      "Requirement already satisfied: numpy>=1.22.4 in /Users/marieeve.malette/Library/Python/3.9/lib/python/site-packages (from pandas) (2.0.2)\n",
      "Requirement already satisfied: tzdata>=2022.7 in /Users/marieeve.malette/Library/Python/3.9/lib/python/site-packages (from pandas) (2025.2)\n",
      "Requirement already satisfied: python-dateutil>=2.8.2 in /Users/marieeve.malette/Library/Python/3.9/lib/python/site-packages (from pandas) (2.9.0.post0)\n",
      "Requirement already satisfied: six>=1.5 in /Library/Developer/CommandLineTools/Library/Frameworks/Python3.framework/Versions/3.9/lib/python3.9/site-packages (from python-dateutil>=2.8.2->pandas) (1.15.0)\n",
      "\u001b[33mWARNING: You are using pip version 21.2.4; however, version 25.1.1 is available.\n",
      "You should consider upgrading via the '/Library/Developer/CommandLineTools/usr/bin/python3 -m pip install --upgrade pip' command.\u001b[0m\n",
      "Note: you may need to restart the kernel to use updated packages.\n",
      "Defaulting to user installation because normal site-packages is not writeable\n",
      "Requirement already satisfied: yfinance in /Users/marieeve.malette/Library/Python/3.9/lib/python/site-packages (0.2.61)\n",
      "Requirement already satisfied: pandas>=1.3.0 in /Users/marieeve.malette/Library/Python/3.9/lib/python/site-packages (from yfinance) (2.2.3)\n",
      "Requirement already satisfied: multitasking>=0.0.7 in /Users/marieeve.malette/Library/Python/3.9/lib/python/site-packages (from yfinance) (0.0.11)\n",
      "Requirement already satisfied: websockets>=13.0 in /Users/marieeve.malette/Library/Python/3.9/lib/python/site-packages (from yfinance) (15.0.1)\n",
      "Requirement already satisfied: numpy>=1.16.5 in /Users/marieeve.malette/Library/Python/3.9/lib/python/site-packages (from yfinance) (2.0.2)\n",
      "Requirement already satisfied: requests>=2.31 in /Users/marieeve.malette/Library/Python/3.9/lib/python/site-packages (from yfinance) (2.32.3)\n",
      "Requirement already satisfied: curl_cffi>=0.7 in /Users/marieeve.malette/Library/Python/3.9/lib/python/site-packages (from yfinance) (0.11.1)\n",
      "Requirement already satisfied: platformdirs>=2.0.0 in /Users/marieeve.malette/Library/Python/3.9/lib/python/site-packages (from yfinance) (4.3.8)\n",
      "Requirement already satisfied: peewee>=3.16.2 in /Users/marieeve.malette/Library/Python/3.9/lib/python/site-packages (from yfinance) (3.18.1)\n",
      "Requirement already satisfied: beautifulsoup4>=4.11.1 in /Users/marieeve.malette/Library/Python/3.9/lib/python/site-packages (from yfinance) (4.13.4)\n",
      "Requirement already satisfied: protobuf>=3.19.0 in /Users/marieeve.malette/Library/Python/3.9/lib/python/site-packages (from yfinance) (6.31.0)\n",
      "Requirement already satisfied: pytz>=2022.5 in /Users/marieeve.malette/Library/Python/3.9/lib/python/site-packages (from yfinance) (2025.2)\n",
      "Requirement already satisfied: frozendict>=2.3.4 in /Users/marieeve.malette/Library/Python/3.9/lib/python/site-packages (from yfinance) (2.4.6)\n",
      "Requirement already satisfied: soupsieve>1.2 in /Users/marieeve.malette/Library/Python/3.9/lib/python/site-packages (from beautifulsoup4>=4.11.1->yfinance) (2.7)\n",
      "Requirement already satisfied: typing-extensions>=4.0.0 in /Users/marieeve.malette/Library/Python/3.9/lib/python/site-packages (from beautifulsoup4>=4.11.1->yfinance) (4.13.2)\n",
      "Requirement already satisfied: certifi>=2024.2.2 in /Users/marieeve.malette/Library/Python/3.9/lib/python/site-packages (from curl_cffi>=0.7->yfinance) (2025.4.26)\n",
      "Requirement already satisfied: cffi>=1.12.0 in /Users/marieeve.malette/Library/Python/3.9/lib/python/site-packages (from curl_cffi>=0.7->yfinance) (1.17.1)\n",
      "Requirement already satisfied: pycparser in /Users/marieeve.malette/Library/Python/3.9/lib/python/site-packages (from cffi>=1.12.0->curl_cffi>=0.7->yfinance) (2.22)\n",
      "Requirement already satisfied: tzdata>=2022.7 in /Users/marieeve.malette/Library/Python/3.9/lib/python/site-packages (from pandas>=1.3.0->yfinance) (2025.2)\n",
      "Requirement already satisfied: python-dateutil>=2.8.2 in /Users/marieeve.malette/Library/Python/3.9/lib/python/site-packages (from pandas>=1.3.0->yfinance) (2.9.0.post0)\n",
      "Requirement already satisfied: six>=1.5 in /Library/Developer/CommandLineTools/Library/Frameworks/Python3.framework/Versions/3.9/lib/python3.9/site-packages (from python-dateutil>=2.8.2->pandas>=1.3.0->yfinance) (1.15.0)\n",
      "Requirement already satisfied: charset-normalizer<4,>=2 in /Users/marieeve.malette/Library/Python/3.9/lib/python/site-packages (from requests>=2.31->yfinance) (3.4.2)\n",
      "Requirement already satisfied: idna<4,>=2.5 in /Users/marieeve.malette/Library/Python/3.9/lib/python/site-packages (from requests>=2.31->yfinance) (3.10)\n",
      "Requirement already satisfied: urllib3<3,>=1.21.1 in /Users/marieeve.malette/Library/Python/3.9/lib/python/site-packages (from requests>=2.31->yfinance) (2.4.0)\n",
      "\u001b[33mWARNING: You are using pip version 21.2.4; however, version 25.1.1 is available.\n",
      "You should consider upgrading via the '/Library/Developer/CommandLineTools/usr/bin/python3 -m pip install --upgrade pip' command.\u001b[0m\n",
      "Note: you may need to restart the kernel to use updated packages.\n",
      "Defaulting to user installation because normal site-packages is not writeable\n",
      "Requirement already satisfied: lxml in /Users/marieeve.malette/Library/Python/3.9/lib/python/site-packages (5.4.0)\n",
      "\u001b[33mWARNING: You are using pip version 21.2.4; however, version 25.1.1 is available.\n",
      "You should consider upgrading via the '/Library/Developer/CommandLineTools/usr/bin/python3 -m pip install --upgrade pip' command.\u001b[0m\n",
      "Note: you may need to restart the kernel to use updated packages.\n",
      "Defaulting to user installation because normal site-packages is not writeable\n",
      "Requirement already satisfied: sentence-transformers in /Users/marieeve.malette/Library/Python/3.9/lib/python/site-packages (4.1.0)\n",
      "Requirement already satisfied: tqdm in /Users/marieeve.malette/Library/Python/3.9/lib/python/site-packages (from sentence-transformers) (4.67.1)\n",
      "Requirement already satisfied: huggingface-hub>=0.20.0 in /Users/marieeve.malette/Library/Python/3.9/lib/python/site-packages (from sentence-transformers) (0.31.2)\n",
      "Requirement already satisfied: scipy in /Users/marieeve.malette/Library/Python/3.9/lib/python/site-packages (from sentence-transformers) (1.13.1)\n",
      "Requirement already satisfied: transformers<5.0.0,>=4.41.0 in /Users/marieeve.malette/Library/Python/3.9/lib/python/site-packages (from sentence-transformers) (4.51.3)\n",
      "Requirement already satisfied: Pillow in /Users/marieeve.malette/Library/Python/3.9/lib/python/site-packages (from sentence-transformers) (11.2.1)\n",
      "Requirement already satisfied: typing_extensions>=4.5.0 in /Users/marieeve.malette/Library/Python/3.9/lib/python/site-packages (from sentence-transformers) (4.13.2)\n",
      "Requirement already satisfied: scikit-learn in /Users/marieeve.malette/Library/Python/3.9/lib/python/site-packages (from sentence-transformers) (1.6.1)\n",
      "Requirement already satisfied: torch>=1.11.0 in /Users/marieeve.malette/Library/Python/3.9/lib/python/site-packages (from sentence-transformers) (2.7.0)\n",
      "Requirement already satisfied: requests in /Users/marieeve.malette/Library/Python/3.9/lib/python/site-packages (from huggingface-hub>=0.20.0->sentence-transformers) (2.32.3)\n",
      "Requirement already satisfied: filelock in /Users/marieeve.malette/Library/Python/3.9/lib/python/site-packages (from huggingface-hub>=0.20.0->sentence-transformers) (3.18.0)\n",
      "Requirement already satisfied: packaging>=20.9 in /Users/marieeve.malette/Library/Python/3.9/lib/python/site-packages (from huggingface-hub>=0.20.0->sentence-transformers) (25.0)\n",
      "Requirement already satisfied: fsspec>=2023.5.0 in /Users/marieeve.malette/Library/Python/3.9/lib/python/site-packages (from huggingface-hub>=0.20.0->sentence-transformers) (2025.3.2)\n",
      "Requirement already satisfied: pyyaml>=5.1 in /Users/marieeve.malette/Library/Python/3.9/lib/python/site-packages (from huggingface-hub>=0.20.0->sentence-transformers) (6.0.2)\n",
      "Requirement already satisfied: networkx in /Users/marieeve.malette/Library/Python/3.9/lib/python/site-packages (from torch>=1.11.0->sentence-transformers) (3.2.1)\n",
      "Requirement already satisfied: jinja2 in /Users/marieeve.malette/Library/Python/3.9/lib/python/site-packages (from torch>=1.11.0->sentence-transformers) (3.1.6)\n",
      "Requirement already satisfied: sympy>=1.13.3 in /Users/marieeve.malette/Library/Python/3.9/lib/python/site-packages (from torch>=1.11.0->sentence-transformers) (1.14.0)\n",
      "Requirement already satisfied: mpmath<1.4,>=1.1.0 in /Users/marieeve.malette/Library/Python/3.9/lib/python/site-packages (from sympy>=1.13.3->torch>=1.11.0->sentence-transformers) (1.3.0)\n",
      "Requirement already satisfied: safetensors>=0.4.3 in /Users/marieeve.malette/Library/Python/3.9/lib/python/site-packages (from transformers<5.0.0,>=4.41.0->sentence-transformers) (0.5.3)\n",
      "Requirement already satisfied: regex!=2019.12.17 in /Users/marieeve.malette/Library/Python/3.9/lib/python/site-packages (from transformers<5.0.0,>=4.41.0->sentence-transformers) (2024.11.6)\n",
      "Requirement already satisfied: tokenizers<0.22,>=0.21 in /Users/marieeve.malette/Library/Python/3.9/lib/python/site-packages (from transformers<5.0.0,>=4.41.0->sentence-transformers) (0.21.1)\n",
      "Requirement already satisfied: numpy>=1.17 in /Users/marieeve.malette/Library/Python/3.9/lib/python/site-packages (from transformers<5.0.0,>=4.41.0->sentence-transformers) (2.0.2)\n",
      "Requirement already satisfied: MarkupSafe>=2.0 in /Users/marieeve.malette/Library/Python/3.9/lib/python/site-packages (from jinja2->torch>=1.11.0->sentence-transformers) (3.0.2)\n",
      "Requirement already satisfied: idna<4,>=2.5 in /Users/marieeve.malette/Library/Python/3.9/lib/python/site-packages (from requests->huggingface-hub>=0.20.0->sentence-transformers) (3.10)\n",
      "Requirement already satisfied: charset-normalizer<4,>=2 in /Users/marieeve.malette/Library/Python/3.9/lib/python/site-packages (from requests->huggingface-hub>=0.20.0->sentence-transformers) (3.4.2)\n",
      "Requirement already satisfied: certifi>=2017.4.17 in /Users/marieeve.malette/Library/Python/3.9/lib/python/site-packages (from requests->huggingface-hub>=0.20.0->sentence-transformers) (2025.4.26)\n",
      "Requirement already satisfied: urllib3<3,>=1.21.1 in /Users/marieeve.malette/Library/Python/3.9/lib/python/site-packages (from requests->huggingface-hub>=0.20.0->sentence-transformers) (2.4.0)\n",
      "Requirement already satisfied: joblib>=1.2.0 in /Users/marieeve.malette/Library/Python/3.9/lib/python/site-packages (from scikit-learn->sentence-transformers) (1.5.0)\n",
      "Requirement already satisfied: threadpoolctl>=3.1.0 in /Users/marieeve.malette/Library/Python/3.9/lib/python/site-packages (from scikit-learn->sentence-transformers) (3.6.0)\n",
      "\u001b[33mWARNING: You are using pip version 21.2.4; however, version 25.1.1 is available.\n",
      "You should consider upgrading via the '/Library/Developer/CommandLineTools/usr/bin/python3 -m pip install --upgrade pip' command.\u001b[0m\n",
      "Note: you may need to restart the kernel to use updated packages.\n"
     ]
    }
   ],
   "source": [
    "%pip install pandas\n",
    "%pip install yfinance\n",
    "%pip install lxml\n",
    "%pip install -U sentence-transformers"
   ]
  },
  {
   "cell_type": "code",
   "execution_count": 8,
   "id": "7b8b20aa",
   "metadata": {},
   "outputs": [],
   "source": [
    "from sentence_transformers import SentenceTransformer\n",
    "import pandas as pd\n",
    "from sklearn.cluster import KMeans\n",
    "from sklearn.decomposition import PCA\n",
    "import matplotlib.pyplot as plt\n",
    "from sentence_transformers import SentenceTransformer\n",
    "import pandas as pd\n",
    "from sklearn.metrics import silhouette_score\n",
    "import yfinance as yf"
   ]
  },
  {
   "cell_type": "markdown",
   "id": "3f54a285",
   "metadata": {},
   "source": [
    "## Get the list of stocks in the S&P 500 "
   ]
  },
  {
   "cell_type": "code",
   "execution_count": 9,
   "id": "2d3c3175",
   "metadata": {},
   "outputs": [
    {
     "data": {
      "text/html": [
       "<div>\n",
       "<style scoped>\n",
       "    .dataframe tbody tr th:only-of-type {\n",
       "        vertical-align: middle;\n",
       "    }\n",
       "\n",
       "    .dataframe tbody tr th {\n",
       "        vertical-align: top;\n",
       "    }\n",
       "\n",
       "    .dataframe thead th {\n",
       "        text-align: right;\n",
       "    }\n",
       "</style>\n",
       "<table border=\"1\" class=\"dataframe\">\n",
       "  <thead>\n",
       "    <tr style=\"text-align: right;\">\n",
       "      <th></th>\n",
       "      <th>Symbol</th>\n",
       "      <th>Security</th>\n",
       "      <th>GICS Sector</th>\n",
       "      <th>GICS Sub-Industry</th>\n",
       "      <th>Headquarters Location</th>\n",
       "      <th>Date added</th>\n",
       "      <th>CIK</th>\n",
       "      <th>Founded</th>\n",
       "    </tr>\n",
       "  </thead>\n",
       "  <tbody>\n",
       "    <tr>\n",
       "      <th>0</th>\n",
       "      <td>MMM</td>\n",
       "      <td>3M</td>\n",
       "      <td>Industrials</td>\n",
       "      <td>Industrial Conglomerates</td>\n",
       "      <td>Saint Paul, Minnesota</td>\n",
       "      <td>1957-03-04</td>\n",
       "      <td>66740</td>\n",
       "      <td>1902</td>\n",
       "    </tr>\n",
       "    <tr>\n",
       "      <th>1</th>\n",
       "      <td>AOS</td>\n",
       "      <td>A. O. Smith</td>\n",
       "      <td>Industrials</td>\n",
       "      <td>Building Products</td>\n",
       "      <td>Milwaukee, Wisconsin</td>\n",
       "      <td>2017-07-26</td>\n",
       "      <td>91142</td>\n",
       "      <td>1916</td>\n",
       "    </tr>\n",
       "    <tr>\n",
       "      <th>2</th>\n",
       "      <td>ABT</td>\n",
       "      <td>Abbott Laboratories</td>\n",
       "      <td>Health Care</td>\n",
       "      <td>Health Care Equipment</td>\n",
       "      <td>North Chicago, Illinois</td>\n",
       "      <td>1957-03-04</td>\n",
       "      <td>1800</td>\n",
       "      <td>1888</td>\n",
       "    </tr>\n",
       "    <tr>\n",
       "      <th>3</th>\n",
       "      <td>ABBV</td>\n",
       "      <td>AbbVie</td>\n",
       "      <td>Health Care</td>\n",
       "      <td>Biotechnology</td>\n",
       "      <td>North Chicago, Illinois</td>\n",
       "      <td>2012-12-31</td>\n",
       "      <td>1551152</td>\n",
       "      <td>2013 (1888)</td>\n",
       "    </tr>\n",
       "    <tr>\n",
       "      <th>4</th>\n",
       "      <td>ACN</td>\n",
       "      <td>Accenture</td>\n",
       "      <td>Information Technology</td>\n",
       "      <td>IT Consulting &amp; Other Services</td>\n",
       "      <td>Dublin, Ireland</td>\n",
       "      <td>2011-07-06</td>\n",
       "      <td>1467373</td>\n",
       "      <td>1989</td>\n",
       "    </tr>\n",
       "  </tbody>\n",
       "</table>\n",
       "</div>"
      ],
      "text/plain": [
       "  Symbol             Security             GICS Sector  \\\n",
       "0    MMM                   3M             Industrials   \n",
       "1    AOS          A. O. Smith             Industrials   \n",
       "2    ABT  Abbott Laboratories             Health Care   \n",
       "3   ABBV               AbbVie             Health Care   \n",
       "4    ACN            Accenture  Information Technology   \n",
       "\n",
       "                GICS Sub-Industry    Headquarters Location  Date added  \\\n",
       "0        Industrial Conglomerates    Saint Paul, Minnesota  1957-03-04   \n",
       "1               Building Products     Milwaukee, Wisconsin  2017-07-26   \n",
       "2           Health Care Equipment  North Chicago, Illinois  1957-03-04   \n",
       "3                   Biotechnology  North Chicago, Illinois  2012-12-31   \n",
       "4  IT Consulting & Other Services          Dublin, Ireland  2011-07-06   \n",
       "\n",
       "       CIK      Founded  \n",
       "0    66740         1902  \n",
       "1    91142         1916  \n",
       "2     1800         1888  \n",
       "3  1551152  2013 (1888)  \n",
       "4  1467373         1989  "
      ]
     },
     "metadata": {},
     "output_type": "display_data"
    }
   ],
   "source": [
    "# Read and print the stock tickers that make up S&P500\n",
    "df_tickers = pd.read_html(\n",
    "    'https://en.wikipedia.org/wiki/List_of_S%26P_500_companies')[0]\n",
    "\n",
    "display(df_tickers.head())"
   ]
  },
  {
   "cell_type": "code",
   "execution_count": 10,
   "id": "c5309ff2",
   "metadata": {},
   "outputs": [],
   "source": [
    "ticker_list = df_tickers['Symbol'].tolist()"
   ]
  },
  {
   "cell_type": "markdown",
   "id": "e067dba6",
   "metadata": {},
   "source": [
    "## Get the news of all 500 stocks in the S&P 500 Index\n",
    "Use the yfinance library to retrieve the news of all 500 stocks in the index.\n",
    "https://ranaroussi.github.io/yfinance/reference/yfinance.stock.html"
   ]
  },
  {
   "cell_type": "markdown",
   "id": "c2807119",
   "metadata": {},
   "source": [
    "### Get the news in a dictionary"
   ]
  },
  {
   "cell_type": "code",
   "execution_count": 11,
   "id": "2e78bb43",
   "metadata": {},
   "outputs": [],
   "source": [
    "# Create a dictionary where the keys are the symbols (tickers) of each 500 stocks \n",
    "# and the value is the output news from the yfinance library\n",
    "\n",
    "# YOUR CODE HERE"
   ]
  },
  {
   "cell_type": "markdown",
   "id": "c1de6cae",
   "metadata": {},
   "source": [
    "### Structure the news into a pandas dataframe \n",
    "\n",
    "Your final dataframe should have the following columns: \n",
    "- TICKER\n",
    "- TITLE (of the news)\n",
    "- SUMMARY (of the news)\n",
    "- PUBLICATION_DATE (of the news)\n",
    "- URL (of the news)\n",
    "\n",
    "Note: all of those fields are provided in the yfinance news component. Refer to the library documentation."
   ]
  },
  {
   "cell_type": "code",
   "execution_count": 12,
   "id": "fdb2faf1",
   "metadata": {},
   "outputs": [],
   "source": [
    "# YOUR CODE HERE\n",
    "# USE AS MANY CELLS AS YOU NEED\n",
    "# MAKE SURE TO DISPLAY INTERMEDIARY RESULS"
   ]
  },
  {
   "cell_type": "markdown",
   "id": "c7d157a8",
   "metadata": {},
   "source": [
    "## Exploring text embeddings\n",
    "\n",
    "- Use the open-source model: 'sentence-transformers/all-MiniLM-L6-v2' to create embeddings on the news title and summary\n",
    "- You should combine the title and summary into one string that you will embed together\n",
    "- Add a column to your news dataframe called EMBEDDED_TEXT using ONLY the TITLE of the news\n",
    "- Add a column to your news dataframe called EMBEDDINGS, which contains the embedding of EMBEDDED_TEXT\n"
   ]
  },
  {
   "cell_type": "code",
   "execution_count": 13,
   "id": "a59b6d58",
   "metadata": {},
   "outputs": [],
   "source": [
    "# YOUR CODE HERE\n",
    "# USE AS MANY CELLS AS YOU NEED\n",
    "# MAKE SURE TO DISPLAY INTERMEDIARY RESULS"
   ]
  },
  {
   "cell_type": "markdown",
   "id": "17f0fada",
   "metadata": {},
   "source": [
    "## Using K-means clustering on news embeddings\n",
    "to simplify, keep only one news for each company (ticker), you should have 500 rows in your news dataframe"
   ]
  },
  {
   "cell_type": "code",
   "execution_count": 14,
   "id": "78bf32c0",
   "metadata": {},
   "outputs": [],
   "source": [
    "# YOUR CODE HERE\n",
    "# USE AS MANY CELLS AS YOU NEED\n",
    "# MAKE SURE TO DISPLAY INTERMEDIARY RESULS"
   ]
  },
  {
   "cell_type": "markdown",
   "id": "b1cdc413",
   "metadata": {},
   "source": [
    "### Identify the number of clusters using the silhouette score\n",
    "\n",
    "- Using a for loop, do the clustering with different k values (number of clusters), test 1 to 6 clusters\n",
    "- Compute the silhouette score for every k value\n",
    "- Plot the silhouette score for different k values"
   ]
  },
  {
   "cell_type": "markdown",
   "id": "22bda120",
   "metadata": {},
   "source": [
    "#### Try different values of k and compute silhouette scores"
   ]
  },
  {
   "cell_type": "code",
   "execution_count": 15,
   "id": "e0ea69df",
   "metadata": {},
   "outputs": [],
   "source": [
    "# YOUR CODE HERE\n",
    "# USE AS MANY CELLS AS YOU NEED\n",
    "# MAKE SURE TO DISPLAY INTERMEDIARY RESULS"
   ]
  },
  {
   "cell_type": "markdown",
   "id": "41da4eae",
   "metadata": {},
   "source": [
    "#### Plot silhouette scores"
   ]
  },
  {
   "cell_type": "code",
   "execution_count": 16,
   "id": "99798590",
   "metadata": {},
   "outputs": [],
   "source": [
    "# YOUR CODE HERE\n",
    "# USE AS MANY CELLS AS YOU NEED\n",
    "# MAKE SURE TO DISPLAY INTERMEDIARY RESULS"
   ]
  },
  {
   "cell_type": "markdown",
   "id": "d311d914",
   "metadata": {},
   "source": [
    "#### Identify the Best k"
   ]
  },
  {
   "cell_type": "code",
   "execution_count": 17,
   "id": "34e71c10",
   "metadata": {},
   "outputs": [],
   "source": [
    "# YOUR CODE HERE\n",
    "# USE AS MANY CELLS AS YOU NEED\n",
    "# MAKE SURE TO DISPLAY INTERMEDIARY RESULS"
   ]
  },
  {
   "cell_type": "markdown",
   "id": "07115a68",
   "metadata": {},
   "source": [
    "#### Cluster the embeddings using 3 clusters (k=3)"
   ]
  },
  {
   "cell_type": "code",
   "execution_count": 18,
   "id": "3bbae044",
   "metadata": {},
   "outputs": [],
   "source": [
    "# YOUR CODE HERE\n",
    "# USE AS MANY CELLS AS YOU NEED\n",
    "# MAKE SURE TO DISPLAY INTERMEDIARY RESULS"
   ]
  },
  {
   "cell_type": "markdown",
   "id": "c4920b80",
   "metadata": {},
   "source": [
    "### Visualize the 2 first PCA Components of your embeddings"
   ]
  },
  {
   "cell_type": "code",
   "execution_count": 19,
   "id": "5e600ab9",
   "metadata": {},
   "outputs": [],
   "source": [
    "# YOUR CODE HERE\n",
    "# USE AS MANY CELLS AS YOU NEED\n",
    "# MAKE SURE TO DISPLAY INTERMEDIARY RESULS"
   ]
  },
  {
   "cell_type": "markdown",
   "id": "6b0dae3d",
   "metadata": {},
   "source": [
    "#### Analyze the content of each cluster\n",
    "- Add the kmeans cluster label to your news dataframe\n",
    "- Print the content of each cluster and analyze it"
   ]
  },
  {
   "cell_type": "code",
   "execution_count": 20,
   "id": "3e6719b8",
   "metadata": {},
   "outputs": [],
   "source": [
    "# YOUR CODE HERE\n",
    "# USE AS MANY CELLS AS YOU NEED\n",
    "# MAKE SURE TO DISPLAY INTERMEDIARY RESULS"
   ]
  },
  {
   "cell_type": "markdown",
   "id": "f7c8297d",
   "metadata": {},
   "source": [
    "## Question section\n",
    "Take time to reflect on what you've implemented and observed. Answer the following questions in a separate markdown cell or notebook file:"
   ]
  },
  {
   "cell_type": "markdown",
   "id": "02f469b0",
   "metadata": {},
   "source": [
    "### Technical Understanding"
   ]
  },
  {
   "cell_type": "markdown",
   "id": "efdb028a",
   "metadata": {},
   "source": [
    "#### How does the `SentenceTransformer` model convert text into embeddings? What kind of information do you think is captured in these embeddings?"
   ]
  },
  {
   "cell_type": "markdown",
   "id": "0d354724",
   "metadata": {},
   "source": [
    "YOUR WRITTEN RESPONSE HERE\n",
    "\n",
    "SentenceTransformer uses transformer-based models (like BERT or its variants) to convert input text into fixed-size dense vector representations. These embeddings capture semantic meaning — not just word presence, but also context, syntax, and relationships. For example, the sentences “Apple stock is rising” and “Shares of Apple are going up” would have similar embeddings because they convey the same meaning."
   ]
  },
  {
   "cell_type": "markdown",
   "id": "3db117bb",
   "metadata": {},
   "source": [
    "#### Why do we use the combination of TITLE and SUMMARY instead of just one or the other?\n"
   ]
  },
  {
   "cell_type": "markdown",
   "id": "7a8d7c18",
   "metadata": {},
   "source": [
    "YOUR WRITTEN RESONSE HERE\n",
    "\n",
    "Combining both fields provides a richer representation of the news item. Titles are usually concise and attention-grabbing, while summaries offer more detail. Together, they create a more informative embedding, improving clustering and analysis accuracy."
   ]
  },
  {
   "cell_type": "markdown",
   "id": "06502464",
   "metadata": {},
   "source": [
    "#### Explain what the silhouette score represents and how it helped you determine the number of clusters.\n"
   ]
  },
  {
   "cell_type": "markdown",
   "id": "aab87ec5",
   "metadata": {},
   "source": [
    "YOUR WRITTEN RESPONSE HERE\n",
    "\n",
    "The silhouette score measures how similar a data point is to its own cluster compared to other clusters. It ranges from -1 (bad clustering) to 1 (good clustering). By computing this score across different k values, we can select the value of k that maximizes this score — indicating that data points are well matched to their own cluster and clearly separated from others."
   ]
  },
  {
   "cell_type": "markdown",
   "id": "e47ff9ae",
   "metadata": {},
   "source": [
    "### Data Analysis and Interpretation"
   ]
  },
  {
   "cell_type": "markdown",
   "id": "fe370e5a",
   "metadata": {},
   "source": [
    "#### After assigning cluster labels, did you notice any thematic consistency within clusters? For each cluster, is there a main theme? Is there a tone or a function behind the news? Is there a specific content source type?\n"
   ]
  },
  {
   "cell_type": "markdown",
   "id": "1aabc96f",
   "metadata": {},
   "source": [
    "YOUR WRITTEN RESPONSE HERE\n",
    "\n",
    "Cluster 0 \t\n",
    "- Main Theme: Traditional financial updates, dividends, valuation\n",
    "- Tone / Function: Neutral, technical, investor-oriented\n",
    "- Content Source Type: Bloomberg/Zacks-like institutional coverage\n",
    "\n",
    "\n",
    "Cluster 1\n",
    "- Main Theme: Investment advice, AI/growth picks, strategy\n",
    "- Tone / Function: Prescriptive, opportunity-seeking\n",
    "- Content Source Type: Blogs, analyst columns, financial YouTube\n",
    "\n",
    "Cluster 2\n",
    "- Main Theme: Market-moving events, macro risk, legal/political\n",
    "- Tone / Function: News-driven, broader & narrative\n",
    "- Content Source Type: Newswires, macro reporting, investigative"
   ]
  },
  {
   "cell_type": "markdown",
   "id": "02f5a79b",
   "metadata": {},
   "source": [
    "#### Were there clusters that seemed too broad or too specific? What might cause this in your data?\n"
   ]
  },
  {
   "cell_type": "markdown",
   "id": "1a0e4c94",
   "metadata": {},
   "source": [
    "YOUR WRITTEN RESPONSE HERE\n",
    "\n",
    "Cluster 0 – Relatively Well-Defined and Focused\n",
    "\n",
    "Why? Most items are traditional financial disclosures — earnings reports, dividends, valuations, analyst revisions. The cluster is primarily descriptive and numeric.\n",
    "Result: Probably the most specific and cleanest cluster. It serves a clear function: \"just the facts\" about corporate fundamentals.\n",
    "\n",
    "Cluster 1 – Possibly Too Broad\n",
    "\n",
    "Why? It groups both general investment advice (e.g., retirement strategies, “buy now” lists) and specific stock analyses (e.g., AMAT, ANSS). While these all relate to stock picking and personal finance, the range of topics spans dividend investing, AI growth investing, and value strategies.\n",
    "Result: It’s topically coherent around \"what to buy and why\", but the diversity of tone and stock types (tech, energy, value) risks making this cluster slightly too broad.\n",
    "\n",
    "Cluster 2 – Broad in Topic, Specific in Type\n",
    "\n",
    "Why? While the news stories range from tariffs and legal settlements to AI industry battles and FDA policy, they all share a macro or event-driven tone. This is more of a “market-moving news” cluster.\n",
    "Result: It's a well-scoped thematic cluster (macro/news), but broad in topic area because it aggregates different sectors and event types (legal, regulatory, geopolitical)."
   ]
  },
  {
   "cell_type": "markdown",
   "id": "cf856488",
   "metadata": {},
   "source": [
    "#### What role does PCA play in the visualization step? Why do we reduce to two dimensions, and what is lost in doing so?\n"
   ]
  },
  {
   "cell_type": "markdown",
   "id": "0253e5c0",
   "metadata": {},
   "source": [
    "YOUR WRITTEN RESPONSE HERE\n",
    "\n",
    "PCA (Principal Component Analysis) reduces the high-dimensional embedding vectors into 2D for visualization. This helps us observe general clustering trends. However, reducing to two dimensions loses a lot of the original structure and subtle distinctions, potentially flattening separable clusters into overlapping visual regions."
   ]
  },
  {
   "cell_type": "markdown",
   "id": "2c42f507",
   "metadata": {},
   "source": [
    "### Critical Thinking"
   ]
  },
  {
   "cell_type": "markdown",
   "id": "b5045a46",
   "metadata": {},
   "source": [
    "#### What are some limitations of this analysis approach in a real-world financial setting?"
   ]
  },
  {
   "cell_type": "markdown",
   "id": "824d9258",
   "metadata": {},
   "source": [
    "YOUR WRITTEN RESPONSE HERE\n",
    "\n",
    "News coverage is uneven: Not all stocks have news at all times.\n",
    "Embeddings may not capture financial nuance or factual correctness.\n",
    "No temporal modeling — the pipeline ignores when the news was released and how recent it is.\n",
    "No sentiment or price impact assessment is done, which are critical in finance.\n",
    "Embedding models are not fine-tuned on financial data, which may lead to shallow understanding of domain-specific terms."
   ]
  },
  {
   "cell_type": "markdown",
   "id": "c5398ba7",
   "metadata": {},
   "source": [
    "#### If you had access to more detailed news metadata (e.g., sentiment, category, author), how might you integrate that into your clustering pipeline?\n"
   ]
  },
  {
   "cell_type": "markdown",
   "id": "796eb1a1",
   "metadata": {},
   "source": [
    "YOUR WRITTEN RESPONSE HERE\n",
    "\n",
    "You could:\n",
    "- Add sentiment as an extra feature vector (or embed it directly).\n",
    "- Filter or cluster separately by categories (e.g., legal, earnings).\n",
    "- Group by author or source credibility to assess bias or quality.\n",
    "- Use metadata to weight or filter certain types of news in training."
   ]
  },
  {
   "cell_type": "markdown",
   "id": "b703fac4",
   "metadata": {},
   "source": [
    "#### Suppose you're tasked with building a news recommendation engine using this embedding and clustering method. What would be your next steps?\n"
   ]
  },
  {
   "cell_type": "markdown",
   "id": "8a307b0d",
   "metadata": {},
   "source": [
    "YOUR WRITTEN RESPONSE HERE\n",
    "\n",
    "- Assign users or stocks their own embedding vector based on interaction or price response history.\n",
    "- Use cosine similarity between user vector and news embeddings to recommend top-k items.\n",
    "- Incorporate time decay (recent news is weighted more).\n",
    "- Continuously update clustering to adapt to new patterns.\n",
    "- Add user feedback to fine-tune relevance."
   ]
  }
 ],
 "metadata": {
  "kernelspec": {
   "display_name": "Python 3",
   "language": "python",
   "name": "python3"
  },
  "language_info": {
   "codemirror_mode": {
    "name": "ipython",
    "version": 3
   },
   "file_extension": ".py",
   "mimetype": "text/x-python",
   "name": "python",
   "nbconvert_exporter": "python",
   "pygments_lexer": "ipython3",
   "version": "3.9.6"
  }
 },
 "nbformat": 4,
 "nbformat_minor": 5
}
