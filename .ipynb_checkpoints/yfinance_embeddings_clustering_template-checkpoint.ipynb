{
  "cells": [
    {
      "cell_type": "markdown",
      "metadata": {
        "id": "view-in-github",
        "colab_type": "text"
      },
      "source": [
        "<a href=\"https://colab.research.google.com/github/rzagni/Fintech/blob/main/yfinance_embeddings_clustering_template.ipynb\" target=\"_parent\"><img src=\"https://colab.research.google.com/assets/colab-badge.svg\" alt=\"Open In Colab\"/></a>"
      ]
    },
    {
      "cell_type": "markdown",
      "id": "278363b3",
      "metadata": {
        "id": "278363b3"
      },
      "source": [
        "# Introduction to text embeddings on S&P 500 news"
      ]
    },
    {
      "cell_type": "markdown",
      "id": "83d6ffde",
      "metadata": {
        "id": "83d6ffde"
      },
      "source": [
        "objectives# 📌 Objectives\n",
        "\n",
        "By the end of this notebook, students will be able to:\n",
        "\n",
        "1. **Retrieve Financial News:**\n",
        "   - Use the `yfinance` library to gather news headlines for all companies in the S&P 500 index.\n",
        "\n",
        "2. **Clean and Structure Financial Text Data:**\n",
        "   - Extract and organize relevant metadata (e.g., ticker, title, summary, publication date, URL) into a structured pandas DataFrame.\n",
        "\n",
        "3. **Generate Text Embeddings:**\n",
        "   - Apply a pre-trained sentence transformer model (`all-MiniLM-L6-v2`) to convert news headlines and summaries into numerical embeddings.\n",
        "\n",
        "4. **Apply Clustering Techniques:**\n",
        "   - Use K-Means clustering to identify groups of similar news articles based on semantic content.\n",
        "\n",
        "5. **Determine Optimal Number of Clusters:**\n",
        "   - Evaluate clustering quality using silhouette scores to find the best number of clusters.\n",
        "\n",
        "6. **Visualize High-Dimensional Embeddings:**\n",
        "   - Reduce the embedding space using PCA and visualize clusters in two dimensions.\n",
        "\n",
        "7. **Interpret Cluster Themes:**\n",
        "   - Analyze representative news\n"
      ]
    },
    {
      "cell_type": "markdown",
      "id": "fe54247f",
      "metadata": {
        "id": "fe54247f"
      },
      "source": [
        "## Install and Import important librairies"
      ]
    },
    {
      "cell_type": "code",
      "execution_count": 1,
      "id": "49c4fff2",
      "metadata": {
        "id": "49c4fff2",
        "outputId": "3624d6ac-046f-4d9a-a5f0-f06d585d7fe3",
        "colab": {
          "base_uri": "https://localhost:8080/"
        }
      },
      "outputs": [
        {
          "output_type": "stream",
          "name": "stdout",
          "text": [
            "Requirement already satisfied: pandas in /usr/local/lib/python3.11/dist-packages (2.2.2)\n",
            "Requirement already satisfied: numpy>=1.23.2 in /usr/local/lib/python3.11/dist-packages (from pandas) (2.0.2)\n",
            "Requirement already satisfied: python-dateutil>=2.8.2 in /usr/local/lib/python3.11/dist-packages (from pandas) (2.9.0.post0)\n",
            "Requirement already satisfied: pytz>=2020.1 in /usr/local/lib/python3.11/dist-packages (from pandas) (2025.2)\n",
            "Requirement already satisfied: tzdata>=2022.7 in /usr/local/lib/python3.11/dist-packages (from pandas) (2025.2)\n",
            "Requirement already satisfied: six>=1.5 in /usr/local/lib/python3.11/dist-packages (from python-dateutil>=2.8.2->pandas) (1.17.0)\n",
            "Requirement already satisfied: yfinance in /usr/local/lib/python3.11/dist-packages (0.2.65)\n",
            "Requirement already satisfied: pandas>=1.3.0 in /usr/local/lib/python3.11/dist-packages (from yfinance) (2.2.2)\n",
            "Requirement already satisfied: numpy>=1.16.5 in /usr/local/lib/python3.11/dist-packages (from yfinance) (2.0.2)\n",
            "Requirement already satisfied: requests>=2.31 in /usr/local/lib/python3.11/dist-packages (from yfinance) (2.32.3)\n",
            "Requirement already satisfied: multitasking>=0.0.7 in /usr/local/lib/python3.11/dist-packages (from yfinance) (0.0.11)\n",
            "Requirement already satisfied: platformdirs>=2.0.0 in /usr/local/lib/python3.11/dist-packages (from yfinance) (4.3.8)\n",
            "Requirement already satisfied: pytz>=2022.5 in /usr/local/lib/python3.11/dist-packages (from yfinance) (2025.2)\n",
            "Requirement already satisfied: frozendict>=2.3.4 in /usr/local/lib/python3.11/dist-packages (from yfinance) (2.4.6)\n",
            "Requirement already satisfied: peewee>=3.16.2 in /usr/local/lib/python3.11/dist-packages (from yfinance) (3.18.2)\n",
            "Requirement already satisfied: beautifulsoup4>=4.11.1 in /usr/local/lib/python3.11/dist-packages (from yfinance) (4.13.4)\n",
            "Requirement already satisfied: curl_cffi>=0.7 in /usr/local/lib/python3.11/dist-packages (from yfinance) (0.12.0)\n",
            "Requirement already satisfied: protobuf>=3.19.0 in /usr/local/lib/python3.11/dist-packages (from yfinance) (5.29.5)\n",
            "Requirement already satisfied: websockets>=13.0 in /usr/local/lib/python3.11/dist-packages (from yfinance) (15.0.1)\n",
            "Requirement already satisfied: soupsieve>1.2 in /usr/local/lib/python3.11/dist-packages (from beautifulsoup4>=4.11.1->yfinance) (2.7)\n",
            "Requirement already satisfied: typing-extensions>=4.0.0 in /usr/local/lib/python3.11/dist-packages (from beautifulsoup4>=4.11.1->yfinance) (4.14.1)\n",
            "Requirement already satisfied: cffi>=1.12.0 in /usr/local/lib/python3.11/dist-packages (from curl_cffi>=0.7->yfinance) (1.17.1)\n",
            "Requirement already satisfied: certifi>=2024.2.2 in /usr/local/lib/python3.11/dist-packages (from curl_cffi>=0.7->yfinance) (2025.7.14)\n",
            "Requirement already satisfied: python-dateutil>=2.8.2 in /usr/local/lib/python3.11/dist-packages (from pandas>=1.3.0->yfinance) (2.9.0.post0)\n",
            "Requirement already satisfied: tzdata>=2022.7 in /usr/local/lib/python3.11/dist-packages (from pandas>=1.3.0->yfinance) (2025.2)\n",
            "Requirement already satisfied: charset-normalizer<4,>=2 in /usr/local/lib/python3.11/dist-packages (from requests>=2.31->yfinance) (3.4.2)\n",
            "Requirement already satisfied: idna<4,>=2.5 in /usr/local/lib/python3.11/dist-packages (from requests>=2.31->yfinance) (3.10)\n",
            "Requirement already satisfied: urllib3<3,>=1.21.1 in /usr/local/lib/python3.11/dist-packages (from requests>=2.31->yfinance) (2.5.0)\n",
            "Requirement already satisfied: pycparser in /usr/local/lib/python3.11/dist-packages (from cffi>=1.12.0->curl_cffi>=0.7->yfinance) (2.22)\n",
            "Requirement already satisfied: six>=1.5 in /usr/local/lib/python3.11/dist-packages (from python-dateutil>=2.8.2->pandas>=1.3.0->yfinance) (1.17.0)\n",
            "Requirement already satisfied: lxml in /usr/local/lib/python3.11/dist-packages (5.4.0)\n",
            "Requirement already satisfied: sentence-transformers in /usr/local/lib/python3.11/dist-packages (4.1.0)\n",
            "Collecting sentence-transformers\n",
            "  Downloading sentence_transformers-5.0.0-py3-none-any.whl.metadata (16 kB)\n",
            "Requirement already satisfied: transformers<5.0.0,>=4.41.0 in /usr/local/lib/python3.11/dist-packages (from sentence-transformers) (4.53.2)\n",
            "Requirement already satisfied: tqdm in /usr/local/lib/python3.11/dist-packages (from sentence-transformers) (4.67.1)\n",
            "Requirement already satisfied: torch>=1.11.0 in /usr/local/lib/python3.11/dist-packages (from sentence-transformers) (2.6.0+cu124)\n",
            "Requirement already satisfied: scikit-learn in /usr/local/lib/python3.11/dist-packages (from sentence-transformers) (1.6.1)\n",
            "Requirement already satisfied: scipy in /usr/local/lib/python3.11/dist-packages (from sentence-transformers) (1.16.0)\n",
            "Requirement already satisfied: huggingface-hub>=0.20.0 in /usr/local/lib/python3.11/dist-packages (from sentence-transformers) (0.33.4)\n",
            "Requirement already satisfied: Pillow in /usr/local/lib/python3.11/dist-packages (from sentence-transformers) (11.3.0)\n",
            "Requirement already satisfied: typing_extensions>=4.5.0 in /usr/local/lib/python3.11/dist-packages (from sentence-transformers) (4.14.1)\n",
            "Requirement already satisfied: filelock in /usr/local/lib/python3.11/dist-packages (from huggingface-hub>=0.20.0->sentence-transformers) (3.18.0)\n",
            "Requirement already satisfied: fsspec>=2023.5.0 in /usr/local/lib/python3.11/dist-packages (from huggingface-hub>=0.20.0->sentence-transformers) (2025.7.0)\n",
            "Requirement already satisfied: packaging>=20.9 in /usr/local/lib/python3.11/dist-packages (from huggingface-hub>=0.20.0->sentence-transformers) (25.0)\n",
            "Requirement already satisfied: pyyaml>=5.1 in /usr/local/lib/python3.11/dist-packages (from huggingface-hub>=0.20.0->sentence-transformers) (6.0.2)\n",
            "Requirement already satisfied: requests in /usr/local/lib/python3.11/dist-packages (from huggingface-hub>=0.20.0->sentence-transformers) (2.32.3)\n",
            "Requirement already satisfied: hf-xet<2.0.0,>=1.1.2 in /usr/local/lib/python3.11/dist-packages (from huggingface-hub>=0.20.0->sentence-transformers) (1.1.5)\n",
            "Requirement already satisfied: networkx in /usr/local/lib/python3.11/dist-packages (from torch>=1.11.0->sentence-transformers) (3.5)\n",
            "Requirement already satisfied: jinja2 in /usr/local/lib/python3.11/dist-packages (from torch>=1.11.0->sentence-transformers) (3.1.6)\n",
            "Collecting nvidia-cuda-nvrtc-cu12==12.4.127 (from torch>=1.11.0->sentence-transformers)\n",
            "  Downloading nvidia_cuda_nvrtc_cu12-12.4.127-py3-none-manylinux2014_x86_64.whl.metadata (1.5 kB)\n",
            "Collecting nvidia-cuda-runtime-cu12==12.4.127 (from torch>=1.11.0->sentence-transformers)\n",
            "  Downloading nvidia_cuda_runtime_cu12-12.4.127-py3-none-manylinux2014_x86_64.whl.metadata (1.5 kB)\n",
            "Collecting nvidia-cuda-cupti-cu12==12.4.127 (from torch>=1.11.0->sentence-transformers)\n",
            "  Downloading nvidia_cuda_cupti_cu12-12.4.127-py3-none-manylinux2014_x86_64.whl.metadata (1.6 kB)\n",
            "Collecting nvidia-cudnn-cu12==9.1.0.70 (from torch>=1.11.0->sentence-transformers)\n",
            "  Downloading nvidia_cudnn_cu12-9.1.0.70-py3-none-manylinux2014_x86_64.whl.metadata (1.6 kB)\n",
            "Collecting nvidia-cublas-cu12==12.4.5.8 (from torch>=1.11.0->sentence-transformers)\n",
            "  Downloading nvidia_cublas_cu12-12.4.5.8-py3-none-manylinux2014_x86_64.whl.metadata (1.5 kB)\n",
            "Collecting nvidia-cufft-cu12==11.2.1.3 (from torch>=1.11.0->sentence-transformers)\n",
            "  Downloading nvidia_cufft_cu12-11.2.1.3-py3-none-manylinux2014_x86_64.whl.metadata (1.5 kB)\n",
            "Collecting nvidia-curand-cu12==10.3.5.147 (from torch>=1.11.0->sentence-transformers)\n",
            "  Downloading nvidia_curand_cu12-10.3.5.147-py3-none-manylinux2014_x86_64.whl.metadata (1.5 kB)\n",
            "Collecting nvidia-cusolver-cu12==11.6.1.9 (from torch>=1.11.0->sentence-transformers)\n",
            "  Downloading nvidia_cusolver_cu12-11.6.1.9-py3-none-manylinux2014_x86_64.whl.metadata (1.6 kB)\n",
            "Collecting nvidia-cusparse-cu12==12.3.1.170 (from torch>=1.11.0->sentence-transformers)\n",
            "  Downloading nvidia_cusparse_cu12-12.3.1.170-py3-none-manylinux2014_x86_64.whl.metadata (1.6 kB)\n",
            "Requirement already satisfied: nvidia-cusparselt-cu12==0.6.2 in /usr/local/lib/python3.11/dist-packages (from torch>=1.11.0->sentence-transformers) (0.6.2)\n",
            "Requirement already satisfied: nvidia-nccl-cu12==2.21.5 in /usr/local/lib/python3.11/dist-packages (from torch>=1.11.0->sentence-transformers) (2.21.5)\n",
            "Requirement already satisfied: nvidia-nvtx-cu12==12.4.127 in /usr/local/lib/python3.11/dist-packages (from torch>=1.11.0->sentence-transformers) (12.4.127)\n",
            "Collecting nvidia-nvjitlink-cu12==12.4.127 (from torch>=1.11.0->sentence-transformers)\n",
            "  Downloading nvidia_nvjitlink_cu12-12.4.127-py3-none-manylinux2014_x86_64.whl.metadata (1.5 kB)\n",
            "Requirement already satisfied: triton==3.2.0 in /usr/local/lib/python3.11/dist-packages (from torch>=1.11.0->sentence-transformers) (3.2.0)\n",
            "Requirement already satisfied: sympy==1.13.1 in /usr/local/lib/python3.11/dist-packages (from torch>=1.11.0->sentence-transformers) (1.13.1)\n",
            "Requirement already satisfied: mpmath<1.4,>=1.1.0 in /usr/local/lib/python3.11/dist-packages (from sympy==1.13.1->torch>=1.11.0->sentence-transformers) (1.3.0)\n",
            "Requirement already satisfied: numpy>=1.17 in /usr/local/lib/python3.11/dist-packages (from transformers<5.0.0,>=4.41.0->sentence-transformers) (2.0.2)\n",
            "Requirement already satisfied: regex!=2019.12.17 in /usr/local/lib/python3.11/dist-packages (from transformers<5.0.0,>=4.41.0->sentence-transformers) (2024.11.6)\n",
            "Requirement already satisfied: tokenizers<0.22,>=0.21 in /usr/local/lib/python3.11/dist-packages (from transformers<5.0.0,>=4.41.0->sentence-transformers) (0.21.2)\n",
            "Requirement already satisfied: safetensors>=0.4.3 in /usr/local/lib/python3.11/dist-packages (from transformers<5.0.0,>=4.41.0->sentence-transformers) (0.5.3)\n",
            "Requirement already satisfied: joblib>=1.2.0 in /usr/local/lib/python3.11/dist-packages (from scikit-learn->sentence-transformers) (1.5.1)\n",
            "Requirement already satisfied: threadpoolctl>=3.1.0 in /usr/local/lib/python3.11/dist-packages (from scikit-learn->sentence-transformers) (3.6.0)\n",
            "Requirement already satisfied: MarkupSafe>=2.0 in /usr/local/lib/python3.11/dist-packages (from jinja2->torch>=1.11.0->sentence-transformers) (3.0.2)\n",
            "Requirement already satisfied: charset-normalizer<4,>=2 in /usr/local/lib/python3.11/dist-packages (from requests->huggingface-hub>=0.20.0->sentence-transformers) (3.4.2)\n",
            "Requirement already satisfied: idna<4,>=2.5 in /usr/local/lib/python3.11/dist-packages (from requests->huggingface-hub>=0.20.0->sentence-transformers) (3.10)\n",
            "Requirement already satisfied: urllib3<3,>=1.21.1 in /usr/local/lib/python3.11/dist-packages (from requests->huggingface-hub>=0.20.0->sentence-transformers) (2.5.0)\n",
            "Requirement already satisfied: certifi>=2017.4.17 in /usr/local/lib/python3.11/dist-packages (from requests->huggingface-hub>=0.20.0->sentence-transformers) (2025.7.14)\n",
            "Downloading sentence_transformers-5.0.0-py3-none-any.whl (470 kB)\n",
            "\u001b[2K   \u001b[90m━━━━━━━━━━━━━━━━━━━━━━━━━━━━━━━━━━━━━━━━\u001b[0m \u001b[32m470.2/470.2 kB\u001b[0m \u001b[31m13.2 MB/s\u001b[0m eta \u001b[36m0:00:00\u001b[0m\n",
            "\u001b[?25hDownloading nvidia_cublas_cu12-12.4.5.8-py3-none-manylinux2014_x86_64.whl (363.4 MB)\n",
            "\u001b[2K   \u001b[90m━━━━━━━━━━━━━━━━━━━━━━━━━━━━━━━━━━━━━━━━\u001b[0m \u001b[32m363.4/363.4 MB\u001b[0m \u001b[31m3.6 MB/s\u001b[0m eta \u001b[36m0:00:00\u001b[0m\n",
            "\u001b[?25hDownloading nvidia_cuda_cupti_cu12-12.4.127-py3-none-manylinux2014_x86_64.whl (13.8 MB)\n",
            "\u001b[2K   \u001b[90m━━━━━━━━━━━━━━━━━━━━━━━━━━━━━━━━━━━━━━━━\u001b[0m \u001b[32m13.8/13.8 MB\u001b[0m \u001b[31m126.8 MB/s\u001b[0m eta \u001b[36m0:00:00\u001b[0m\n",
            "\u001b[?25hDownloading nvidia_cuda_nvrtc_cu12-12.4.127-py3-none-manylinux2014_x86_64.whl (24.6 MB)\n",
            "\u001b[2K   \u001b[90m━━━━━━━━━━━━━━━━━━━━━━━━━━━━━━━━━━━━━━━━\u001b[0m \u001b[32m24.6/24.6 MB\u001b[0m \u001b[31m101.9 MB/s\u001b[0m eta \u001b[36m0:00:00\u001b[0m\n",
            "\u001b[?25hDownloading nvidia_cuda_runtime_cu12-12.4.127-py3-none-manylinux2014_x86_64.whl (883 kB)\n",
            "\u001b[2K   \u001b[90m━━━━━━━━━━━━━━━━━━━━━━━━━━━━━━━━━━━━━━━━\u001b[0m \u001b[32m883.7/883.7 kB\u001b[0m \u001b[31m62.8 MB/s\u001b[0m eta \u001b[36m0:00:00\u001b[0m\n",
            "\u001b[?25hDownloading nvidia_cudnn_cu12-9.1.0.70-py3-none-manylinux2014_x86_64.whl (664.8 MB)\n",
            "\u001b[2K   \u001b[90m━━━━━━━━━━━━━━━━━━━━━━━━━━━━━━━━━━━━━━━━\u001b[0m \u001b[32m664.8/664.8 MB\u001b[0m \u001b[31m2.9 MB/s\u001b[0m eta \u001b[36m0:00:00\u001b[0m\n",
            "\u001b[?25hDownloading nvidia_cufft_cu12-11.2.1.3-py3-none-manylinux2014_x86_64.whl (211.5 MB)\n",
            "\u001b[2K   \u001b[90m━━━━━━━━━━━━━━━━━━━━━━━━━━━━━━━━━━━━━━━━\u001b[0m \u001b[32m211.5/211.5 MB\u001b[0m \u001b[31m6.1 MB/s\u001b[0m eta \u001b[36m0:00:00\u001b[0m\n",
            "\u001b[?25hDownloading nvidia_curand_cu12-10.3.5.147-py3-none-manylinux2014_x86_64.whl (56.3 MB)\n",
            "\u001b[2K   \u001b[90m━━━━━━━━━━━━━━━━━━━━━━━━━━━━━━━━━━━━━━━━\u001b[0m \u001b[32m56.3/56.3 MB\u001b[0m \u001b[31m12.0 MB/s\u001b[0m eta \u001b[36m0:00:00\u001b[0m\n",
            "\u001b[?25hDownloading nvidia_cusolver_cu12-11.6.1.9-py3-none-manylinux2014_x86_64.whl (127.9 MB)\n",
            "\u001b[2K   \u001b[90m━━━━━━━━━━━━━━━━━━━━━━━━━━━━━━━━━━━━━━━━\u001b[0m \u001b[32m127.9/127.9 MB\u001b[0m \u001b[31m10.5 MB/s\u001b[0m eta \u001b[36m0:00:00\u001b[0m\n",
            "\u001b[?25hDownloading nvidia_cusparse_cu12-12.3.1.170-py3-none-manylinux2014_x86_64.whl (207.5 MB)\n",
            "\u001b[2K   \u001b[90m━━━━━━━━━━━━━━━━━━━━━━━━━━━━━━━━━━━━━━━━\u001b[0m \u001b[32m207.5/207.5 MB\u001b[0m \u001b[31m5.4 MB/s\u001b[0m eta \u001b[36m0:00:00\u001b[0m\n",
            "\u001b[?25hDownloading nvidia_nvjitlink_cu12-12.4.127-py3-none-manylinux2014_x86_64.whl (21.1 MB)\n",
            "\u001b[2K   \u001b[90m━━━━━━━━━━━━━━━━━━━━━━━━━━━━━━━━━━━━━━━━\u001b[0m \u001b[32m21.1/21.1 MB\u001b[0m \u001b[31m50.4 MB/s\u001b[0m eta \u001b[36m0:00:00\u001b[0m\n",
            "\u001b[?25hInstalling collected packages: nvidia-nvjitlink-cu12, nvidia-curand-cu12, nvidia-cufft-cu12, nvidia-cuda-runtime-cu12, nvidia-cuda-nvrtc-cu12, nvidia-cuda-cupti-cu12, nvidia-cublas-cu12, nvidia-cusparse-cu12, nvidia-cudnn-cu12, nvidia-cusolver-cu12, sentence-transformers\n",
            "  Attempting uninstall: nvidia-nvjitlink-cu12\n",
            "    Found existing installation: nvidia-nvjitlink-cu12 12.5.82\n",
            "    Uninstalling nvidia-nvjitlink-cu12-12.5.82:\n",
            "      Successfully uninstalled nvidia-nvjitlink-cu12-12.5.82\n",
            "  Attempting uninstall: nvidia-curand-cu12\n",
            "    Found existing installation: nvidia-curand-cu12 10.3.6.82\n",
            "    Uninstalling nvidia-curand-cu12-10.3.6.82:\n",
            "      Successfully uninstalled nvidia-curand-cu12-10.3.6.82\n",
            "  Attempting uninstall: nvidia-cufft-cu12\n",
            "    Found existing installation: nvidia-cufft-cu12 11.2.3.61\n",
            "    Uninstalling nvidia-cufft-cu12-11.2.3.61:\n",
            "      Successfully uninstalled nvidia-cufft-cu12-11.2.3.61\n",
            "  Attempting uninstall: nvidia-cuda-runtime-cu12\n",
            "    Found existing installation: nvidia-cuda-runtime-cu12 12.5.82\n",
            "    Uninstalling nvidia-cuda-runtime-cu12-12.5.82:\n",
            "      Successfully uninstalled nvidia-cuda-runtime-cu12-12.5.82\n",
            "  Attempting uninstall: nvidia-cuda-nvrtc-cu12\n",
            "    Found existing installation: nvidia-cuda-nvrtc-cu12 12.5.82\n",
            "    Uninstalling nvidia-cuda-nvrtc-cu12-12.5.82:\n",
            "      Successfully uninstalled nvidia-cuda-nvrtc-cu12-12.5.82\n",
            "  Attempting uninstall: nvidia-cuda-cupti-cu12\n",
            "    Found existing installation: nvidia-cuda-cupti-cu12 12.5.82\n",
            "    Uninstalling nvidia-cuda-cupti-cu12-12.5.82:\n",
            "      Successfully uninstalled nvidia-cuda-cupti-cu12-12.5.82\n",
            "  Attempting uninstall: nvidia-cublas-cu12\n",
            "    Found existing installation: nvidia-cublas-cu12 12.5.3.2\n",
            "    Uninstalling nvidia-cublas-cu12-12.5.3.2:\n",
            "      Successfully uninstalled nvidia-cublas-cu12-12.5.3.2\n",
            "  Attempting uninstall: nvidia-cusparse-cu12\n",
            "    Found existing installation: nvidia-cusparse-cu12 12.5.1.3\n",
            "    Uninstalling nvidia-cusparse-cu12-12.5.1.3:\n",
            "      Successfully uninstalled nvidia-cusparse-cu12-12.5.1.3\n",
            "  Attempting uninstall: nvidia-cudnn-cu12\n",
            "    Found existing installation: nvidia-cudnn-cu12 9.3.0.75\n",
            "    Uninstalling nvidia-cudnn-cu12-9.3.0.75:\n",
            "      Successfully uninstalled nvidia-cudnn-cu12-9.3.0.75\n",
            "  Attempting uninstall: nvidia-cusolver-cu12\n",
            "    Found existing installation: nvidia-cusolver-cu12 11.6.3.83\n",
            "    Uninstalling nvidia-cusolver-cu12-11.6.3.83:\n",
            "      Successfully uninstalled nvidia-cusolver-cu12-11.6.3.83\n",
            "  Attempting uninstall: sentence-transformers\n",
            "    Found existing installation: sentence-transformers 4.1.0\n",
            "    Uninstalling sentence-transformers-4.1.0:\n",
            "      Successfully uninstalled sentence-transformers-4.1.0\n",
            "Successfully installed nvidia-cublas-cu12-12.4.5.8 nvidia-cuda-cupti-cu12-12.4.127 nvidia-cuda-nvrtc-cu12-12.4.127 nvidia-cuda-runtime-cu12-12.4.127 nvidia-cudnn-cu12-9.1.0.70 nvidia-cufft-cu12-11.2.1.3 nvidia-curand-cu12-10.3.5.147 nvidia-cusolver-cu12-11.6.1.9 nvidia-cusparse-cu12-12.3.1.170 nvidia-nvjitlink-cu12-12.4.127 sentence-transformers-5.0.0\n"
          ]
        }
      ],
      "source": [
        "%pip install pandas\n",
        "%pip install yfinance\n",
        "%pip install lxml\n",
        "%pip install -U sentence-transformers"
      ]
    },
    {
      "cell_type": "code",
      "execution_count": 3,
      "id": "7b8b20aa",
      "metadata": {
        "id": "7b8b20aa"
      },
      "outputs": [],
      "source": [
        "from sentence_transformers import SentenceTransformer\n",
        "import pandas as pd\n",
        "from sklearn.cluster import KMeans\n",
        "from sklearn.decomposition import PCA\n",
        "from sklearn.metrics import silhouette_score\n",
        "import matplotlib.pyplot as plt\n",
        "import yfinance as yf\n",
        "import time\n",
        "from IPython.display import clear_output\n",
        "from datetime import datetime"
      ]
    },
    {
      "cell_type": "markdown",
      "id": "3f54a285",
      "metadata": {
        "id": "3f54a285"
      },
      "source": [
        "## Get the list of stocks in the S&P 500"
      ]
    },
    {
      "cell_type": "code",
      "execution_count": 20,
      "id": "2d3c3175",
      "metadata": {
        "id": "2d3c3175",
        "outputId": "acddaa8a-ac50-4964-848a-f4ea9d78e8fd",
        "colab": {
          "base_uri": "https://localhost:8080/"
        }
      },
      "outputs": [
        {
          "output_type": "stream",
          "name": "stdout",
          "text": [
            "<class 'pandas.core.frame.DataFrame'>\n",
            "RangeIndex: 502 entries, 0 to 501\n",
            "Data columns (total 8 columns):\n",
            " #   Column                 Non-Null Count  Dtype \n",
            "---  ------                 --------------  ----- \n",
            " 0   Symbol                 502 non-null    object\n",
            " 1   Security               502 non-null    object\n",
            " 2   GICS Sector            502 non-null    object\n",
            " 3   GICS Sub-Industry      502 non-null    object\n",
            " 4   Headquarters Location  502 non-null    object\n",
            " 5   Date added             502 non-null    object\n",
            " 6   CIK                    502 non-null    int64 \n",
            " 7   Founded                502 non-null    object\n",
            "dtypes: int64(1), object(7)\n",
            "memory usage: 31.5+ KB\n"
          ]
        }
      ],
      "source": [
        "# Read and print the stock tickers that make up S&P500\n",
        "df_tickers = pd.read_html(\n",
        "    'https://en.wikipedia.org/wiki/List_of_S%26P_500_companies')[0]\n",
        "\n",
        "df_tickers.info()"
      ]
    },
    {
      "cell_type": "code",
      "source": [
        "df_tickers.head()"
      ],
      "metadata": {
        "colab": {
          "base_uri": "https://localhost:8080/",
          "height": 206
        },
        "id": "kaEN_bMTKLTk",
        "outputId": "5fcfee8c-5518-466f-aa6d-99da9f04fd56"
      },
      "id": "kaEN_bMTKLTk",
      "execution_count": 21,
      "outputs": [
        {
          "output_type": "execute_result",
          "data": {
            "text/plain": [
              "  Symbol             Security             GICS Sector  \\\n",
              "0    MMM                   3M             Industrials   \n",
              "1    AOS          A. O. Smith             Industrials   \n",
              "2    ABT  Abbott Laboratories             Health Care   \n",
              "3   ABBV               AbbVie             Health Care   \n",
              "4    ACN            Accenture  Information Technology   \n",
              "\n",
              "                GICS Sub-Industry    Headquarters Location  Date added  \\\n",
              "0        Industrial Conglomerates    Saint Paul, Minnesota  1957-03-04   \n",
              "1               Building Products     Milwaukee, Wisconsin  2017-07-26   \n",
              "2           Health Care Equipment  North Chicago, Illinois  1957-03-04   \n",
              "3                   Biotechnology  North Chicago, Illinois  2012-12-31   \n",
              "4  IT Consulting & Other Services          Dublin, Ireland  2011-07-06   \n",
              "\n",
              "       CIK      Founded  \n",
              "0    66740         1902  \n",
              "1    91142         1916  \n",
              "2     1800         1888  \n",
              "3  1551152  2013 (1888)  \n",
              "4  1467373         1989  "
            ],
            "text/html": [
              "\n",
              "  <div id=\"df-cc1a7472-db71-4c51-b704-1e60bd118acf\" class=\"colab-df-container\">\n",
              "    <div>\n",
              "<style scoped>\n",
              "    .dataframe tbody tr th:only-of-type {\n",
              "        vertical-align: middle;\n",
              "    }\n",
              "\n",
              "    .dataframe tbody tr th {\n",
              "        vertical-align: top;\n",
              "    }\n",
              "\n",
              "    .dataframe thead th {\n",
              "        text-align: right;\n",
              "    }\n",
              "</style>\n",
              "<table border=\"1\" class=\"dataframe\">\n",
              "  <thead>\n",
              "    <tr style=\"text-align: right;\">\n",
              "      <th></th>\n",
              "      <th>Symbol</th>\n",
              "      <th>Security</th>\n",
              "      <th>GICS Sector</th>\n",
              "      <th>GICS Sub-Industry</th>\n",
              "      <th>Headquarters Location</th>\n",
              "      <th>Date added</th>\n",
              "      <th>CIK</th>\n",
              "      <th>Founded</th>\n",
              "    </tr>\n",
              "  </thead>\n",
              "  <tbody>\n",
              "    <tr>\n",
              "      <th>0</th>\n",
              "      <td>MMM</td>\n",
              "      <td>3M</td>\n",
              "      <td>Industrials</td>\n",
              "      <td>Industrial Conglomerates</td>\n",
              "      <td>Saint Paul, Minnesota</td>\n",
              "      <td>1957-03-04</td>\n",
              "      <td>66740</td>\n",
              "      <td>1902</td>\n",
              "    </tr>\n",
              "    <tr>\n",
              "      <th>1</th>\n",
              "      <td>AOS</td>\n",
              "      <td>A. O. Smith</td>\n",
              "      <td>Industrials</td>\n",
              "      <td>Building Products</td>\n",
              "      <td>Milwaukee, Wisconsin</td>\n",
              "      <td>2017-07-26</td>\n",
              "      <td>91142</td>\n",
              "      <td>1916</td>\n",
              "    </tr>\n",
              "    <tr>\n",
              "      <th>2</th>\n",
              "      <td>ABT</td>\n",
              "      <td>Abbott Laboratories</td>\n",
              "      <td>Health Care</td>\n",
              "      <td>Health Care Equipment</td>\n",
              "      <td>North Chicago, Illinois</td>\n",
              "      <td>1957-03-04</td>\n",
              "      <td>1800</td>\n",
              "      <td>1888</td>\n",
              "    </tr>\n",
              "    <tr>\n",
              "      <th>3</th>\n",
              "      <td>ABBV</td>\n",
              "      <td>AbbVie</td>\n",
              "      <td>Health Care</td>\n",
              "      <td>Biotechnology</td>\n",
              "      <td>North Chicago, Illinois</td>\n",
              "      <td>2012-12-31</td>\n",
              "      <td>1551152</td>\n",
              "      <td>2013 (1888)</td>\n",
              "    </tr>\n",
              "    <tr>\n",
              "      <th>4</th>\n",
              "      <td>ACN</td>\n",
              "      <td>Accenture</td>\n",
              "      <td>Information Technology</td>\n",
              "      <td>IT Consulting &amp; Other Services</td>\n",
              "      <td>Dublin, Ireland</td>\n",
              "      <td>2011-07-06</td>\n",
              "      <td>1467373</td>\n",
              "      <td>1989</td>\n",
              "    </tr>\n",
              "  </tbody>\n",
              "</table>\n",
              "</div>\n",
              "    <div class=\"colab-df-buttons\">\n",
              "\n",
              "  <div class=\"colab-df-container\">\n",
              "    <button class=\"colab-df-convert\" onclick=\"convertToInteractive('df-cc1a7472-db71-4c51-b704-1e60bd118acf')\"\n",
              "            title=\"Convert this dataframe to an interactive table.\"\n",
              "            style=\"display:none;\">\n",
              "\n",
              "  <svg xmlns=\"http://www.w3.org/2000/svg\" height=\"24px\" viewBox=\"0 -960 960 960\">\n",
              "    <path d=\"M120-120v-720h720v720H120Zm60-500h600v-160H180v160Zm220 220h160v-160H400v160Zm0 220h160v-160H400v160ZM180-400h160v-160H180v160Zm440 0h160v-160H620v160ZM180-180h160v-160H180v160Zm440 0h160v-160H620v160Z\"/>\n",
              "  </svg>\n",
              "    </button>\n",
              "\n",
              "  <style>\n",
              "    .colab-df-container {\n",
              "      display:flex;\n",
              "      gap: 12px;\n",
              "    }\n",
              "\n",
              "    .colab-df-convert {\n",
              "      background-color: #E8F0FE;\n",
              "      border: none;\n",
              "      border-radius: 50%;\n",
              "      cursor: pointer;\n",
              "      display: none;\n",
              "      fill: #1967D2;\n",
              "      height: 32px;\n",
              "      padding: 0 0 0 0;\n",
              "      width: 32px;\n",
              "    }\n",
              "\n",
              "    .colab-df-convert:hover {\n",
              "      background-color: #E2EBFA;\n",
              "      box-shadow: 0px 1px 2px rgba(60, 64, 67, 0.3), 0px 1px 3px 1px rgba(60, 64, 67, 0.15);\n",
              "      fill: #174EA6;\n",
              "    }\n",
              "\n",
              "    .colab-df-buttons div {\n",
              "      margin-bottom: 4px;\n",
              "    }\n",
              "\n",
              "    [theme=dark] .colab-df-convert {\n",
              "      background-color: #3B4455;\n",
              "      fill: #D2E3FC;\n",
              "    }\n",
              "\n",
              "    [theme=dark] .colab-df-convert:hover {\n",
              "      background-color: #434B5C;\n",
              "      box-shadow: 0px 1px 3px 1px rgba(0, 0, 0, 0.15);\n",
              "      filter: drop-shadow(0px 1px 2px rgba(0, 0, 0, 0.3));\n",
              "      fill: #FFFFFF;\n",
              "    }\n",
              "  </style>\n",
              "\n",
              "    <script>\n",
              "      const buttonEl =\n",
              "        document.querySelector('#df-cc1a7472-db71-4c51-b704-1e60bd118acf button.colab-df-convert');\n",
              "      buttonEl.style.display =\n",
              "        google.colab.kernel.accessAllowed ? 'block' : 'none';\n",
              "\n",
              "      async function convertToInteractive(key) {\n",
              "        const element = document.querySelector('#df-cc1a7472-db71-4c51-b704-1e60bd118acf');\n",
              "        const dataTable =\n",
              "          await google.colab.kernel.invokeFunction('convertToInteractive',\n",
              "                                                    [key], {});\n",
              "        if (!dataTable) return;\n",
              "\n",
              "        const docLinkHtml = 'Like what you see? Visit the ' +\n",
              "          '<a target=\"_blank\" href=https://colab.research.google.com/notebooks/data_table.ipynb>data table notebook</a>'\n",
              "          + ' to learn more about interactive tables.';\n",
              "        element.innerHTML = '';\n",
              "        dataTable['output_type'] = 'display_data';\n",
              "        await google.colab.output.renderOutput(dataTable, element);\n",
              "        const docLink = document.createElement('div');\n",
              "        docLink.innerHTML = docLinkHtml;\n",
              "        element.appendChild(docLink);\n",
              "      }\n",
              "    </script>\n",
              "  </div>\n",
              "\n",
              "\n",
              "    <div id=\"df-364f6e1a-396d-4a6d-9731-587be4e28642\">\n",
              "      <button class=\"colab-df-quickchart\" onclick=\"quickchart('df-364f6e1a-396d-4a6d-9731-587be4e28642')\"\n",
              "                title=\"Suggest charts\"\n",
              "                style=\"display:none;\">\n",
              "\n",
              "<svg xmlns=\"http://www.w3.org/2000/svg\" height=\"24px\"viewBox=\"0 0 24 24\"\n",
              "     width=\"24px\">\n",
              "    <g>\n",
              "        <path d=\"M19 3H5c-1.1 0-2 .9-2 2v14c0 1.1.9 2 2 2h14c1.1 0 2-.9 2-2V5c0-1.1-.9-2-2-2zM9 17H7v-7h2v7zm4 0h-2V7h2v10zm4 0h-2v-4h2v4z\"/>\n",
              "    </g>\n",
              "</svg>\n",
              "      </button>\n",
              "\n",
              "<style>\n",
              "  .colab-df-quickchart {\n",
              "      --bg-color: #E8F0FE;\n",
              "      --fill-color: #1967D2;\n",
              "      --hover-bg-color: #E2EBFA;\n",
              "      --hover-fill-color: #174EA6;\n",
              "      --disabled-fill-color: #AAA;\n",
              "      --disabled-bg-color: #DDD;\n",
              "  }\n",
              "\n",
              "  [theme=dark] .colab-df-quickchart {\n",
              "      --bg-color: #3B4455;\n",
              "      --fill-color: #D2E3FC;\n",
              "      --hover-bg-color: #434B5C;\n",
              "      --hover-fill-color: #FFFFFF;\n",
              "      --disabled-bg-color: #3B4455;\n",
              "      --disabled-fill-color: #666;\n",
              "  }\n",
              "\n",
              "  .colab-df-quickchart {\n",
              "    background-color: var(--bg-color);\n",
              "    border: none;\n",
              "    border-radius: 50%;\n",
              "    cursor: pointer;\n",
              "    display: none;\n",
              "    fill: var(--fill-color);\n",
              "    height: 32px;\n",
              "    padding: 0;\n",
              "    width: 32px;\n",
              "  }\n",
              "\n",
              "  .colab-df-quickchart:hover {\n",
              "    background-color: var(--hover-bg-color);\n",
              "    box-shadow: 0 1px 2px rgba(60, 64, 67, 0.3), 0 1px 3px 1px rgba(60, 64, 67, 0.15);\n",
              "    fill: var(--button-hover-fill-color);\n",
              "  }\n",
              "\n",
              "  .colab-df-quickchart-complete:disabled,\n",
              "  .colab-df-quickchart-complete:disabled:hover {\n",
              "    background-color: var(--disabled-bg-color);\n",
              "    fill: var(--disabled-fill-color);\n",
              "    box-shadow: none;\n",
              "  }\n",
              "\n",
              "  .colab-df-spinner {\n",
              "    border: 2px solid var(--fill-color);\n",
              "    border-color: transparent;\n",
              "    border-bottom-color: var(--fill-color);\n",
              "    animation:\n",
              "      spin 1s steps(1) infinite;\n",
              "  }\n",
              "\n",
              "  @keyframes spin {\n",
              "    0% {\n",
              "      border-color: transparent;\n",
              "      border-bottom-color: var(--fill-color);\n",
              "      border-left-color: var(--fill-color);\n",
              "    }\n",
              "    20% {\n",
              "      border-color: transparent;\n",
              "      border-left-color: var(--fill-color);\n",
              "      border-top-color: var(--fill-color);\n",
              "    }\n",
              "    30% {\n",
              "      border-color: transparent;\n",
              "      border-left-color: var(--fill-color);\n",
              "      border-top-color: var(--fill-color);\n",
              "      border-right-color: var(--fill-color);\n",
              "    }\n",
              "    40% {\n",
              "      border-color: transparent;\n",
              "      border-right-color: var(--fill-color);\n",
              "      border-top-color: var(--fill-color);\n",
              "    }\n",
              "    60% {\n",
              "      border-color: transparent;\n",
              "      border-right-color: var(--fill-color);\n",
              "    }\n",
              "    80% {\n",
              "      border-color: transparent;\n",
              "      border-right-color: var(--fill-color);\n",
              "      border-bottom-color: var(--fill-color);\n",
              "    }\n",
              "    90% {\n",
              "      border-color: transparent;\n",
              "      border-bottom-color: var(--fill-color);\n",
              "    }\n",
              "  }\n",
              "</style>\n",
              "\n",
              "      <script>\n",
              "        async function quickchart(key) {\n",
              "          const quickchartButtonEl =\n",
              "            document.querySelector('#' + key + ' button');\n",
              "          quickchartButtonEl.disabled = true;  // To prevent multiple clicks.\n",
              "          quickchartButtonEl.classList.add('colab-df-spinner');\n",
              "          try {\n",
              "            const charts = await google.colab.kernel.invokeFunction(\n",
              "                'suggestCharts', [key], {});\n",
              "          } catch (error) {\n",
              "            console.error('Error during call to suggestCharts:', error);\n",
              "          }\n",
              "          quickchartButtonEl.classList.remove('colab-df-spinner');\n",
              "          quickchartButtonEl.classList.add('colab-df-quickchart-complete');\n",
              "        }\n",
              "        (() => {\n",
              "          let quickchartButtonEl =\n",
              "            document.querySelector('#df-364f6e1a-396d-4a6d-9731-587be4e28642 button');\n",
              "          quickchartButtonEl.style.display =\n",
              "            google.colab.kernel.accessAllowed ? 'block' : 'none';\n",
              "        })();\n",
              "      </script>\n",
              "    </div>\n",
              "\n",
              "    </div>\n",
              "  </div>\n"
            ],
            "application/vnd.google.colaboratory.intrinsic+json": {
              "type": "dataframe",
              "variable_name": "df_tickers",
              "summary": "{\n  \"name\": \"df_tickers\",\n  \"rows\": 502,\n  \"fields\": [\n    {\n      \"column\": \"Symbol\",\n      \"properties\": {\n        \"dtype\": \"string\",\n        \"num_unique_values\": 502,\n        \"samples\": [\n          \"KDP\",\n          \"BF.B\",\n          \"LKQ\"\n        ],\n        \"semantic_type\": \"\",\n        \"description\": \"\"\n      }\n    },\n    {\n      \"column\": \"Security\",\n      \"properties\": {\n        \"dtype\": \"string\",\n        \"num_unique_values\": 502,\n        \"samples\": [\n          \"Keurig Dr Pepper\",\n          \"Brown\\u2013Forman\",\n          \"LKQ Corporation\"\n        ],\n        \"semantic_type\": \"\",\n        \"description\": \"\"\n      }\n    },\n    {\n      \"column\": \"GICS Sector\",\n      \"properties\": {\n        \"dtype\": \"category\",\n        \"num_unique_values\": 11,\n        \"samples\": [\n          \"Materials\",\n          \"Industrials\",\n          \"Consumer Staples\"\n        ],\n        \"semantic_type\": \"\",\n        \"description\": \"\"\n      }\n    },\n    {\n      \"column\": \"GICS Sub-Industry\",\n      \"properties\": {\n        \"dtype\": \"category\",\n        \"num_unique_values\": 129,\n        \"samples\": [\n          \"Construction Machinery & Heavy Transportation Equipment\",\n          \"Automotive Retail\",\n          \"Tobacco\"\n        ],\n        \"semantic_type\": \"\",\n        \"description\": \"\"\n      }\n    },\n    {\n      \"column\": \"Headquarters Location\",\n      \"properties\": {\n        \"dtype\": \"category\",\n        \"num_unique_values\": 250,\n        \"samples\": [\n          \"Newport News, Virginia\",\n          \"Arlington, Virginia\",\n          \"Ann Arbor, Michigan\"\n        ],\n        \"semantic_type\": \"\",\n        \"description\": \"\"\n      }\n    },\n    {\n      \"column\": \"Date added\",\n      \"properties\": {\n        \"dtype\": \"object\",\n        \"num_unique_values\": 373,\n        \"samples\": [\n          \"2020-09-21\",\n          \"1982-11-30\",\n          \"1995-07-13\"\n        ],\n        \"semantic_type\": \"\",\n        \"description\": \"\"\n      }\n    },\n    {\n      \"column\": \"CIK\",\n      \"properties\": {\n        \"dtype\": \"number\",\n        \"std\": 571570,\n        \"min\": 1800,\n        \"max\": 2012383,\n        \"num_unique_values\": 499,\n        \"samples\": [\n          352915,\n          1316835,\n          48465\n        ],\n        \"semantic_type\": \"\",\n        \"description\": \"\"\n      }\n    },\n    {\n      \"column\": \"Founded\",\n      \"properties\": {\n        \"dtype\": \"category\",\n        \"num_unique_values\": 197,\n        \"samples\": [\n          \"1883\",\n          \"1968\",\n          \"1917\"\n        ],\n        \"semantic_type\": \"\",\n        \"description\": \"\"\n      }\n    }\n  ]\n}"
            }
          },
          "metadata": {},
          "execution_count": 21
        }
      ]
    },
    {
      "cell_type": "code",
      "execution_count": 22,
      "id": "c5309ff2",
      "metadata": {
        "id": "c5309ff2"
      },
      "outputs": [],
      "source": [
        "# Convert ticker symbols to list for next processing steps\n",
        "ticker_list = df_tickers['Symbol'].tolist()"
      ]
    },
    {
      "cell_type": "markdown",
      "id": "e067dba6",
      "metadata": {
        "id": "e067dba6"
      },
      "source": [
        "## Get the news of all 500 stocks in the S&P 500 Index\n",
        "Use the yfinance library to retrieve the news of all 500 stocks in the index.\n",
        "https://ranaroussi.github.io/yfinance/reference/yfinance.stock.html"
      ]
    },
    {
      "cell_type": "markdown",
      "id": "c2807119",
      "metadata": {
        "id": "c2807119"
      },
      "source": [
        "### Get the news in a dictionary"
      ]
    },
    {
      "cell_type": "code",
      "execution_count": 23,
      "id": "2e78bb43",
      "metadata": {
        "id": "2e78bb43"
      },
      "outputs": [],
      "source": [
        "def get_news(ticker_list, news_dict=None, max_attempts=10, delay=0.5):\n",
        "    \"\"\"\n",
        "    Get financial news for a list of stock tickers using yfinance.\n",
        "\n",
        "    Parameters\n",
        "    ----------\n",
        "    ticker_list : list of str\n",
        "        List of stock ticker symbols to fetch news for.\n",
        "    news_dict : dict, optional\n",
        "        Existing dictionary of previously fetched news.\n",
        "    max_attempts : int, default=10\n",
        "        Maximum retry attempts for failed tickers.\n",
        "    delay : float, default=0.5\n",
        "        Delay in seconds between API calls.\n",
        "\n",
        "    Returns\n",
        "    -------\n",
        "    news_dict : dict\n",
        "        Dictionary mapping tickers to lists of news articles.\n",
        "    remaining : list of str\n",
        "        Tickers that still failed after all retry attempts.\n",
        "    \"\"\"\n",
        "    if news_dict is None:\n",
        "        news_dict = {}\n",
        "\n",
        "    remaining = ticker_list.copy()\n",
        "    attempt = 1\n",
        "\n",
        "    while remaining and attempt <= max_attempts:\n",
        "        failed = []\n",
        "        total = len(remaining)\n",
        "\n",
        "        for idx, ticker in enumerate(remaining, 1):\n",
        "            clear_output(wait=True)\n",
        "            print(f\"[Attempt {attempt}] Processing: {ticker}\")\n",
        "            print(f\"Processed: {idx} of {total} | Errors: {len(failed)}\")\n",
        "\n",
        "            try:\n",
        "                stock = yf.Ticker(ticker)\n",
        "                news = stock.news\n",
        "                if news is None:\n",
        "                    raise ValueError(\"yfinance returned None for news\")\n",
        "\n",
        "                news_dict[ticker] = news\n",
        "            except Exception as e:\n",
        "                failed.append(ticker)\n",
        "\n",
        "            time.sleep(delay)\n",
        "\n",
        "        print(f\"\\nAttempt {attempt} complete. {len(failed)} tickers failed.\\n\")\n",
        "\n",
        "        if not failed:\n",
        "            break\n",
        "\n",
        "        remaining = failed\n",
        "        attempt += 1\n",
        "\n",
        "    return news_dict, remaining\n"
      ]
    },
    {
      "cell_type": "code",
      "source": [
        "news_dict, still_failed = get_news(ticker_list)\n",
        "\n",
        "if still_failed:\n",
        "    print(f\"Tickers failed after retries: {still_failed}\")\n",
        "else:\n",
        "    print(\"All tickers processed successfully!\")"
      ],
      "metadata": {
        "colab": {
          "base_uri": "https://localhost:8080/"
        },
        "id": "qJsr8gNUtFAr",
        "outputId": "7845972b-33b9-4aa6-cfba-c775d8926585"
      },
      "id": "qJsr8gNUtFAr",
      "execution_count": 24,
      "outputs": [
        {
          "output_type": "stream",
          "name": "stdout",
          "text": [
            "[Attempt 1] Processing: ZTS\n",
            "Processed: 502 of 502 | Errors: 0\n",
            "\n",
            "Attempt 1 complete. 0 tickers failed.\n",
            "\n",
            "Tickers failed after retries: ['MMM', 'AOS', 'ABT', 'ABBV', 'ACN', 'ADBE', 'AMD', 'AES', 'AFL', 'A', 'APD', 'ABNB', 'AKAM', 'ALB', 'ARE', 'ALGN', 'ALLE', 'LNT', 'ALL', 'GOOGL', 'GOOG', 'MO', 'AMZN', 'AMCR', 'AEE', 'AEP', 'AXP', 'AIG', 'AMT', 'AWK', 'AMP', 'AME', 'AMGN', 'APH', 'ADI', 'AON', 'APA', 'APO', 'AAPL', 'AMAT', 'APTV', 'ACGL', 'ADM', 'ANET', 'AJG', 'AIZ', 'T', 'ATO', 'ADSK', 'ADP', 'AZO', 'AVB', 'AVY', 'AXON', 'BKR', 'BALL', 'BAC', 'BAX', 'BDX', 'BRK.B', 'BBY', 'TECH', 'BIIB', 'BLK', 'BX', 'BK', 'BA', 'BKNG', 'BSX', 'BMY', 'AVGO', 'BR', 'BRO', 'BF.B', 'BLDR', 'BG', 'BXP', 'CHRW', 'CDNS', 'CZR', 'CPT', 'CPB', 'COF', 'CAH', 'KMX', 'CCL', 'CARR', 'CAT', 'CBOE', 'CBRE', 'CDW', 'COR', 'CNC', 'CNP', 'CF', 'CRL', 'SCHW', 'CHTR', 'CVX', 'CMG', 'CB', 'CHD', 'CI', 'CINF', 'CTAS', 'CSCO', 'C', 'CFG', 'CLX', 'CME', 'CMS', 'KO', 'CTSH', 'COIN', 'CL', 'CMCSA', 'CAG', 'COP', 'ED', 'STZ', 'CEG', 'COO', 'CPRT', 'GLW', 'CPAY', 'CTVA', 'CSGP', 'COST', 'CTRA', 'CRWD', 'CCI', 'CSX', 'CMI', 'CVS', 'DHR', 'DRI', 'DDOG', 'DVA', 'DAY', 'DECK', 'DE', 'DELL', 'DAL', 'DVN', 'DXCM', 'FANG', 'DLR', 'DG', 'DLTR', 'D', 'DPZ', 'DASH', 'DOV', 'DOW', 'DHI', 'DTE', 'DUK', 'DD', 'EMN', 'ETN', 'EBAY', 'ECL', 'EIX', 'EW', 'EA', 'ELV', 'EMR', 'ENPH', 'ETR', 'EOG', 'EPAM', 'EQT', 'EFX', 'EQIX', 'EQR', 'ERIE', 'ESS', 'EL', 'EG', 'EVRG', 'ES', 'EXC', 'EXE', 'EXPE', 'EXPD', 'EXR', 'XOM', 'FFIV', 'FDS', 'FICO', 'FAST', 'FRT', 'FDX', 'FIS', 'FITB', 'FSLR', 'FE', 'FI', 'F', 'FTNT', 'FTV', 'FOXA', 'FOX', 'BEN', 'FCX', 'GRMN', 'IT', 'GE', 'GEHC', 'GEV', 'GEN', 'GNRC', 'GD', 'GIS', 'GM', 'GPC', 'GILD', 'GPN', 'GL', 'GDDY', 'GS', 'HAL', 'HIG', 'HAS', 'HCA', 'DOC', 'HSIC', 'HSY', 'HPE', 'HLT', 'HOLX', 'HD', 'HON', 'HRL', 'HST', 'HWM', 'HPQ', 'HUBB', 'HUM', 'HBAN', 'HII', 'IBM', 'IEX', 'IDXX', 'ITW', 'INCY', 'IR', 'PODD', 'INTC', 'ICE', 'IFF', 'IP', 'IPG', 'INTU', 'ISRG', 'IVZ', 'INVH', 'IQV', 'IRM', 'JBHT', 'JBL', 'JKHY', 'J', 'JNJ', 'JCI', 'JPM', 'K', 'KVUE', 'KDP', 'KEY', 'KEYS', 'KMB', 'KIM', 'KMI', 'KKR', 'KLAC', 'KHC', 'KR', 'LHX', 'LH', 'LRCX', 'LW', 'LVS', 'LDOS', 'LEN', 'LII', 'LLY', 'LIN', 'LYV', 'LKQ', 'LMT', 'L', 'LOW', 'LULU', 'LYB', 'MTB', 'MPC', 'MKTX', 'MAR', 'MMC', 'MLM', 'MAS', 'MA', 'MTCH', 'MKC', 'MCD', 'MCK', 'MDT', 'MRK', 'META', 'MET', 'MTD', 'MGM', 'MCHP', 'MU', 'MSFT', 'MAA', 'MRNA', 'MHK', 'MOH', 'TAP', 'MDLZ', 'MPWR', 'MNST', 'MCO', 'MS', 'MOS', 'MSI', 'MSCI', 'NDAQ', 'NTAP', 'NFLX', 'NEM', 'NWSA', 'NWS', 'NEE', 'NKE', 'NI', 'NDSN', 'NSC', 'NTRS', 'NOC', 'NCLH', 'NRG', 'NUE', 'NVDA', 'NVR', 'NXPI', 'ORLY', 'OXY', 'ODFL', 'OMC', 'ON', 'OKE', 'ORCL', 'OTIS', 'PCAR', 'PKG', 'PLTR', 'PANW', 'PARA', 'PH', 'PAYX', 'PAYC', 'PYPL', 'PNR', 'PEP', 'PFE', 'PCG', 'PM', 'PSX', 'PNW', 'PNC', 'POOL', 'PPG', 'PPL', 'PFG', 'PG', 'PGR', 'PLD', 'PRU', 'PEG', 'PTC', 'PSA', 'PHM', 'PWR', 'QCOM', 'DGX', 'RL', 'RJF', 'RTX', 'O', 'REG', 'REGN', 'RF', 'RSG', 'RMD', 'RVTY', 'ROK', 'ROL', 'ROP', 'ROST', 'RCL', 'SPGI', 'CRM', 'SBAC', 'SLB', 'STX', 'SRE', 'NOW', 'SHW', 'SPG', 'SWKS', 'SJM', 'SW', 'SNA', 'SOLV', 'SO', 'LUV', 'SWK', 'SBUX', 'STT', 'STLD', 'STE', 'SYK', 'SMCI', 'SYF', 'SNPS', 'SYY', 'TMUS', 'TROW', 'TTWO', 'TPR', 'TRGP', 'TGT', 'TEL', 'TDY', 'TER', 'TSLA', 'TXN', 'TPL', 'TXT', 'TMO', 'TJX', 'TKO', 'TTD', 'TSCO', 'TT', 'TDG', 'TRV', 'TRMB', 'TFC', 'TYL', 'TSN', 'USB', 'UBER', 'UDR', 'ULTA', 'UNP', 'UAL', 'UPS', 'URI', 'UNH', 'UHS', 'VLO', 'VTR', 'VLTO', 'VRSN', 'VRSK', 'VZ', 'VRTX', 'VTRS', 'VICI', 'V', 'VST', 'VMC', 'WRB', 'GWW', 'WAB', 'WBA', 'WMT', 'DIS', 'WBD', 'WM', 'WAT', 'WEC', 'WFC', 'WELL', 'WST', 'WDC', 'WY', 'WSM', 'WMB', 'WTW', 'WDAY', 'WYNN', 'XEL', 'XYL', 'YUM', 'ZBRA', 'ZBH', 'ZTS']\n"
          ]
        }
      ]
    },
    {
      "cell_type": "markdown",
      "source": [
        "CHECK WHY 502 INSTEAD OF 503"
      ],
      "metadata": {
        "id": "5rqE1QA11Iem"
      },
      "id": "5rqE1QA11Iem"
    },
    {
      "cell_type": "markdown",
      "id": "c1de6cae",
      "metadata": {
        "id": "c1de6cae"
      },
      "source": [
        "### Structure the news into a pandas dataframe\n",
        "\n",
        "Your final dataframe should have the following columns:\n",
        "- TICKER\n",
        "- TITLE (of the news)\n",
        "- SUMMARY (of the news)\n",
        "- PUBLICATION_DATE (of the news)\n",
        "- URL (of the news)\n",
        "\n",
        "Note: all of those fields are provided in the yfinance news component. Refer to the library documentation."
      ]
    },
    {
      "cell_type": "code",
      "execution_count": 28,
      "id": "fdb2faf1",
      "metadata": {
        "id": "fdb2faf1"
      },
      "outputs": [],
      "source": [
        "from datetime import datetime\n",
        "\n",
        "rows = []\n",
        "\n",
        "for ticker, articles in news_dict.items():\n",
        "    if not articles:\n",
        "        continue\n",
        "\n",
        "    for article in articles:\n",
        "        content = article.get('content') or {}\n",
        "\n",
        "        title = content.get('title', '').strip()\n",
        "        summary = content.get('summary', '').strip()\n",
        "\n",
        "        # Attempt to get a URL from any of the potential sources\n",
        "        url = (\n",
        "            (content.get('clickThroughUrl') or {}).get('url') or\n",
        "            content.get('previewUrl') or\n",
        "            (content.get('canonicalUrl') or {}).get('url') or\n",
        "            ''\n",
        "        ).strip()\n",
        "\n",
        "        # Parse publication date\n",
        "        pub_date_str = content.get('pubDate', '').strip()\n",
        "        try:\n",
        "            pub_date = datetime.strptime(pub_date_str, \"%Y-%m-%dT%H:%M:%SZ\")\n",
        "            formatted_date = pub_date.strftime('%d-%b-%y')\n",
        "        except Exception:\n",
        "            formatted_date = ''\n",
        "\n",
        "        # Keep article only if it has at least a title or a summary\n",
        "        if not title and not summary:\n",
        "            continue\n",
        "\n",
        "        rows.append({\n",
        "            'TICKER': ticker,\n",
        "            'TITLE': title,\n",
        "            'SUMMARY': summary,\n",
        "            'PUBLICATION_DATE': formatted_date,\n",
        "            'URL': url\n",
        "        })\n",
        "\n",
        "\n",
        "df_news = pd.DataFrame(rows)"
      ]
    },
    {
      "cell_type": "code",
      "source": [
        "df_news.info()"
      ],
      "metadata": {
        "colab": {
          "base_uri": "https://localhost:8080/"
        },
        "id": "sRftxFcFPUQ0",
        "outputId": "b07d3d09-1e3e-4658-8a34-8a32ec53bffe"
      },
      "id": "sRftxFcFPUQ0",
      "execution_count": 30,
      "outputs": [
        {
          "output_type": "stream",
          "name": "stdout",
          "text": [
            "<class 'pandas.core.frame.DataFrame'>\n",
            "RangeIndex: 5004 entries, 0 to 5003\n",
            "Data columns (total 5 columns):\n",
            " #   Column            Non-Null Count  Dtype \n",
            "---  ------            --------------  ----- \n",
            " 0   TICKER            5004 non-null   object\n",
            " 1   TITLE             5004 non-null   object\n",
            " 2   SUMMARY           5004 non-null   object\n",
            " 3   PUBLICATION_DATE  5004 non-null   object\n",
            " 4   URL               5004 non-null   object\n",
            "dtypes: object(5)\n",
            "memory usage: 195.6+ KB\n"
          ]
        }
      ]
    },
    {
      "cell_type": "code",
      "source": [
        "# Review the first 5 articles\n",
        "df_news.head()\n"
      ],
      "metadata": {
        "colab": {
          "base_uri": "https://localhost:8080/",
          "height": 258
        },
        "id": "wiAAX_zM6HNG",
        "outputId": "74cc0f1d-3d38-49e1-e9e2-4e3d2647b44a"
      },
      "id": "wiAAX_zM6HNG",
      "execution_count": 29,
      "outputs": [
        {
          "output_type": "execute_result",
          "data": {
            "text/plain": [
              "  TICKER                                              TITLE  \\\n",
              "0    MMM  Zacks Industry Outlook Highlights Honeywell, 3...   \n",
              "1    MMM                 Stock Market News for Jul 21, 2025   \n",
              "2    MMM  3M Co (MMM) Q2 2025 Earnings Call Highlights: ...   \n",
              "3    MMM  MMM Q1 Deep Dive: Tariffs Loom Over Stable Ope...   \n",
              "4    MMM  Dow Falls as Trump Reportedly Seeks Higher EU ...   \n",
              "\n",
              "                                             SUMMARY PUBLICATION_DATE  \\\n",
              "0  HON, MMM, CSL, and FSS are well-positioned to ...        21-Jul-25   \n",
              "1  U.S. stock markets closed mostly lower n Frida...        21-Jul-25   \n",
              "2  3M Co (MMM) reports a 12% increase in adjusted...        19-Jul-25   \n",
              "3  Industrial conglomerate 3M (NYSE:MMM) reported...        19-Jul-25   \n",
              "4  The Dow Jones Industrial Average fell Friday f...        18-Jul-25   \n",
              "\n",
              "                                                 URL  \n",
              "0  https://finance.yahoo.com/news/zacks-industry-...  \n",
              "1  https://finance.yahoo.com/news/stock-market-ne...  \n",
              "2  https://finance.yahoo.com/news/3m-co-mmm-q2-20...  \n",
              "3  https://finance.yahoo.com/news/mmm-q1-deep-div...  \n",
              "4  https://finance.yahoo.com/news/dow-falls-trump...  "
            ],
            "text/html": [
              "\n",
              "  <div id=\"df-b7a9e261-73a2-4c35-a31a-c389829c5aed\" class=\"colab-df-container\">\n",
              "    <div>\n",
              "<style scoped>\n",
              "    .dataframe tbody tr th:only-of-type {\n",
              "        vertical-align: middle;\n",
              "    }\n",
              "\n",
              "    .dataframe tbody tr th {\n",
              "        vertical-align: top;\n",
              "    }\n",
              "\n",
              "    .dataframe thead th {\n",
              "        text-align: right;\n",
              "    }\n",
              "</style>\n",
              "<table border=\"1\" class=\"dataframe\">\n",
              "  <thead>\n",
              "    <tr style=\"text-align: right;\">\n",
              "      <th></th>\n",
              "      <th>TICKER</th>\n",
              "      <th>TITLE</th>\n",
              "      <th>SUMMARY</th>\n",
              "      <th>PUBLICATION_DATE</th>\n",
              "      <th>URL</th>\n",
              "    </tr>\n",
              "  </thead>\n",
              "  <tbody>\n",
              "    <tr>\n",
              "      <th>0</th>\n",
              "      <td>MMM</td>\n",
              "      <td>Zacks Industry Outlook Highlights Honeywell, 3...</td>\n",
              "      <td>HON, MMM, CSL, and FSS are well-positioned to ...</td>\n",
              "      <td>21-Jul-25</td>\n",
              "      <td>https://finance.yahoo.com/news/zacks-industry-...</td>\n",
              "    </tr>\n",
              "    <tr>\n",
              "      <th>1</th>\n",
              "      <td>MMM</td>\n",
              "      <td>Stock Market News for Jul 21, 2025</td>\n",
              "      <td>U.S. stock markets closed mostly lower n Frida...</td>\n",
              "      <td>21-Jul-25</td>\n",
              "      <td>https://finance.yahoo.com/news/stock-market-ne...</td>\n",
              "    </tr>\n",
              "    <tr>\n",
              "      <th>2</th>\n",
              "      <td>MMM</td>\n",
              "      <td>3M Co (MMM) Q2 2025 Earnings Call Highlights: ...</td>\n",
              "      <td>3M Co (MMM) reports a 12% increase in adjusted...</td>\n",
              "      <td>19-Jul-25</td>\n",
              "      <td>https://finance.yahoo.com/news/3m-co-mmm-q2-20...</td>\n",
              "    </tr>\n",
              "    <tr>\n",
              "      <th>3</th>\n",
              "      <td>MMM</td>\n",
              "      <td>MMM Q1 Deep Dive: Tariffs Loom Over Stable Ope...</td>\n",
              "      <td>Industrial conglomerate 3M (NYSE:MMM) reported...</td>\n",
              "      <td>19-Jul-25</td>\n",
              "      <td>https://finance.yahoo.com/news/mmm-q1-deep-div...</td>\n",
              "    </tr>\n",
              "    <tr>\n",
              "      <th>4</th>\n",
              "      <td>MMM</td>\n",
              "      <td>Dow Falls as Trump Reportedly Seeks Higher EU ...</td>\n",
              "      <td>The Dow Jones Industrial Average fell Friday f...</td>\n",
              "      <td>18-Jul-25</td>\n",
              "      <td>https://finance.yahoo.com/news/dow-falls-trump...</td>\n",
              "    </tr>\n",
              "  </tbody>\n",
              "</table>\n",
              "</div>\n",
              "    <div class=\"colab-df-buttons\">\n",
              "\n",
              "  <div class=\"colab-df-container\">\n",
              "    <button class=\"colab-df-convert\" onclick=\"convertToInteractive('df-b7a9e261-73a2-4c35-a31a-c389829c5aed')\"\n",
              "            title=\"Convert this dataframe to an interactive table.\"\n",
              "            style=\"display:none;\">\n",
              "\n",
              "  <svg xmlns=\"http://www.w3.org/2000/svg\" height=\"24px\" viewBox=\"0 -960 960 960\">\n",
              "    <path d=\"M120-120v-720h720v720H120Zm60-500h600v-160H180v160Zm220 220h160v-160H400v160Zm0 220h160v-160H400v160ZM180-400h160v-160H180v160Zm440 0h160v-160H620v160ZM180-180h160v-160H180v160Zm440 0h160v-160H620v160Z\"/>\n",
              "  </svg>\n",
              "    </button>\n",
              "\n",
              "  <style>\n",
              "    .colab-df-container {\n",
              "      display:flex;\n",
              "      gap: 12px;\n",
              "    }\n",
              "\n",
              "    .colab-df-convert {\n",
              "      background-color: #E8F0FE;\n",
              "      border: none;\n",
              "      border-radius: 50%;\n",
              "      cursor: pointer;\n",
              "      display: none;\n",
              "      fill: #1967D2;\n",
              "      height: 32px;\n",
              "      padding: 0 0 0 0;\n",
              "      width: 32px;\n",
              "    }\n",
              "\n",
              "    .colab-df-convert:hover {\n",
              "      background-color: #E2EBFA;\n",
              "      box-shadow: 0px 1px 2px rgba(60, 64, 67, 0.3), 0px 1px 3px 1px rgba(60, 64, 67, 0.15);\n",
              "      fill: #174EA6;\n",
              "    }\n",
              "\n",
              "    .colab-df-buttons div {\n",
              "      margin-bottom: 4px;\n",
              "    }\n",
              "\n",
              "    [theme=dark] .colab-df-convert {\n",
              "      background-color: #3B4455;\n",
              "      fill: #D2E3FC;\n",
              "    }\n",
              "\n",
              "    [theme=dark] .colab-df-convert:hover {\n",
              "      background-color: #434B5C;\n",
              "      box-shadow: 0px 1px 3px 1px rgba(0, 0, 0, 0.15);\n",
              "      filter: drop-shadow(0px 1px 2px rgba(0, 0, 0, 0.3));\n",
              "      fill: #FFFFFF;\n",
              "    }\n",
              "  </style>\n",
              "\n",
              "    <script>\n",
              "      const buttonEl =\n",
              "        document.querySelector('#df-b7a9e261-73a2-4c35-a31a-c389829c5aed button.colab-df-convert');\n",
              "      buttonEl.style.display =\n",
              "        google.colab.kernel.accessAllowed ? 'block' : 'none';\n",
              "\n",
              "      async function convertToInteractive(key) {\n",
              "        const element = document.querySelector('#df-b7a9e261-73a2-4c35-a31a-c389829c5aed');\n",
              "        const dataTable =\n",
              "          await google.colab.kernel.invokeFunction('convertToInteractive',\n",
              "                                                    [key], {});\n",
              "        if (!dataTable) return;\n",
              "\n",
              "        const docLinkHtml = 'Like what you see? Visit the ' +\n",
              "          '<a target=\"_blank\" href=https://colab.research.google.com/notebooks/data_table.ipynb>data table notebook</a>'\n",
              "          + ' to learn more about interactive tables.';\n",
              "        element.innerHTML = '';\n",
              "        dataTable['output_type'] = 'display_data';\n",
              "        await google.colab.output.renderOutput(dataTable, element);\n",
              "        const docLink = document.createElement('div');\n",
              "        docLink.innerHTML = docLinkHtml;\n",
              "        element.appendChild(docLink);\n",
              "      }\n",
              "    </script>\n",
              "  </div>\n",
              "\n",
              "\n",
              "    <div id=\"df-c296803e-1338-4c72-82dd-87d1d09689c7\">\n",
              "      <button class=\"colab-df-quickchart\" onclick=\"quickchart('df-c296803e-1338-4c72-82dd-87d1d09689c7')\"\n",
              "                title=\"Suggest charts\"\n",
              "                style=\"display:none;\">\n",
              "\n",
              "<svg xmlns=\"http://www.w3.org/2000/svg\" height=\"24px\"viewBox=\"0 0 24 24\"\n",
              "     width=\"24px\">\n",
              "    <g>\n",
              "        <path d=\"M19 3H5c-1.1 0-2 .9-2 2v14c0 1.1.9 2 2 2h14c1.1 0 2-.9 2-2V5c0-1.1-.9-2-2-2zM9 17H7v-7h2v7zm4 0h-2V7h2v10zm4 0h-2v-4h2v4z\"/>\n",
              "    </g>\n",
              "</svg>\n",
              "      </button>\n",
              "\n",
              "<style>\n",
              "  .colab-df-quickchart {\n",
              "      --bg-color: #E8F0FE;\n",
              "      --fill-color: #1967D2;\n",
              "      --hover-bg-color: #E2EBFA;\n",
              "      --hover-fill-color: #174EA6;\n",
              "      --disabled-fill-color: #AAA;\n",
              "      --disabled-bg-color: #DDD;\n",
              "  }\n",
              "\n",
              "  [theme=dark] .colab-df-quickchart {\n",
              "      --bg-color: #3B4455;\n",
              "      --fill-color: #D2E3FC;\n",
              "      --hover-bg-color: #434B5C;\n",
              "      --hover-fill-color: #FFFFFF;\n",
              "      --disabled-bg-color: #3B4455;\n",
              "      --disabled-fill-color: #666;\n",
              "  }\n",
              "\n",
              "  .colab-df-quickchart {\n",
              "    background-color: var(--bg-color);\n",
              "    border: none;\n",
              "    border-radius: 50%;\n",
              "    cursor: pointer;\n",
              "    display: none;\n",
              "    fill: var(--fill-color);\n",
              "    height: 32px;\n",
              "    padding: 0;\n",
              "    width: 32px;\n",
              "  }\n",
              "\n",
              "  .colab-df-quickchart:hover {\n",
              "    background-color: var(--hover-bg-color);\n",
              "    box-shadow: 0 1px 2px rgba(60, 64, 67, 0.3), 0 1px 3px 1px rgba(60, 64, 67, 0.15);\n",
              "    fill: var(--button-hover-fill-color);\n",
              "  }\n",
              "\n",
              "  .colab-df-quickchart-complete:disabled,\n",
              "  .colab-df-quickchart-complete:disabled:hover {\n",
              "    background-color: var(--disabled-bg-color);\n",
              "    fill: var(--disabled-fill-color);\n",
              "    box-shadow: none;\n",
              "  }\n",
              "\n",
              "  .colab-df-spinner {\n",
              "    border: 2px solid var(--fill-color);\n",
              "    border-color: transparent;\n",
              "    border-bottom-color: var(--fill-color);\n",
              "    animation:\n",
              "      spin 1s steps(1) infinite;\n",
              "  }\n",
              "\n",
              "  @keyframes spin {\n",
              "    0% {\n",
              "      border-color: transparent;\n",
              "      border-bottom-color: var(--fill-color);\n",
              "      border-left-color: var(--fill-color);\n",
              "    }\n",
              "    20% {\n",
              "      border-color: transparent;\n",
              "      border-left-color: var(--fill-color);\n",
              "      border-top-color: var(--fill-color);\n",
              "    }\n",
              "    30% {\n",
              "      border-color: transparent;\n",
              "      border-left-color: var(--fill-color);\n",
              "      border-top-color: var(--fill-color);\n",
              "      border-right-color: var(--fill-color);\n",
              "    }\n",
              "    40% {\n",
              "      border-color: transparent;\n",
              "      border-right-color: var(--fill-color);\n",
              "      border-top-color: var(--fill-color);\n",
              "    }\n",
              "    60% {\n",
              "      border-color: transparent;\n",
              "      border-right-color: var(--fill-color);\n",
              "    }\n",
              "    80% {\n",
              "      border-color: transparent;\n",
              "      border-right-color: var(--fill-color);\n",
              "      border-bottom-color: var(--fill-color);\n",
              "    }\n",
              "    90% {\n",
              "      border-color: transparent;\n",
              "      border-bottom-color: var(--fill-color);\n",
              "    }\n",
              "  }\n",
              "</style>\n",
              "\n",
              "      <script>\n",
              "        async function quickchart(key) {\n",
              "          const quickchartButtonEl =\n",
              "            document.querySelector('#' + key + ' button');\n",
              "          quickchartButtonEl.disabled = true;  // To prevent multiple clicks.\n",
              "          quickchartButtonEl.classList.add('colab-df-spinner');\n",
              "          try {\n",
              "            const charts = await google.colab.kernel.invokeFunction(\n",
              "                'suggestCharts', [key], {});\n",
              "          } catch (error) {\n",
              "            console.error('Error during call to suggestCharts:', error);\n",
              "          }\n",
              "          quickchartButtonEl.classList.remove('colab-df-spinner');\n",
              "          quickchartButtonEl.classList.add('colab-df-quickchart-complete');\n",
              "        }\n",
              "        (() => {\n",
              "          let quickchartButtonEl =\n",
              "            document.querySelector('#df-c296803e-1338-4c72-82dd-87d1d09689c7 button');\n",
              "          quickchartButtonEl.style.display =\n",
              "            google.colab.kernel.accessAllowed ? 'block' : 'none';\n",
              "        })();\n",
              "      </script>\n",
              "    </div>\n",
              "\n",
              "    </div>\n",
              "  </div>\n"
            ],
            "application/vnd.google.colaboratory.intrinsic+json": {
              "type": "dataframe",
              "variable_name": "df_news",
              "summary": "{\n  \"name\": \"df_news\",\n  \"rows\": 5004,\n  \"fields\": [\n    {\n      \"column\": \"TICKER\",\n      \"properties\": {\n        \"dtype\": \"category\",\n        \"num_unique_values\": 501,\n        \"samples\": [\n          \"PAYC\",\n          \"BLDR\",\n          \"PFG\"\n        ],\n        \"semantic_type\": \"\",\n        \"description\": \"\"\n      }\n    },\n    {\n      \"column\": \"TITLE\",\n      \"properties\": {\n        \"dtype\": \"string\",\n        \"num_unique_values\": 4083,\n        \"samples\": [\n          \"Credit Market Resilient Amid Pockets of Stress: BlackRock's Lynam\",\n          \"3 Beaten-Down Dividend Stocks for Patient Investors to Buy in July and Hold for Years to Come\",\n          \"Monolithic Power Systems (NASDAQ:MPWR) Shareholders Will Want The ROCE Trajectory To Continue\"\n        ],\n        \"semantic_type\": \"\",\n        \"description\": \"\"\n      }\n    },\n    {\n      \"column\": \"SUMMARY\",\n      \"properties\": {\n        \"dtype\": \"string\",\n        \"num_unique_values\": 3827,\n        \"samples\": [\n          \"Pfizer Inc. (NYSE:PFE) is one of the best cheap stocks under $50 to buy now. On July 10, Morgan Stanley analyst Terrence Flynn reiterated a hold rating on Pfizer Inc. (NYSE:PFE), setting a $32 price target. The company declared a $0.43 fiscal Q3 2025 dividend on June 25 on its common stock, payable September 2 [\\u2026]\",\n          \"Chenyue Mao has been blocked from leaving the country because she \\u201cis involved in a criminal case,\\u201d China\\u2019s Foreign Ministry said.\",\n          \"As Conagra Brands has underperformed its broader sector recently, analysts remain cautious about the stock\\u2019s prospects.\"\n        ],\n        \"semantic_type\": \"\",\n        \"description\": \"\"\n      }\n    },\n    {\n      \"column\": \"PUBLICATION_DATE\",\n      \"properties\": {\n        \"dtype\": \"object\",\n        \"num_unique_values\": 97,\n        \"samples\": [\n          \"02-Jun-25\",\n          \"10-Jun-25\",\n          \"13-May-25\"\n        ],\n        \"semantic_type\": \"\",\n        \"description\": \"\"\n      }\n    },\n    {\n      \"column\": \"URL\",\n      \"properties\": {\n        \"dtype\": \"string\",\n        \"num_unique_values\": 4154,\n        \"samples\": [\n          \"https://finance.yahoo.com/news/5-low-price-book-stocks-125500728.html\",\n          \"https://finance.yahoo.com/news/heres-expect-federal-realty-investments-112705453.html\",\n          \"https://finance.yahoo.com/news/equity-markets-mixed-fed-keeps-194442467.html\"\n        ],\n        \"semantic_type\": \"\",\n        \"description\": \"\"\n      }\n    }\n  ]\n}"
            }
          },
          "metadata": {},
          "execution_count": 29
        }
      ]
    },
    {
      "cell_type": "markdown",
      "id": "c7d157a8",
      "metadata": {
        "id": "c7d157a8"
      },
      "source": [
        "## Exploring text embeddings\n",
        "\n",
        "- Use the open-source model: 'sentence-transformers/all-MiniLM-L6-v2' to create embeddings on the news title and summary\n",
        "- You should combine the title and summary into one string that you will embed together\n",
        "- Add a column to your news dataframe called EMBEDDED_TEXT using ONLY the TITLE of the news\n",
        "- Add a column to your news dataframe called EMBEDDINGS, which contains the embedding of EMBEDDED_TEXT\n"
      ]
    },
    {
      "cell_type": "code",
      "execution_count": 31,
      "id": "a59b6d58",
      "metadata": {
        "id": "a59b6d58"
      },
      "outputs": [],
      "source": [
        "# Loading the pre-trained embedding model\n",
        "model = SentenceTransformer('sentence-transformers/all-MiniLM-L6-v2')\n",
        "\n",
        "# Combining TITLE and SUMMARY into a string\n",
        "df_news['EMBEDDED_TEXT'] = (\n",
        "    df_news['TITLE'].fillna('') + ' ' + df_news['SUMMARY'].fillna('')\n",
        ")\n",
        "\n"
      ]
    },
    {
      "cell_type": "code",
      "source": [
        "# Let's look at one of the embedded_text\n",
        "df_news['EMBEDDED_TEXT'][5]"
      ],
      "metadata": {
        "colab": {
          "base_uri": "https://localhost:8080/",
          "height": 71
        },
        "id": "xu1CxMY67xfp",
        "outputId": "0ce3fcb6-f355-40b1-bd5e-4e57e31bdda1"
      },
      "id": "xu1CxMY67xfp",
      "execution_count": 33,
      "outputs": [
        {
          "output_type": "execute_result",
          "data": {
            "text/plain": [
              "'3M Gives Investors a ‘Beat and Raise.’ The Stock Is Rising. 3M  traded higher initially after reporting better-than-expected second-quarter earnings, but gave up gains throughout the day.  Wall Street was looking for earnings per share of $2.01 on sales of $6.1 billion, according to FactSet.  “We delivered strong results in the second quarter, posting positive organic sales growth and double-digit EPS growth,” said CEO William Brown in a news release.'"
            ],
            "application/vnd.google.colaboratory.intrinsic+json": {
              "type": "string"
            }
          },
          "metadata": {},
          "execution_count": 33
        }
      ]
    },
    {
      "cell_type": "code",
      "source": [
        "# Generate embeddings\n",
        "embeddings = model.encode(df_news['EMBEDDED_TEXT'].tolist(), show_progress_bar=True)\n",
        "\n",
        "# Store embeddings in the DataFrame\n",
        "df_news['EMBEDDINGS'] = embeddings.tolist()"
      ],
      "metadata": {
        "colab": {
          "base_uri": "https://localhost:8080/",
          "height": 49,
          "referenced_widgets": [
            "b3ae7ae6cd2845c2909fa71f5675e35e",
            "95e29be066ee457880f118b377085dd6",
            "decd750d00ef4cbabab624acb545451a",
            "7d349403214a4f4a924892c63c10dd0b",
            "6b08be5906224ca0bd4c77b7b1722311",
            "0599ce3d4ca745b08d119ff948a43812",
            "559132a6e7ed436da71711d69763f536",
            "2a0364176c1f492383f650a0eb155bb3",
            "6c83e17f776e4747b9f4b7b60878ea1d",
            "e06784a375174618a016e80d1979935c",
            "eac3754a216d4203b862263d20733e52"
          ]
        },
        "id": "fZcqoVy_7aqb",
        "outputId": "f74c25f3-1bfc-400c-cfb6-8d592f25eff7"
      },
      "id": "fZcqoVy_7aqb",
      "execution_count": 34,
      "outputs": [
        {
          "output_type": "display_data",
          "data": {
            "text/plain": [
              "Batches:   0%|          | 0/157 [00:00<?, ?it/s]"
            ],
            "application/vnd.jupyter.widget-view+json": {
              "version_major": 2,
              "version_minor": 0,
              "model_id": "b3ae7ae6cd2845c2909fa71f5675e35e"
            }
          },
          "metadata": {}
        }
      ]
    },
    {
      "cell_type": "code",
      "source": [
        "df_news.info()"
      ],
      "metadata": {
        "colab": {
          "base_uri": "https://localhost:8080/"
        },
        "id": "ThGp4uKiN7fP",
        "outputId": "8f137a31-9bf9-424d-a5c8-b71984734378"
      },
      "id": "ThGp4uKiN7fP",
      "execution_count": 35,
      "outputs": [
        {
          "output_type": "stream",
          "name": "stdout",
          "text": [
            "<class 'pandas.core.frame.DataFrame'>\n",
            "RangeIndex: 5004 entries, 0 to 5003\n",
            "Data columns (total 7 columns):\n",
            " #   Column            Non-Null Count  Dtype \n",
            "---  ------            --------------  ----- \n",
            " 0   TICKER            5004 non-null   object\n",
            " 1   TITLE             5004 non-null   object\n",
            " 2   SUMMARY           5004 non-null   object\n",
            " 3   PUBLICATION_DATE  5004 non-null   object\n",
            " 4   URL               5004 non-null   object\n",
            " 5   EMBEDDED_TEXT     5004 non-null   object\n",
            " 6   EMBEDDINGS        5004 non-null   object\n",
            "dtypes: object(7)\n",
            "memory usage: 273.8+ KB\n"
          ]
        }
      ]
    },
    {
      "cell_type": "code",
      "source": [
        "len(df_news.EMBEDDINGS[7])"
      ],
      "metadata": {
        "colab": {
          "base_uri": "https://localhost:8080/"
        },
        "id": "lyDsADdIHi1C",
        "outputId": "1702a9a1-e6c5-4e92-e02b-5f34001c5dc2"
      },
      "id": "lyDsADdIHi1C",
      "execution_count": 40,
      "outputs": [
        {
          "output_type": "execute_result",
          "data": {
            "text/plain": [
              "384"
            ]
          },
          "metadata": {},
          "execution_count": 40
        }
      ]
    },
    {
      "cell_type": "markdown",
      "id": "17f0fada",
      "metadata": {
        "id": "17f0fada"
      },
      "source": [
        "## Using K-means clustering on news embeddings\n",
        "to simplify, keep only one news for each company (ticker), you should have 500 rows in your news dataframe"
      ]
    },
    {
      "cell_type": "code",
      "execution_count": 41,
      "id": "78bf32c0",
      "metadata": {
        "id": "78bf32c0"
      },
      "outputs": [],
      "source": [
        "# Keep only the first article per TICKER\n",
        "df_news_unique = df_news.drop_duplicates(subset='TICKER', keep='first').reset_index(drop=True)"
      ]
    },
    {
      "cell_type": "code",
      "source": [
        "df_news_unique.info()"
      ],
      "metadata": {
        "colab": {
          "base_uri": "https://localhost:8080/"
        },
        "id": "v_u3GA0aH2K3",
        "outputId": "5f9ebd40-8f0a-4ee5-9512-193e9aa82dc9"
      },
      "id": "v_u3GA0aH2K3",
      "execution_count": 42,
      "outputs": [
        {
          "output_type": "stream",
          "name": "stdout",
          "text": [
            "<class 'pandas.core.frame.DataFrame'>\n",
            "RangeIndex: 501 entries, 0 to 500\n",
            "Data columns (total 7 columns):\n",
            " #   Column            Non-Null Count  Dtype \n",
            "---  ------            --------------  ----- \n",
            " 0   TICKER            501 non-null    object\n",
            " 1   TITLE             501 non-null    object\n",
            " 2   SUMMARY           501 non-null    object\n",
            " 3   PUBLICATION_DATE  501 non-null    object\n",
            " 4   URL               501 non-null    object\n",
            " 5   EMBEDDED_TEXT     501 non-null    object\n",
            " 6   EMBEDDINGS        501 non-null    object\n",
            "dtypes: object(7)\n",
            "memory usage: 27.5+ KB\n"
          ]
        }
      ]
    },
    {
      "cell_type": "code",
      "source": [
        "# Let's verify\n",
        "print(f\"Unique tickers: {df_news_unique['TICKER'].nunique()}\")\n",
        "print(f\"Total rows: {len(df_news_unique)}\")"
      ],
      "metadata": {
        "colab": {
          "base_uri": "https://localhost:8080/"
        },
        "id": "eb8kmvKZH7A-",
        "outputId": "07b01486-8ed4-423c-e8c8-5088f976b490"
      },
      "id": "eb8kmvKZH7A-",
      "execution_count": 43,
      "outputs": [
        {
          "output_type": "stream",
          "name": "stdout",
          "text": [
            "Unique tickers: 501\n",
            "Total rows: 501\n"
          ]
        }
      ]
    },
    {
      "cell_type": "code",
      "source": [
        "tickers_with_news = set(df_news['TICKER'])\n",
        "all_tickers = set(news_dict.keys())\n",
        "missing_tickers = sorted(all_tickers - tickers_with_news)\n",
        "\n",
        "print(f\"Missing {len(missing_tickers)} tickers:\")\n",
        "print(missing_tickers)"
      ],
      "metadata": {
        "colab": {
          "base_uri": "https://localhost:8080/"
        },
        "id": "zLaKnrZuIF57",
        "outputId": "48bde680-7c5a-4dc3-96e6-30996d6b0ea2"
      },
      "id": "zLaKnrZuIF57",
      "execution_count": 44,
      "outputs": [
        {
          "output_type": "stream",
          "name": "stdout",
          "text": [
            "Missing 1 tickers:\n",
            "['BF.B']\n"
          ]
        }
      ]
    },
    {
      "cell_type": "markdown",
      "id": "b1cdc413",
      "metadata": {
        "id": "b1cdc413"
      },
      "source": [
        "### Identify the number of clusters using the silhouette score\n",
        "\n",
        "- Using a for loop, do the clustering with different k values (number of clusters), test 1 to 6 clusters\n",
        "- Compute the silhouette score for every k value\n",
        "- Plot the silhouette score for different k values"
      ]
    },
    {
      "cell_type": "markdown",
      "id": "22bda120",
      "metadata": {
        "id": "22bda120"
      },
      "source": [
        "#### Try different values of k and compute silhouette scores"
      ]
    },
    {
      "cell_type": "code",
      "execution_count": 52,
      "id": "e0ea69df",
      "metadata": {
        "id": "e0ea69df",
        "colab": {
          "base_uri": "https://localhost:8080/"
        },
        "outputId": "7d611095-258f-4d8f-cb18-64bac8629a31"
      },
      "outputs": [
        {
          "output_type": "stream",
          "name": "stdout",
          "text": [
            "\n",
            "Clustering with k=1\n",
            "Silhouette score not defined for k=1\n",
            "\n",
            "Clustering with k=2\n",
            "Silhouette Score (k=2): 0.0406\n",
            "\n",
            "Clustering with k=3\n",
            "Silhouette Score (k=3): 0.0450\n",
            "\n",
            "Clustering with k=4\n",
            "Silhouette Score (k=4): 0.0453\n",
            "\n",
            "Clustering with k=5\n",
            "Silhouette Score (k=5): 0.0245\n",
            "\n",
            "Clustering with k=6\n",
            "Silhouette Score (k=6): 0.0242\n"
          ]
        }
      ],
      "source": [
        "from sklearn.cluster import KMeans\n",
        "from sklearn.metrics import silhouette_score\n",
        "import numpy as np\n",
        "\n",
        "# Assume df_news has an 'EMBEDDINGS' column with list-like embeddings\n",
        "# Convert list of embeddings into a 2D numpy array\n",
        "embedding_matrix = np.vstack(df_news_unique['EMBEDDINGS'].values)\n",
        "\n",
        "# Store results\n",
        "cluster_results = {}\n",
        "\n",
        "for k in range(1, 7):\n",
        "    print(f\"\\nClustering with k={k}\")\n",
        "    kmeans = KMeans(n_clusters=k, random_state=42, n_init='auto')\n",
        "    cluster_labels = kmeans.fit_predict(embedding_matrix)\n",
        "\n",
        "    df_news_unique[f'CLUSTER_{k}'] = cluster_labels\n",
        "\n",
        "    if k > 1:\n",
        "        score = silhouette_score(embedding_matrix, cluster_labels)\n",
        "        print(f\"Silhouette Score (k={k}): {score:.4f}\")\n",
        "        cluster_results[k] = {\n",
        "            'labels': cluster_labels,\n",
        "            'score': score,\n",
        "            'model': kmeans\n",
        "        }\n",
        "    else:\n",
        "        print(\"Silhouette score not defined for k=1\")\n",
        "        cluster_results[k] = {\n",
        "            'labels': cluster_labels,\n",
        "            'score': None,\n",
        "            'model': kmeans\n",
        "        }\n"
      ]
    },
    {
      "cell_type": "markdown",
      "id": "41da4eae",
      "metadata": {
        "id": "41da4eae"
      },
      "source": [
        "#### Plot silhouette scores"
      ]
    },
    {
      "cell_type": "code",
      "execution_count": 53,
      "id": "99798590",
      "metadata": {
        "id": "99798590",
        "colab": {
          "base_uri": "https://localhost:8080/",
          "height": 507
        },
        "outputId": "f83b0047-d366-4bdc-8b98-d1385980c2e9"
      },
      "outputs": [
        {
          "output_type": "display_data",
          "data": {
            "text/plain": [
              "<Figure size 800x500 with 1 Axes>"
            ],
            "image/png": "[encoded data removed]"
          },
          "metadata": {}
        }
      ],
      "source": [
        "\n",
        "# Extract k values and silhouette scores (skip k=1 since it's None)\n",
        "k_values = []\n",
        "scores = []\n",
        "\n",
        "for k, result in cluster_results.items():\n",
        "    if result['score'] is not None:\n",
        "        k_values.append(k)\n",
        "        scores.append(result['score'])\n",
        "\n",
        "# Plot\n",
        "plt.figure(figsize=(8, 5))\n",
        "plt.plot(k_values, scores, marker='o', linestyle='-', linewidth=2)\n",
        "plt.title(\"Silhouette Scores for Different Numbers of Clusters\")\n",
        "plt.xlabel(\"Number of Clusters (k)\")\n",
        "plt.ylabel(\"Silhouette Score\")\n",
        "plt.xticks(k_values)\n",
        "plt.grid(True)\n",
        "plt.tight_layout()\n",
        "plt.show()\n"
      ]
    },
    {
      "cell_type": "markdown",
      "id": "d311d914",
      "metadata": {
        "id": "d311d914"
      },
      "source": [
        "#### Identify the Best k"
      ]
    },
    {
      "cell_type": "code",
      "execution_count": 54,
      "id": "34e71c10",
      "metadata": {
        "id": "34e71c10",
        "colab": {
          "base_uri": "https://localhost:8080/"
        },
        "outputId": "b759143c-2912-431f-f6db-94e361e69d9a"
      },
      "outputs": [
        {
          "output_type": "stream",
          "name": "stdout",
          "text": [
            "Best k based on silhouette score: 4\n"
          ]
        }
      ],
      "source": [
        "# Find the best k based on the highest silhouette score\n",
        "best_k = max(\n",
        "    {k: v['score'] for k, v in cluster_results.items() if v['score'] is not None},\n",
        "    key=lambda k: cluster_results[k]['score']\n",
        ")\n",
        "\n",
        "print(f\"Best k based on silhouette score: {best_k}\")"
      ]
    },
    {
      "cell_type": "markdown",
      "id": "07115a68",
      "metadata": {
        "id": "07115a68"
      },
      "source": [
        "#### Cluster the embeddings using 3 clusters (k=3)"
      ]
    },
    {
      "cell_type": "code",
      "execution_count": 55,
      "id": "3bbae044",
      "metadata": {
        "id": "3bbae044",
        "colab": {
          "base_uri": "https://localhost:8080/"
        },
        "outputId": "c9f33214-6ad3-4b79-9d3d-1a36486a6235"
      },
      "outputs": [
        {
          "output_type": "stream",
          "name": "stdout",
          "text": [
            "✅ Clustering complete.\n",
            "CLUSTER\n",
            "0    112\n",
            "1    236\n",
            "2    153\n",
            "Name: count, dtype: int64\n"
          ]
        }
      ],
      "source": [
        "# Apply KMeans with k=3\n",
        "kmeans = KMeans(n_clusters=3, random_state=42, n_init='auto')\n",
        "cluster_labels = kmeans.fit_predict(embedding_matrix)\n",
        "\n",
        "# Assign the resulting cluster labels to the dataframe\n",
        "df_news_unique['CLUSTER'] = cluster_labels\n",
        "\n",
        "# Optional: Display distribution\n",
        "print(\"✅ Clustering complete.\")\n",
        "print(df_news_unique['CLUSTER'].value_counts().sort_index())"
      ]
    },
    {
      "cell_type": "markdown",
      "id": "c4920b80",
      "metadata": {
        "id": "c4920b80"
      },
      "source": [
        "### Visualize the 2 first PCA Components of your embeddings"
      ]
    },
    {
      "cell_type": "code",
      "execution_count": 56,
      "id": "5e600ab9",
      "metadata": {
        "id": "5e600ab9",
        "colab": {
          "base_uri": "https://localhost:8080/",
          "height": 607
        },
        "outputId": "aa0ef966-27bd-4e8f-8ebe-afd7993f627a"
      },
      "outputs": [
        {
          "output_type": "display_data",
          "data": {
            "text/plain": [
              "<Figure size 1000x600 with 2 Axes>"
            ],
            "image/png": "[encoded data removed]"
          },
          "metadata": {}
        }
      ],
      "source": [
        "# Reduce to 2D using PCA\n",
        "pca = PCA(n_components=2, random_state=42)\n",
        "reduced_embeddings = pca.fit_transform(embedding_matrix)\n",
        "\n",
        "# Add PCA results to the DataFrame\n",
        "df_news_unique['PCA1'] = reduced_embeddings[:, 0]\n",
        "df_news_unique['PCA2'] = reduced_embeddings[:, 1]\n",
        "\n",
        "# Plot\n",
        "plt.figure(figsize=(10, 6))\n",
        "scatter = plt.scatter(\n",
        "    df_news_unique['PCA1'],\n",
        "    df_news_unique['PCA2'],\n",
        "    c=df_news_unique['CLUSTER'],\n",
        "    cmap='tab10',\n",
        "    alpha=0.7\n",
        ")\n",
        "plt.title(\"PCA Projection of News Embeddings (k=3 Clusters)\")\n",
        "plt.xlabel(\"PCA Component 1\")\n",
        "plt.ylabel(\"PCA Component 2\")\n",
        "plt.colorbar(scatter, label='Cluster')\n",
        "plt.grid(True)\n",
        "plt.tight_layout()\n",
        "plt.show()\n"
      ]
    },
    {
      "cell_type": "markdown",
      "id": "6b0dae3d",
      "metadata": {
        "id": "6b0dae3d"
      },
      "source": [
        "#### Analyze the content of each cluster\n",
        "- Add the kmeans cluster label to your news dataframe\n",
        "- Print the content of each cluster and analyze it"
      ]
    },
    {
      "cell_type": "code",
      "execution_count": 57,
      "id": "3e6719b8",
      "metadata": {
        "id": "3e6719b8",
        "colab": {
          "base_uri": "https://localhost:8080/"
        },
        "outputId": "8a3ad475-ac00-4b73-9348-004d8451c231"
      },
      "outputs": [
        {
          "output_type": "stream",
          "name": "stdout",
          "text": [
            "\n",
            "\n",
            "📦 Cluster 0 — 112 articles\n",
            "--------------------------------------------------------------------------------\n",
            "TICKER: A\n",
            "TITLE : Agilent CFO Bob McMahon resigns\n",
            "SUMMARY: Rodney Gonsalves, corporate controller and principal accounting officer, will take on interim CFO duties. Analysts said the company’s reaffirmed third-quarter guidance should reassure investors.\n",
            "\n",
            "TICKER: ABNB\n",
            "TITLE : Airbnb ‘take over’ now driving up Atlanta homeowners’ costs — here’s why insurance may be their next headache\n",
            "SUMMARY: The relationship between short-term renters and risk.\n",
            "\n",
            "TICKER: MO\n",
            "TITLE : The FDA Just Approved Juul’s E-Cigarettes. Does That Make Altria Stock a Buy Here?\n",
            "SUMMARY: Altria was an earlier investor in Juul. Will its FDA approval be good news for the Altria’s NJOY brand?\n",
            "\n",
            "TICKER: AEP\n",
            "TITLE : American Electric Power Company (AEP) Declares US$0.93 Quarterly Dividend Payable September 2025\n",
            "SUMMARY: American Electric Power Company (AEP) recently affirmed its regular quarterly cash dividend of 93 cents per share, which is consistent with the company's commitment to shareholder returns. Over the la\n",
            "\n",
            "TICKER: AXP\n",
            "TITLE : Flexbase adds perks on Visa card\n",
            "SUMMARY: Entrepreneurs are affluent and want a business card that offers them the same perks as high-end consumer cards, Flexbase’s CEO says.\n",
            "\n",
            "TICKER: AIG\n",
            "TITLE : Bajaj Finance MD Anup Saha resigns; Rajeev Jain returns to role\n",
            "SUMMARY: BENGALURU (Reuters) -Bajaj Finance managing director Anup Kumar Saha has resigned after nearly four months at the helm, the company said on Monday, adding that Rajeev Jain will return to the role.  Th\n",
            "\n",
            "TICKER: AWK\n",
            "TITLE : Why American Water Works (AWK) is Poised to Beat Earnings Estimates Again\n",
            "SUMMARY: American Water Works (AWK) has an impressive earnings surprise history and currently possesses the right combination of the two key ingredients for a likely beat in its next quarterly report.\n",
            "\n",
            "TICKER: AAPL\n",
            "TITLE : Commentary: CEOs have a new boss — Trump\n",
            "SUMMARY: Trump tells businesses what products to make, where to make them, and who to hire. Is this capitalism?\n",
            "\n",
            "TICKER: ANET\n",
            "TITLE : Will Cisco's Focus on Web-Scale Clients Bring More AI Deals?\n",
            "SUMMARY: CSCO's surging AI infrastructure orders, led by web-scale clients and strategic partnerships, highlight its drive to capture the booming AI market.\n",
            "\n",
            "TICKER: AJG\n",
            "TITLE : AJG Picks Equinox to Expand Health Benefit Services in Pennsylvania\n",
            "SUMMARY: Arthur J. Gallagher strengthens its presence in Pennsylvania through the Equinox acquisition, enhancing its reach in health benefits consulting.\n",
            "\n",
            "================================================================================\n",
            "\n",
            "\n",
            "📦 Cluster 1 — 236 articles\n",
            "--------------------------------------------------------------------------------\n",
            "TICKER: MMM\n",
            "TITLE : Zacks Industry Outlook Highlights Honeywell, 3M, Carlisle Companies and Federal Signal\n",
            "SUMMARY: HON, MMM, CSL, and FSS are well-positioned to benefit from defense, aviation, and infrastructure tailwinds despite manufacturing headwinds.\n",
            "\n",
            "TICKER: AMD\n",
            "TITLE : General Motors and Coca-Cola earnings reveal an important reminder: Opening Bid top takeaways\n",
            "SUMMARY: It's time for earnings to take the lead story slot for investors.\n",
            "\n",
            "TICKER: AFL\n",
            "TITLE : Do Options Traders Know Something About Aflac Stock We Don't?\n",
            "SUMMARY: Investors need to pay close attention to AFL stock based on the movements in the options market lately.\n",
            "\n",
            "TICKER: ALB\n",
            "TITLE : Albemarle Corporation (ALB) is Attracting Investor Attention: Here is What You Should Know\n",
            "SUMMARY: Albemarle (ALB) has been one of the stocks most watched by Zacks.com users lately. So, it is worth exploring what lies ahead for the stock.\n",
            "\n",
            "TICKER: ALGN\n",
            "TITLE : Why Align Technology (ALGN) is a Top Momentum Stock for the Long-Term\n",
            "SUMMARY: The Zacks Style Scores offers investors a way to easily find top-rated stocks based on their investing style. Here's why you should take advantage.\n",
            "\n",
            "TICKER: ALL\n",
            "TITLE : 3 Reasons to Avoid ALL and 1 Stock to Buy Instead\n",
            "SUMMARY: Since January 2025, Allstate has been in a holding pattern, posting a small return of 2.3% while floating around $194.08.\n",
            "\n",
            "TICKER: GOOG\n",
            "TITLE : 4 advantages give Alphabet a 'strategic position' in AI race\n",
            "SUMMARY: Needham & Company senior media and internet analyst Laura Martin joins Market Domination with Josh Lipton to discuss Alphabet's (GOOG, GOOGL) upcoming earnings report and what investors need to see fo\n",
            "\n",
            "TICKER: AMZN\n",
            "TITLE : Oracle & OpenAI, Amazon, NXP Semi: Trending Tickers\n",
            "SUMMARY: Oracle (ORCL) stock is under pressure despite announcing its partnership with OpenAI (OPAI.PVT) to expand the pair's data center infrastructure. Needham lifted its Amazon (AMZN) price target to $265 f\n",
            "\n",
            "TICKER: AMCR\n",
            "TITLE : Amcor (AMCR) Offers Steady Dividends at an Affordable Price Point\n",
            "SUMMARY: Amcor plc (NYSE:AMCR) is included among the 13 Best Dividend Stocks to Buy Under $20. The recent merger between Amcor and Berry Global has resulted in a dominant player in the plastic packaging indust\n",
            "\n",
            "TICKER: AEE\n",
            "TITLE : A Note On Ameren Corporation's (NYSE:AEE) ROE and Debt To Equity\n",
            "SUMMARY: While some investors are already well versed in financial metrics (hat tip), this article is for those who would like...\n",
            "\n",
            "================================================================================\n",
            "\n",
            "\n",
            "📦 Cluster 2 — 153 articles\n",
            "--------------------------------------------------------------------------------\n",
            "TICKER: AOS\n",
            "TITLE : A. O. Smith Set to Report Q2 Earnings: Is a Beat in Store?\n",
            "SUMMARY: AOS eyes an earnings beat in Q2 2025, backed by boiler demand and water treatment growth despite global headwinds.\n",
            "\n",
            "TICKER: ABT\n",
            "TITLE : Tenet Beats Q2 Earnings on Strong Patient Volumes, Hikes '25 EPS View\n",
            "SUMMARY: THC's Q2 earnings benefit on the back of strong volumes, facility buyouts, higher acuity and favorable payer mix. It currently expects 2025 adjusted EPS within $15.55-$16.21, up from the earlier view \n",
            "\n",
            "TICKER: ABBV\n",
            "TITLE : How Will AbbVie's Neuroscience Franchise Perform in Q2 Earnings?\n",
            "SUMMARY: ABBV's neuroscience sales are projected to jump 15% in Q2, driven by Botox Therapeutic, Vraylar and oral migraine drug gains.\n",
            "\n",
            "TICKER: ACN\n",
            "TITLE : Dear Microsoft Stock Fans, Mark Your Calendars for July 30\n",
            "SUMMARY: With earnings set for July 30, Microsoft is riding high on explosive AI and cloud growth, and analysts broadly expect its momentum to continue.\n",
            "\n",
            "TICKER: ADBE\n",
            "TITLE : NXP Semiconductors Q2 Earnings Beat Estimates, Revenues Fall Y/Y\n",
            "SUMMARY: NXPI posts Q2 revenues of $2.93B, down 6% Y/Y, while EPS of $2.72 surpasses the consensus mark by 2%.\n",
            "\n",
            "TICKER: AES\n",
            "TITLE : AES Corporation’s Q2 2025 Earnings: What to Expect\n",
            "SUMMARY: AES Corporation is gearing up to report its fiscal second-quarter results next month, and analysts are forecasting a robust double-digit growth in earnings.\n",
            "\n",
            "TICKER: APD\n",
            "TITLE : Air Products and Chemicals’ Q3 2025 Earnings: What to Expect\n",
            "SUMMARY: Air Products and Chemicals is anticipated to release its third-quarter results later this month, and analysts expect a single-digit drop in the bottom line.\n",
            "\n",
            "TICKER: AKAM\n",
            "TITLE : VZ Surpasses Q2 Earnings Estimates on Solid Wireless Traction\n",
            "SUMMARY: VZ beats Q2 estimates with $34.5B in revenue and wireless service growth; fixed wireless subscribers top 5.1M.\n",
            "\n",
            "TICKER: ARE\n",
            "TITLE : Alexandria's Q2 AFFO Beats Estimates, Occupancy Declines\n",
            "SUMMARY: ARE tops Q2 AFFO estimates on strong leasing and rental gains. However, occupancy dips, and rising interest costs weigh on the company.\n",
            "\n",
            "TICKER: ALLE\n",
            "TITLE : Allegion Gears Up to Post Q2 Earnings: Here's What to Expect\n",
            "SUMMARY: ALLE eyes Q2 growth with strong U.S. demand and recent buyouts, but rising costs and foreign exchange headwinds are likely to have weighed on margins.\n",
            "\n",
            "================================================================================\n"
          ]
        }
      ],
      "source": [
        "# Loop through each cluster\n",
        "for cluster_id in sorted(df_news_unique['CLUSTER'].unique()):\n",
        "    print(f\"\\n\\n📦 Cluster {cluster_id} — {len(df_news_unique[df_news_unique['CLUSTER'] == cluster_id])} articles\")\n",
        "    print(\"-\" * 80)\n",
        "\n",
        "    cluster_df = df_news_unique[df_news_unique['CLUSTER'] == cluster_id]\n",
        "\n",
        "    # Display sample articles\n",
        "    for _, row in cluster_df.head(10).iterrows():\n",
        "        print(f\"TICKER: {row['TICKER']}\")\n",
        "        print(f\"TITLE : {row['TITLE']}\")\n",
        "        print(f\"SUMMARY: {row['SUMMARY'][:200]}\")  # truncate long summaries\n",
        "        print()\n",
        "\n",
        "    print(\"=\" * 80)\n"
      ]
    },
    {
      "cell_type": "markdown",
      "id": "f7c8297d",
      "metadata": {
        "id": "f7c8297d"
      },
      "source": [
        "## Question section\n",
        "Take time to reflect on what you've implemented and observed. Answer the following questions in a separate markdown cell or notebook file:"
      ]
    },
    {
      "cell_type": "markdown",
      "id": "02f469b0",
      "metadata": {
        "id": "02f469b0"
      },
      "source": [
        "### Technical Understanding"
      ]
    },
    {
      "cell_type": "markdown",
      "id": "efdb028a",
      "metadata": {
        "id": "efdb028a"
      },
      "source": [
        "#### How does the `SentenceTransformer` model convert text into embeddings? What kind of information do you think is captured in these embeddings?"
      ]
    },
    {
      "cell_type": "markdown",
      "id": "0d354724",
      "metadata": {
        "id": "0d354724"
      },
      "source": [
        "YOUR WRITTEN RESPONSE HERE\n",
        "\n",
        "SentenceTransformer uses transformer-based models (like BERT or its variants) to convert input text into fixed-size dense vector representations. These embeddings capture semantic meaning — not just word presence, but also context, syntax, and relationships. For example, the sentences “Apple stock is rising” and “Shares of Apple are going up” would have similar embeddings because they convey the same meaning."
      ]
    },
    {
      "cell_type": "markdown",
      "id": "3db117bb",
      "metadata": {
        "id": "3db117bb"
      },
      "source": [
        "#### Why do we use the combination of TITLE and SUMMARY instead of just one or the other?\n"
      ]
    },
    {
      "cell_type": "markdown",
      "id": "7a8d7c18",
      "metadata": {
        "id": "7a8d7c18"
      },
      "source": [
        "YOUR WRITTEN RESONSE HERE\n",
        "\n",
        "Combining both fields provides a richer representation of the news item. Titles are usually concise and attention-grabbing, while summaries offer more detail. Together, they create a more informative embedding, improving clustering and analysis accuracy."
      ]
    },
    {
      "cell_type": "markdown",
      "id": "06502464",
      "metadata": {
        "id": "06502464"
      },
      "source": [
        "#### Explain what the silhouette score represents and how it helped you determine the number of clusters.\n"
      ]
    },
    {
      "cell_type": "markdown",
      "id": "aab87ec5",
      "metadata": {
        "id": "aab87ec5"
      },
      "source": [
        "YOUR WRITTEN RESPONSE HERE\n",
        "\n",
        "The silhouette score measures how similar a data point is to its own cluster compared to other clusters. It ranges from -1 (bad clustering) to 1 (good clustering). By computing this score across different k values, we can select the value of k that maximizes this score — indicating that data points are well matched to their own cluster and clearly separated from others."
      ]
    },
    {
      "cell_type": "markdown",
      "id": "e47ff9ae",
      "metadata": {
        "id": "e47ff9ae"
      },
      "source": [
        "### Data Analysis and Interpretation"
      ]
    },
    {
      "cell_type": "markdown",
      "id": "fe370e5a",
      "metadata": {
        "id": "fe370e5a"
      },
      "source": [
        "#### After assigning cluster labels, did you notice any thematic consistency within clusters? For each cluster, is there a main theme? Is there a tone or a function behind the news? Is there a specific content source type?\n"
      ]
    },
    {
      "cell_type": "markdown",
      "id": "1aabc96f",
      "metadata": {
        "id": "1aabc96f"
      },
      "source": [
        "YOUR WRITTEN RESPONSE HERE\n",
        "\n",
        "Cluster 0\n",
        "- Main Theme: Traditional financial updates, dividends, valuation\n",
        "- Tone / Function: Neutral, technical, investor-oriented\n",
        "- Content Source Type: Bloomberg/Zacks-like institutional coverage\n",
        "\n",
        "\n",
        "Cluster 1\n",
        "- Main Theme: Investment advice, AI/growth picks, strategy\n",
        "- Tone / Function: Prescriptive, opportunity-seeking\n",
        "- Content Source Type: Blogs, analyst columns, financial YouTube\n",
        "\n",
        "Cluster 2\n",
        "- Main Theme: Market-moving events, macro risk, legal/political\n",
        "- Tone / Function: News-driven, broader & narrative\n",
        "- Content Source Type: Newswires, macro reporting, investigative"
      ]
    },
    {
      "cell_type": "markdown",
      "id": "02f5a79b",
      "metadata": {
        "id": "02f5a79b"
      },
      "source": [
        "#### Were there clusters that seemed too broad or too specific? What might cause this in your data?\n"
      ]
    },
    {
      "cell_type": "markdown",
      "id": "1a0e4c94",
      "metadata": {
        "id": "1a0e4c94"
      },
      "source": [
        "YOUR WRITTEN RESPONSE HERE\n",
        "\n",
        "Cluster 0 – Relatively Well-Defined and Focused\n",
        "\n",
        "Why? Most items are traditional financial disclosures — earnings reports, dividends, valuations, analyst revisions. The cluster is primarily descriptive and numeric.\n",
        "Result: Probably the most specific and cleanest cluster. It serves a clear function: \"just the facts\" about corporate fundamentals.\n",
        "\n",
        "Cluster 1 – Possibly Too Broad\n",
        "\n",
        "Why? It groups both general investment advice (e.g., retirement strategies, “buy now” lists) and specific stock analyses (e.g., AMAT, ANSS). While these all relate to stock picking and personal finance, the range of topics spans dividend investing, AI growth investing, and value strategies.\n",
        "Result: It’s topically coherent around \"what to buy and why\", but the diversity of tone and stock types (tech, energy, value) risks making this cluster slightly too broad.\n",
        "\n",
        "Cluster 2 – Broad in Topic, Specific in Type\n",
        "\n",
        "Why? While the news stories range from tariffs and legal settlements to AI industry battles and FDA policy, they all share a macro or event-driven tone. This is more of a “market-moving news” cluster.\n",
        "Result: It's a well-scoped thematic cluster (macro/news), but broad in topic area because it aggregates different sectors and event types (legal, regulatory, geopolitical)."
      ]
    },
    {
      "cell_type": "markdown",
      "id": "cf856488",
      "metadata": {
        "id": "cf856488"
      },
      "source": [
        "#### What role does PCA play in the visualization step? Why do we reduce to two dimensions, and what is lost in doing so?\n"
      ]
    },
    {
      "cell_type": "markdown",
      "id": "0253e5c0",
      "metadata": {
        "id": "0253e5c0"
      },
      "source": [
        "YOUR WRITTEN RESPONSE HERE\n",
        "\n",
        "PCA (Principal Component Analysis) reduces the high-dimensional embedding vectors into 2D for visualization. This helps us observe general clustering trends. However, reducing to two dimensions loses a lot of the original structure and subtle distinctions, potentially flattening separable clusters into overlapping visual regions."
      ]
    },
    {
      "cell_type": "markdown",
      "id": "2c42f507",
      "metadata": {
        "id": "2c42f507"
      },
      "source": [
        "### Critical Thinking"
      ]
    },
    {
      "cell_type": "markdown",
      "id": "b5045a46",
      "metadata": {
        "id": "b5045a46"
      },
      "source": [
        "#### What are some limitations of this analysis approach in a real-world financial setting?"
      ]
    },
    {
      "cell_type": "markdown",
      "id": "824d9258",
      "metadata": {
        "id": "824d9258"
      },
      "source": [
        "YOUR WRITTEN RESPONSE HERE\n",
        "\n",
        "News coverage is uneven: Not all stocks have news at all times.\n",
        "Embeddings may not capture financial nuance or factual correctness.\n",
        "No temporal modeling — the pipeline ignores when the news was released and how recent it is.\n",
        "No sentiment or price impact assessment is done, which are critical in finance.\n",
        "Embedding models are not fine-tuned on financial data, which may lead to shallow understanding of domain-specific terms."
      ]
    },
    {
      "cell_type": "markdown",
      "id": "c5398ba7",
      "metadata": {
        "id": "c5398ba7"
      },
      "source": [
        "#### If you had access to more detailed news metadata (e.g., sentiment, category, author), how might you integrate that into your clustering pipeline?\n"
      ]
    },
    {
      "cell_type": "markdown",
      "id": "796eb1a1",
      "metadata": {
        "id": "796eb1a1"
      },
      "source": [
        "YOUR WRITTEN RESPONSE HERE\n",
        "\n",
        "You could:\n",
        "- Add sentiment as an extra feature vector (or embed it directly).\n",
        "- Filter or cluster separately by categories (e.g., legal, earnings).\n",
        "- Group by author or source credibility to assess bias or quality.\n",
        "- Use metadata to weight or filter certain types of news in training."
      ]
    },
    {
      "cell_type": "markdown",
      "id": "b703fac4",
      "metadata": {
        "id": "b703fac4"
      },
      "source": [
        "#### Suppose you're tasked with building a news recommendation engine using this embedding and clustering method. What would be your next steps?\n"
      ]
    },
    {
      "cell_type": "markdown",
      "id": "8a307b0d",
      "metadata": {
        "id": "8a307b0d"
      },
      "source": [
        "YOUR WRITTEN RESPONSE HERE\n",
        "\n",
        "- Assign users or stocks their own embedding vector based on interaction or price response history.\n",
        "- Use cosine similarity between user vector and news embeddings to recommend top-k items.\n",
        "- Incorporate time decay (recent news is weighted more).\n",
        "- Continuously update clustering to adapt to new patterns.\n",
        "- Add user feedback to fine-tune relevance."
      ]
    }
  ],
  "metadata": {
    "kernelspec": {
      "display_name": "Python 3",
      "name": "python3"
    },
    "language_info": {
      "codemirror_mode": {
        "name": "ipython",
        "version": 3
      },
      "file_extension": ".py",
      "mimetype": "text/x-python",
      "name": "python",
      "nbconvert_exporter": "python",
      "pygments_lexer": "ipython3",
      "version": "3.9.6"
    },
    "colab": {
      "provenance": [],
      "gpuType": "T4",
      "include_colab_link": true
    },
    "accelerator": "GPU",
    "widgets": {
      "application/vnd.jupyter.widget-state+json": {
        "b3ae7ae6cd2845c2909fa71f5675e35e": {
          "model_module": "@jupyter-widgets/controls",
          "model_name": "HBoxModel",
          "model_module_version": "1.5.0",
          "state": {
            "_dom_classes": [],
            "_model_module": "@jupyter-widgets/controls",
            "_model_module_version": "1.5.0",
            "_model_name": "HBoxModel",
            "_view_count": null,
            "_view_module": "@jupyter-widgets/controls",
            "_view_module_version": "1.5.0",
            "_view_name": "HBoxView",
            "box_style": "",
            "children": [
              "IPY_MODEL_95e29be066ee457880f118b377085dd6",
              "IPY_MODEL_decd750d00ef4cbabab624acb545451a",
              "IPY_MODEL_7d349403214a4f4a924892c63c10dd0b"
            ],
            "layout": "IPY_MODEL_6b08be5906224ca0bd4c77b7b1722311"
          }
        },
        "95e29be066ee457880f118b377085dd6": {
          "model_module": "@jupyter-widgets/controls",
          "model_name": "HTMLModel",
          "model_module_version": "1.5.0",
          "state": {
            "_dom_classes": [],
            "_model_module": "@jupyter-widgets/controls",
            "_model_module_version": "1.5.0",
            "_model_name": "HTMLModel",
            "_view_count": null,
            "_view_module": "@jupyter-widgets/controls",
            "_view_module_version": "1.5.0",
            "_view_name": "HTMLView",
            "description": "",
            "description_tooltip": null,
            "layout": "IPY_MODEL_0599ce3d4ca745b08d119ff948a43812",
            "placeholder": "​",
            "style": "IPY_MODEL_559132a6e7ed436da71711d69763f536",
            "value": "Batches: 100%"
          }
        },
        "decd750d00ef4cbabab624acb545451a": {
          "model_module": "@jupyter-widgets/controls",
          "model_name": "FloatProgressModel",
          "model_module_version": "1.5.0",
          "state": {
            "_dom_classes": [],
            "_model_module": "@jupyter-widgets/controls",
            "_model_module_version": "1.5.0",
            "_model_name": "FloatProgressModel",
            "_view_count": null,
            "_view_module": "@jupyter-widgets/controls",
            "_view_module_version": "1.5.0",
            "_view_name": "ProgressView",
            "bar_style": "success",
            "description": "",
            "description_tooltip": null,
            "layout": "IPY_MODEL_2a0364176c1f492383f650a0eb155bb3",
            "max": 157,
            "min": 0,
            "orientation": "horizontal",
            "style": "IPY_MODEL_6c83e17f776e4747b9f4b7b60878ea1d",
            "value": 157
          }
        },
        "7d349403214a4f4a924892c63c10dd0b": {
          "model_module": "@jupyter-widgets/controls",
          "model_name": "HTMLModel",
          "model_module_version": "1.5.0",
          "state": {
            "_dom_classes": [],
            "_model_module": "@jupyter-widgets/controls",
            "_model_module_version": "1.5.0",
            "_model_name": "HTMLModel",
            "_view_count": null,
            "_view_module": "@jupyter-widgets/controls",
            "_view_module_version": "1.5.0",
            "_view_name": "HTMLView",
            "description": "",
            "description_tooltip": null,
            "layout": "IPY_MODEL_e06784a375174618a016e80d1979935c",
            "placeholder": "​",
            "style": "IPY_MODEL_eac3754a216d4203b862263d20733e52",
            "value": " 157/157 [00:04&lt;00:00, 54.15it/s]"
          }
        },
        "6b08be5906224ca0bd4c77b7b1722311": {
          "model_module": "@jupyter-widgets/base",
          "model_name": "LayoutModel",
          "model_module_version": "1.2.0",
          "state": {
            "_model_module": "@jupyter-widgets/base",
            "_model_module_version": "1.2.0",
            "_model_name": "LayoutModel",
            "_view_count": null,
            "_view_module": "@jupyter-widgets/base",
            "_view_module_version": "1.2.0",
            "_view_name": "LayoutView",
            "align_content": null,
            "align_items": null,
            "align_self": null,
            "border": null,
            "bottom": null,
            "display": null,
            "flex": null,
            "flex_flow": null,
            "grid_area": null,
            "grid_auto_columns": null,
            "grid_auto_flow": null,
            "grid_auto_rows": null,
            "grid_column": null,
            "grid_gap": null,
            "grid_row": null,
            "grid_template_areas": null,
            "grid_template_columns": null,
            "grid_template_rows": null,
            "height": null,
            "justify_content": null,
            "justify_items": null,
            "left": null,
            "margin": null,
            "max_height": null,
            "max_width": null,
            "min_height": null,
            "min_width": null,
            "object_fit": null,
            "object_position": null,
            "order": null,
            "overflow": null,
            "overflow_x": null,
            "overflow_y": null,
            "padding": null,
            "right": null,
            "top": null,
            "visibility": null,
            "width": null
          }
        },
        "0599ce3d4ca745b08d119ff948a43812": {
          "model_module": "@jupyter-widgets/base",
          "model_name": "LayoutModel",
          "model_module_version": "1.2.0",
          "state": {
            "_model_module": "@jupyter-widgets/base",
            "_model_module_version": "1.2.0",
            "_model_name": "LayoutModel",
            "_view_count": null,
            "_view_module": "@jupyter-widgets/base",
            "_view_module_version": "1.2.0",
            "_view_name": "LayoutView",
            "align_content": null,
            "align_items": null,
            "align_self": null,
            "border": null,
            "bottom": null,
            "display": null,
            "flex": null,
            "flex_flow": null,
            "grid_area": null,
            "grid_auto_columns": null,
            "grid_auto_flow": null,
            "grid_auto_rows": null,
            "grid_column": null,
            "grid_gap": null,
            "grid_row": null,
            "grid_template_areas": null,
            "grid_template_columns": null,
            "grid_template_rows": null,
            "height": null,
            "justify_content": null,
            "justify_items": null,
            "left": null,
            "margin": null,
            "max_height": null,
            "max_width": null,
            "min_height": null,
            "min_width": null,
            "object_fit": null,
            "object_position": null,
            "order": null,
            "overflow": null,
            "overflow_x": null,
            "overflow_y": null,
            "padding": null,
            "right": null,
            "top": null,
            "visibility": null,
            "width": null
          }
        },
        "559132a6e7ed436da71711d69763f536": {
          "model_module": "@jupyter-widgets/controls",
          "model_name": "DescriptionStyleModel",
          "model_module_version": "1.5.0",
          "state": {
            "_model_module": "@jupyter-widgets/controls",
            "_model_module_version": "1.5.0",
            "_model_name": "DescriptionStyleModel",
            "_view_count": null,
            "_view_module": "@jupyter-widgets/base",
            "_view_module_version": "1.2.0",
            "_view_name": "StyleView",
            "description_width": ""
          }
        },
        "2a0364176c1f492383f650a0eb155bb3": {
          "model_module": "@jupyter-widgets/base",
          "model_name": "LayoutModel",
          "model_module_version": "1.2.0",
          "state": {
            "_model_module": "@jupyter-widgets/base",
            "_model_module_version": "1.2.0",
            "_model_name": "LayoutModel",
            "_view_count": null,
            "_view_module": "@jupyter-widgets/base",
            "_view_module_version": "1.2.0",
            "_view_name": "LayoutView",
            "align_content": null,
            "align_items": null,
            "align_self": null,
            "border": null,
            "bottom": null,
            "display": null,
            "flex": null,
            "flex_flow": null,
            "grid_area": null,
            "grid_auto_columns": null,
            "grid_auto_flow": null,
            "grid_auto_rows": null,
            "grid_column": null,
            "grid_gap": null,
            "grid_row": null,
            "grid_template_areas": null,
            "grid_template_columns": null,
            "grid_template_rows": null,
            "height": null,
            "justify_content": null,
            "justify_items": null,
            "left": null,
            "margin": null,
            "max_height": null,
            "max_width": null,
            "min_height": null,
            "min_width": null,
            "object_fit": null,
            "object_position": null,
            "order": null,
            "overflow": null,
            "overflow_x": null,
            "overflow_y": null,
            "padding": null,
            "right": null,
            "top": null,
            "visibility": null,
            "width": null
          }
        },
        "6c83e17f776e4747b9f4b7b60878ea1d": {
          "model_module": "@jupyter-widgets/controls",
          "model_name": "ProgressStyleModel",
          "model_module_version": "1.5.0",
          "state": {
            "_model_module": "@jupyter-widgets/controls",
            "_model_module_version": "1.5.0",
            "_model_name": "ProgressStyleModel",
            "_view_count": null,
            "_view_module": "@jupyter-widgets/base",
            "_view_module_version": "1.2.0",
            "_view_name": "StyleView",
            "bar_color": null,
            "description_width": ""
          }
        },
        "e06784a375174618a016e80d1979935c": {
          "model_module": "@jupyter-widgets/base",
          "model_name": "LayoutModel",
          "model_module_version": "1.2.0",
          "state": {
            "_model_module": "@jupyter-widgets/base",
            "_model_module_version": "1.2.0",
            "_model_name": "LayoutModel",
            "_view_count": null,
            "_view_module": "@jupyter-widgets/base",
            "_view_module_version": "1.2.0",
            "_view_name": "LayoutView",
            "align_content": null,
            "align_items": null,
            "align_self": null,
            "border": null,
            "bottom": null,
            "display": null,
            "flex": null,
            "flex_flow": null,
            "grid_area": null,
            "grid_auto_columns": null,
            "grid_auto_flow": null,
            "grid_auto_rows": null,
            "grid_column": null,
            "grid_gap": null,
            "grid_row": null,
            "grid_template_areas": null,
            "grid_template_columns": null,
            "grid_template_rows": null,
            "height": null,
            "justify_content": null,
            "justify_items": null,
            "left": null,
            "margin": null,
            "max_height": null,
            "max_width": null,
            "min_height": null,
            "min_width": null,
            "object_fit": null,
            "object_position": null,
            "order": null,
            "overflow": null,
            "overflow_x": null,
            "overflow_y": null,
            "padding": null,
            "right": null,
            "top": null,
            "visibility": null,
            "width": null
          }
        },
        "eac3754a216d4203b862263d20733e52": {
          "model_module": "@jupyter-widgets/controls",
          "model_name": "DescriptionStyleModel",
          "model_module_version": "1.5.0",
          "state": {
            "_model_module": "@jupyter-widgets/controls",
            "_model_module_version": "1.5.0",
            "_model_name": "DescriptionStyleModel",
            "_view_count": null,
            "_view_module": "@jupyter-widgets/base",
            "_view_module_version": "1.2.0",
            "_view_name": "StyleView",
            "description_width": ""
          }
        }
      }
    }
  },
  "nbformat": 4,
  "nbformat_minor": 5
}